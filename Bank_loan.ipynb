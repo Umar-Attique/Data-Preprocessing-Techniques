{
 "cells": [
  {
   "cell_type": "markdown",
   "metadata": {},
   "source": [
    "## Importing the libraries"
   ]
  },
  {
   "cell_type": "code",
   "execution_count": 84,
   "metadata": {},
   "outputs": [],
   "source": [
    "import pandas as pd\n",
    "import numpy as np\n",
    "import seaborn as sns\n",
    "import matplotlib.pyplot as plt\n",
    "import plotly.express as px\n",
    "import ydata_profiling as yp\n",
    "from ydata_profiling import ProfileReport\n",
    "import warnings"
   ]
  },
  {
   "cell_type": "markdown",
   "metadata": {},
   "source": [
    "### Objectives:\n",
    "- Our complete analysis depend on the loan amount.\n",
    "- We will build model for this purpose.\n",
    "- And also analyse the data on its basis."
   ]
  },
  {
   "cell_type": "markdown",
   "metadata": {},
   "source": [
    "## Set some options"
   ]
  },
  {
   "cell_type": "code",
   "execution_count": 20,
   "metadata": {},
   "outputs": [],
   "source": [
    "pd.set_option('display.max_rows',None)\n",
    "pd.set_option('display.max_columns',None)\n",
    "warnings.filterwarnings('ignore')"
   ]
  },
  {
   "cell_type": "markdown",
   "metadata": {},
   "source": [
    "## Loading the dataset"
   ]
  },
  {
   "cell_type": "code",
   "execution_count": 82,
   "metadata": {},
   "outputs": [],
   "source": [
    "df = pd.read_csv('C:/Bank_loan/mwb2014.csv')"
   ]
  },
  {
   "cell_type": "code",
   "execution_count": 86,
   "metadata": {},
   "outputs": [
    {
     "name": "stderr",
     "output_type": "stream",
     "text": [
      "Summarize dataset: 100%|██████████| 69/69 [00:10<00:00,  6.32it/s, Completed]                                     \n",
      "Generate report structure: 100%|██████████| 1/1 [00:17<00:00, 17.82s/it]\n",
      "Render HTML: 100%|██████████| 1/1 [00:03<00:00,  3.25s/it]\n",
      "Export report to file: 100%|██████████| 1/1 [00:00<00:00, 29.48it/s]\n"
     ]
    }
   ],
   "source": [
    "# Generate the profile report\n",
    "profile = ProfileReport(df, title=\"Bank Loan Dataset Profiling Report\", explorative=True)\n",
    "# Save the report to an HTML file\n",
    "profile.to_file(\"bank_loan_profiling_report.html\")"
   ]
  },
  {
   "cell_type": "code",
   "execution_count": 66,
   "metadata": {},
   "outputs": [
    {
     "data": {
      "text/plain": [
       "(2501, 24)"
      ]
     },
     "execution_count": 66,
     "metadata": {},
     "output_type": "execute_result"
    }
   ],
   "source": [
    "df.shape"
   ]
  },
  {
   "cell_type": "code",
   "execution_count": 65,
   "metadata": {},
   "outputs": [
    {
     "data": {
      "text/plain": [
       "Index(['First Name', 'Last Name', 'City', 'State', 'Zip', 'Loan Amount',\n",
       "       'Estimated Value', 'Loan Purpose', 'Qualification FICO',\n",
       "       'Is Primary Wage Earner', 'Income Type', 'Asset Docs', 'Occupancy',\n",
       "       'Unit Type', 'Loan Type', 'Lender Name', 'Created Date', 'Time', 'Fix',\n",
       "       'ARM', 'CLTV', 'Loan Number', 'Loan Officer Name', 'LoanInMonth'],\n",
       "      dtype='object')"
      ]
     },
     "execution_count": 65,
     "metadata": {},
     "output_type": "execute_result"
    }
   ],
   "source": [
    "df.columns"
   ]
  },
  {
   "cell_type": "code",
   "execution_count": 22,
   "metadata": {},
   "outputs": [
    {
     "name": "stdout",
     "output_type": "stream",
     "text": [
      "<class 'pandas.core.frame.DataFrame'>\n",
      "RangeIndex: 2501 entries, 0 to 2500\n",
      "Data columns (total 24 columns):\n",
      " #   Column                  Non-Null Count  Dtype  \n",
      "---  ------                  --------------  -----  \n",
      " 0   First Name              2501 non-null   object \n",
      " 1   Last Name               2501 non-null   object \n",
      " 2   City                    2501 non-null   object \n",
      " 3   State                   2501 non-null   object \n",
      " 4   Zip                     2501 non-null   int64  \n",
      " 5   Loan Amount             2501 non-null   float64\n",
      " 6   Estimated Value         2501 non-null   int64  \n",
      " 7   Loan Purpose            2501 non-null   object \n",
      " 8   Qualification FICO      2501 non-null   int64  \n",
      " 9   Is Primary Wage Earner  2501 non-null   bool   \n",
      " 10  Income Type             2501 non-null   object \n",
      " 11  Asset Docs              2501 non-null   object \n",
      " 12  Occupancy               1846 non-null   object \n",
      " 13  Unit Type               2501 non-null   object \n",
      " 14  Loan Type               2501 non-null   object \n",
      " 15  Lender Name             2501 non-null   object \n",
      " 16  Created Date            2501 non-null   object \n",
      " 17  Time                    2501 non-null   object \n",
      " 18  Fix                     2501 non-null   bool   \n",
      " 19  ARM                     2501 non-null   bool   \n",
      " 20  CLTV                    2501 non-null   float64\n",
      " 21  Loan Number             2501 non-null   object \n",
      " 22  Loan Officer Name       2501 non-null   object \n",
      " 23  LoanInMonth             2501 non-null   int64  \n",
      "dtypes: bool(3), float64(2), int64(4), object(15)\n",
      "memory usage: 417.8+ KB\n"
     ]
    }
   ],
   "source": [
    "df.info()"
   ]
  },
  {
   "cell_type": "markdown",
   "metadata": {},
   "source": [
    "### number of unique values"
   ]
  },
  {
   "cell_type": "code",
   "execution_count": 87,
   "metadata": {},
   "outputs": [
    {
     "data": {
      "text/plain": [
       "First Name                1743\n",
       "Last Name                 1378\n",
       "City                       677\n",
       "State                        6\n",
       "Zip                        484\n",
       "Loan Amount               1162\n",
       "Estimated Value            618\n",
       "Loan Purpose                 7\n",
       "Qualification FICO         227\n",
       "Is Primary Wage Earner       2\n",
       "Income Type                  4\n",
       "Asset Docs                   3\n",
       "Occupancy                    3\n",
       "Unit Type                   12\n",
       "Loan Type                    6\n",
       "Lender Name                 13\n",
       "Created Date               976\n",
       "Time                       879\n",
       "Fix                          2\n",
       "ARM                          2\n",
       "CLTV                       247\n",
       "Loan Number               2476\n",
       "Loan Officer Name           44\n",
       "LoanInMonth                 78\n",
       "dtype: int64"
      ]
     },
     "execution_count": 87,
     "metadata": {},
     "output_type": "execute_result"
    }
   ],
   "source": [
    "df.nunique()"
   ]
  },
  {
   "cell_type": "code",
   "execution_count": 29,
   "metadata": {},
   "outputs": [
    {
     "data": {
      "text/plain": [
       "array(['NJ', 'NY', 'FL', 'NC', 'PA', 'CT'], dtype=object)"
      ]
     },
     "execution_count": 29,
     "metadata": {},
     "output_type": "execute_result"
    }
   ],
   "source": [
    "df.State.unique()"
   ]
  },
  {
   "cell_type": "code",
   "execution_count": 31,
   "metadata": {},
   "outputs": [
    {
     "data": {
      "text/plain": [
       "array(['Purchase', 'Cash-Out Refi', 'No Cash Out Refi', 'Reverse',\n",
       "       'Other', 'cash-Out Refi', 'Contruction- Perm'], dtype=object)"
      ]
     },
     "execution_count": 31,
     "metadata": {},
     "output_type": "execute_result"
    }
   ],
   "source": [
    "df['Loan Purpose'].unique()"
   ]
  },
  {
   "cell_type": "code",
   "execution_count": 33,
   "metadata": {},
   "outputs": [
    {
     "data": {
      "text/plain": [
       "array(['Full', 'Stated', 'NoRatio', 'NoEmployment'], dtype=object)"
      ]
     },
     "execution_count": 33,
     "metadata": {},
     "output_type": "execute_result"
    }
   ],
   "source": [
    "df['Income Type'].unique()"
   ]
  },
  {
   "cell_type": "code",
   "execution_count": 34,
   "metadata": {},
   "outputs": [
    {
     "data": {
      "text/plain": [
       "array(['Full', 'Stated', 'NoAsset'], dtype=object)"
      ]
     },
     "execution_count": 34,
     "metadata": {},
     "output_type": "execute_result"
    }
   ],
   "source": [
    "df['Asset Docs'].unique()"
   ]
  },
  {
   "cell_type": "code",
   "execution_count": 35,
   "metadata": {},
   "outputs": [
    {
     "data": {
      "text/plain": [
       "array([nan, 'Owner Occupied', 'Investor', 'Second Home'], dtype=object)"
      ]
     },
     "execution_count": 35,
     "metadata": {},
     "output_type": "execute_result"
    }
   ],
   "source": [
    "df['Occupancy'].unique()"
   ]
  },
  {
   "cell_type": "code",
   "execution_count": 36,
   "metadata": {},
   "outputs": [
    {
     "data": {
      "text/plain": [
       "array(['Residential', 'FHA', 'Commercial', 'Conventional', 'Other', 'VA'],\n",
       "      dtype=object)"
      ]
     },
     "execution_count": 36,
     "metadata": {},
     "output_type": "execute_result"
    }
   ],
   "source": [
    "df['Loan Type'].unique()"
   ]
  },
  {
   "cell_type": "code",
   "execution_count": 37,
   "metadata": {},
   "outputs": [
    {
     "data": {
      "text/plain": [
       "array(['MWBI', 'HB', 'HCS', 'WFB', 'FSTR', 'CB', 'MTB', 'NP', 'PDL',\n",
       "       'HVER', 'JCB', 'MFSB', 'FSB'], dtype=object)"
      ]
     },
     "execution_count": 37,
     "metadata": {},
     "output_type": "execute_result"
    }
   ],
   "source": [
    "df['Lender Name'].unique()"
   ]
  },
  {
   "cell_type": "code",
   "execution_count": 80,
   "metadata": {},
   "outputs": [
    {
     "data": {
      "text/plain": [
       "array(['TwoFamily', 'Condo', 'OneFamily', 'Coop', 'FourFamily',\n",
       "       'ThreeFamily', 'PUD', 'MixedUse', 'MultiFamily', 'Warehouse',\n",
       "       'Industrial', 'Land'], dtype=object)"
      ]
     },
     "execution_count": 80,
     "metadata": {},
     "output_type": "execute_result"
    }
   ],
   "source": [
    "df['Unit Type'].unique()"
   ]
  },
  {
   "cell_type": "code",
   "execution_count": 38,
   "metadata": {},
   "outputs": [
    {
     "data": {
      "text/plain": [
       "array([ 1,  2,  3,  4,  5,  6,  7,  8,  9, 10, 11, 12, 13, 14, 15, 16, 17,\n",
       "       18, 19, 20, 21, 22, 23, 24, 25, 26, 27, 28, 29, 30, 31, 32, 33, 34,\n",
       "       35, 36, 37, 38, 39, 40, 41, 42, 43, 44, 45, 46, 47, 48, 49, 50, 51,\n",
       "       52, 53, 54, 55, 56, 57, 58, 59, 60, 61, 62, 63, 64, 65, 66, 67, 68,\n",
       "       69, 70, 71, 72, 73, 74, 75, 76, 77, 78], dtype=int64)"
      ]
     },
     "execution_count": 38,
     "metadata": {},
     "output_type": "execute_result"
    }
   ],
   "source": [
    "df['LoanInMonth'].unique()"
   ]
  },
  {
   "cell_type": "code",
   "execution_count": 23,
   "metadata": {},
   "outputs": [
    {
     "data": {
      "text/html": [
       "<div>\n",
       "<style scoped>\n",
       "    .dataframe tbody tr th:only-of-type {\n",
       "        vertical-align: middle;\n",
       "    }\n",
       "\n",
       "    .dataframe tbody tr th {\n",
       "        vertical-align: top;\n",
       "    }\n",
       "\n",
       "    .dataframe thead th {\n",
       "        text-align: right;\n",
       "    }\n",
       "</style>\n",
       "<table border=\"1\" class=\"dataframe\">\n",
       "  <thead>\n",
       "    <tr style=\"text-align: right;\">\n",
       "      <th></th>\n",
       "      <th>First Name</th>\n",
       "      <th>Last Name</th>\n",
       "      <th>City</th>\n",
       "      <th>State</th>\n",
       "      <th>Zip</th>\n",
       "      <th>Loan Amount</th>\n",
       "      <th>Estimated Value</th>\n",
       "      <th>Loan Purpose</th>\n",
       "      <th>Qualification FICO</th>\n",
       "      <th>Is Primary Wage Earner</th>\n",
       "      <th>Income Type</th>\n",
       "      <th>Asset Docs</th>\n",
       "      <th>Occupancy</th>\n",
       "      <th>Unit Type</th>\n",
       "      <th>Loan Type</th>\n",
       "      <th>Lender Name</th>\n",
       "      <th>Created Date</th>\n",
       "      <th>Time</th>\n",
       "      <th>Fix</th>\n",
       "      <th>ARM</th>\n",
       "      <th>CLTV</th>\n",
       "      <th>Loan Number</th>\n",
       "      <th>Loan Officer Name</th>\n",
       "      <th>LoanInMonth</th>\n",
       "    </tr>\n",
       "  </thead>\n",
       "  <tbody>\n",
       "    <tr>\n",
       "      <th>221</th>\n",
       "      <td>83ck</td>\n",
       "      <td>1rgyr4s</td>\n",
       "      <td>Astoria</td>\n",
       "      <td>NY</td>\n",
       "      <td>11102</td>\n",
       "      <td>625000.00</td>\n",
       "      <td>900000</td>\n",
       "      <td>Cash-Out Refi</td>\n",
       "      <td>700</td>\n",
       "      <td>True</td>\n",
       "      <td>Full</td>\n",
       "      <td>Full</td>\n",
       "      <td>NaN</td>\n",
       "      <td>ThreeFamily</td>\n",
       "      <td>Residential</td>\n",
       "      <td>MWBI</td>\n",
       "      <td>2/12/2015</td>\n",
       "      <td>9:05 AM</td>\n",
       "      <td>False</td>\n",
       "      <td>True</td>\n",
       "      <td>45.00</td>\n",
       "      <td>20220299998A</td>\n",
       "      <td>J377y V1tt2s</td>\n",
       "      <td>29</td>\n",
       "    </tr>\n",
       "    <tr>\n",
       "      <th>1832</th>\n",
       "      <td>Chr3st49h2r</td>\n",
       "      <td>622</td>\n",
       "      <td>Palisades Park</td>\n",
       "      <td>NJ</td>\n",
       "      <td>7650</td>\n",
       "      <td>315000.00</td>\n",
       "      <td>420000</td>\n",
       "      <td>Purchase</td>\n",
       "      <td>704</td>\n",
       "      <td>False</td>\n",
       "      <td>Full</td>\n",
       "      <td>Full</td>\n",
       "      <td>Owner Occupied</td>\n",
       "      <td>Condo</td>\n",
       "      <td>Conventional</td>\n",
       "      <td>MWBI</td>\n",
       "      <td>9/21/2017</td>\n",
       "      <td>4:04 PM</td>\n",
       "      <td>True</td>\n",
       "      <td>False</td>\n",
       "      <td>75.00</td>\n",
       "      <td>4094023CJA</td>\n",
       "      <td>J2ss3c1 Ch58g</td>\n",
       "      <td>23</td>\n",
       "    </tr>\n",
       "    <tr>\n",
       "      <th>236</th>\n",
       "      <td>1671</td>\n",
       "      <td>C1S38G16</td>\n",
       "      <td>Jersey City</td>\n",
       "      <td>NJ</td>\n",
       "      <td>7304</td>\n",
       "      <td>155325.00</td>\n",
       "      <td>163500</td>\n",
       "      <td>Cash-Out Refi</td>\n",
       "      <td>771</td>\n",
       "      <td>True</td>\n",
       "      <td>Full</td>\n",
       "      <td>Full</td>\n",
       "      <td>NaN</td>\n",
       "      <td>OneFamily</td>\n",
       "      <td>Residential</td>\n",
       "      <td>MWBI</td>\n",
       "      <td>2/25/2015</td>\n",
       "      <td>10:25 AM</td>\n",
       "      <td>True</td>\n",
       "      <td>False</td>\n",
       "      <td>74.56</td>\n",
       "      <td>202404499JA</td>\n",
       "      <td>V3v318 D2g531</td>\n",
       "      <td>44</td>\n",
       "    </tr>\n",
       "    <tr>\n",
       "      <th>327</th>\n",
       "      <td>1T3F</td>\n",
       "      <td>74H1771D</td>\n",
       "      <td>Bethpage</td>\n",
       "      <td>NY</td>\n",
       "      <td>11714</td>\n",
       "      <td>361517.00</td>\n",
       "      <td>374000</td>\n",
       "      <td>Purchase</td>\n",
       "      <td>752</td>\n",
       "      <td>True</td>\n",
       "      <td>Full</td>\n",
       "      <td>Full</td>\n",
       "      <td>NaN</td>\n",
       "      <td>OneFamily</td>\n",
       "      <td>FHA</td>\n",
       "      <td>MWBI</td>\n",
       "      <td>4/13/2015</td>\n",
       "      <td>2:26 PM</td>\n",
       "      <td>True</td>\n",
       "      <td>False</td>\n",
       "      <td>95.00</td>\n",
       "      <td>G20430259998A</td>\n",
       "      <td>7189r22t Bh1s38</td>\n",
       "      <td>25</td>\n",
       "    </tr>\n",
       "    <tr>\n",
       "      <th>1004</th>\n",
       "      <td>Q3F28G</td>\n",
       "      <td>638</td>\n",
       "      <td>Valley Stream</td>\n",
       "      <td>NY</td>\n",
       "      <td>11580</td>\n",
       "      <td>285000.00</td>\n",
       "      <td>380000</td>\n",
       "      <td>Purchase</td>\n",
       "      <td>717</td>\n",
       "      <td>False</td>\n",
       "      <td>Full</td>\n",
       "      <td>Full</td>\n",
       "      <td>Owner Occupied</td>\n",
       "      <td>OneFamily</td>\n",
       "      <td>Conventional</td>\n",
       "      <td>MWBI</td>\n",
       "      <td>5/10/2016</td>\n",
       "      <td>10:15 PM</td>\n",
       "      <td>True</td>\n",
       "      <td>False</td>\n",
       "      <td>75.00</td>\n",
       "      <td>30520199998A</td>\n",
       "      <td>73ch126 61g45d3s</td>\n",
       "      <td>19</td>\n",
       "    </tr>\n",
       "    <tr>\n",
       "      <th>764</th>\n",
       "      <td>R16st48</td>\n",
       "      <td>1d17s</td>\n",
       "      <td>Westbury</td>\n",
       "      <td>NY</td>\n",
       "      <td>11590</td>\n",
       "      <td>242673.75</td>\n",
       "      <td>265000</td>\n",
       "      <td>Purchase</td>\n",
       "      <td>672</td>\n",
       "      <td>True</td>\n",
       "      <td>Full</td>\n",
       "      <td>Full</td>\n",
       "      <td>Owner Occupied</td>\n",
       "      <td>OneFamily</td>\n",
       "      <td>FHA</td>\n",
       "      <td>MWBI</td>\n",
       "      <td>12/11/2015</td>\n",
       "      <td>9:19 PM</td>\n",
       "      <td>True</td>\n",
       "      <td>False</td>\n",
       "      <td>90.00</td>\n",
       "      <td>G2122059998A</td>\n",
       "      <td>2dw38 81v1rr2t2</td>\n",
       "      <td>18</td>\n",
       "    </tr>\n",
       "    <tr>\n",
       "      <th>1795</th>\n",
       "      <td>J4rg2</td>\n",
       "      <td>J1ch2r4</td>\n",
       "      <td>Bridgeport</td>\n",
       "      <td>CT</td>\n",
       "      <td>6606</td>\n",
       "      <td>300366.00</td>\n",
       "      <td>328000</td>\n",
       "      <td>Purchase</td>\n",
       "      <td>681</td>\n",
       "      <td>False</td>\n",
       "      <td>Full</td>\n",
       "      <td>Full</td>\n",
       "      <td>Owner Occupied</td>\n",
       "      <td>ThreeFamily</td>\n",
       "      <td>FHA</td>\n",
       "      <td>MWBI</td>\n",
       "      <td>8/23/2017</td>\n",
       "      <td>5:40 PM</td>\n",
       "      <td>True</td>\n",
       "      <td>False</td>\n",
       "      <td>90.00</td>\n",
       "      <td>G408403699CA</td>\n",
       "      <td>73ch126 61g45d3s</td>\n",
       "      <td>36</td>\n",
       "    </tr>\n",
       "    <tr>\n",
       "      <th>1109</th>\n",
       "      <td>1GH1</td>\n",
       "      <td>1Z17</td>\n",
       "      <td>Brooklyn</td>\n",
       "      <td>NY</td>\n",
       "      <td>11203</td>\n",
       "      <td>594474.38</td>\n",
       "      <td>615000</td>\n",
       "      <td>Purchase</td>\n",
       "      <td>649</td>\n",
       "      <td>False</td>\n",
       "      <td>Full</td>\n",
       "      <td>Full</td>\n",
       "      <td>Owner Occupied</td>\n",
       "      <td>TwoFamily</td>\n",
       "      <td>FHA</td>\n",
       "      <td>WFB</td>\n",
       "      <td>7/18/2016</td>\n",
       "      <td>7:08 PM</td>\n",
       "      <td>False</td>\n",
       "      <td>True</td>\n",
       "      <td>95.00</td>\n",
       "      <td>G3074027B98A</td>\n",
       "      <td>74h172d W163d</td>\n",
       "      <td>27</td>\n",
       "    </tr>\n",
       "  </tbody>\n",
       "</table>\n",
       "</div>"
      ],
      "text/plain": [
       "       First Name Last Name            City State    Zip  Loan Amount  \\\n",
       "221          83ck  1rgyr4s          Astoria    NY  11102    625000.00   \n",
       "1832  Chr3st49h2r       622  Palisades Park    NJ   7650    315000.00   \n",
       "236          1671  C1S38G16     Jersey City    NJ   7304    155325.00   \n",
       "327          1T3F  74H1771D        Bethpage    NY  11714    361517.00   \n",
       "1004       Q3F28G       638   Valley Stream    NY  11580    285000.00   \n",
       "764       R16st48     1d17s        Westbury    NY  11590    242673.75   \n",
       "1795        J4rg2   J1ch2r4      Bridgeport    CT   6606    300366.00   \n",
       "1109         1GH1      1Z17       Brooklyn     NY  11203    594474.38   \n",
       "\n",
       "      Estimated Value   Loan Purpose  Qualification FICO  \\\n",
       "221            900000  Cash-Out Refi                 700   \n",
       "1832           420000       Purchase                 704   \n",
       "236            163500  Cash-Out Refi                 771   \n",
       "327            374000       Purchase                 752   \n",
       "1004           380000       Purchase                 717   \n",
       "764            265000       Purchase                 672   \n",
       "1795           328000       Purchase                 681   \n",
       "1109           615000       Purchase                 649   \n",
       "\n",
       "      Is Primary Wage Earner Income Type Asset Docs       Occupancy  \\\n",
       "221                     True        Full       Full             NaN   \n",
       "1832                   False        Full       Full  Owner Occupied   \n",
       "236                     True        Full       Full             NaN   \n",
       "327                     True        Full       Full             NaN   \n",
       "1004                   False        Full       Full  Owner Occupied   \n",
       "764                     True        Full       Full  Owner Occupied   \n",
       "1795                   False        Full       Full  Owner Occupied   \n",
       "1109                   False        Full       Full  Owner Occupied   \n",
       "\n",
       "        Unit Type     Loan Type Lender Name Created Date       Time    Fix  \\\n",
       "221   ThreeFamily   Residential        MWBI    2/12/2015    9:05 AM  False   \n",
       "1832        Condo  Conventional        MWBI    9/21/2017    4:04 PM   True   \n",
       "236     OneFamily   Residential        MWBI    2/25/2015   10:25 AM   True   \n",
       "327     OneFamily           FHA        MWBI    4/13/2015    2:26 PM   True   \n",
       "1004    OneFamily  Conventional        MWBI    5/10/2016   10:15 PM   True   \n",
       "764     OneFamily           FHA        MWBI   12/11/2015    9:19 PM   True   \n",
       "1795  ThreeFamily           FHA        MWBI    8/23/2017    5:40 PM   True   \n",
       "1109    TwoFamily           FHA         WFB    7/18/2016    7:08 PM  False   \n",
       "\n",
       "        ARM   CLTV    Loan Number Loan Officer Name  LoanInMonth  \n",
       "221    True  45.00   20220299998A      J377y V1tt2s           29  \n",
       "1832  False  75.00     4094023CJA     J2ss3c1 Ch58g           23  \n",
       "236   False  74.56    202404499JA     V3v318 D2g531           44  \n",
       "327   False  95.00  G20430259998A   7189r22t Bh1s38           25  \n",
       "1004  False  75.00   30520199998A  73ch126 61g45d3s           19  \n",
       "764   False  90.00   G2122059998A   2dw38 81v1rr2t2           18  \n",
       "1795  False  90.00   G408403699CA  73ch126 61g45d3s           36  \n",
       "1109   True  95.00   G3074027B98A     74h172d W163d           27  "
      ]
     },
     "execution_count": 23,
     "metadata": {},
     "output_type": "execute_result"
    }
   ],
   "source": [
    "df.sample(8)"
   ]
  },
  {
   "cell_type": "markdown",
   "metadata": {},
   "source": [
    "### Dupicate values in dataset"
   ]
  },
  {
   "cell_type": "code",
   "execution_count": 88,
   "metadata": {},
   "outputs": [
    {
     "data": {
      "text/plain": [
       "9"
      ]
     },
     "execution_count": 88,
     "metadata": {},
     "output_type": "execute_result"
    }
   ],
   "source": [
    "df.duplicated().sum()"
   ]
  },
  {
   "cell_type": "markdown",
   "metadata": {},
   "source": [
    "> Observation:  There are nine records whcich have duplicated values"
   ]
  },
  {
   "cell_type": "markdown",
   "metadata": {},
   "source": [
    "### Removing the duplicates"
   ]
  },
  {
   "cell_type": "code",
   "execution_count": 89,
   "metadata": {},
   "outputs": [],
   "source": [
    "df.drop_duplicates(inplace=True)"
   ]
  },
  {
   "cell_type": "code",
   "execution_count": 90,
   "metadata": {},
   "outputs": [
    {
     "data": {
      "text/plain": [
       "0"
      ]
     },
     "execution_count": 90,
     "metadata": {},
     "output_type": "execute_result"
    }
   ],
   "source": [
    "df.duplicated().sum()"
   ]
  },
  {
   "cell_type": "code",
   "execution_count": 91,
   "metadata": {},
   "outputs": [
    {
     "data": {
      "text/plain": [
       "(2492, 24)"
      ]
     },
     "execution_count": 91,
     "metadata": {},
     "output_type": "execute_result"
    }
   ],
   "source": [
    "df.shape"
   ]
  },
  {
   "cell_type": "markdown",
   "metadata": {},
   "source": [
    "### Checking the null values"
   ]
  },
  {
   "cell_type": "code",
   "execution_count": 26,
   "metadata": {},
   "outputs": [
    {
     "data": {
      "text/plain": [
       "First Name                  0\n",
       "Last Name                   0\n",
       "City                        0\n",
       "State                       0\n",
       "Zip                         0\n",
       "Loan Amount                 0\n",
       "Estimated Value             0\n",
       "Loan Purpose                0\n",
       "Qualification FICO          0\n",
       "Is Primary Wage Earner      0\n",
       "Income Type                 0\n",
       "Asset Docs                  0\n",
       "Occupancy                 655\n",
       "Unit Type                   0\n",
       "Loan Type                   0\n",
       "Lender Name                 0\n",
       "Created Date                0\n",
       "Time                        0\n",
       "Fix                         0\n",
       "ARM                         0\n",
       "CLTV                        0\n",
       "Loan Number                 0\n",
       "Loan Officer Name           0\n",
       "LoanInMonth                 0\n",
       "dtype: int64"
      ]
     },
     "execution_count": 26,
     "metadata": {},
     "output_type": "execute_result"
    }
   ],
   "source": [
    "df.isnull().sum()"
   ]
  },
  {
   "cell_type": "code",
   "execution_count": 27,
   "metadata": {},
   "outputs": [
    {
     "data": {
      "text/plain": [
       "First Name                 0.00\n",
       "Last Name                  0.00\n",
       "City                       0.00\n",
       "State                      0.00\n",
       "Zip                        0.00\n",
       "Loan Amount                0.00\n",
       "Estimated Value            0.00\n",
       "Loan Purpose               0.00\n",
       "Qualification FICO         0.00\n",
       "Is Primary Wage Earner     0.00\n",
       "Income Type                0.00\n",
       "Asset Docs                 0.00\n",
       "Occupancy                 26.19\n",
       "Unit Type                  0.00\n",
       "Loan Type                  0.00\n",
       "Lender Name                0.00\n",
       "Created Date               0.00\n",
       "Time                       0.00\n",
       "Fix                        0.00\n",
       "ARM                        0.00\n",
       "CLTV                       0.00\n",
       "Loan Number                0.00\n",
       "Loan Officer Name          0.00\n",
       "LoanInMonth                0.00\n",
       "dtype: float64"
      ]
     },
     "execution_count": 27,
     "metadata": {},
     "output_type": "execute_result"
    }
   ],
   "source": [
    "np.round((df.isnull().sum()/len(df)) * 100,2)"
   ]
  },
  {
   "cell_type": "markdown",
   "metadata": {},
   "source": [
    "> Observation : There is only one feature `Occupancy` that have missing values 26.19%."
   ]
  },
  {
   "cell_type": "markdown",
   "metadata": {},
   "source": [
    "### Imputing the null values"
   ]
  },
  {
   "cell_type": "code",
   "execution_count": 92,
   "metadata": {},
   "outputs": [],
   "source": [
    "df['Occupancy'].fillna(df['Occupancy'].mode()[0],inplace=True)"
   ]
  },
  {
   "cell_type": "markdown",
   "metadata": {},
   "source": [
    "### Checking the null values after imputing"
   ]
  },
  {
   "cell_type": "code",
   "execution_count": 93,
   "metadata": {},
   "outputs": [
    {
     "data": {
      "text/plain": [
       "First Name                0\n",
       "Last Name                 0\n",
       "City                      0\n",
       "State                     0\n",
       "Zip                       0\n",
       "Loan Amount               0\n",
       "Estimated Value           0\n",
       "Loan Purpose              0\n",
       "Qualification FICO        0\n",
       "Is Primary Wage Earner    0\n",
       "Income Type               0\n",
       "Asset Docs                0\n",
       "Occupancy                 0\n",
       "Unit Type                 0\n",
       "Loan Type                 0\n",
       "Lender Name               0\n",
       "Created Date              0\n",
       "Time                      0\n",
       "Fix                       0\n",
       "ARM                       0\n",
       "CLTV                      0\n",
       "Loan Number               0\n",
       "Loan Officer Name         0\n",
       "LoanInMonth               0\n",
       "dtype: int64"
      ]
     },
     "execution_count": 93,
     "metadata": {},
     "output_type": "execute_result"
    }
   ],
   "source": [
    "df.isnull().sum()"
   ]
  },
  {
   "cell_type": "markdown",
   "metadata": {},
   "source": [
    "> Now our data is cleaned from missing values."
   ]
  },
  {
   "cell_type": "markdown",
   "metadata": {},
   "source": [
    "### Histogram of Loan Amount"
   ]
  },
  {
   "cell_type": "code",
   "execution_count": 78,
   "metadata": {},
   "outputs": [
    {
     "data": {
      "application/vnd.plotly.v1+json": {
       "config": {
        "plotlyServerURL": "https://plot.ly"
       },
       "data": [
        {
         "alignmentgroup": "True",
         "bingroup": "x",
         "hovertemplate": "Loan Amount=%{x}<br>count=%{y}<extra></extra>",
         "legendgroup": "",
         "marker": {
          "color": "#636efa",
          "pattern": {
           "shape": ""
          }
         },
         "name": "",
         "offsetgroup": "",
         "orientation": "v",
         "showlegend": false,
         "type": "histogram",
         "x": [
          506250,
          206250,
          648700,
          412750,
          522588,
          260700,
          320000,
          270655,
          417000,
          400000,
          417000,
          240000,
          128000,
          325000,
          135000,
          240000,
          359000,
          220400,
          485000,
          362484,
          382500,
          533000,
          302706,
          320000,
          403000,
          378750,
          533000,
          261750,
          400000,
          417000,
          300000,
          390000,
          306000,
          380000,
          330000,
          524800,
          499000,
          272000,
          417000,
          674297,
          410000,
          417000,
          416000,
          384000,
          463200,
          298966,
          467500,
          185000,
          660000,
          380000,
          355700,
          351000,
          245000,
          499000,
          498000,
          417000,
          533000,
          230000,
          110000,
          200000,
          533000,
          243000,
          360000,
          645000,
          200000,
          290000,
          1250000,
          370000,
          515000,
          300000,
          200000,
          216000,
          420000,
          23600,
          43270,
          287200,
          289000,
          530000,
          278000,
          400000,
          463200,
          136000,
          122735,
          240000,
          435000,
          625000,
          403082,
          270000,
          312000,
          266000,
          254578,
          297000,
          292000,
          215000,
          375000,
          135000,
          502500,
          220000,
          645000,
          675000,
          625000,
          580000,
          293289,
          320000,
          412750,
          410000,
          410000,
          395000,
          165000,
          720000,
          645000,
          410000,
          360000,
          525000,
          388000,
          685000,
          1500000,
          499500,
          380000,
          533000,
          967950,
          180000,
          197000,
          440800,
          544700,
          356400,
          1852500,
          282500,
          134100,
          388000,
          400000,
          481000,
          308750,
          605250,
          200000,
          370000,
          350000,
          510000,
          280000,
          754000,
          326250,
          499000,
          121500,
          371000,
          338000,
          670000,
          410000,
          280000,
          538000,
          440000,
          265000,
          499950,
          360000,
          417000,
          36000,
          36000,
          456577,
          462000,
          500000,
          457500,
          375000,
          300000,
          414700,
          203296,
          500000,
          380000,
          475000,
          603511,
          375000,
          200000,
          300000,
          446000,
          368000,
          533000,
          533000,
          224000,
          325600,
          330000,
          533000,
          247000,
          212000,
          470000,
          288000,
          279830,
          300000,
          243434,
          550000,
          325000,
          460000,
          647500,
          250325,
          417000,
          424297,
          597781,
          504000,
          417000,
          2475000,
          249084,
          480000,
          259462,
          460000,
          700000,
          280000,
          135000,
          285000,
          230400,
          320000,
          550000,
          417000,
          326200,
          480000,
          880800,
          417000,
          300000,
          213500,
          417000,
          543000,
          417000,
          300000,
          236600,
          420000,
          625000,
          645000,
          630000,
          399000,
          361000,
          400000,
          390000,
          400000,
          647500,
          430000,
          407000,
          379000,
          450000,
          336000,
          625000,
          155325,
          300000,
          325000,
          405000,
          227500,
          295000,
          442500,
          410000,
          105000,
          250000,
          342125,
          326250,
          230000,
          600000,
          240000,
          400000,
          417000,
          393000,
          417000,
          756000,
          215000,
          210000,
          630000,
          535000,
          400000,
          125000,
          294566,
          345000,
          417000,
          600000,
          450000,
          500000,
          628306,
          475000,
          107500,
          240000,
          465000,
          320000,
          624745,
          366300,
          500000,
          535000,
          499000,
          135000,
          187728,
          400000,
          301265,
          323000,
          180000,
          279000,
          176750,
          417000,
          250000,
          150000,
          425000,
          280321,
          322500,
          525000,
          315000,
          400000,
          225834,
          595237,
          417175,
          1673000,
          348800,
          530000,
          297500,
          200000,
          297500,
          324000,
          239316,
          510000,
          450000,
          350000,
          200000,
          417000,
          355120,
          450000,
          430000,
          590000,
          180000,
          310000,
          388278,
          388278,
          528000,
          533000,
          343660,
          260550,
          209000,
          402930,
          355000,
          361517,
          165000,
          260000,
          207061,
          132783,
          360000,
          202400,
          533000,
          355107,
          207061,
          417000,
          354000,
          250000,
          513000,
          300000,
          310000,
          417000,
          417000,
          129500,
          453000,
          499000,
          218625,
          395000,
          347778,
          496000,
          569494,
          351000,
          250000,
          334656,
          700000,
          340000,
          600000,
          325000,
          645000,
          445000,
          314000,
          405000,
          480000,
          480000,
          4170000,
          365000,
          480000,
          260000,
          1400000,
          385000,
          391000,
          360000,
          360000,
          360000,
          360000,
          360000,
          360000,
          646000,
          373117,
          400000,
          533000,
          486000,
          427350,
          427350,
          427350,
          416000,
          416000,
          140000,
          288000,
          473600,
          277000,
          418284,
          342000,
          100000,
          412750,
          270000,
          542000,
          220500,
          749302,
          445000,
          533000,
          200000,
          495000,
          590000,
          88000,
          417000,
          240000,
          530000,
          480000,
          369000,
          417000,
          264000,
          350000,
          203500,
          324000,
          230000,
          530000,
          595000,
          185439,
          460000,
          301600,
          468000,
          615000,
          490000,
          490000,
          250000,
          545600,
          355000,
          399950,
          270647,
          120000,
          300000,
          417000,
          533000,
          417000,
          315000,
          385000,
          487500,
          417000,
          407200,
          480000,
          455000,
          276000,
          278000,
          220000,
          250000,
          637000,
          380000,
          638000,
          487500,
          386250,
          417000,
          400000,
          435000,
          533000,
          760000,
          450000,
          255200,
          400000,
          384000,
          384000,
          400000,
          459146,
          424297,
          250000,
          245000,
          300000,
          412000,
          182000,
          286000,
          289750,
          193000,
          478000,
          250000,
          340000,
          940549,
          225000,
          280000,
          100000,
          180000,
          645000,
          490000,
          380000,
          500000,
          150000,
          490500,
          405000,
          499000,
          500000,
          335927,
          417000,
          300000,
          415000,
          114750,
          220000,
          800000,
          352500,
          406800,
          260000,
          410000,
          250000,
          225000,
          320000,
          160000,
          533000,
          300000,
          304000,
          664300,
          185000,
          620000,
          256000,
          393750,
          478000,
          800775,
          225000,
          508902,
          600000,
          535000,
          206196,
          756206,
          399750,
          327300,
          325000,
          710000,
          411411,
          344000,
          200000,
          672000,
          270000,
          672000,
          470298,
          370000,
          600000,
          250000,
          486000,
          435000,
          436500,
          561371,
          120000,
          425000,
          410000,
          317500,
          224000,
          490000,
          500000,
          180000,
          533000,
          443173,
          312000,
          353479,
          216000,
          314000,
          332000,
          412000,
          300000,
          475000,
          384000,
          225000,
          350000,
          533000,
          465000,
          219000,
          500000,
          626373,
          304000,
          566900,
          584350,
          360000,
          525000,
          378300,
          417000,
          98400,
          697500,
          672000,
          700000,
          417000,
          495000,
          625000,
          483750,
          368207,
          468000,
          403100,
          403100,
          414000,
          417000,
          340000,
          350000,
          230000,
          509614,
          170150,
          180000,
          408500,
          320000,
          337250,
          560000,
          400000,
          175010,
          370000,
          400000,
          400475,
          545625,
          220000,
          85000,
          400000,
          840000,
          269037,
          785000,
          344000,
          162800,
          343151,
          368000,
          255290,
          263000,
          544000,
          334248,
          408000,
          260000,
          219646,
          435000,
          625000,
          417000,
          232500,
          405000,
          407000,
          6125000,
          387500,
          290000,
          124000,
          325000,
          408000,
          325000,
          810000,
          424000,
          280000,
          600000,
          507478,
          501850,
          360000,
          315000,
          230700,
          306000,
          360000,
          150000,
          330000,
          330000,
          280000,
          108000,
          624500,
          661375,
          2400000,
          584223,
          380000,
          1300000,
          336600,
          536000,
          533850,
          200000,
          72000,
          343200,
          789000,
          281250,
          80000,
          556000,
          365384,
          630000,
          408700,
          124000,
          332000,
          330000,
          695000,
          192000,
          100000,
          120000,
          589134,
          417000,
          625500,
          346750,
          238500,
          210000,
          460000,
          124000,
          525000,
          330000,
          123900,
          625500,
          483800,
          365700,
          395000,
          215000,
          298000,
          398000,
          119200,
          400000,
          460000,
          400000,
          780000,
          360000,
          275726.94,
          565000,
          415000,
          368000,
          300000,
          300000,
          175000,
          625000,
          410000,
          417000,
          366600,
          380000,
          352000,
          230000,
          482500,
          123900,
          122555,
          320000,
          284050,
          522500,
          289500,
          289500,
          810000,
          315000,
          580000,
          376000,
          525000,
          856000,
          300000,
          475000,
          483312.5,
          446500,
          436500,
          513000,
          550000,
          547500,
          930000,
          570817.5,
          220000,
          417000,
          250000,
          625500,
          326200,
          305250,
          900000,
          280000,
          337775,
          281000,
          103900,
          164220,
          249287.5,
          118400,
          455000,
          266089.48,
          860000,
          320000,
          412087.5,
          308800,
          441849.38,
          335000,
          237250,
          450000,
          800000,
          575000,
          144000,
          242673.75,
          420024,
          210000,
          510000,
          367000,
          635936.48,
          315000,
          320000,
          250000,
          537830.15,
          465310,
          1800000,
          400000,
          499290,
          643136.31,
          360000,
          320000,
          225834.13,
          300000,
          280000,
          367500,
          600000,
          576922.5,
          297028.6,
          179250,
          446000,
          350000,
          748880,
          447200,
          616000,
          404000,
          146250,
          180000,
          450000,
          300000,
          280000,
          350000,
          350000,
          474500,
          260000,
          820000,
          486000,
          752500,
          400000,
          320000,
          750000,
          632478,
          450000,
          415000,
          533000,
          320000,
          279837.94,
          417000,
          300000,
          429000,
          326250,
          653000,
          181725.5,
          295000,
          422211.63,
          412000,
          425000,
          391483.13,
          416100,
          425000,
          950000,
          508000,
          412392.75,
          401149.38,
          490747.37,
          267500,
          167073.5,
          376475,
          412087.5,
          400000,
          280500,
          266000,
          326200,
          225000,
          559000,
          640000,
          400000,
          646000,
          120000,
          432030,
          560000,
          800000,
          344000,
          540000,
          303200,
          315000,
          284747.38,
          1085000,
          555000,
          315000,
          625500,
          360000,
          480000,
          599000,
          228000,
          275000,
          295000,
          255000,
          117247.54,
          447000,
          625000,
          183750,
          600325,
          400000,
          169200,
          150000,
          260000,
          635937,
          381500,
          504000,
          390000,
          395000,
          340000,
          450000,
          325000,
          360000,
          645000,
          967000,
          500000,
          311787.44,
          850000,
          508750,
          216000,
          280000,
          1632000,
          550000,
          375000,
          400000,
          691900,
          417000,
          261250,
          328000,
          752950,
          150000,
          300000,
          300000,
          400000,
          445000,
          165000,
          417000,
          493500,
          628000,
          190000,
          315000,
          289631.38,
          347000,
          349918.25,
          329670,
          240000,
          680000,
          353000,
          337097,
          779690,
          367317.5,
          332500,
          486000,
          245471.88,
          651200,
          676637.5,
          352000,
          175000,
          204000,
          376062,
          375000,
          280000,
          535876,
          200000,
          210000,
          424000,
          610000,
          567765,
          400000,
          196000,
          203500,
          986250,
          616198,
          450000,
          417000,
          405982.5,
          171000,
          700548.75,
          492000,
          239200,
          504000,
          495000,
          300000,
          250000,
          262108,
          571021,
          779303.25,
          108750,
          330000,
          262500,
          279500,
          389000,
          280000,
          140000,
          417000,
          224250,
          200000,
          150000,
          173700,
          750000,
          302000,
          657865,
          450000,
          475000,
          400000,
          515000,
          317000,
          800775,
          344000,
          420481.88,
          355000,
          892000,
          900000,
          147000,
          498000,
          299000,
          255290.75,
          262500,
          407000,
          280000,
          250000,
          250000,
          310000,
          164000,
          257600,
          800000,
          589132.5,
          259122.84,
          915750,
          252345.09,
          416000,
          260200.19,
          285000,
          380000,
          553800,
          212657.5,
          473756.14,
          380000,
          365000,
          594000,
          602360,
          320000,
          600000,
          420000,
          200000,
          318250,
          533000,
          375000,
          498000,
          501500,
          168000,
          468000,
          52000,
          365750,
          288000,
          184000,
          360000,
          470000,
          200000,
          253435,
          505613.05,
          552000,
          417000,
          900000,
          300000,
          424200,
          400000,
          340000,
          700000,
          1000000,
          1200000,
          395000,
          533000,
          417000,
          348000,
          270655,
          417000,
          484000,
          479200,
          270000,
          206000,
          220924.69,
          320000,
          372150.63,
          295000,
          400000,
          720000,
          1000000,
          411000,
          389885.65,
          633318,
          225000,
          216000,
          650000,
          520000,
          248000,
          450000,
          760000,
          318000,
          400000,
          500000,
          135000,
          348700,
          363000,
          235653,
          250000,
          188825,
          380000,
          516000,
          427500,
          386650,
          483312.5,
          344000,
          371387.5,
          452000,
          200000,
          625500,
          200000,
          187500,
          208000,
          40500,
          202500,
          595237.5,
          300000,
          366300,
          160000,
          540000,
          320000,
          300000,
          528000,
          251627.75,
          232313.57,
          300000,
          250000,
          570000,
          173600,
          430000,
          594474.38,
          595000,
          430000,
          674250,
          180000,
          240000,
          250000,
          950000,
          900000,
          140000,
          417000,
          123500,
          300000,
          240000,
          533850,
          417000,
          315000,
          570000,
          525000,
          417000,
          325000,
          470000,
          308003.61,
          331000,
          496000,
          550000,
          816000,
          215000,
          822597.88,
          399200,
          499000,
          258000,
          391483.13,
          675620,
          840000,
          417000,
          510378,
          306776.25,
          297368.45,
          399000,
          97900,
          110000,
          483000,
          186558.63,
          417000,
          529100,
          600000,
          504000,
          275000,
          415568.37,
          460000,
          581250,
          176000,
          359500,
          269500,
          385000,
          320512.5,
          210000,
          225000,
          512000,
          533000,
          205000,
          480000,
          186558.63,
          398351.25,
          400000,
          417600,
          192000,
          279500,
          339500,
          205000,
          156000,
          124000,
          282000,
          533000,
          320000,
          417000,
          528000,
          236000,
          200000,
          400000,
          305250,
          375457.5,
          628306.25,
          492000,
          389500,
          300000,
          240000,
          1100000,
          508500,
          345441.25,
          355900,
          515200,
          402573.88,
          365500,
          900000,
          520400.38,
          412000,
          518000,
          125500,
          200000,
          793114.99,
          480000,
          308791.92,
          299475.69,
          304486.88,
          417000,
          275000,
          432437.5,
          415648.75,
          915750,
          247000,
          345000,
          301000,
          600000,
          625500,
          520000,
          625000,
          778388.52,
          450000,
          528750,
          360000,
          220000,
          394690,
          470000,
          400000,
          508750,
          352500,
          250000,
          360000,
          417000,
          533000,
          324800,
          132000,
          336000,
          532000,
          457000,
          760000,
          450000,
          156000,
          592000,
          407000,
          497800,
          572343.75,
          334248.75,
          472500,
          581501.25,
          500000,
          250000,
          250000,
          409000,
          500000,
          783475,
          331500,
          316000,
          286426.25,
          317000,
          1100000,
          209000,
          370500,
          180000,
          477000,
          393750,
          232707.34,
          524012.5,
          468000,
          600000,
          750000,
          423000,
          604140.63,
          500000,
          585062.5,
          589641.25,
          450000,
          160000,
          248800,
          310000,
          621183.75,
          533000,
          488979.97,
          400000,
          400000,
          870400,
          160000,
          403750,
          513750,
          470000,
          215000,
          720000,
          260000,
          255600,
          406800,
          460305,
          256800,
          342015,
          370000,
          369000,
          285000,
          354000,
          449100,
          200000,
          134000,
          372099.75,
          320100,
          640000,
          200000,
          600000,
          328000,
          417000,
          825000,
          570000,
          173000,
          625500,
          462000,
          139500,
          510000,
          465000,
          490000,
          543243.25,
          408500,
          130036.5,
          346750,
          356250,
          425315,
          622000,
          309750,
          238500,
          568000,
          625000,
          472000,
          417000,
          498575.92,
          276000,
          306000,
          550000,
          150000,
          508000,
          410000,
          508000,
          417000,
          185500,
          420000,
          396000,
          510450,
          613806.88,
          412392.75,
          258875,
          624000,
          407483.31,
          364000,
          507500,
          570000,
          770000,
          579975,
          500800,
          300000,
          367317.5,
          53000,
          308000,
          128000,
          289733,
          425315,
          499083.75,
          414652,
          500000,
          135920,
          476000,
          560000,
          434981.25,
          424100,
          424900,
          385000,
          636000,
          860550,
          350000,
          318000,
          625000,
          531643.75,
          253000,
          488000,
          458500,
          555000,
          984000,
          374250,
          441000,
          608000,
          746250,
          270000,
          552502.5,
          400000,
          187500,
          432000,
          700065,
          227000,
          244000,
          319005,
          424000,
          270000,
          216015.25,
          499083.75,
          343661,
          950000,
          384750,
          522000,
          444647.5,
          140000,
          217500,
          460113.5,
          424100,
          370400,
          380000,
          596000,
          390000,
          390000,
          414122.5,
          289987.5,
          427121.06,
          391200,
          325000,
          240000,
          622500,
          350000,
          336000,
          150000,
          583200,
          348000,
          268000,
          417500,
          860550.63,
          82023.75,
          370000,
          430000,
          395200,
          225000,
          410000,
          1222000,
          520100,
          470000,
          255290.75,
          150000,
          300000,
          3500000,
          440000,
          225000,
          376000,
          354400,
          240000,
          712000,
          680000,
          424000,
          170000,
          235000,
          403750,
          365000,
          503287,
          380000,
          630000,
          369000,
          792000,
          116000,
          265000,
          132000,
          320000,
          530000,
          829000,
          480000,
          270000,
          193500,
          206000,
          343560,
          304385.13,
          543000,
          386650,
          150000,
          500000,
          278350,
          235653,
          393750,
          585774.75,
          352000,
          450000,
          300000,
          895000,
          164326.25,
          480000,
          743997,
          387500,
          332500,
          750000,
          533000,
          85680,
          478479.38,
          635000,
          680000,
          300000,
          310000,
          395200,
          399840,
          333750,
          162000,
          349300,
          280000,
          330000,
          696500,
          100000,
          249375,
          240000,
          639200,
          448000,
          395100,
          369200,
          190000,
          367500,
          721687.31,
          365000,
          750000,
          371387.5,
          543000,
          308000,
          309000,
          424000,
          278000,
          404537.65,
          259868,
          370000,
          800000,
          304000,
          506000,
          397500,
          720000,
          647281.61,
          104800,
          368207.81,
          255290.75,
          326000,
          254000,
          400880,
          595000,
          575000,
          696500,
          370000,
          340000,
          389500,
          400000,
          130000,
          223250,
          400000,
          250000,
          403200,
          424000,
          289250,
          360000,
          850000,
          221000,
          169000,
          269637.5,
          232000,
          175000,
          389700,
          614250,
          370000,
          533950,
          250000,
          494000,
          250000,
          997000,
          292500,
          395500,
          650000,
          400000,
          275000,
          424000,
          431522.33,
          556000,
          990000,
          600000,
          260000,
          162800,
          300000,
          105000,
          635000,
          270000,
          154000,
          650000,
          635901,
          344000,
          414400,
          631400,
          270000,
          682500,
          260000,
          328652.5,
          347000,
          636075,
          427350,
          190000,
          352818.13,
          509767.5,
          509767.5,
          1500000,
          300000,
          424000,
          342000,
          439814.38,
          546143.13,
          625000,
          529750,
          342000,
          285538.99,
          107000,
          829261.48,
          157400,
          200000,
          310337.5,
          280000.6,
          376000,
          330000,
          240000,
          541800,
          328000,
          110500,
          84500,
          243750,
          228000,
          228000,
          544871.25,
          518772.38,
          327000,
          504680,
          512100,
          465000,
          386648.98,
          355900,
          1040000,
          299000,
          675000,
          326700,
          242000,
          410000,
          424000,
          350000,
          380036.25,
          243000,
          356125,
          600000,
          210000,
          285000,
          2000000,
          1500000,
          336000,
          496000,
          166000,
          180000,
          248000,
          413100,
          202991.25,
          536629.5,
          579975,
          370000,
          243000,
          404100,
          265109.63,
          499000,
          440000,
          543000,
          235042.5,
          304232.5,
          589641.25,
          352000,
          331550,
          400000,
          720000,
          1100000,
          355500,
          484000,
          256000,
          552503,
          617000,
          490943.75,
          408000,
          460000,
          308000,
          635000,
          636075,
          499000,
          499000,
          546641.7,
          315250,
          547500,
          547593.06,
          400000,
          154000,
          126000,
          137600,
          310000,
          400000,
          456000,
          200000,
          367200,
          225000,
          330687.5,
          308000,
          335000,
          471306,
          333841.75,
          387845.56,
          767200,
          345000,
          405000,
          203700,
          528750,
          388800,
          114000,
          392000,
          513750,
          309294.56,
          796000,
          165200,
          1137000,
          347985,
          455000,
          472500,
          559625,
          382707.19,
          299000,
          636000,
          995000,
          1700000,
          416000,
          665000,
          411700,
          600000,
          623000,
          440000,
          630000,
          1050000,
          237300,
          310000,
          490000,
          150000,
          400000,
          342000,
          170000,
          216000,
          618131,
          767000,
          468000,
          472500,
          152930.25,
          268000,
          385530.75,
          372000,
          502400,
          355250,
          260000,
          250000,
          216000,
          520000,
          800000,
          281847.5,
          200000,
          636000,
          368000,
          730000,
          252000,
          367100,
          1057000,
          788562.5,
          420000,
          585000,
          532000,
          636150,
          169400,
          543000,
          525000,
          284240,
          595237.5,
          384300,
          423610.69,
          547500,
          300366,
          289250,
          960000,
          381990,
          430000,
          460000,
          550000,
          161250,
          513837.5,
          639000,
          580000,
          350000,
          264000,
          525309.81,
          360000,
          159850,
          166768.25,
          325000,
          810438.75,
          650000,
          636000,
          657000,
          200000,
          450000,
          744000,
          160000,
          506250,
          390000,
          600000,
          164835,
          630000,
          161500,
          400000,
          302289.08,
          413000,
          153000,
          350000,
          315000,
          393700,
          400000,
          420000,
          43247.82,
          422400,
          373500,
          195000,
          292500,
          490000,
          560000,
          543000,
          225000,
          789750,
          600000,
          345000,
          420000,
          910000,
          532000,
          770000,
          281250,
          350000,
          320000,
          126000,
          327000,
          357000,
          650000,
          286711.15,
          584250,
          440000,
          746250,
          240000,
          561600,
          256500,
          192800,
          245000,
          361500,
          503000,
          624000,
          324900,
          640190.65,
          712500,
          447700,
          535000,
          165000,
          615000,
          152000,
          170000,
          630000,
          281250,
          424100,
          361721.25,
          520000,
          589132.5,
          420000,
          490000,
          318000,
          520000,
          627900,
          225000,
          153665.39,
          595000,
          360000,
          400000,
          148500,
          406000,
          648000,
          400000,
          272000,
          296000,
          448000,
          200000,
          450000,
          400000,
          364500,
          434981.25,
          915000,
          1500000,
          440000,
          635000,
          417175,
          825000,
          217000,
          409000,
          150000,
          577000,
          615000,
          373117.25,
          402000,
          850000,
          448000,
          330000,
          607500,
          50000,
          569800,
          318750,
          618589.13,
          729000,
          1085000,
          544000,
          842500,
          328000,
          330000,
          780000,
          143200,
          780000,
          542500,
          337500,
          131250,
          466396.56,
          598500,
          517266,
          472000,
          363700,
          345000,
          330000,
          322500,
          391300,
          95000,
          641025,
          550000,
          252000,
          645000,
          361500,
          282750,
          452000,
          315000,
          1330000,
          709706.25,
          620000,
          303113.25,
          612535,
          840000,
          637500,
          840000,
          840000,
          670000,
          668497.5,
          230000,
          550000,
          466396.56,
          580000,
          360000,
          120000,
          400000,
          1000000,
          280000,
          695970,
          135000,
          770000,
          660000,
          999000,
          424000,
          144000,
          543750,
          900000,
          454800,
          960000,
          460928,
          3400000,
          780000,
          1160000,
          636000,
          577000,
          415000,
          408000,
          409500,
          472500,
          377000,
          348000,
          240000,
          290000,
          400000,
          336000,
          550000,
          520000,
          290000,
          239900,
          408000,
          650000,
          499000,
          407000,
          300000,
          850000,
          600000,
          1800000,
          457874.08,
          678640,
          581250,
          488000,
          700000,
          618750,
          442700,
          535000,
          500000,
          544000,
          184080,
          544947.56,
          175000,
          453000,
          367225.92,
          313000,
          445000,
          850000,
          650000,
          420000,
          520000,
          348000,
          700000,
          453000,
          525000,
          999000,
          348000,
          700000,
          376000,
          173992.5,
          1650000,
          800000,
          260000,
          340000,
          442500,
          300000,
          455000,
          453000,
          520000,
          1170000,
          750000,
          195000,
          575000,
          575000,
          575000,
          265000,
          550000,
          580000,
          485000,
          475000,
          322000,
          228750,
          626250,
          620000,
          522900,
          488000,
          590750,
          346000,
          186400,
          940000,
          679650,
          450000,
          363750,
          1500000,
          654500,
          800000,
          800000,
          437000,
          800000,
          345000,
          316000,
          383000,
          202500,
          345000,
          345000,
          345000,
          345000,
          390000,
          328330,
          245471.88,
          150000,
          274928.5,
          303200,
          345600,
          442500,
          147920,
          796000,
          550000,
          135000,
          400000,
          350000,
          254375,
          405015.88,
          499000,
          560000,
          1000000,
          351000,
          372000,
          291000,
          150000,
          891000,
          1116250,
          376000,
          465000,
          119250.24,
          730000,
          650000,
          750000,
          375250,
          237405,
          320000,
          174800,
          175000,
          444444,
          1000000,
          1350000,
          308800,
          671250,
          1500000,
          679650,
          270000,
          664000,
          195000,
          322000,
          784000,
          650000,
          668000,
          164000,
          232000,
          630000,
          360500,
          695970,
          452000,
          397500,
          448400,
          175500,
          415200,
          206000,
          507000,
          720000,
          870000,
          578000,
          240000,
          584000,
          668500,
          1170000,
          490000,
          570000,
          200000,
          228690,
          392000,
          637500,
          367500,
          825000,
          256500,
          90000,
          275400,
          400000,
          518925,
          595237.5,
          450000,
          900000,
          450000,
          328000,
          480250,
          534000,
          1500000,
          360000,
          522000,
          390000,
          396000,
          194500,
          120000,
          400000,
          192000,
          119920,
          2000000,
          450000,
          315425,
          985500,
          396000,
          200000,
          450000,
          545445,
          690000,
          250000,
          372000,
          121500,
          300000,
          300000,
          228000,
          500000,
          640000,
          543750,
          400000,
          540000,
          416500,
          878789.31,
          376062.91,
          679000,
          200000,
          508000,
          255000,
          435600,
          499000,
          51765.31,
          780000,
          560000,
          700000,
          1095200,
          200000,
          547000,
          231000,
          520000,
          325000,
          750000,
          800000,
          425000,
          375250,
          89250,
          420000,
          128000,
          750000,
          395000,
          434981.25,
          350000,
          731250,
          3150000,
          413000,
          268875,
          700000,
          1530000,
          320000,
          600000,
          595000,
          800000,
          525000,
          740000,
          409400,
          580000,
          172000,
          413000,
          343750,
          1012500,
          279000,
          115110,
          300000,
          536000,
          568000,
          453100,
          450000,
          600000,
          479500,
          432000,
          216000,
          540000,
          496000,
          643500,
          172500,
          243000,
          286875,
          500000,
          96425,
          401149.38,
          450000,
          249600,
          585500,
          214200,
          344000,
          450000,
          324000,
          870000,
          995000,
          230000,
          280000,
          824998,
          500000,
          829000,
          870000,
          479250,
          535000,
          175000,
          373100,
          253306.63,
          206250,
          549439.82,
          420000,
          400000,
          766400,
          768000,
          437270,
          315000,
          347750,
          188000,
          524300,
          878789.31,
          434000,
          982500,
          495920,
          440000,
          84800,
          432000,
          400000,
          297990.9,
          281250,
          600600,
          787500,
          360500,
          880000,
          580000,
          650000,
          637000,
          183000,
          537000,
          358000,
          281246,
          323000,
          335000,
          499000,
          370000,
          475000,
          550000,
          118400,
          600000,
          61125,
          658000,
          250000,
          200005,
          750000,
          451800,
          342000,
          456000,
          500000,
          576400,
          200800,
          592500,
          645000,
          958300,
          450000,
          1350000,
          525000,
          427350,
          430000,
          600000,
          380000,
          732000,
          930000,
          725000,
          650000,
          360000,
          1020000,
          960500,
          150000,
          421245,
          756000,
          718000,
          120000,
          625500,
          311000,
          525000,
          233600,
          180000,
          394400,
          144900,
          136000,
          231325,
          650000,
          630000,
          881250,
          200000,
          700000,
          650000,
          616000,
          524000,
          423200,
          270000,
          260000,
          336000,
          304000,
          840000,
          616000,
          663918.75,
          396000,
          460000,
          900000,
          1725000,
          200000,
          367500,
          700000,
          338318.75,
          535500,
          186240.03,
          1050000,
          656000,
          345000,
          600000,
          810000,
          348000,
          869500,
          333485.63,
          448000,
          675000,
          435000,
          503500,
          386700,
          375000,
          620000,
          511000,
          950000,
          400000,
          840000,
          480000,
          840000,
          128000,
          840000,
          595000,
          308000,
          159375,
          248900,
          539000,
          592500,
          450000,
          715000,
          1380000,
          1870000,
          720000,
          370878.75,
          451000,
          489300,
          135000,
          350000,
          191098.71,
          330000,
          511100,
          282000,
          408000,
          439560,
          337500,
          137464.25,
          312550,
          682500,
          283500,
          112500,
          476000,
          650000,
          250000,
          343151.88,
          287000,
          358388.94,
          488000,
          494000,
          469000,
          367500,
          584000,
          536000,
          451000,
          281000,
          720000,
          350000,
          600000,
          431250,
          580000,
          810000,
          450000,
          791350,
          590000,
          1260000,
          435000,
          288000,
          385000,
          550000,
          850000,
          600000,
          943800,
          526500,
          870000,
          633750,
          861750,
          1190000,
          1190000
         ],
         "xaxis": "x",
         "yaxis": "y"
        }
       ],
       "layout": {
        "barmode": "relative",
        "legend": {
         "tracegroupgap": 0
        },
        "template": {
         "data": {
          "bar": [
           {
            "error_x": {
             "color": "#2a3f5f"
            },
            "error_y": {
             "color": "#2a3f5f"
            },
            "marker": {
             "line": {
              "color": "#E5ECF6",
              "width": 0.5
             },
             "pattern": {
              "fillmode": "overlay",
              "size": 10,
              "solidity": 0.2
             }
            },
            "type": "bar"
           }
          ],
          "barpolar": [
           {
            "marker": {
             "line": {
              "color": "#E5ECF6",
              "width": 0.5
             },
             "pattern": {
              "fillmode": "overlay",
              "size": 10,
              "solidity": 0.2
             }
            },
            "type": "barpolar"
           }
          ],
          "carpet": [
           {
            "aaxis": {
             "endlinecolor": "#2a3f5f",
             "gridcolor": "white",
             "linecolor": "white",
             "minorgridcolor": "white",
             "startlinecolor": "#2a3f5f"
            },
            "baxis": {
             "endlinecolor": "#2a3f5f",
             "gridcolor": "white",
             "linecolor": "white",
             "minorgridcolor": "white",
             "startlinecolor": "#2a3f5f"
            },
            "type": "carpet"
           }
          ],
          "choropleth": [
           {
            "colorbar": {
             "outlinewidth": 0,
             "ticks": ""
            },
            "type": "choropleth"
           }
          ],
          "contour": [
           {
            "colorbar": {
             "outlinewidth": 0,
             "ticks": ""
            },
            "colorscale": [
             [
              0,
              "#0d0887"
             ],
             [
              0.1111111111111111,
              "#46039f"
             ],
             [
              0.2222222222222222,
              "#7201a8"
             ],
             [
              0.3333333333333333,
              "#9c179e"
             ],
             [
              0.4444444444444444,
              "#bd3786"
             ],
             [
              0.5555555555555556,
              "#d8576b"
             ],
             [
              0.6666666666666666,
              "#ed7953"
             ],
             [
              0.7777777777777778,
              "#fb9f3a"
             ],
             [
              0.8888888888888888,
              "#fdca26"
             ],
             [
              1,
              "#f0f921"
             ]
            ],
            "type": "contour"
           }
          ],
          "contourcarpet": [
           {
            "colorbar": {
             "outlinewidth": 0,
             "ticks": ""
            },
            "type": "contourcarpet"
           }
          ],
          "heatmap": [
           {
            "colorbar": {
             "outlinewidth": 0,
             "ticks": ""
            },
            "colorscale": [
             [
              0,
              "#0d0887"
             ],
             [
              0.1111111111111111,
              "#46039f"
             ],
             [
              0.2222222222222222,
              "#7201a8"
             ],
             [
              0.3333333333333333,
              "#9c179e"
             ],
             [
              0.4444444444444444,
              "#bd3786"
             ],
             [
              0.5555555555555556,
              "#d8576b"
             ],
             [
              0.6666666666666666,
              "#ed7953"
             ],
             [
              0.7777777777777778,
              "#fb9f3a"
             ],
             [
              0.8888888888888888,
              "#fdca26"
             ],
             [
              1,
              "#f0f921"
             ]
            ],
            "type": "heatmap"
           }
          ],
          "heatmapgl": [
           {
            "colorbar": {
             "outlinewidth": 0,
             "ticks": ""
            },
            "colorscale": [
             [
              0,
              "#0d0887"
             ],
             [
              0.1111111111111111,
              "#46039f"
             ],
             [
              0.2222222222222222,
              "#7201a8"
             ],
             [
              0.3333333333333333,
              "#9c179e"
             ],
             [
              0.4444444444444444,
              "#bd3786"
             ],
             [
              0.5555555555555556,
              "#d8576b"
             ],
             [
              0.6666666666666666,
              "#ed7953"
             ],
             [
              0.7777777777777778,
              "#fb9f3a"
             ],
             [
              0.8888888888888888,
              "#fdca26"
             ],
             [
              1,
              "#f0f921"
             ]
            ],
            "type": "heatmapgl"
           }
          ],
          "histogram": [
           {
            "marker": {
             "pattern": {
              "fillmode": "overlay",
              "size": 10,
              "solidity": 0.2
             }
            },
            "type": "histogram"
           }
          ],
          "histogram2d": [
           {
            "colorbar": {
             "outlinewidth": 0,
             "ticks": ""
            },
            "colorscale": [
             [
              0,
              "#0d0887"
             ],
             [
              0.1111111111111111,
              "#46039f"
             ],
             [
              0.2222222222222222,
              "#7201a8"
             ],
             [
              0.3333333333333333,
              "#9c179e"
             ],
             [
              0.4444444444444444,
              "#bd3786"
             ],
             [
              0.5555555555555556,
              "#d8576b"
             ],
             [
              0.6666666666666666,
              "#ed7953"
             ],
             [
              0.7777777777777778,
              "#fb9f3a"
             ],
             [
              0.8888888888888888,
              "#fdca26"
             ],
             [
              1,
              "#f0f921"
             ]
            ],
            "type": "histogram2d"
           }
          ],
          "histogram2dcontour": [
           {
            "colorbar": {
             "outlinewidth": 0,
             "ticks": ""
            },
            "colorscale": [
             [
              0,
              "#0d0887"
             ],
             [
              0.1111111111111111,
              "#46039f"
             ],
             [
              0.2222222222222222,
              "#7201a8"
             ],
             [
              0.3333333333333333,
              "#9c179e"
             ],
             [
              0.4444444444444444,
              "#bd3786"
             ],
             [
              0.5555555555555556,
              "#d8576b"
             ],
             [
              0.6666666666666666,
              "#ed7953"
             ],
             [
              0.7777777777777778,
              "#fb9f3a"
             ],
             [
              0.8888888888888888,
              "#fdca26"
             ],
             [
              1,
              "#f0f921"
             ]
            ],
            "type": "histogram2dcontour"
           }
          ],
          "mesh3d": [
           {
            "colorbar": {
             "outlinewidth": 0,
             "ticks": ""
            },
            "type": "mesh3d"
           }
          ],
          "parcoords": [
           {
            "line": {
             "colorbar": {
              "outlinewidth": 0,
              "ticks": ""
             }
            },
            "type": "parcoords"
           }
          ],
          "pie": [
           {
            "automargin": true,
            "type": "pie"
           }
          ],
          "scatter": [
           {
            "fillpattern": {
             "fillmode": "overlay",
             "size": 10,
             "solidity": 0.2
            },
            "type": "scatter"
           }
          ],
          "scatter3d": [
           {
            "line": {
             "colorbar": {
              "outlinewidth": 0,
              "ticks": ""
             }
            },
            "marker": {
             "colorbar": {
              "outlinewidth": 0,
              "ticks": ""
             }
            },
            "type": "scatter3d"
           }
          ],
          "scattercarpet": [
           {
            "marker": {
             "colorbar": {
              "outlinewidth": 0,
              "ticks": ""
             }
            },
            "type": "scattercarpet"
           }
          ],
          "scattergeo": [
           {
            "marker": {
             "colorbar": {
              "outlinewidth": 0,
              "ticks": ""
             }
            },
            "type": "scattergeo"
           }
          ],
          "scattergl": [
           {
            "marker": {
             "colorbar": {
              "outlinewidth": 0,
              "ticks": ""
             }
            },
            "type": "scattergl"
           }
          ],
          "scattermapbox": [
           {
            "marker": {
             "colorbar": {
              "outlinewidth": 0,
              "ticks": ""
             }
            },
            "type": "scattermapbox"
           }
          ],
          "scatterpolar": [
           {
            "marker": {
             "colorbar": {
              "outlinewidth": 0,
              "ticks": ""
             }
            },
            "type": "scatterpolar"
           }
          ],
          "scatterpolargl": [
           {
            "marker": {
             "colorbar": {
              "outlinewidth": 0,
              "ticks": ""
             }
            },
            "type": "scatterpolargl"
           }
          ],
          "scatterternary": [
           {
            "marker": {
             "colorbar": {
              "outlinewidth": 0,
              "ticks": ""
             }
            },
            "type": "scatterternary"
           }
          ],
          "surface": [
           {
            "colorbar": {
             "outlinewidth": 0,
             "ticks": ""
            },
            "colorscale": [
             [
              0,
              "#0d0887"
             ],
             [
              0.1111111111111111,
              "#46039f"
             ],
             [
              0.2222222222222222,
              "#7201a8"
             ],
             [
              0.3333333333333333,
              "#9c179e"
             ],
             [
              0.4444444444444444,
              "#bd3786"
             ],
             [
              0.5555555555555556,
              "#d8576b"
             ],
             [
              0.6666666666666666,
              "#ed7953"
             ],
             [
              0.7777777777777778,
              "#fb9f3a"
             ],
             [
              0.8888888888888888,
              "#fdca26"
             ],
             [
              1,
              "#f0f921"
             ]
            ],
            "type": "surface"
           }
          ],
          "table": [
           {
            "cells": {
             "fill": {
              "color": "#EBF0F8"
             },
             "line": {
              "color": "white"
             }
            },
            "header": {
             "fill": {
              "color": "#C8D4E3"
             },
             "line": {
              "color": "white"
             }
            },
            "type": "table"
           }
          ]
         },
         "layout": {
          "annotationdefaults": {
           "arrowcolor": "#2a3f5f",
           "arrowhead": 0,
           "arrowwidth": 1
          },
          "autotypenumbers": "strict",
          "coloraxis": {
           "colorbar": {
            "outlinewidth": 0,
            "ticks": ""
           }
          },
          "colorscale": {
           "diverging": [
            [
             0,
             "#8e0152"
            ],
            [
             0.1,
             "#c51b7d"
            ],
            [
             0.2,
             "#de77ae"
            ],
            [
             0.3,
             "#f1b6da"
            ],
            [
             0.4,
             "#fde0ef"
            ],
            [
             0.5,
             "#f7f7f7"
            ],
            [
             0.6,
             "#e6f5d0"
            ],
            [
             0.7,
             "#b8e186"
            ],
            [
             0.8,
             "#7fbc41"
            ],
            [
             0.9,
             "#4d9221"
            ],
            [
             1,
             "#276419"
            ]
           ],
           "sequential": [
            [
             0,
             "#0d0887"
            ],
            [
             0.1111111111111111,
             "#46039f"
            ],
            [
             0.2222222222222222,
             "#7201a8"
            ],
            [
             0.3333333333333333,
             "#9c179e"
            ],
            [
             0.4444444444444444,
             "#bd3786"
            ],
            [
             0.5555555555555556,
             "#d8576b"
            ],
            [
             0.6666666666666666,
             "#ed7953"
            ],
            [
             0.7777777777777778,
             "#fb9f3a"
            ],
            [
             0.8888888888888888,
             "#fdca26"
            ],
            [
             1,
             "#f0f921"
            ]
           ],
           "sequentialminus": [
            [
             0,
             "#0d0887"
            ],
            [
             0.1111111111111111,
             "#46039f"
            ],
            [
             0.2222222222222222,
             "#7201a8"
            ],
            [
             0.3333333333333333,
             "#9c179e"
            ],
            [
             0.4444444444444444,
             "#bd3786"
            ],
            [
             0.5555555555555556,
             "#d8576b"
            ],
            [
             0.6666666666666666,
             "#ed7953"
            ],
            [
             0.7777777777777778,
             "#fb9f3a"
            ],
            [
             0.8888888888888888,
             "#fdca26"
            ],
            [
             1,
             "#f0f921"
            ]
           ]
          },
          "colorway": [
           "#636efa",
           "#EF553B",
           "#00cc96",
           "#ab63fa",
           "#FFA15A",
           "#19d3f3",
           "#FF6692",
           "#B6E880",
           "#FF97FF",
           "#FECB52"
          ],
          "font": {
           "color": "#2a3f5f"
          },
          "geo": {
           "bgcolor": "white",
           "lakecolor": "white",
           "landcolor": "#E5ECF6",
           "showlakes": true,
           "showland": true,
           "subunitcolor": "white"
          },
          "hoverlabel": {
           "align": "left"
          },
          "hovermode": "closest",
          "mapbox": {
           "style": "light"
          },
          "paper_bgcolor": "white",
          "plot_bgcolor": "#E5ECF6",
          "polar": {
           "angularaxis": {
            "gridcolor": "white",
            "linecolor": "white",
            "ticks": ""
           },
           "bgcolor": "#E5ECF6",
           "radialaxis": {
            "gridcolor": "white",
            "linecolor": "white",
            "ticks": ""
           }
          },
          "scene": {
           "xaxis": {
            "backgroundcolor": "#E5ECF6",
            "gridcolor": "white",
            "gridwidth": 2,
            "linecolor": "white",
            "showbackground": true,
            "ticks": "",
            "zerolinecolor": "white"
           },
           "yaxis": {
            "backgroundcolor": "#E5ECF6",
            "gridcolor": "white",
            "gridwidth": 2,
            "linecolor": "white",
            "showbackground": true,
            "ticks": "",
            "zerolinecolor": "white"
           },
           "zaxis": {
            "backgroundcolor": "#E5ECF6",
            "gridcolor": "white",
            "gridwidth": 2,
            "linecolor": "white",
            "showbackground": true,
            "ticks": "",
            "zerolinecolor": "white"
           }
          },
          "shapedefaults": {
           "line": {
            "color": "#2a3f5f"
           }
          },
          "ternary": {
           "aaxis": {
            "gridcolor": "white",
            "linecolor": "white",
            "ticks": ""
           },
           "baxis": {
            "gridcolor": "white",
            "linecolor": "white",
            "ticks": ""
           },
           "bgcolor": "#E5ECF6",
           "caxis": {
            "gridcolor": "white",
            "linecolor": "white",
            "ticks": ""
           }
          },
          "title": {
           "x": 0.05
          },
          "xaxis": {
           "automargin": true,
           "gridcolor": "white",
           "linecolor": "white",
           "ticks": "",
           "title": {
            "standoff": 15
           },
           "zerolinecolor": "white",
           "zerolinewidth": 2
          },
          "yaxis": {
           "automargin": true,
           "gridcolor": "white",
           "linecolor": "white",
           "ticks": "",
           "title": {
            "standoff": 15
           },
           "zerolinecolor": "white",
           "zerolinewidth": 2
          }
         }
        },
        "title": {
         "text": "Histogram of Loan Amount"
        },
        "xaxis": {
         "anchor": "y",
         "domain": [
          0,
          1
         ],
         "title": {
          "text": "Loan Amount"
         }
        },
        "yaxis": {
         "anchor": "x",
         "domain": [
          0,
          1
         ],
         "title": {
          "text": "count"
         }
        }
       }
      }
     },
     "metadata": {},
     "output_type": "display_data"
    }
   ],
   "source": [
    "\n",
    "fig=px.histogram(df,x='Loan Amount',title='Histogram of Loan Amount')\n",
    "fig.show()"
   ]
  },
  {
   "cell_type": "markdown",
   "metadata": {},
   "source": [
    "### Separate the categorical and numerical features"
   ]
  },
  {
   "cell_type": "markdown",
   "metadata": {},
   "source": [
    "### Bar plot of `City` on the base of `Loan Amount`"
   ]
  },
  {
   "cell_type": "code",
   "execution_count": 96,
   "metadata": {},
   "outputs": [
    {
     "data": {
      "application/vnd.plotly.v1+json": {
       "config": {
        "plotlyServerURL": "https://plot.ly"
       },
       "data": [
        {
         "alignmentgroup": "True",
         "hovertemplate": "City=%{x}<br>Average Loan Amount ($)=%{y}<extra></extra>",
         "legendgroup": "",
         "marker": {
          "color": "#636efa",
          "pattern": {
           "shape": ""
          }
         },
         "name": "",
         "offsetgroup": "",
         "orientation": "v",
         "showlegend": false,
         "textposition": "auto",
         "type": "bar",
         "x": [
          " Allentown ",
          " BROOKLYN",
          " Cliffside Park",
          " East Elmhurst  ",
          " East Northport",
          " Englewood",
          " Kearny",
          " Oakhurst",
          "83-11 251st Street",
          "99th Street",
          "ALBANY",
          "ALBERTSON",
          "ASTORIA",
          "Absecon",
          "Allendale",
          "Allentown",
          "Amherst",
          "Asbury Park",
          "Asoria",
          "Astoira",
          "Astoria",
          "Astoria ",
          "Astroia",
          "BABYLON",
          "BAYONNE",
          "BAYONNE ",
          "BAYSIDE",
          "BELLEROSE",
          "BELLEVILLE",
          "BELLEVILLE ",
          "BERGENFIELD",
          "BERGENFIELD ",
          "BETHPAGE",
          "BLACKWOOD ",
          "BLOOMFIELD",
          "BLOOMFIELD ",
          "BRANDON",
          "BRENTWOOD",
          "BRONX",
          "BROOKLYN",
          "BROOKLYN ",
          "BROWNS MILLS ",
          "Baldwin",
          "Bayonne",
          "Bayside",
          "Bayside ",
          "Bellerose",
          "Bellerose, NY, ",
          "Belleville",
          "Belmont",
          "Bergenfield",
          "Bergenfield ",
          "Bergernfield",
          "Bethlehem Twp",
          "Bethpage",
          "Bloomfield",
          "Bloomfield ",
          "Bogota",
          "Boonton",
          "Brentwood",
          "Brentwood ",
          "Brewster",
          "Briarwood",
          "Bridgeport",
          "Bronx",
          "Bronx ",
          "Brooklyn",
          "Brooklyn ",
          "Buffalo",
          "CARTERET",
          "CENTERAL ISLIP",
          "CENTRAL ISLIP",
          "CHESTNUT RIDGE ",
          "CLIFFSIDE PARK",
          "CLIFTON",
          "CLIFTON ",
          "COLD SPRING",
          "COLLEGE POINT",
          "COLTS NECK ",
          "CORAL SPRINGS",
          "CORONA",
          "CPRONA",
          "Califon",
          "Cape Coral",
          "Carlstadt",
          "Cedar Grove",
          "Central Islip",
          "Cliffside Park",
          "Clifton",
          "Closter",
          "College Point",
          "Colts Neck",
          "Congers",
          "Copaigue",
          "Copiague",
          "Coram",
          "Corona",
          "Corona ",
          "Cortland Manor",
          "Cortlandt Manor",
          "Coster",
          "Cresskill",
          "DEER PARK",
          "DIX HILLS",
          "DUMONT",
          "Deamrest",
          "Deer Park",
          "Deltona",
          "Demarest",
          "Dix Hills",
          "Douglas Manor",
          "Drexel Hill",
          "Dumont",
          "E.Rutherford",
          "EAST BRUNSWICK",
          "EAST ELMHURST",
          "EAST ELMHURST ",
          "EAST ELMHUST",
          "EAST MEADOW",
          "EASTCHESTER",
          "EATONTOWN",
          "EDISON",
          "ELMHURST",
          "ELMWOOD PARK ",
          "East Brunswick",
          "East Brunswick ",
          "East Elmhurst",
          "East Elmhurst ",
          "East Meadow",
          "East Orange",
          "East Rockaway",
          "Eastchester",
          "Eatontown",
          "Ebglewood",
          "Edgewater",
          "Edison",
          "Egg Harbor Township",
          "Egg Harbor Township,",
          "Elizabeth",
          "Elizabeth ",
          "Elmhrust",
          "Elmhurst",
          "Elmhurst ",
          "Elmont",
          "Elmont ",
          "Elmsford",
          "Elmwood Park",
          "Emerson",
          "Englewood",
          "Englewood Cliffs",
          "Englewood Cliffs ",
          "Englewood cliffs",
          "FAIRLAWN ",
          "FARMINGDALE",
          "FLORAL PARK",
          "FLUSHING",
          "FLUSHING ",
          "FLUSHNG",
          "FOREST HILLS",
          "FORKED RIVER ",
          "FORT LEE",
          "FRANKLIN SQUARE",
          "FREEPORT",
          "FRESH MEADOWS",
          "Fair Lawn",
          "Fair Lawn ",
          "Fairlawn",
          "Fairview",
          "Fanwood",
          "Farmingdale",
          "Farview",
          "Floral Park",
          "Flushing",
          "For Lee",
          "Fords",
          "Forest Hills",
          "Fort Lauderdale",
          "Fort Lee",
          "Fort lee",
          "Franklin Lakes",
          "Franklin Square",
          "Franklin square ",
          "Franklin twp",
          "Franklyn Square ",
          "Freehold ",
          "Freeport",
          "Fresh Meadows",
          "GLEN HEAD",
          "GLENDALE",
          "GREAT NECK",
          "GUILFORD",
          "Garden City",
          "Garfield",
          "Glen Cove",
          "Glen Head",
          "Glen Oaks",
          "Glen Rock",
          "Glen oaks",
          "Glendale",
          "Glendlae",
          "Glenhead",
          "Great Neck",
          "Greenport",
          "HACKENSACK",
          "HACKENSACK ",
          "HAMILTON BEACH",
          "HARRISON",
          "HASBROUCK HEIGHTS",
          "HAUPPAUGE",
          "HICKSVILLE",
          "HICKSVILLE ",
          "HILLSIDE",
          "HOLLISWOOD",
          "HOWELL",
          "HUNTINGTON STATION",
          "Hackensack",
          "Haledon",
          "Hampton",
          "Hampton Bays",
          "Hampton Road",
          "Harriman",
          "Harriman ",
          "Harrington Park",
          "Harrison",
          "Hasbrouck Heights",
          "Haverstraw",
          "Haworth",
          "Heapstead",
          "Hempstead",
          "Hewlett",
          "Hewlett ",
          "Hicksville",
          "Hicksville ",
          "High Bridge",
          "Highland Beach",
          "Hightstown ",
          "Hillside",
          "Hoboken",
          "Holbrook",
          "Hollis",
          "Hollis ",
          "Holmdel",
          "Hopewell Junction",
          "Howard Beach",
          "Hunter",
          "Huntington",
          "Huntington Station",
          "INWOOD",
          "ISELIN",
          "Inwood",
          "Iselin",
          "Island Park",
          "Island Park ",
          "Islip Terrace",
          "JACKSON HEIGHTS",
          "JAMACA",
          "JAMAICA",
          "JAMAICA ",
          "JAMAICA ESTATE",
          "JAMIACA",
          "JEFFERSON ",
          "JERICHO",
          "JERSERY CITY ",
          "JERSEY CITY",
          "JERSEY CITY ",
          "Jackson Heights",
          "Jackson Heights ",
          "Jacksonville",
          "Jamaica",
          "Jamaica ",
          "Jamaica Est",
          "Jamaica Estates",
          "Jamaica, NY 11434",
          "Jamaican",
          "Jamiaca",
          "Jefferson Valley",
          "Jericho",
          "Jersey City",
          "Jersey City ",
          "KEARNY ",
          "KINGSTON",
          "KINGSTON ",
          "Katonah",
          "Kearny",
          "Kew Gardens",
          "Kingston",
          "Kinnelon",
          "LEONIA",
          "LEVITTOWN",
          "LITTLE FERRY ",
          "LITTLE NECK",
          "LODI",
          "LODI ",
          "LONG BRANCH ",
          "Lake Hiawatha",
          "Lake Ronkonkoma",
          "Lancaster",
          "Lanoka Harbor",
          "Latham",
          "Laurel Hollow",
          "Laurelton",
          "Laurelton ",
          "Lawrence",
          "Leonia",
          "Levittown",
          "Levittown ",
          "Lindenhurst",
          "Little Ferry",
          "Little Neck",
          "Livingston",
          "Lodi",
          "Long Branch",
          "Long Branch ",
          "Long Island City",
          "Long Island City ",
          "Long island City",
          "Lynbrook",
          "Lyndhurst",
          "MALVERNE",
          "MANHASSET HILLS",
          "MASPETH",
          "MASPETH ",
          "MASSAPEQUA",
          "MASTIC",
          "MELVILLE",
          "MIDDLE VILLAGE",
          "MIDDLETOWN",
          "MILTOWN",
          "MINEOLA",
          "MOHEGAN LAKE",
          "Mahopac",
          "Manalapan",
          "Manhasset",
          "Manhattan",
          "Maspeth",
          "Maspeth ",
          "Mastic Beach",
          "Mattituck",
          "Mays Landing ",
          "Maywood",
          "Medford",
          "Merrick",
          "Metuchen",
          "Miami",
          "Middle Village",
          "Middle Village ",
          "Middletown",
          "Mine Hill",
          "Mineola ",
          "Miramar",
          "Mohegan Lake",
          "Monroe",
          "Monroe Township",
          "Montville",
          "Morris Plains",
          "Morristown",
          "Mount Vernon",
          "Mount Vernon ",
          "N Bellmore",
          "N New Hyde Pk",
          "N Valley Stream",
          "N.Y",
          "N.Y ",
          "NEPTUNE TOWNSHIP ",
          "NEW HYDE PARK",
          "NEW MILFORD",
          "NEW YORK",
          "NEWARK",
          "NEWARK ",
          "NORTH BELLMORE",
          "NORTHAMPTON PA",
          "NUTLEY ",
          "Nanuet",
          "New City",
          "New Haven",
          "New Hyde Park",
          "New Milford",
          "New Rochelle",
          "New York",
          "New York ",
          "New York,",
          "Newark",
          "Newark ",
          "Newburgh",
          "Newburngh",
          "North Arlington",
          "North Arlington ",
          "North Babylon",
          "North Bellmore",
          "North Bergen",
          "North Bergen ",
          "North Brunswick",
          "North Salem",
          "North Woodmere",
          "Northvale",
          "Northvale ",
          "Norwalk",
          "Norwood",
          "Norwwod",
          "Nutley",
          "OAKHURST",
          "OCEAN",
          "OCEAN ",
          "OCEANSIDE",
          "OZONE PARK",
          "OZONE PARK ",
          "OZONEPARK",
          "Oakhurst",
          "Oakland",
          "Oakland Gardens",
          "Oceanside",
          "Old Bridge",
          "Old Tappan",
          "Oradell",
          "Orangeburg",
          "Orient Point",
          "Orlando",
          "Otisville",
          "Ozone  Park",
          "Ozone Park",
          "Ozone Park ",
          "PALISADES PARK",
          "PALISADES PARK,",
          "PALMETTO BAY",
          "PHILADELPHIA",
          "PLAINVIEW",
          "PORT READING ",
          "PORT WASHINGTON",
          "PRINCETON JUNCTION",
          "Palidases Park",
          "Palisades",
          "Palisades Paek, ",
          "Palisades Park",
          "Palisades Park, ",
          "Palisades Park, NJ",
          "Palisades Parkq",
          "Palisades park",
          "Palisads Park",
          "Paramus",
          "Park Ridge",
          "Passaic",
          "Passaic, New Jersey",
          "Patchogue",
          "Paterson",
          "Pemberton",
          "Pine Bush",
          "Plainfield",
          "Plainfield ",
          "Plainview",
          "Prospect Park",
          "Putnam Valley",
          "QUEENS",
          "QUEENS VILLAGE",
          "Queens",
          "Queens Village",
          "Queens village ",
          "Quogue",
          "RICHMOND HILL",
          "RICHMOND HILL ",
          "RICHMOND HILL NORTH",
          "RIDGEFIELD",
          "RIDGEWOOD",
          "ROCK HILL",
          "ROSEDALE",
          "ROSLYN HEIGHTS",
          "ROSLYN HEIGHTS ",
          "Ramsey",
          "Reading",
          "Rego Park",
          "Rego Park ",
          "Richmond Hill",
          "Richmond Hills ",
          "Ridgefield",
          "Ridgefield Park",
          "Ridgewood",
          "River Edge",
          "River Vale",
          "Riverdale",
          "Rivervale",
          "Rochelle Park",
          "Rosedale",
          "Rosedale ",
          "Roselle",
          "Roslyn Heights",
          "Rutherford",
          "S RICHMOND HILL ",
          "S Richmond Hill",
          "S.OZONE PARK ",
          "S.RICHMOND HILLS",
          "S.ozone park",
          "SAUGERTIES",
          "SCARSDALE",
          "SECAUCUS",
          "SECAUCUS ",
          "SOMERSET",
          "SOMERSET ",
          "SOMERVILLE",
          "SOUTH OZONE PARK",
          "SOUTH RICHMOND HILL",
          "SOUTH RICHMOND HILL ",
          "SOUTH SETAUKET",
          "SPRING LAKE ",
          "STAMFORD ",
          "STATEN ISLAND",
          "STATEN ISLAND ",
          "STRATFORD",
          "SUNNYSIDE",
          "SYOSSET",
          "Saint Albans",
          "Sanford",
          "Scarsdale",
          "Seaford",
          "Seaside Park",
          "Selden",
          "Shirley",
          "Somerset",
          "Somerville",
          "South Orange",
          "South Ozone Park",
          "South Ozone Park ",
          "South Richmond",
          "South Richmond Hill",
          "Southold",
          "Sparta",
          "SpringField Garden",
          "Springfield Garden",
          "Springfield Gardens",
          "St Albans",
          "St albans",
          "St. Albans",
          "St. James",
          "Stamford ",
          "Staten Island",
          "Staten Island ",
          "Staten island",
          "Stewartsville",
          "Stockholm",
          "Stony Point",
          "Stratford",
          "Suffern",
          "Sunnyside",
          "Syosset",
          "TEANECK",
          "TEANECK ",
          "Tappan ",
          "Teaneck",
          "Teaneck ",
          "Tenafly",
          "Toms River",
          "Totowa",
          "Totowa ",
          "Tuckahoe",
          "UPPER DARBY",
          "Union",
          "Union City",
          "Union Twp",
          "Union city",
          "Uniondale",
          "Upper Derby ",
          "Upper Saddle River",
          "Upper Saddle River ",
          "VALLEY",
          "VALLEY STREAM",
          "VALLEY STREAM ",
          "Valley Cottage",
          "Valley Stream",
          "Valley Stream ",
          "Vernon",
          "W Islip",
          "WEHAWKEN",
          "WEST BRANCH",
          "WEST HEMPSTEAD ",
          "WEST LONG BRANCH",
          "WEST MILFORD",
          "WEST NEW YORK ",
          "WEST ORANGE",
          "WESTBURY",
          "WESTFIELD",
          "WHITESTONE",
          "WILLISTON PARK",
          "WINTER HAVEN ",
          "WOODBURY",
          "WOODHAVEN",
          "WOODSIDE",
          "Waldwick",
          "Wallington",
          "Wanaque",
          "Wantagh",
          "Warren",
          "Wayne",
          "Weehawken",
          "Wellington",
          "West Haverstraw",
          "West Hempstead",
          "West Islip",
          "West Long Branch",
          "West Milford",
          "West New  York",
          "West New York",
          "West Orange",
          "Westbury",
          "Westwood",
          "Wheatley Heights",
          "White stone",
          "Whitestone",
          "Whitestone ",
          "Williamstown",
          "Williamsville",
          "Williston Park",
          "Wilton",
          "Winter Garden",
          "Wood Ridge",
          "Woodbury",
          "Woodhaven",
          "Woodland Park",
          "Woodside",
          "Woodside ",
          "YONKERS",
          "Yaphank",
          "Yonkers",
          "York",
          "Yorktown Hts",
          "allenhurst",
          "anthill",
          "astoria",
          "bayside",
          "briawood",
          "bronx",
          "brooklyn",
          "brooklyn ",
          "carteret",
          "cedarhurst",
          "cedarhurst ",
          "center moriches",
          "college point",
          "deer park ",
          "east Brunswick ",
          "eatontown",
          "elmhurst",
          "elmont",
          "englewood Cliffs",
          "flushing",
          "hallandale",
          "hamilton township",
          "jersey city",
          "lake placid",
          "lansdale",
          "manhassett Hill",
          "miami ",
          "mineola ",
          "n new hyde park ",
          "neptune",
          "newark",
          "oakhurst",
          "oakhurst ",
          "ocean",
          "old bridge",
          "ozone park",
          "rockville centre ",
          "smithtown",
          "south Floral Park ",
          "south ozone park",
          "staten island",
          "staten island ",
          "toms River ",
          "totowa",
          "upper Darbby",
          "upper Deaby",
          "valley Stream",
          "valley stream",
          "west long branch",
          "west long branch ",
          "whitestone",
          "williston park",
          "woodside",
          "woodside ",
          "wook ridge"
         ],
         "xaxis": "x",
         "y": [
          237405,
          450000,
          536000,
          331000,
          320000,
          186558.63,
          289987.5,
          252000,
          277000,
          541800,
          114750,
          311750,
          809519.375,
          119250.24,
          460000,
          118623.76999999999,
          202500,
          368000,
          640000,
          499950,
          620803.7777922078,
          629440,
          520000,
          220000,
          196000,
          421956.78,
          465777.77777777775,
          341690,
          186240.03,
          160000,
          274325.07,
          302263.8516666666,
          390000,
          181725.5,
          289500,
          225000,
          132000,
          120000,
          645214.2857142857,
          640619.525321101,
          717820.48,
          235653,
          393050.3333333333,
          231687.5,
          494666.6666666667,
          282600,
          410250,
          409000,
          202165.4875,
          255290.75,
          322050.2572,
          218507.5,
          240000,
          330000,
          379209.23,
          220000,
          255290,
          263637.5,
          399950,
          256000,
          274928.5,
          621183.75,
          383186.5,
          300366,
          456597.40785714285,
          258800,
          639085.8625730994,
          500975.26444444444,
          40500,
          200800,
          195000,
          220000,
          389700,
          282500,
          308000,
          298000,
          396000,
          448842.1052631579,
          668000,
          135920,
          525446.1538461539,
          320000,
          295000,
          360000,
          486000,
          417000,
          97500,
          303833.3333333333,
          338739.5,
          541363.6363636364,
          431400,
          679650,
          300000,
          450000,
          679650,
          277285.815,
          482395.8333333333,
          635937,
          173700,
          351356.995,
          450000,
          646571.4285714285,
          174533.33333333334,
          824998,
          325195.375,
          570000,
          333217,
          231000,
          458780,
          400427.5,
          625000,
          128000,
          357932.14285714284,
          164000,
          280615.94666666666,
          401475,
          999000,
          135000,
          379520,
          483000,
          442500,
          233600,
          451972.22222222225,
          387354.615,
          303615.6,
          375250,
          542876.074117647,
          200000,
          287000,
          185439,
          415648.75,
          400475,
          557408.75,
          310000,
          393586.36363636365,
          379250,
          370000,
          268875,
          220400,
          280000,
          630000,
          407500,
          147000,
          298233.3333333333,
          217333.33333333334,
          306776.25,
          315250,
          315425,
          268150.5076470588,
          1988333.3333333333,
          989500,
          1016000,
          386611.845,
          230000,
          303333.3333333333,
          471778.46153846156,
          300000,
          340000,
          591500,
          170000,
          351333.3333333333,
          355850,
          380000,
          440857.14285714284,
          356285.4166666667,
          269500,
          299475.69,
          326200,
          317500,
          120000,
          300000,
          492175,
          377952.7272727273,
          352500,
          231506.785,
          429666.6666666667,
          393750,
          360888.8888888889,
          256800,
          842500,
          403750,
          301000,
          176750,
          290000,
          596000,
          344049.6,
          379257.14285714284,
          295000,
          543000,
          581250,
          355000,
          1305000,
          295300,
          241900,
          394400,
          409000,
          414462.5,
          380000,
          595250,
          524000,
          559000,
          930000,
          328000,
          172500,
          220668.97,
          442500,
          367500,
          325000,
          290000,
          350289.6875,
          372150.63,
          120000,
          533000,
          270750,
          263658.75,
          227972.83142857143,
          157400,
          347985,
          434889,
          595237.5,
          323000,
          228690,
          609750,
          165000,
          332000,
          144000,
          417000,
          480000,
          186495.625,
          298500,
          524300,
          415076.32692307694,
          206000,
          130036.5,
          188825,
          153000,
          180000,
          254000,
          533182.72,
          347866.24333333335,
          135000,
          305250,
          330000,
          246396.91666666666,
          137464.25,
          335000,
          282000,
          308750,
          252000,
          335927,
          196750,
          253435,
          546641.7,
          228000,
          423900,
          472500,
          509931.47,
          537280.4166666666,
          583200,
          545445,
          143200,
          413500,
          172500,
          481433.3333333333,
          271371.4285714286,
          313680,
          163066.66666666666,
          376000,
          426632.931125,
          422446.9285714286,
          159850,
          450500,
          304000,
          364500,
          318250,
          552000,
          417000,
          216948,
          180000,
          216000,
          135000,
          153665.39,
          590750,
          225000,
          586104.1666666666,
          154900,
          255200,
          200000,
          281812.5,
          252937.5,
          450250,
          284747.38,
          235653,
          482046.6666666667,
          105000,
          206000,
          135000,
          370400,
          203296,
          1500000,
          376500,
          250000,
          485000,
          291894.7368421053,
          351661.8888888889,
          376062,
          343661,
          327000,
          400000,
          620000,
          210416.66666666666,
          219250,
          445000,
          461537.345,
          397000,
          746250,
          239316,
          468000,
          227500,
          498000,
          465925,
          250000,
          300000,
          225000,
          315000,
          479400,
          275400,
          279000,
          301666.6666666667,
          243000,
          385000,
          502750,
          625000,
          436000,
          461714.28571428574,
          612415.724,
          164326.25,
          336666.6666666667,
          450000,
          339350.47,
          1013031.455,
          200000,
          270000,
          88000,
          444587.61,
          589132.5,
          343816.6666666667,
          206196,
          420000,
          306000,
          434981.25,
          370000,
          556000,
          410000,
          270000,
          400000,
          369807.60833333334,
          52000,
          285000,
          417000,
          371625,
          455000,
          390000,
          156000,
          398000,
          235042.5,
          574500,
          189083.33333333334,
          286711.15,
          384000,
          119920,
          324900,
          284000,
          320500,
          281250,
          461019.46428571426,
          341434.93799999997,
          414400,
          495912.84210526315,
          567666.6666666666,
          355250,
          260000,
          221000,
          155105.83333333334,
          82023.75,
          196842.66666666666,
          466396.56,
          363750,
          408000,
          390683.3333333333,
          435000,
          417500,
          380000,
          543000,
          396745,
          289733,
          256500,
          411600,
          618500,
          485000,
          337500,
          309750,
          173600,
          360000,
          442573.07692307694,
          395000,
          259868,
          361500,
          310000,
          544700,
          325000,
          305913.75,
          347857.14285714284,
          347000,
          512000,
          175000,
          417000,
          292500,
          566586.5,
          444894.07772727276,
          442845.95999999996,
          363100,
          430000,
          540000,
          299000,
          635936.48,
          249600,
          440800,
          280000,
          168000,
          392000,
          412000,
          408045.1838235294,
          322875,
          417000,
          216000,
          430400,
          412000,
          379929.1666666667,
          457851,
          184080,
          187500,
          280321,
          169413.75,
          240000,
          152930.25,
          170150,
          194500,
          433416.6666666667,
          281246,
          360000,
          256000,
          451705.875,
          435916.6666666667,
          416142.29631578946,
          396000,
          1100000,
          513582.6725,
          277500,
          400000,
          386700,
          532333.3333333334,
          89250,
          892000,
          676000,
          417600,
          566900,
          223250,
          460156.6666666667,
          280000,
          453247.4708,
          584250,
          396770,
          233333.33333333334,
          481685.71428571426,
          270600,
          392150,
          244000,
          250000,
          215950,
          273250,
          132000,
          131633.75,
          455432.3333333333,
          279000,
          612535,
          435000,
          325000,
          796000,
          560000,
          160000,
          870400,
          286875,
          288000,
          166768.25,
          171000,
          212657.5,
          457300,
          318620.3125,
          407000,
          377000,
          610000,
          766400,
          376196.3706666667,
          514000,
          281000,
          476000,
          384600,
          625500,
          147920,
          675000,
          343600,
          365000,
          300139.99,
          144000,
          220500,
          185500,
          205000,
          416966.825,
          625000,
          840000,
          418416.4166666667,
          260000,
          400000,
          280000.6,
          452200,
          331364.375,
          458361.5,
          654500,
          452311.6575,
          450000,
          517266,
          355809.8013513514,
          499570.315,
          310000,
          370878.75,
          184000,
          373100,
          272000,
          120000,
          461000,
          395000,
          249375,
          266967.8383333333,
          381990,
          282025.6830769231,
          225834,
          339500,
          358000,
          471306,
          389500,
          525000,
          61125,
          251677.83333333334,
          600000,
          104800,
          315000,
          222735.94,
          110000,
          385000,
          840000,
          344000,
          471229.69,
          365000,
          268554,
          389214.5541666667,
          311000,
          243000,
          750000,
          800000,
          437270,
          479200,
          256666.66666666666,
          152000,
          116000,
          346000,
          358835.9166666667,
          469000,
          547500.3571428572,
          455000,
          115110,
          625000,
          373333.3333333333,
          628270,
          372000,
          403750,
          213040.66666666666,
          430500,
          200000,
          324000,
          635000,
          225000,
          134100,
          218625,
          261250,
          625500,
          243434,
          200000,
          333775,
          297257.54333333333,
          289313.6614285714,
          318000,
          200000,
          1250000,
          413850,
          150000,
          320100,
          400000,
          200000,
          50000,
          396000,
          349189.45666666667,
          635000,
          434093.237,
          150000,
          466036.45650000003,
          200000,
          302706,
          247000,
          315616.6666666667,
          96425,
          355120,
          636150,
          520000,
          500860,
          911000,
          330000,
          140000,
          596980.7233333334,
          603375,
          181000,
          480000,
          299000,
          260000,
          460000,
          200000,
          386648.98,
          555000,
          336600,
          400000,
          1673000,
          630000,
          165000,
          148500,
          240000,
          500000,
          124000,
          595000,
          342000,
          399200,
          424297,
          200000,
          216000,
          337097,
          645000,
          382707.19,
          248900,
          575814.75,
          840000,
          345600,
          275000,
          490000,
          1025000,
          275726.94,
          373117,
          367500,
          118400,
          84800,
          303200,
          302000,
          322333.3333333333,
          417000,
          625000,
          600000,
          487500,
          180000,
          320000
         ],
         "yaxis": "y"
        }
       ],
       "layout": {
        "barmode": "relative",
        "height": 600,
        "legend": {
         "tracegroupgap": 0
        },
        "showlegend": false,
        "template": {
         "data": {
          "bar": [
           {
            "error_x": {
             "color": "#2a3f5f"
            },
            "error_y": {
             "color": "#2a3f5f"
            },
            "marker": {
             "line": {
              "color": "#E5ECF6",
              "width": 0.5
             },
             "pattern": {
              "fillmode": "overlay",
              "size": 10,
              "solidity": 0.2
             }
            },
            "type": "bar"
           }
          ],
          "barpolar": [
           {
            "marker": {
             "line": {
              "color": "#E5ECF6",
              "width": 0.5
             },
             "pattern": {
              "fillmode": "overlay",
              "size": 10,
              "solidity": 0.2
             }
            },
            "type": "barpolar"
           }
          ],
          "carpet": [
           {
            "aaxis": {
             "endlinecolor": "#2a3f5f",
             "gridcolor": "white",
             "linecolor": "white",
             "minorgridcolor": "white",
             "startlinecolor": "#2a3f5f"
            },
            "baxis": {
             "endlinecolor": "#2a3f5f",
             "gridcolor": "white",
             "linecolor": "white",
             "minorgridcolor": "white",
             "startlinecolor": "#2a3f5f"
            },
            "type": "carpet"
           }
          ],
          "choropleth": [
           {
            "colorbar": {
             "outlinewidth": 0,
             "ticks": ""
            },
            "type": "choropleth"
           }
          ],
          "contour": [
           {
            "colorbar": {
             "outlinewidth": 0,
             "ticks": ""
            },
            "colorscale": [
             [
              0,
              "#0d0887"
             ],
             [
              0.1111111111111111,
              "#46039f"
             ],
             [
              0.2222222222222222,
              "#7201a8"
             ],
             [
              0.3333333333333333,
              "#9c179e"
             ],
             [
              0.4444444444444444,
              "#bd3786"
             ],
             [
              0.5555555555555556,
              "#d8576b"
             ],
             [
              0.6666666666666666,
              "#ed7953"
             ],
             [
              0.7777777777777778,
              "#fb9f3a"
             ],
             [
              0.8888888888888888,
              "#fdca26"
             ],
             [
              1,
              "#f0f921"
             ]
            ],
            "type": "contour"
           }
          ],
          "contourcarpet": [
           {
            "colorbar": {
             "outlinewidth": 0,
             "ticks": ""
            },
            "type": "contourcarpet"
           }
          ],
          "heatmap": [
           {
            "colorbar": {
             "outlinewidth": 0,
             "ticks": ""
            },
            "colorscale": [
             [
              0,
              "#0d0887"
             ],
             [
              0.1111111111111111,
              "#46039f"
             ],
             [
              0.2222222222222222,
              "#7201a8"
             ],
             [
              0.3333333333333333,
              "#9c179e"
             ],
             [
              0.4444444444444444,
              "#bd3786"
             ],
             [
              0.5555555555555556,
              "#d8576b"
             ],
             [
              0.6666666666666666,
              "#ed7953"
             ],
             [
              0.7777777777777778,
              "#fb9f3a"
             ],
             [
              0.8888888888888888,
              "#fdca26"
             ],
             [
              1,
              "#f0f921"
             ]
            ],
            "type": "heatmap"
           }
          ],
          "heatmapgl": [
           {
            "colorbar": {
             "outlinewidth": 0,
             "ticks": ""
            },
            "colorscale": [
             [
              0,
              "#0d0887"
             ],
             [
              0.1111111111111111,
              "#46039f"
             ],
             [
              0.2222222222222222,
              "#7201a8"
             ],
             [
              0.3333333333333333,
              "#9c179e"
             ],
             [
              0.4444444444444444,
              "#bd3786"
             ],
             [
              0.5555555555555556,
              "#d8576b"
             ],
             [
              0.6666666666666666,
              "#ed7953"
             ],
             [
              0.7777777777777778,
              "#fb9f3a"
             ],
             [
              0.8888888888888888,
              "#fdca26"
             ],
             [
              1,
              "#f0f921"
             ]
            ],
            "type": "heatmapgl"
           }
          ],
          "histogram": [
           {
            "marker": {
             "pattern": {
              "fillmode": "overlay",
              "size": 10,
              "solidity": 0.2
             }
            },
            "type": "histogram"
           }
          ],
          "histogram2d": [
           {
            "colorbar": {
             "outlinewidth": 0,
             "ticks": ""
            },
            "colorscale": [
             [
              0,
              "#0d0887"
             ],
             [
              0.1111111111111111,
              "#46039f"
             ],
             [
              0.2222222222222222,
              "#7201a8"
             ],
             [
              0.3333333333333333,
              "#9c179e"
             ],
             [
              0.4444444444444444,
              "#bd3786"
             ],
             [
              0.5555555555555556,
              "#d8576b"
             ],
             [
              0.6666666666666666,
              "#ed7953"
             ],
             [
              0.7777777777777778,
              "#fb9f3a"
             ],
             [
              0.8888888888888888,
              "#fdca26"
             ],
             [
              1,
              "#f0f921"
             ]
            ],
            "type": "histogram2d"
           }
          ],
          "histogram2dcontour": [
           {
            "colorbar": {
             "outlinewidth": 0,
             "ticks": ""
            },
            "colorscale": [
             [
              0,
              "#0d0887"
             ],
             [
              0.1111111111111111,
              "#46039f"
             ],
             [
              0.2222222222222222,
              "#7201a8"
             ],
             [
              0.3333333333333333,
              "#9c179e"
             ],
             [
              0.4444444444444444,
              "#bd3786"
             ],
             [
              0.5555555555555556,
              "#d8576b"
             ],
             [
              0.6666666666666666,
              "#ed7953"
             ],
             [
              0.7777777777777778,
              "#fb9f3a"
             ],
             [
              0.8888888888888888,
              "#fdca26"
             ],
             [
              1,
              "#f0f921"
             ]
            ],
            "type": "histogram2dcontour"
           }
          ],
          "mesh3d": [
           {
            "colorbar": {
             "outlinewidth": 0,
             "ticks": ""
            },
            "type": "mesh3d"
           }
          ],
          "parcoords": [
           {
            "line": {
             "colorbar": {
              "outlinewidth": 0,
              "ticks": ""
             }
            },
            "type": "parcoords"
           }
          ],
          "pie": [
           {
            "automargin": true,
            "type": "pie"
           }
          ],
          "scatter": [
           {
            "fillpattern": {
             "fillmode": "overlay",
             "size": 10,
             "solidity": 0.2
            },
            "type": "scatter"
           }
          ],
          "scatter3d": [
           {
            "line": {
             "colorbar": {
              "outlinewidth": 0,
              "ticks": ""
             }
            },
            "marker": {
             "colorbar": {
              "outlinewidth": 0,
              "ticks": ""
             }
            },
            "type": "scatter3d"
           }
          ],
          "scattercarpet": [
           {
            "marker": {
             "colorbar": {
              "outlinewidth": 0,
              "ticks": ""
             }
            },
            "type": "scattercarpet"
           }
          ],
          "scattergeo": [
           {
            "marker": {
             "colorbar": {
              "outlinewidth": 0,
              "ticks": ""
             }
            },
            "type": "scattergeo"
           }
          ],
          "scattergl": [
           {
            "marker": {
             "colorbar": {
              "outlinewidth": 0,
              "ticks": ""
             }
            },
            "type": "scattergl"
           }
          ],
          "scattermapbox": [
           {
            "marker": {
             "colorbar": {
              "outlinewidth": 0,
              "ticks": ""
             }
            },
            "type": "scattermapbox"
           }
          ],
          "scatterpolar": [
           {
            "marker": {
             "colorbar": {
              "outlinewidth": 0,
              "ticks": ""
             }
            },
            "type": "scatterpolar"
           }
          ],
          "scatterpolargl": [
           {
            "marker": {
             "colorbar": {
              "outlinewidth": 0,
              "ticks": ""
             }
            },
            "type": "scatterpolargl"
           }
          ],
          "scatterternary": [
           {
            "marker": {
             "colorbar": {
              "outlinewidth": 0,
              "ticks": ""
             }
            },
            "type": "scatterternary"
           }
          ],
          "surface": [
           {
            "colorbar": {
             "outlinewidth": 0,
             "ticks": ""
            },
            "colorscale": [
             [
              0,
              "#0d0887"
             ],
             [
              0.1111111111111111,
              "#46039f"
             ],
             [
              0.2222222222222222,
              "#7201a8"
             ],
             [
              0.3333333333333333,
              "#9c179e"
             ],
             [
              0.4444444444444444,
              "#bd3786"
             ],
             [
              0.5555555555555556,
              "#d8576b"
             ],
             [
              0.6666666666666666,
              "#ed7953"
             ],
             [
              0.7777777777777778,
              "#fb9f3a"
             ],
             [
              0.8888888888888888,
              "#fdca26"
             ],
             [
              1,
              "#f0f921"
             ]
            ],
            "type": "surface"
           }
          ],
          "table": [
           {
            "cells": {
             "fill": {
              "color": "#EBF0F8"
             },
             "line": {
              "color": "white"
             }
            },
            "header": {
             "fill": {
              "color": "#C8D4E3"
             },
             "line": {
              "color": "white"
             }
            },
            "type": "table"
           }
          ]
         },
         "layout": {
          "annotationdefaults": {
           "arrowcolor": "#2a3f5f",
           "arrowhead": 0,
           "arrowwidth": 1
          },
          "autotypenumbers": "strict",
          "coloraxis": {
           "colorbar": {
            "outlinewidth": 0,
            "ticks": ""
           }
          },
          "colorscale": {
           "diverging": [
            [
             0,
             "#8e0152"
            ],
            [
             0.1,
             "#c51b7d"
            ],
            [
             0.2,
             "#de77ae"
            ],
            [
             0.3,
             "#f1b6da"
            ],
            [
             0.4,
             "#fde0ef"
            ],
            [
             0.5,
             "#f7f7f7"
            ],
            [
             0.6,
             "#e6f5d0"
            ],
            [
             0.7,
             "#b8e186"
            ],
            [
             0.8,
             "#7fbc41"
            ],
            [
             0.9,
             "#4d9221"
            ],
            [
             1,
             "#276419"
            ]
           ],
           "sequential": [
            [
             0,
             "#0d0887"
            ],
            [
             0.1111111111111111,
             "#46039f"
            ],
            [
             0.2222222222222222,
             "#7201a8"
            ],
            [
             0.3333333333333333,
             "#9c179e"
            ],
            [
             0.4444444444444444,
             "#bd3786"
            ],
            [
             0.5555555555555556,
             "#d8576b"
            ],
            [
             0.6666666666666666,
             "#ed7953"
            ],
            [
             0.7777777777777778,
             "#fb9f3a"
            ],
            [
             0.8888888888888888,
             "#fdca26"
            ],
            [
             1,
             "#f0f921"
            ]
           ],
           "sequentialminus": [
            [
             0,
             "#0d0887"
            ],
            [
             0.1111111111111111,
             "#46039f"
            ],
            [
             0.2222222222222222,
             "#7201a8"
            ],
            [
             0.3333333333333333,
             "#9c179e"
            ],
            [
             0.4444444444444444,
             "#bd3786"
            ],
            [
             0.5555555555555556,
             "#d8576b"
            ],
            [
             0.6666666666666666,
             "#ed7953"
            ],
            [
             0.7777777777777778,
             "#fb9f3a"
            ],
            [
             0.8888888888888888,
             "#fdca26"
            ],
            [
             1,
             "#f0f921"
            ]
           ]
          },
          "colorway": [
           "#636efa",
           "#EF553B",
           "#00cc96",
           "#ab63fa",
           "#FFA15A",
           "#19d3f3",
           "#FF6692",
           "#B6E880",
           "#FF97FF",
           "#FECB52"
          ],
          "font": {
           "color": "#2a3f5f"
          },
          "geo": {
           "bgcolor": "white",
           "lakecolor": "white",
           "landcolor": "#E5ECF6",
           "showlakes": true,
           "showland": true,
           "subunitcolor": "white"
          },
          "hoverlabel": {
           "align": "left"
          },
          "hovermode": "closest",
          "mapbox": {
           "style": "light"
          },
          "paper_bgcolor": "white",
          "plot_bgcolor": "#E5ECF6",
          "polar": {
           "angularaxis": {
            "gridcolor": "white",
            "linecolor": "white",
            "ticks": ""
           },
           "bgcolor": "#E5ECF6",
           "radialaxis": {
            "gridcolor": "white",
            "linecolor": "white",
            "ticks": ""
           }
          },
          "scene": {
           "xaxis": {
            "backgroundcolor": "#E5ECF6",
            "gridcolor": "white",
            "gridwidth": 2,
            "linecolor": "white",
            "showbackground": true,
            "ticks": "",
            "zerolinecolor": "white"
           },
           "yaxis": {
            "backgroundcolor": "#E5ECF6",
            "gridcolor": "white",
            "gridwidth": 2,
            "linecolor": "white",
            "showbackground": true,
            "ticks": "",
            "zerolinecolor": "white"
           },
           "zaxis": {
            "backgroundcolor": "#E5ECF6",
            "gridcolor": "white",
            "gridwidth": 2,
            "linecolor": "white",
            "showbackground": true,
            "ticks": "",
            "zerolinecolor": "white"
           }
          },
          "shapedefaults": {
           "line": {
            "color": "#2a3f5f"
           }
          },
          "ternary": {
           "aaxis": {
            "gridcolor": "white",
            "linecolor": "white",
            "ticks": ""
           },
           "baxis": {
            "gridcolor": "white",
            "linecolor": "white",
            "ticks": ""
           },
           "bgcolor": "#E5ECF6",
           "caxis": {
            "gridcolor": "white",
            "linecolor": "white",
            "ticks": ""
           }
          },
          "title": {
           "x": 0.05
          },
          "xaxis": {
           "automargin": true,
           "gridcolor": "white",
           "linecolor": "white",
           "ticks": "",
           "title": {
            "standoff": 15
           },
           "zerolinecolor": "white",
           "zerolinewidth": 2
          },
          "yaxis": {
           "automargin": true,
           "gridcolor": "white",
           "linecolor": "white",
           "ticks": "",
           "title": {
            "standoff": 15
           },
           "zerolinecolor": "white",
           "zerolinewidth": 2
          }
         }
        },
        "title": {
         "text": "Average Loan Amounts by City"
        },
        "xaxis": {
         "anchor": "y",
         "domain": [
          0,
          1
         ],
         "showticklabels": true,
         "tickangle": -90,
         "title": {
          "text": "City"
         }
        },
        "yaxis": {
         "anchor": "x",
         "domain": [
          0,
          1
         ],
         "title": {
          "text": "Average Loan Amount ($)"
         }
        }
       }
      }
     },
     "metadata": {},
     "output_type": "display_data"
    }
   ],
   "source": [
    "# Aggregate data: compute the average loan amount per city\n",
    "agg_df = df.groupby('City', as_index=False)['Loan Amount'].mean()\n",
    "\n",
    "# Create a bar plot to show the average Loan Amount by City\n",
    "fig = px.bar(agg_df, x='City', y='Loan Amount',\n",
    "            title='Average Loan Amounts by City',\n",
    "            labels={'Loan Amount': 'Average Loan Amount ($)', 'City': 'City'})\n",
    "\n",
    "# Update layout to improve readability (optional)\n",
    "fig.update_layout(\n",
    "    xaxis=dict(\n",
    "        tickangle=-90,  # Rotate x-axis labels for better visibility\n",
    "        showticklabels=True\n",
    "    ),\n",
    "    height=600,  # Set the height of the plot\n",
    "    showlegend=False\n",
    ")\n",
    "fig.show()"
   ]
  },
  {
   "cell_type": "markdown",
   "metadata": {},
   "source": [
    "### Bar plot of `Created Date` on the base of `Loan Amount`"
   ]
  },
  {
   "cell_type": "code",
   "execution_count": 99,
   "metadata": {},
   "outputs": [
    {
     "data": {
      "application/vnd.plotly.v1+json": {
       "config": {
        "plotlyServerURL": "https://plot.ly"
       },
       "data": [
        {
         "alignmentgroup": "True",
         "hovertemplate": "Created Date=%{x}<br>Average Loan Amount ($)=%{y}<extra></extra>",
         "legendgroup": "",
         "marker": {
          "color": "#636efa",
          "pattern": {
           "shape": ""
          }
         },
         "name": "",
         "offsetgroup": "",
         "orientation": "v",
         "showlegend": false,
         "textposition": "auto",
         "type": "bar",
         "x": [
          "1/1/2018",
          "1/10/2018",
          "1/11/2016",
          "1/11/2017",
          "1/11/2018",
          "1/12/2015",
          "1/12/2016",
          "1/12/2017",
          "1/12/2018",
          "1/13/2015",
          "1/13/2016",
          "1/13/2017",
          "1/14/2015",
          "1/14/2016",
          "1/15/2015",
          "1/15/2016",
          "1/16/2015",
          "1/16/2017",
          "1/17/2017",
          "1/17/2018",
          "1/18/2016",
          "1/18/2017",
          "1/18/2018",
          "1/19/2016",
          "1/19/2017",
          "1/19/2018",
          "1/2/2015",
          "1/2/2016",
          "1/2/2017",
          "1/2/2018",
          "1/20/2015",
          "1/20/2017",
          "1/21/2015",
          "1/22/2015",
          "1/22/2016",
          "1/22/2018",
          "1/23/2017",
          "1/23/2018",
          "1/24/2017",
          "1/24/2018",
          "1/25/2015",
          "1/25/2016",
          "1/25/2017",
          "1/26/2015",
          "1/26/2016",
          "1/26/2017",
          "1/26/2018",
          "1/27/2017",
          "1/28/2015",
          "1/28/2016",
          "1/29/2015",
          "1/29/2018",
          "1/3/2015",
          "1/3/2017",
          "1/3/2018",
          "1/30/2015",
          "1/30/2017",
          "1/30/2018",
          "1/31/2017",
          "1/31/2018",
          "1/4/2016",
          "1/4/2017",
          "1/4/2018",
          "1/5/2016",
          "1/5/2017",
          "1/6/2015",
          "1/6/2016",
          "1/7/2015",
          "1/7/2016",
          "1/8/2015",
          "1/8/2018",
          "1/9/2015",
          "1/9/2017",
          "1/9/2018",
          "10/1/2018",
          "10/10/2017",
          "10/10/2018",
          "10/11/2016",
          "10/11/2017",
          "10/11/2018",
          "10/12/2015",
          "10/12/2016",
          "10/12/2017",
          "10/13/2015",
          "10/13/2016",
          "10/13/2017",
          "10/14/2014",
          "10/14/2015",
          "10/14/2016",
          "10/15/2014",
          "10/15/2015",
          "10/16/2014",
          "10/16/2015",
          "10/16/2016",
          "10/16/2017",
          "10/16/2018",
          "10/17/2014",
          "10/17/2015",
          "10/17/2016",
          "10/17/2017",
          "10/17/2018",
          "10/18/2016",
          "10/18/2017",
          "10/18/2018",
          "10/19/2015",
          "10/19/2016",
          "10/19/2017",
          "10/19/2018",
          "10/2/2015",
          "10/2/2017",
          "10/2/2018",
          "10/20/2014",
          "10/20/2015",
          "10/20/2016",
          "10/20/2017",
          "10/21/2014",
          "10/21/2015",
          "10/21/2016",
          "10/22/2014",
          "10/22/2015",
          "10/22/2018",
          "10/23/2014",
          "10/23/2015",
          "10/23/2017",
          "10/23/2018",
          "10/24/2016",
          "10/24/2017",
          "10/25/2016",
          "10/25/2017",
          "10/25/2018",
          "10/26/2015",
          "10/26/2016",
          "10/26/2017",
          "10/26/2018",
          "10/27/2014",
          "10/27/2015",
          "10/27/2017",
          "10/28/2014",
          "10/28/2015",
          "10/28/2016",
          "10/29/2014",
          "10/29/2015",
          "10/29/2018",
          "10/3/2016",
          "10/3/2017",
          "10/3/2018",
          "10/30/2015",
          "10/30/2016",
          "10/31/2014",
          "10/31/2016",
          "10/31/2017",
          "10/31/2018",
          "10/4/2016",
          "10/4/2017",
          "10/4/2018",
          "10/5/2016",
          "10/5/2017",
          "10/5/2018",
          "10/6/2015",
          "10/6/2016",
          "10/6/2017",
          "10/7/2015",
          "10/7/2016",
          "10/7/2017",
          "10/8/2015",
          "10/8/2018",
          "10/9/2015",
          "10/9/2017",
          "10/9/2018",
          "11/1/2014",
          "11/1/2016",
          "11/1/2017",
          "11/1/2018",
          "11/10/2015",
          "11/10/2016",
          "11/11/2014",
          "11/11/2015",
          "11/12/2014",
          "11/12/2015",
          "11/13/2017",
          "11/13/2018",
          "11/14/2014",
          "11/14/2016",
          "11/14/2017",
          "11/14/2018",
          "11/15/2014",
          "11/15/2016",
          "11/15/2017",
          "11/16/2015",
          "11/16/2016",
          "11/16/2017",
          "11/16/2018",
          "11/17/2014",
          "11/17/2016",
          "11/17/2017",
          "11/18/2014",
          "11/18/2016",
          "11/19/2014",
          "11/19/2015",
          "11/19/2017",
          "11/19/2018",
          "11/2/2015",
          "11/2/2016",
          "11/2/2017",
          "11/2/2018",
          "11/20/2014",
          "11/20/2015",
          "11/20/2017",
          "11/21/2014",
          "11/21/2016",
          "11/21/2017",
          "11/21/2018",
          "11/22/2014",
          "11/22/2015",
          "11/22/2016",
          "11/22/2017",
          "11/23/2015",
          "11/23/2016",
          "11/24/2015",
          "11/25/2014",
          "11/25/2015",
          "11/26/2014",
          "11/26/2018",
          "11/27/2017",
          "11/27/2018",
          "11/28/2016",
          "11/28/2017",
          "11/28/2018",
          "11/29/2016",
          "11/29/2017",
          "11/3/2014",
          "11/3/2015",
          "11/3/2016",
          "11/3/2017",
          "11/30/2015",
          "11/30/2016",
          "11/30/2017",
          "11/30/2018",
          "11/4/2014",
          "11/4/2015",
          "11/4/2018",
          "11/5/2014",
          "11/5/2018",
          "11/6/2014",
          "11/6/2015",
          "11/6/2017",
          "11/6/2018",
          "11/7/2014",
          "11/7/2016",
          "11/7/2017",
          "11/7/2018",
          "11/8/2014",
          "11/8/2016",
          "11/8/2017",
          "11/8/2018",
          "11/9/2014",
          "11/9/2015",
          "11/9/2016",
          "11/9/2017",
          "11/9/2018",
          "12/1/2014",
          "12/1/2015",
          "12/1/2016",
          "12/1/2017",
          "12/1/2018",
          "12/10/2014",
          "12/10/2015",
          "12/10/2018",
          "12/11/2014",
          "12/11/2015",
          "12/11/2017",
          "12/11/2018",
          "12/12/2014",
          "12/12/2015",
          "12/12/2017",
          "12/13/2014",
          "12/13/2016",
          "12/14/2014",
          "12/14/2015",
          "12/14/2016",
          "12/14/2017",
          "12/14/2018",
          "12/15/2014",
          "12/15/2015",
          "12/15/2016",
          "12/16/2014",
          "12/16/2016",
          "12/17/2014",
          "12/17/2015",
          "12/17/2018",
          "12/18/2014",
          "12/18/2017",
          "12/19/2014",
          "12/19/2016",
          "12/19/2017",
          "12/2/2014",
          "12/2/2015",
          "12/2/2016",
          "12/2/2017",
          "12/20/2016",
          "12/20/2017",
          "12/20/2018",
          "12/21/2014",
          "12/21/2015",
          "12/21/2017",
          "12/21/2018",
          "12/22/2016",
          "12/22/2017",
          "12/23/2014",
          "12/24/2014",
          "12/25/2017",
          "12/26/2014",
          "12/26/2017",
          "12/26/2018",
          "12/27/2016",
          "12/27/2017",
          "12/27/2018",
          "12/28/2014",
          "12/28/2015",
          "12/28/2016",
          "12/29/2014",
          "12/29/2015",
          "12/29/2016",
          "12/3/2014",
          "12/3/2015",
          "12/3/2018",
          "12/30/2014",
          "12/30/2015",
          "12/31/2014",
          "12/4/2014",
          "12/4/2017",
          "12/4/2018",
          "12/5/2014",
          "12/5/2016",
          "12/5/2017",
          "12/5/2018",
          "12/6/2014",
          "12/6/2016",
          "12/6/2017",
          "12/6/2018",
          "12/7/2015",
          "12/7/2016",
          "12/7/2017",
          "12/8/2014",
          "12/8/2015",
          "12/8/2016",
          "12/8/2017",
          "12/9/2014",
          "12/9/2015",
          "12/9/2016",
          "2/1/2016",
          "2/1/2017",
          "2/1/2018",
          "2/10/2015",
          "2/10/2016",
          "2/10/2017",
          "2/11/2015",
          "2/11/2016",
          "2/12/2015",
          "2/12/2018",
          "2/13/2015",
          "2/13/2016",
          "2/13/2017",
          "2/13/2018",
          "2/14/2015",
          "2/14/2018",
          "2/15/2016",
          "2/15/2018",
          "2/16/2017",
          "2/16/2018",
          "2/17/2016",
          "2/17/2017",
          "2/18/2016",
          "2/19/2015",
          "2/19/2016",
          "2/2/2015",
          "2/2/2016",
          "2/2/2017",
          "2/2/2018",
          "2/20/2015",
          "2/20/2017",
          "2/20/2018",
          "2/21/2017",
          "2/22/2015",
          "2/22/2016",
          "2/22/2017",
          "2/22/2018",
          "2/23/2015",
          "2/23/2016",
          "2/23/2017",
          "2/24/2015",
          "2/24/2016",
          "2/24/2017",
          "2/24/2018",
          "2/25/2015",
          "2/25/2016",
          "2/25/2017",
          "2/26/2015",
          "2/26/2016",
          "2/26/2018",
          "2/27/2015",
          "2/27/2017",
          "2/27/2018",
          "2/28/2015",
          "2/28/2017",
          "2/28/2018",
          "2/29/2016",
          "2/3/2015",
          "2/3/2016",
          "2/3/2017",
          "2/4/2015",
          "2/4/2016",
          "2/5/2015",
          "2/5/2016",
          "2/5/2018",
          "2/6/2015",
          "2/6/2017",
          "2/6/2018",
          "2/7/2017",
          "2/7/2018",
          "2/8/2016",
          "2/8/2017",
          "2/8/2018",
          "2/9/2015",
          "2/9/2016",
          "2/9/2017",
          "2/9/2018",
          "3/1/2016",
          "3/1/2017",
          "3/1/2018",
          "3/10/2015",
          "3/10/2016",
          "3/10/2017",
          "3/11/2015",
          "3/11/2016",
          "3/12/2015",
          "3/12/2018",
          "3/13/2015",
          "3/13/2016",
          "3/13/2017",
          "3/14/2016",
          "3/14/2017",
          "3/14/2018",
          "3/15/2016",
          "3/15/2017",
          "3/15/2018",
          "3/16/2015",
          "3/16/2017",
          "3/16/2018",
          "3/17/2015",
          "3/17/2016",
          "3/17/2017",
          "3/18/2015",
          "3/18/2016",
          "3/19/2018",
          "3/2/2015",
          "3/2/2016",
          "3/2/2017",
          "3/2/2018",
          "3/20/2015",
          "3/20/2016",
          "3/20/2017",
          "3/20/2018",
          "3/21/2016",
          "3/21/2017",
          "3/22/2016",
          "3/22/2017",
          "3/22/2018",
          "3/23/2015",
          "3/23/2016",
          "3/23/2017",
          "3/23/2018",
          "3/24/2015",
          "3/24/2016",
          "3/24/2017",
          "3/25/2015",
          "3/25/2016",
          "3/26/2015",
          "3/27/2015",
          "3/27/2017",
          "3/27/2018",
          "3/28/2016",
          "3/28/2017",
          "3/29/2016",
          "3/29/2017",
          "3/29/2018",
          "3/3/2016",
          "3/3/2017",
          "3/30/2015",
          "3/30/2016",
          "3/30/2017",
          "3/30/2018",
          "3/31/2015",
          "3/31/2016",
          "3/31/2017",
          "3/4/2015",
          "3/4/2016",
          "3/5/2018",
          "3/6/2015",
          "3/6/2017",
          "3/6/2018",
          "3/7/2015",
          "3/7/2017",
          "3/7/2018",
          "3/8/2017",
          "3/8/2018",
          "3/9/2015",
          "3/9/2016",
          "3/9/2017",
          "3/9/2018",
          "4/1/2015",
          "4/10/2015",
          "4/10/2017",
          "4/10/2018",
          "4/11/2016",
          "4/11/2017",
          "4/12/2016",
          "4/12/2017",
          "4/12/2018",
          "4/13/2015",
          "4/13/2016",
          "4/13/2017",
          "4/13/2018",
          "4/14/2015",
          "4/14/2016",
          "4/15/2015",
          "4/15/2016",
          "4/15/2018",
          "4/16/2015",
          "4/17/2015",
          "4/17/2016",
          "4/17/2017",
          "4/17/2018",
          "4/18/2016",
          "4/18/2018",
          "4/19/2016",
          "4/2/2015",
          "4/2/2016",
          "4/20/2016",
          "4/20/2017",
          "4/20/2018",
          "4/21/2015",
          "4/21/2016",
          "4/21/2017",
          "4/22/2015",
          "4/22/2016",
          "4/23/2015",
          "4/23/2018",
          "4/24/2015",
          "4/24/2017",
          "4/24/2018",
          "4/25/2016",
          "4/25/2017",
          "4/25/2018",
          "4/26/2015",
          "4/26/2016",
          "4/26/2018",
          "4/27/2015",
          "4/27/2016",
          "4/27/2017",
          "4/28/2015",
          "4/28/2016",
          "4/28/2017",
          "4/29/2015",
          "4/29/2016",
          "4/3/2015",
          "4/3/2017",
          "4/3/2018",
          "4/30/2015",
          "4/30/2018",
          "4/4/2016",
          "4/4/2017",
          "4/5/2016",
          "4/5/2018",
          "4/6/2015",
          "4/6/2016",
          "4/6/2017",
          "4/7/2015",
          "4/7/2016",
          "4/7/2017",
          "4/8/2015",
          "4/8/2016",
          "4/9/2015",
          "5/1/2015",
          "5/1/2017",
          "5/1/2018",
          "5/10/2016",
          "5/10/2017",
          "5/10/2018",
          "5/11/2015",
          "5/11/2016",
          "5/11/2017",
          "5/12/2015",
          "5/12/2016",
          "5/12/2017",
          "5/13/2015",
          "5/13/2016",
          "5/13/2018",
          "5/14/2015",
          "5/14/2018",
          "5/15/2015",
          "5/15/2017",
          "5/15/2018",
          "5/16/2016",
          "5/16/2017",
          "5/16/2018",
          "5/17/2016",
          "5/17/2017",
          "5/18/2015",
          "5/18/2016",
          "5/18/2017",
          "5/18/2018",
          "5/19/2017",
          "5/19/2018",
          "5/2/2016",
          "5/2/2017",
          "5/2/2018",
          "5/20/2015",
          "5/20/2016",
          "5/21/2015",
          "5/21/2018",
          "5/22/2015",
          "5/22/2016",
          "5/22/2017",
          "5/22/2018",
          "5/23/2015",
          "5/23/2016",
          "5/23/2017",
          "5/23/2018",
          "5/24/2017",
          "5/24/2018",
          "5/25/2017",
          "5/25/2018",
          "5/26/2015",
          "5/26/2017",
          "5/27/2015",
          "5/27/2016",
          "5/29/2015",
          "5/29/2018",
          "5/3/2016",
          "5/3/2017",
          "5/3/2018",
          "5/30/2017",
          "5/31/2016",
          "5/31/2017",
          "5/31/2018",
          "5/4/2015",
          "5/4/2016",
          "5/5/2015",
          "5/5/2016",
          "5/5/2017",
          "5/6/2015",
          "5/6/2016",
          "5/7/2015",
          "5/7/2018",
          "5/8/2015",
          "5/8/2017",
          "5/8/2018",
          "5/9/2016",
          "5/9/2017",
          "5/9/2018",
          "6/1/2015",
          "6/1/2016",
          "6/1/2017",
          "6/1/2018",
          "6/10/2015",
          "6/10/2016",
          "6/11/2015",
          "6/11/2017",
          "6/11/2018",
          "6/12/2015",
          "6/12/2017",
          "6/12/2018",
          "6/13/2016",
          "6/13/2017",
          "6/13/2018",
          "6/14/2015",
          "6/14/2016",
          "6/14/2017",
          "6/14/2018",
          "6/15/2015",
          "6/15/2016",
          "6/15/2017",
          "6/15/2018",
          "6/16/2015",
          "6/16/2016",
          "6/16/2017",
          "6/17/2015",
          "6/18/2015",
          "6/18/2018",
          "6/19/2015",
          "6/19/2017",
          "6/19/2018",
          "6/2/2015",
          "6/2/2016",
          "6/2/2017",
          "6/20/2016",
          "6/20/2017",
          "6/20/2018",
          "6/21/2016",
          "6/21/2017",
          "6/21/2018",
          "6/22/2015",
          "6/22/2016",
          "6/22/2018",
          "6/23/2015",
          "6/23/2016",
          "6/24/2015",
          "6/24/2016",
          "6/25/2015",
          "6/25/2018",
          "6/26/2015",
          "6/26/2018",
          "6/27/2016",
          "6/27/2017",
          "6/27/2018",
          "6/28/2016",
          "6/28/2017",
          "6/28/2018",
          "6/29/2015",
          "6/29/2016",
          "6/29/2017",
          "6/29/2018",
          "6/3/2015",
          "6/3/2017",
          "6/30/2015",
          "6/30/2016",
          "6/4/2015",
          "6/4/2016",
          "6/4/2018",
          "6/5/2015",
          "6/5/2017",
          "6/5/2018",
          "6/6/2016",
          "6/6/2017",
          "6/6/2018",
          "6/7/2015",
          "6/7/2016",
          "6/7/2017",
          "6/8/2015",
          "6/8/2016",
          "6/8/2017",
          "6/8/2018",
          "6/9/2015",
          "6/9/2017",
          "7/1/2015",
          "7/10/2015",
          "7/10/2017",
          "7/10/2018",
          "7/11/2015",
          "7/11/2016",
          "7/11/2017",
          "7/11/2018",
          "7/12/2015",
          "7/12/2016",
          "7/12/2017",
          "7/12/2018",
          "7/13/2015",
          "7/13/2017",
          "7/13/2018",
          "7/14/2015",
          "7/14/2016",
          "7/14/2017",
          "7/15/2015",
          "7/15/2016",
          "7/16/2015",
          "7/17/2015",
          "7/17/2016",
          "7/17/2018",
          "7/18/2016",
          "7/18/2018",
          "7/19/2016",
          "7/19/2017",
          "7/19/2018",
          "7/2/2015",
          "7/2/2018",
          "7/20/2016",
          "7/20/2017",
          "7/21/2015",
          "7/21/2016",
          "7/21/2017",
          "7/22/2015",
          "7/22/2016",
          "7/22/2018",
          "7/23/2015",
          "7/23/2018",
          "7/24/2015",
          "7/24/2017",
          "7/24/2018",
          "7/25/2016",
          "7/25/2017",
          "7/25/2018",
          "7/26/2016",
          "7/26/2018",
          "7/27/2015",
          "7/27/2016",
          "7/27/2017",
          "7/28/2015",
          "7/28/2016",
          "7/29/2015",
          "7/29/2016",
          "7/29/2018",
          "7/3/2018",
          "7/30/2015",
          "7/30/2017",
          "7/31/2015",
          "7/31/2016",
          "7/31/2017",
          "7/31/2018",
          "7/5/2016",
          "7/5/2018",
          "7/6/2015",
          "7/6/2016",
          "7/6/2017",
          "7/6/2018",
          "7/7/2015",
          "7/7/2016",
          "7/7/2017",
          "7/8/2015",
          "7/8/2016",
          "7/9/2015",
          "7/9/2018",
          "8/1/2016",
          "8/1/2017",
          "8/10/2015",
          "8/10/2016",
          "8/10/2017",
          "8/10/2018",
          "8/11/2015",
          "8/11/2016",
          "8/11/2017",
          "8/12/2015",
          "8/13/2015",
          "8/13/2018",
          "8/14/2015",
          "8/14/2017",
          "8/14/2018",
          "8/15/2016",
          "8/15/2017",
          "8/15/2018",
          "8/16/2016",
          "8/16/2017",
          "8/16/2018",
          "8/17/2015",
          "8/17/2016",
          "8/17/2017",
          "8/17/2018",
          "8/18/2015",
          "8/18/2016",
          "8/18/2017",
          "8/19/2015",
          "8/19/2016",
          "8/2/2016",
          "8/2/2017",
          "8/2/2018",
          "8/20/2015",
          "8/21/2015",
          "8/21/2017",
          "8/21/2018",
          "8/22/2016",
          "8/22/2017",
          "8/22/2018",
          "8/23/2016",
          "8/23/2017",
          "8/23/2018",
          "8/24/2017",
          "8/24/2018",
          "8/25/2016",
          "8/25/2017",
          "8/26/2015",
          "8/26/2016",
          "8/27/2015",
          "8/27/2018",
          "8/28/2015",
          "8/28/2017",
          "8/28/2018",
          "8/29/2016",
          "8/29/2017",
          "8/29/2018",
          "8/3/2015",
          "8/3/2016",
          "8/3/2017",
          "8/30/2016",
          "8/30/2017",
          "8/31/2016",
          "8/31/2017",
          "8/31/2018",
          "8/4/2015",
          "8/4/2016",
          "8/4/2017",
          "8/5/2015",
          "8/5/2016",
          "8/6/2015",
          "8/6/2018",
          "8/7/2015",
          "8/7/2016",
          "8/7/2017",
          "8/7/2018",
          "8/8/2015",
          "8/8/2016",
          "8/8/2017",
          "8/8/2018",
          "8/9/2016",
          "8/9/2017",
          "8/9/2018",
          "9/1/2015",
          "9/1/2016",
          "9/1/2017",
          "9/10/2015",
          "9/11/2015",
          "9/11/2017",
          "9/11/2018",
          "9/12/2017",
          "9/13/2016",
          "9/13/2017",
          "9/13/2018",
          "9/14/2015",
          "9/14/2016",
          "9/14/2017",
          "9/14/2018",
          "9/15/2016",
          "9/16/2015",
          "9/16/2016",
          "9/16/2017",
          "9/17/2015",
          "9/17/2018",
          "9/18/2017",
          "9/19/2016",
          "9/19/2017",
          "9/2/2015",
          "9/2/2016",
          "9/20/2016",
          "9/20/2017",
          "9/20/2018",
          "9/21/2015",
          "9/21/2016",
          "9/21/2017",
          "9/21/2018",
          "9/22/2015",
          "9/22/2016",
          "9/22/2017",
          "9/23/2015",
          "9/23/2016",
          "9/24/2015",
          "9/24/2018",
          "9/25/2015",
          "9/25/2018",
          "9/26/2016",
          "9/26/2017",
          "9/26/2018",
          "9/27/2016",
          "9/27/2017",
          "9/27/2018",
          "9/28/2015",
          "9/28/2016",
          "9/28/2017",
          "9/28/2018",
          "9/29/2015",
          "9/29/2016",
          "9/29/2017",
          "9/3/2015",
          "9/30/2015",
          "9/30/2016",
          "9/4/2015",
          "9/4/2016",
          "9/4/2018",
          "9/5/2017",
          "9/5/2018",
          "9/6/2016",
          "9/6/2018",
          "9/7/2016",
          "9/7/2017",
          "9/7/2018",
          "9/8/2015",
          "9/8/2016",
          "9/9/2016"
         ],
         "xaxis": "x",
         "y": [
          707400,
          441000,
          290000,
          352055,
          313750,
          372665.3333333333,
          350000,
          427121.06,
          428666.6666666667,
          458377.75,
          367250,
          391200,
          328500,
          614625,
          533000,
          538119.5,
          378500,
          395833.3333333333,
          278666.6666666667,
          349966.6666666667,
          422666.6666666667,
          583200,
          408000,
          348418.97,
          344500,
          464000,
          670000,
          179250,
          384750,
          1930464,
          396200,
          471287.19,
          309666.6666666667,
          283915,
          300000,
          850000,
          355050,
          1200000,
          816000,
          566744.8685714286,
          300000,
          377625,
          520100,
          243434,
          653000,
          362645.375,
          517500,
          150000,
          550000,
          238362.75,
          419965,
          544000,
          410000,
          483323.75,
          780000,
          424297,
          1413333.3333333333,
          301342.52,
          225000,
          513037.6533333333,
          446000,
          322422.7,
          898000,
          540520,
          488000,
          280000,
          275125,
          419991.6666666667,
          315000,
          324679.5,
          496000,
          337500,
          390000,
          408000,
          200000,
          240000,
          728000,
          563067.71,
          313975,
          828983.75,
          192000,
          519820.625,
          432250,
          269711.3333333333,
          239600,
          575397.6625,
          426206.3333333333,
          406937.5,
          621183.75,
          335885,
          210000,
          296250,
          292000,
          533000,
          382566.6666666667,
          422500,
          325000,
          427500,
          444489.985,
          369650,
          338318.75,
          400000,
          424100,
          535500,
          123900,
          870400,
          449808.9583333333,
          630746.6766666666,
          386487.5,
          489937.5,
          675000,
          238600,
          554650,
          386875,
          424313.07800000004,
          423742,
          380350,
          467500,
          406068.6666666667,
          256500,
          525750,
          320000,
          398000,
          360000,
          869500,
          260000,
          400000,
          344304,
          277250,
          390742.815,
          326400,
          370000,
          412800,
          555000,
          394125,
          513333.3333333333,
          325000,
          372333.3333333333,
          420363.47,
          364275,
          351500,
          363833.3333333333,
          471300,
          406880.25,
          665000,
          616000,
          397866.6666666667,
          200000,
          524800,
          370599.96428571426,
          400000,
          636200,
          464875,
          483312.5,
          405733.3333333333,
          477000,
          257666.66666666666,
          260000,
          80000,
          313228.67,
          357000,
          460692,
          553002.5,
          650000,
          373675,
          336000,
          512500,
          514302.7875,
          304000,
          499000,
          604000,
          399740.625,
          542200,
          562500,
          622000,
          353350,
          580000,
          245000,
          585666.6666666666,
          541705.75,
          312550,
          471333.3333333333,
          435312.5,
          448000,
          388625,
          381500,
          472000,
          468750,
          387500,
          397191.9733333333,
          561856.5216666666,
          450000,
          271500,
          384800,
          544000,
          360000,
          385300,
          422500,
          483312.5,
          842500,
          343151.88,
          366000,
          399250,
          915000,
          384943.75,
          290000,
          486500,
          329000,
          608750,
          562128.44,
          567733.3333333334,
          377796.3133333333,
          200000,
          547500,
          412392.75,
          440000,
          573605.8333333334,
          430119.4366666667,
          333500,
          175717.5,
          418983.3333333333,
          368733.3333333333,
          443500,
          131250,
          523666.6666666667,
          552875,
          460477.0933333333,
          500500,
          437023.125,
          326250,
          344500,
          230000,
          370500,
          1500000,
          590000,
          163000,
          391300,
          460416.6666666667,
          542148.5,
          482500,
          450000,
          416500,
          715000,
          423600,
          123227.5,
          440000,
          1085219.6875,
          317155.3333333333,
          499414.4166666667,
          635000,
          324399.785,
          660000,
          269268.25,
          467043.75,
          400366.6666666667,
          380000,
          341110,
          376105,
          447333.3333333333,
          304841.4166666667,
          380400,
          337775,
          289733,
          368012.5,
          580000,
          403005.5714285714,
          286125,
          336500,
          165000,
          442334.75,
          738750,
          550000,
          682500,
          420024,
          754624.375,
          410000,
          592937.5,
          360000,
          362333.3333333333,
          524500,
          390000,
          725000,
          532666.6666666666,
          423645.49333333335,
          522917.5,
          728125,
          400000,
          967950,
          250000,
          943800,
          343780,
          466396.56,
          664275,
          309750,
          580000,
          233433.75,
          199601.875,
          459762.6875,
          550000,
          700065,
          470000,
          698250,
          440500,
          724261.0766666667,
          487985,
          747750,
          227000,
          135000,
          308750,
          391750,
          715000,
          380000,
          522333.3333333333,
          1190000,
          281502.5,
          721875,
          1190000,
          754000,
          301458.5325,
          350552,
          326250,
          323750,
          950000,
          432694,
          286700,
          810000,
          499000,
          491317.0333333334,
          276833.3333333333,
          282394.5,
          252000,
          610450,
          303900,
          305960,
          645000,
          1260000,
          220000,
          497490.625,
          352812.5,
          435000,
          464544.245,
          467500,
          1019853.125,
          645000,
          308800,
          860550,
          511882.75,
          650000,
          441849.38,
          427607.2916666667,
          422211.63,
          365200,
          488200,
          315250,
          370066.6666666667,
          597000,
          383320,
          640000,
          625000,
          658750,
          637500,
          400000,
          190500,
          575000,
          399000,
          407500,
          646000,
          465500,
          327333.3333333333,
          228750,
          442747.14285714284,
          395700,
          559936.845,
          383666.6666666667,
          470250,
          998445.25,
          412000,
          476000,
          525000,
          523750,
          396981.70999999996,
          626250,
          386650,
          430000,
          479666.6666666667,
          357254.625,
          543633.3333333334,
          393000,
          251500,
          367333.3333333333,
          625000,
          222415.84666666668,
          895000,
          590750,
          227662.5,
          447000,
          164326.25,
          319166.6666666667,
          404375,
          490800,
          368750,
          537165.6666666666,
          748350,
          410000,
          425295,
          654500,
          600325,
          364542,
          408241.565,
          680000,
          359731,
          542298.55,
          326080,
          401149.38,
          673500,
          403300,
          276333.3333333333,
          724998.125,
          403750,
          530000,
          308440.29,
          365000,
          340000,
          519450,
          347012.5,
          441643.5,
          412625,
          323027.4,
          480695.876,
          800000,
          462666.6666666667,
          508750,
          371387.5,
          443750,
          216000,
          209783,
          150000,
          381000,
          280000,
          396000,
          1091000,
          341268.825,
          289064.25,
          429030,
          476622.6666666667,
          394050,
          516666.6666666667,
          304000,
          497973.3333333333,
          551653,
          540475,
          541166.6666666666,
          283125,
          150000,
          267500,
          105000,
          410083.3333333333,
          397520,
          800000,
          405971.625,
          300000,
          376040.805,
          302187.5,
          300000,
          311749.28,
          356750,
          290000,
          563003.176,
          279502.5,
          437166.6666666667,
          496230,
          271000,
          285564.2,
          302315.69,
          285687.5,
          525000,
          348459.125,
          384017.75,
          417175,
          351066.6666666667,
          1003625,
          416556.6666666667,
          357750,
          433920.9,
          413333.3333333333,
          495071.4628571429,
          443333.3333333333,
          291010,
          1673000,
          486000,
          225545.83333333334,
          278702.5,
          392100,
          481327.345,
          389700,
          306125,
          592929.1466666666,
          437000,
          367500,
          321468.75,
          487000,
          417000,
          494100,
          383000,
          279600,
          328750,
          393000,
          850000,
          551046.8275,
          286900.94,
          248750,
          314228,
          437250,
          258500,
          288491.25,
          431522.33,
          596274.375,
          773000,
          784000,
          263258.5,
          412733.3333333333,
          600000,
          428500,
          260000,
          300000,
          287048.8,
          394236.45,
          630000,
          281084,
          417000,
          330000,
          206950,
          528235,
          271000,
          452000,
          269666.6666666667,
          281658,
          175000,
          417000,
          452500,
          328520,
          354250,
          191416.66666666666,
          445975.25,
          310000,
          470891.25,
          417000,
          699000,
          291250,
          414400,
          409000,
          462500,
          450700,
          626250,
          499000,
          400000,
          743333.3333333334,
          364350.75,
          544258.3333333334,
          423717.5,
          390164.6666666667,
          382240.94,
          470141.6666666667,
          458218.6666666667,
          573500,
          385400,
          442050,
          575507.3333333334,
          600000,
          214345,
          308765.5,
          494000,
          367938,
          756980,
          411706.6666666667,
          401294.1666666667,
          623500,
          590000,
          594875,
          344000,
          316639,
          494399.3333333333,
          530500,
          325000,
          390588.2825,
          418091.6666666667,
          357890.88000000006,
          275623.01666666666,
          396000,
          460210,
          212657.5,
          240000,
          416000,
          453189.03500000003,
          252078.57142857142,
          140000,
          461180,
          194500,
          364221,
          207980,
          342000,
          463547.87666666665,
          1225000,
          406666.6666666667,
          508390,
          315425,
          425625,
          465000,
          331187.5,
          375000,
          466906.1225,
          515389,
          424000,
          470000,
          398500,
          900000,
          595237.5,
          471600.6666666667,
          498000,
          533000,
          372000,
          200000,
          501500,
          365018.125,
          121500,
          495000,
          168000,
          742017.8571428572,
          276000,
          332666.6666666667,
          500000,
          316144.15,
          527916.6666666666,
          365000,
          579975,
          416666.6666666667,
          295250,
          350000,
          552838.055,
          255290.75,
          424000,
          600000,
          306500,
          325500,
          430241.926,
          679000,
          452250,
          262500,
          1195000,
          312333.3333333333,
          442652.50333333336,
          681666.6666666666,
          241333.33333333334,
          364428.5714285714,
          328000,
          473039,
          445572.2475,
          838083.3333333334,
          564321.068,
          468130.74,
          424000,
          263750,
          200000,
          370229.0625,
          354000,
          439800,
          700000,
          277000,
          499000,
          518300,
          369000,
          546641.7,
          422500,
          865000,
          431375,
          587562.5,
          380000,
          475000,
          367197.6866666667,
          346812.5,
          638000,
          345218.3333333333,
          131800,
          805388.28125,
          436875,
          411066.6666666667,
          388666.6666666667,
          509000,
          450000,
          925000,
          355800,
          283600,
          611566.6666666666,
          400087.8,
          253435,
          331550,
          282815.064,
          225000,
          376000,
          584177.13,
          330687.5,
          378375,
          346407.1666666667,
          431079.5,
          645750,
          412000,
          459200,
          285750,
          400000,
          250000,
          317036.6666666667,
          446387.25,
          510550,
          327900,
          321500,
          435500,
          282884.3333333333,
          490048.3275,
          518000,
          308333.3333333333,
          284412.5,
          375000,
          643500,
          472920,
          560000,
          435000,
          443383.3333333333,
          397800,
          505613.05,
          255000,
          289119.4,
          727750,
          435600,
          484500,
          430834.3333333333,
          275382.655,
          455666.6666666667,
          900000,
          493985.9375,
          315000,
          366050,
          471500,
          680000,
          436250,
          636075,
          380166.6666666667,
          298000,
          423498.1866666667,
          597000,
          304000,
          300000,
          646661.6666666666,
          995000,
          424650,
          337260,
          472500,
          230000,
          438000,
          469333.0475,
          552499,
          393750,
          337313.7733333334,
          1347500,
          522535.4,
          300000,
          424908.6666666667,
          560705.5,
          250000,
          642650,
          455915.5475,
          274050,
          240000,
          543140,
          253306.63,
          468000,
          172500,
          250000,
          706666.6666666666,
          428328.28571428574,
          925000,
          237300,
          442750,
          278500,
          206250,
          390574.2,
          580767.9639999999,
          270750,
          310000,
          437270,
          221166.66666666666,
          490000,
          331375,
          533850,
          356150,
          401664.5714285714,
          448800,
          297333.3333333333,
          265000,
          397500,
          348000,
          308003.61,
          878789.31,
          318149.9114285714,
          429500,
          170000,
          393250,
          413500,
          417065.5,
          434000,
          483312.5,
          585500,
          350975.6666666667,
          341846.875,
          325450,
          214200,
          387437.5,
          337666.6666666667,
          513750,
          352500,
          261559.375,
          358933.3333333333,
          397000,
          527000,
          617500,
          457894.625,
          376969.72833333333,
          788562.5,
          621500,
          390333.3333333333,
          385000,
          420000,
          363204.6666666667,
          252883.33333333334,
          360000,
          404312.5,
          584383.3333333334,
          319623,
          320512.5,
          356200,
          323000,
          210000,
          525000,
          335000,
          272505,
          225000,
          439738.75,
          499000,
          400000,
          383311.72599999997,
          384300,
          312775,
          398351.25,
          610898.94,
          358893.5,
          500805,
          400000,
          631345.6666666666,
          423610.69,
          362420.8333333333,
          336533.3333333333,
          547500,
          454000,
          220800,
          482901.5,
          475002.5,
          430000,
          451800,
          364500,
          505000,
          283317,
          438102.75,
          311645,
          399000,
          361849.6,
          337543.75,
          502940,
          270000,
          523000,
          958300,
          451517.5714285714,
          382827.70999999996,
          355250,
          1100000,
          394654.905,
          425523.02599999995,
          360000,
          450000,
          525000,
          675620,
          260000,
          378300,
          628500,
          404300,
          432000,
          672000,
          510378,
          413569.5,
          348995.45,
          700000,
          282340.7833333333,
          401333.3333333333,
          281250,
          418609.77166666667,
          601525,
          694050,
          219646,
          595300.1266666666,
          159850,
          246333.33333333334,
          366500,
          657000,
          360000,
          388500,
          373250,
          415271.25,
          1020000,
          504666.6666666667,
          625500,
          630000,
          960500,
          543689.7533333333,
          600000,
          398688,
          161500,
          383005.6,
          285622.5,
          400000,
          344875,
          357644.54000000004,
          427375,
          351833.3333333333,
          331450,
          251500,
          737000,
          333000,
          532000,
          354350,
          120000,
          240000,
          457000,
          287749.2733333333,
          330000,
          605000,
          194000,
          468250,
          642937.5,
          312866.6666666667,
          374000,
          422400,
          226656.25,
          407000,
          284250,
          640000,
          2400000,
          493065.625,
          292500,
          881250,
          584223,
          303000,
          531000,
          406000,
          840000,
          500000,
          6125000,
          496557.495,
          1350000,
          166768.25,
          495587.5,
          362755.86999999994,
          380000,
          304486.88,
          605359.6875,
          759250,
          387500,
          346000,
          587945.4166666666
         ],
         "yaxis": "y"
        }
       ],
       "layout": {
        "barmode": "relative",
        "height": 600,
        "legend": {
         "tracegroupgap": 0
        },
        "showlegend": false,
        "template": {
         "data": {
          "bar": [
           {
            "error_x": {
             "color": "#2a3f5f"
            },
            "error_y": {
             "color": "#2a3f5f"
            },
            "marker": {
             "line": {
              "color": "#E5ECF6",
              "width": 0.5
             },
             "pattern": {
              "fillmode": "overlay",
              "size": 10,
              "solidity": 0.2
             }
            },
            "type": "bar"
           }
          ],
          "barpolar": [
           {
            "marker": {
             "line": {
              "color": "#E5ECF6",
              "width": 0.5
             },
             "pattern": {
              "fillmode": "overlay",
              "size": 10,
              "solidity": 0.2
             }
            },
            "type": "barpolar"
           }
          ],
          "carpet": [
           {
            "aaxis": {
             "endlinecolor": "#2a3f5f",
             "gridcolor": "white",
             "linecolor": "white",
             "minorgridcolor": "white",
             "startlinecolor": "#2a3f5f"
            },
            "baxis": {
             "endlinecolor": "#2a3f5f",
             "gridcolor": "white",
             "linecolor": "white",
             "minorgridcolor": "white",
             "startlinecolor": "#2a3f5f"
            },
            "type": "carpet"
           }
          ],
          "choropleth": [
           {
            "colorbar": {
             "outlinewidth": 0,
             "ticks": ""
            },
            "type": "choropleth"
           }
          ],
          "contour": [
           {
            "colorbar": {
             "outlinewidth": 0,
             "ticks": ""
            },
            "colorscale": [
             [
              0,
              "#0d0887"
             ],
             [
              0.1111111111111111,
              "#46039f"
             ],
             [
              0.2222222222222222,
              "#7201a8"
             ],
             [
              0.3333333333333333,
              "#9c179e"
             ],
             [
              0.4444444444444444,
              "#bd3786"
             ],
             [
              0.5555555555555556,
              "#d8576b"
             ],
             [
              0.6666666666666666,
              "#ed7953"
             ],
             [
              0.7777777777777778,
              "#fb9f3a"
             ],
             [
              0.8888888888888888,
              "#fdca26"
             ],
             [
              1,
              "#f0f921"
             ]
            ],
            "type": "contour"
           }
          ],
          "contourcarpet": [
           {
            "colorbar": {
             "outlinewidth": 0,
             "ticks": ""
            },
            "type": "contourcarpet"
           }
          ],
          "heatmap": [
           {
            "colorbar": {
             "outlinewidth": 0,
             "ticks": ""
            },
            "colorscale": [
             [
              0,
              "#0d0887"
             ],
             [
              0.1111111111111111,
              "#46039f"
             ],
             [
              0.2222222222222222,
              "#7201a8"
             ],
             [
              0.3333333333333333,
              "#9c179e"
             ],
             [
              0.4444444444444444,
              "#bd3786"
             ],
             [
              0.5555555555555556,
              "#d8576b"
             ],
             [
              0.6666666666666666,
              "#ed7953"
             ],
             [
              0.7777777777777778,
              "#fb9f3a"
             ],
             [
              0.8888888888888888,
              "#fdca26"
             ],
             [
              1,
              "#f0f921"
             ]
            ],
            "type": "heatmap"
           }
          ],
          "heatmapgl": [
           {
            "colorbar": {
             "outlinewidth": 0,
             "ticks": ""
            },
            "colorscale": [
             [
              0,
              "#0d0887"
             ],
             [
              0.1111111111111111,
              "#46039f"
             ],
             [
              0.2222222222222222,
              "#7201a8"
             ],
             [
              0.3333333333333333,
              "#9c179e"
             ],
             [
              0.4444444444444444,
              "#bd3786"
             ],
             [
              0.5555555555555556,
              "#d8576b"
             ],
             [
              0.6666666666666666,
              "#ed7953"
             ],
             [
              0.7777777777777778,
              "#fb9f3a"
             ],
             [
              0.8888888888888888,
              "#fdca26"
             ],
             [
              1,
              "#f0f921"
             ]
            ],
            "type": "heatmapgl"
           }
          ],
          "histogram": [
           {
            "marker": {
             "pattern": {
              "fillmode": "overlay",
              "size": 10,
              "solidity": 0.2
             }
            },
            "type": "histogram"
           }
          ],
          "histogram2d": [
           {
            "colorbar": {
             "outlinewidth": 0,
             "ticks": ""
            },
            "colorscale": [
             [
              0,
              "#0d0887"
             ],
             [
              0.1111111111111111,
              "#46039f"
             ],
             [
              0.2222222222222222,
              "#7201a8"
             ],
             [
              0.3333333333333333,
              "#9c179e"
             ],
             [
              0.4444444444444444,
              "#bd3786"
             ],
             [
              0.5555555555555556,
              "#d8576b"
             ],
             [
              0.6666666666666666,
              "#ed7953"
             ],
             [
              0.7777777777777778,
              "#fb9f3a"
             ],
             [
              0.8888888888888888,
              "#fdca26"
             ],
             [
              1,
              "#f0f921"
             ]
            ],
            "type": "histogram2d"
           }
          ],
          "histogram2dcontour": [
           {
            "colorbar": {
             "outlinewidth": 0,
             "ticks": ""
            },
            "colorscale": [
             [
              0,
              "#0d0887"
             ],
             [
              0.1111111111111111,
              "#46039f"
             ],
             [
              0.2222222222222222,
              "#7201a8"
             ],
             [
              0.3333333333333333,
              "#9c179e"
             ],
             [
              0.4444444444444444,
              "#bd3786"
             ],
             [
              0.5555555555555556,
              "#d8576b"
             ],
             [
              0.6666666666666666,
              "#ed7953"
             ],
             [
              0.7777777777777778,
              "#fb9f3a"
             ],
             [
              0.8888888888888888,
              "#fdca26"
             ],
             [
              1,
              "#f0f921"
             ]
            ],
            "type": "histogram2dcontour"
           }
          ],
          "mesh3d": [
           {
            "colorbar": {
             "outlinewidth": 0,
             "ticks": ""
            },
            "type": "mesh3d"
           }
          ],
          "parcoords": [
           {
            "line": {
             "colorbar": {
              "outlinewidth": 0,
              "ticks": ""
             }
            },
            "type": "parcoords"
           }
          ],
          "pie": [
           {
            "automargin": true,
            "type": "pie"
           }
          ],
          "scatter": [
           {
            "fillpattern": {
             "fillmode": "overlay",
             "size": 10,
             "solidity": 0.2
            },
            "type": "scatter"
           }
          ],
          "scatter3d": [
           {
            "line": {
             "colorbar": {
              "outlinewidth": 0,
              "ticks": ""
             }
            },
            "marker": {
             "colorbar": {
              "outlinewidth": 0,
              "ticks": ""
             }
            },
            "type": "scatter3d"
           }
          ],
          "scattercarpet": [
           {
            "marker": {
             "colorbar": {
              "outlinewidth": 0,
              "ticks": ""
             }
            },
            "type": "scattercarpet"
           }
          ],
          "scattergeo": [
           {
            "marker": {
             "colorbar": {
              "outlinewidth": 0,
              "ticks": ""
             }
            },
            "type": "scattergeo"
           }
          ],
          "scattergl": [
           {
            "marker": {
             "colorbar": {
              "outlinewidth": 0,
              "ticks": ""
             }
            },
            "type": "scattergl"
           }
          ],
          "scattermapbox": [
           {
            "marker": {
             "colorbar": {
              "outlinewidth": 0,
              "ticks": ""
             }
            },
            "type": "scattermapbox"
           }
          ],
          "scatterpolar": [
           {
            "marker": {
             "colorbar": {
              "outlinewidth": 0,
              "ticks": ""
             }
            },
            "type": "scatterpolar"
           }
          ],
          "scatterpolargl": [
           {
            "marker": {
             "colorbar": {
              "outlinewidth": 0,
              "ticks": ""
             }
            },
            "type": "scatterpolargl"
           }
          ],
          "scatterternary": [
           {
            "marker": {
             "colorbar": {
              "outlinewidth": 0,
              "ticks": ""
             }
            },
            "type": "scatterternary"
           }
          ],
          "surface": [
           {
            "colorbar": {
             "outlinewidth": 0,
             "ticks": ""
            },
            "colorscale": [
             [
              0,
              "#0d0887"
             ],
             [
              0.1111111111111111,
              "#46039f"
             ],
             [
              0.2222222222222222,
              "#7201a8"
             ],
             [
              0.3333333333333333,
              "#9c179e"
             ],
             [
              0.4444444444444444,
              "#bd3786"
             ],
             [
              0.5555555555555556,
              "#d8576b"
             ],
             [
              0.6666666666666666,
              "#ed7953"
             ],
             [
              0.7777777777777778,
              "#fb9f3a"
             ],
             [
              0.8888888888888888,
              "#fdca26"
             ],
             [
              1,
              "#f0f921"
             ]
            ],
            "type": "surface"
           }
          ],
          "table": [
           {
            "cells": {
             "fill": {
              "color": "#EBF0F8"
             },
             "line": {
              "color": "white"
             }
            },
            "header": {
             "fill": {
              "color": "#C8D4E3"
             },
             "line": {
              "color": "white"
             }
            },
            "type": "table"
           }
          ]
         },
         "layout": {
          "annotationdefaults": {
           "arrowcolor": "#2a3f5f",
           "arrowhead": 0,
           "arrowwidth": 1
          },
          "autotypenumbers": "strict",
          "coloraxis": {
           "colorbar": {
            "outlinewidth": 0,
            "ticks": ""
           }
          },
          "colorscale": {
           "diverging": [
            [
             0,
             "#8e0152"
            ],
            [
             0.1,
             "#c51b7d"
            ],
            [
             0.2,
             "#de77ae"
            ],
            [
             0.3,
             "#f1b6da"
            ],
            [
             0.4,
             "#fde0ef"
            ],
            [
             0.5,
             "#f7f7f7"
            ],
            [
             0.6,
             "#e6f5d0"
            ],
            [
             0.7,
             "#b8e186"
            ],
            [
             0.8,
             "#7fbc41"
            ],
            [
             0.9,
             "#4d9221"
            ],
            [
             1,
             "#276419"
            ]
           ],
           "sequential": [
            [
             0,
             "#0d0887"
            ],
            [
             0.1111111111111111,
             "#46039f"
            ],
            [
             0.2222222222222222,
             "#7201a8"
            ],
            [
             0.3333333333333333,
             "#9c179e"
            ],
            [
             0.4444444444444444,
             "#bd3786"
            ],
            [
             0.5555555555555556,
             "#d8576b"
            ],
            [
             0.6666666666666666,
             "#ed7953"
            ],
            [
             0.7777777777777778,
             "#fb9f3a"
            ],
            [
             0.8888888888888888,
             "#fdca26"
            ],
            [
             1,
             "#f0f921"
            ]
           ],
           "sequentialminus": [
            [
             0,
             "#0d0887"
            ],
            [
             0.1111111111111111,
             "#46039f"
            ],
            [
             0.2222222222222222,
             "#7201a8"
            ],
            [
             0.3333333333333333,
             "#9c179e"
            ],
            [
             0.4444444444444444,
             "#bd3786"
            ],
            [
             0.5555555555555556,
             "#d8576b"
            ],
            [
             0.6666666666666666,
             "#ed7953"
            ],
            [
             0.7777777777777778,
             "#fb9f3a"
            ],
            [
             0.8888888888888888,
             "#fdca26"
            ],
            [
             1,
             "#f0f921"
            ]
           ]
          },
          "colorway": [
           "#636efa",
           "#EF553B",
           "#00cc96",
           "#ab63fa",
           "#FFA15A",
           "#19d3f3",
           "#FF6692",
           "#B6E880",
           "#FF97FF",
           "#FECB52"
          ],
          "font": {
           "color": "#2a3f5f"
          },
          "geo": {
           "bgcolor": "white",
           "lakecolor": "white",
           "landcolor": "#E5ECF6",
           "showlakes": true,
           "showland": true,
           "subunitcolor": "white"
          },
          "hoverlabel": {
           "align": "left"
          },
          "hovermode": "closest",
          "mapbox": {
           "style": "light"
          },
          "paper_bgcolor": "white",
          "plot_bgcolor": "#E5ECF6",
          "polar": {
           "angularaxis": {
            "gridcolor": "white",
            "linecolor": "white",
            "ticks": ""
           },
           "bgcolor": "#E5ECF6",
           "radialaxis": {
            "gridcolor": "white",
            "linecolor": "white",
            "ticks": ""
           }
          },
          "scene": {
           "xaxis": {
            "backgroundcolor": "#E5ECF6",
            "gridcolor": "white",
            "gridwidth": 2,
            "linecolor": "white",
            "showbackground": true,
            "ticks": "",
            "zerolinecolor": "white"
           },
           "yaxis": {
            "backgroundcolor": "#E5ECF6",
            "gridcolor": "white",
            "gridwidth": 2,
            "linecolor": "white",
            "showbackground": true,
            "ticks": "",
            "zerolinecolor": "white"
           },
           "zaxis": {
            "backgroundcolor": "#E5ECF6",
            "gridcolor": "white",
            "gridwidth": 2,
            "linecolor": "white",
            "showbackground": true,
            "ticks": "",
            "zerolinecolor": "white"
           }
          },
          "shapedefaults": {
           "line": {
            "color": "#2a3f5f"
           }
          },
          "ternary": {
           "aaxis": {
            "gridcolor": "white",
            "linecolor": "white",
            "ticks": ""
           },
           "baxis": {
            "gridcolor": "white",
            "linecolor": "white",
            "ticks": ""
           },
           "bgcolor": "#E5ECF6",
           "caxis": {
            "gridcolor": "white",
            "linecolor": "white",
            "ticks": ""
           }
          },
          "title": {
           "x": 0.05
          },
          "xaxis": {
           "automargin": true,
           "gridcolor": "white",
           "linecolor": "white",
           "ticks": "",
           "title": {
            "standoff": 15
           },
           "zerolinecolor": "white",
           "zerolinewidth": 2
          },
          "yaxis": {
           "automargin": true,
           "gridcolor": "white",
           "linecolor": "white",
           "ticks": "",
           "title": {
            "standoff": 15
           },
           "zerolinecolor": "white",
           "zerolinewidth": 2
          }
         }
        },
        "title": {
         "text": "Average Loan Amounts by City"
        },
        "xaxis": {
         "anchor": "y",
         "domain": [
          0,
          1
         ],
         "showticklabels": true,
         "tickangle": -90,
         "title": {
          "text": "Created Date"
         }
        },
        "yaxis": {
         "anchor": "x",
         "domain": [
          0,
          1
         ],
         "title": {
          "text": "Average Loan Amount ($)"
         }
        }
       }
      }
     },
     "metadata": {},
     "output_type": "display_data"
    }
   ],
   "source": [
    "agg_df = df.groupby('Created Date', as_index=False)['Loan Amount'].mean()\n",
    "\n",
    "# Create a bar plot to show the average Loan Amount by City\n",
    "fig = px.bar(agg_df, x='Created Date', y='Loan Amount',\n",
    "            title='Average Loan Amounts by City',\n",
    "            labels={'Loan Amount': 'Average Loan Amount ($)', 'Created Date': 'Created Date'})\n",
    "\n",
    "# Update layout to improve readability (optional)\n",
    "fig.update_layout(\n",
    "    xaxis=dict(\n",
    "        tickangle=-90,  # Rotate x-axis labels for better visibility\n",
    "        showticklabels=True\n",
    "    ),\n",
    "    height=600,  # Set the height of the plot\n",
    "    showlegend=False\n",
    ")\n",
    "fig.show()"
   ]
  },
  {
   "cell_type": "markdown",
   "metadata": {},
   "source": [
    "### Bar plot of `Loan Officer Name` on the base of `Loan Amount`"
   ]
  },
  {
   "cell_type": "code",
   "execution_count": 125,
   "metadata": {},
   "outputs": [
    {
     "data": {
      "application/vnd.plotly.v1+json": {
       "config": {
        "plotlyServerURL": "https://plot.ly"
       },
       "data": [
        {
         "alignmentgroup": "True",
         "hovertemplate": "Loan Officer Name=%{x}<br>Average Loan Amount ($)=%{y}<extra></extra>",
         "legendgroup": "",
         "marker": {
          "color": "#636efa",
          "pattern": {
           "shape": ""
          }
         },
         "name": "",
         "offsetgroup": "",
         "orientation": "v",
         "showlegend": false,
         "textposition": "auto",
         "type": "bar",
         "x": [
          "17281 Kh18",
          "185j t2st t2st2r",
          "18g261 B5c3ch",
          "1b5 Ch4wdh5ry",
          "1s3f Kh18",
          "26g38 B528c48s2j4",
          "2d758d 9393t482",
          "2dw38 81v1rr2t2",
          "6366y 622",
          "63s1 63",
          "63sh1 63",
          "7189r22t Bh1s38",
          "731 9382d1",
          "738 K3",
          "73ch126  Hs5",
          "73ch126 61g45d3s",
          "74h172d W163d",
          "8266y 2ss2s",
          "82x1r C2d284",
          "83kh36 3th192",
          "91tr3c31 Ch42",
          "92t2r 9191z4g645",
          "93x318g Ch28",
          "B4-Y3 8g",
          "C1r64s 61z4",
          "Ch18gh448 622",
          "D2883s 91g16361518",
          "Fr18c3sc4 S1r7328t4",
          "G24rg2 F531x3s",
          "G24rg34s 918t261r4s",
          "G51d16592 9h5",
          "J1s48 T18",
          "J2ss3c1 Ch58g",
          "J377y V1tt2s",
          "J48g Y44k B12",
          "J4h8 61g45d3s",
          "J4s29h B5r2k",
          "K288y W5",
          "R282 91671",
          "R2z1 74d3r3",
          "St29h28 92ts2s",
          "T47 Y35f13 8g",
          "V3v318 D2g531",
          "W48s24k 622"
         ],
         "xaxis": "x",
         "y": [
          29948657,
          963500,
          1615000,
          19197807.85,
          1461750,
          1165000,
          1466550,
          15334213.68,
          36085584.5,
          139498843,
          12010000,
          102302579.08,
          1735302,
          2070400,
          6871723,
          62828571.85,
          112463864.06,
          117290848.12,
          283500,
          650000,
          1122000,
          44184665.04,
          2721750,
          28224000.43,
          14486201.58,
          5715536.5,
          10145762.73,
          3654445,
          1658500,
          1071000,
          43944959.25,
          29512759.14,
          118754196.88,
          9049150,
          2166598.71,
          57049397,
          3599845.94,
          4917700,
          11478506.7,
          13717320,
          9084287.65,
          1004900,
          25016261.56,
          901000
         ],
         "yaxis": "y"
        }
       ],
       "layout": {
        "barmode": "relative",
        "height": 600,
        "legend": {
         "tracegroupgap": 0
        },
        "showlegend": false,
        "template": {
         "data": {
          "bar": [
           {
            "error_x": {
             "color": "#2a3f5f"
            },
            "error_y": {
             "color": "#2a3f5f"
            },
            "marker": {
             "line": {
              "color": "#E5ECF6",
              "width": 0.5
             },
             "pattern": {
              "fillmode": "overlay",
              "size": 10,
              "solidity": 0.2
             }
            },
            "type": "bar"
           }
          ],
          "barpolar": [
           {
            "marker": {
             "line": {
              "color": "#E5ECF6",
              "width": 0.5
             },
             "pattern": {
              "fillmode": "overlay",
              "size": 10,
              "solidity": 0.2
             }
            },
            "type": "barpolar"
           }
          ],
          "carpet": [
           {
            "aaxis": {
             "endlinecolor": "#2a3f5f",
             "gridcolor": "white",
             "linecolor": "white",
             "minorgridcolor": "white",
             "startlinecolor": "#2a3f5f"
            },
            "baxis": {
             "endlinecolor": "#2a3f5f",
             "gridcolor": "white",
             "linecolor": "white",
             "minorgridcolor": "white",
             "startlinecolor": "#2a3f5f"
            },
            "type": "carpet"
           }
          ],
          "choropleth": [
           {
            "colorbar": {
             "outlinewidth": 0,
             "ticks": ""
            },
            "type": "choropleth"
           }
          ],
          "contour": [
           {
            "colorbar": {
             "outlinewidth": 0,
             "ticks": ""
            },
            "colorscale": [
             [
              0,
              "#0d0887"
             ],
             [
              0.1111111111111111,
              "#46039f"
             ],
             [
              0.2222222222222222,
              "#7201a8"
             ],
             [
              0.3333333333333333,
              "#9c179e"
             ],
             [
              0.4444444444444444,
              "#bd3786"
             ],
             [
              0.5555555555555556,
              "#d8576b"
             ],
             [
              0.6666666666666666,
              "#ed7953"
             ],
             [
              0.7777777777777778,
              "#fb9f3a"
             ],
             [
              0.8888888888888888,
              "#fdca26"
             ],
             [
              1,
              "#f0f921"
             ]
            ],
            "type": "contour"
           }
          ],
          "contourcarpet": [
           {
            "colorbar": {
             "outlinewidth": 0,
             "ticks": ""
            },
            "type": "contourcarpet"
           }
          ],
          "heatmap": [
           {
            "colorbar": {
             "outlinewidth": 0,
             "ticks": ""
            },
            "colorscale": [
             [
              0,
              "#0d0887"
             ],
             [
              0.1111111111111111,
              "#46039f"
             ],
             [
              0.2222222222222222,
              "#7201a8"
             ],
             [
              0.3333333333333333,
              "#9c179e"
             ],
             [
              0.4444444444444444,
              "#bd3786"
             ],
             [
              0.5555555555555556,
              "#d8576b"
             ],
             [
              0.6666666666666666,
              "#ed7953"
             ],
             [
              0.7777777777777778,
              "#fb9f3a"
             ],
             [
              0.8888888888888888,
              "#fdca26"
             ],
             [
              1,
              "#f0f921"
             ]
            ],
            "type": "heatmap"
           }
          ],
          "heatmapgl": [
           {
            "colorbar": {
             "outlinewidth": 0,
             "ticks": ""
            },
            "colorscale": [
             [
              0,
              "#0d0887"
             ],
             [
              0.1111111111111111,
              "#46039f"
             ],
             [
              0.2222222222222222,
              "#7201a8"
             ],
             [
              0.3333333333333333,
              "#9c179e"
             ],
             [
              0.4444444444444444,
              "#bd3786"
             ],
             [
              0.5555555555555556,
              "#d8576b"
             ],
             [
              0.6666666666666666,
              "#ed7953"
             ],
             [
              0.7777777777777778,
              "#fb9f3a"
             ],
             [
              0.8888888888888888,
              "#fdca26"
             ],
             [
              1,
              "#f0f921"
             ]
            ],
            "type": "heatmapgl"
           }
          ],
          "histogram": [
           {
            "marker": {
             "pattern": {
              "fillmode": "overlay",
              "size": 10,
              "solidity": 0.2
             }
            },
            "type": "histogram"
           }
          ],
          "histogram2d": [
           {
            "colorbar": {
             "outlinewidth": 0,
             "ticks": ""
            },
            "colorscale": [
             [
              0,
              "#0d0887"
             ],
             [
              0.1111111111111111,
              "#46039f"
             ],
             [
              0.2222222222222222,
              "#7201a8"
             ],
             [
              0.3333333333333333,
              "#9c179e"
             ],
             [
              0.4444444444444444,
              "#bd3786"
             ],
             [
              0.5555555555555556,
              "#d8576b"
             ],
             [
              0.6666666666666666,
              "#ed7953"
             ],
             [
              0.7777777777777778,
              "#fb9f3a"
             ],
             [
              0.8888888888888888,
              "#fdca26"
             ],
             [
              1,
              "#f0f921"
             ]
            ],
            "type": "histogram2d"
           }
          ],
          "histogram2dcontour": [
           {
            "colorbar": {
             "outlinewidth": 0,
             "ticks": ""
            },
            "colorscale": [
             [
              0,
              "#0d0887"
             ],
             [
              0.1111111111111111,
              "#46039f"
             ],
             [
              0.2222222222222222,
              "#7201a8"
             ],
             [
              0.3333333333333333,
              "#9c179e"
             ],
             [
              0.4444444444444444,
              "#bd3786"
             ],
             [
              0.5555555555555556,
              "#d8576b"
             ],
             [
              0.6666666666666666,
              "#ed7953"
             ],
             [
              0.7777777777777778,
              "#fb9f3a"
             ],
             [
              0.8888888888888888,
              "#fdca26"
             ],
             [
              1,
              "#f0f921"
             ]
            ],
            "type": "histogram2dcontour"
           }
          ],
          "mesh3d": [
           {
            "colorbar": {
             "outlinewidth": 0,
             "ticks": ""
            },
            "type": "mesh3d"
           }
          ],
          "parcoords": [
           {
            "line": {
             "colorbar": {
              "outlinewidth": 0,
              "ticks": ""
             }
            },
            "type": "parcoords"
           }
          ],
          "pie": [
           {
            "automargin": true,
            "type": "pie"
           }
          ],
          "scatter": [
           {
            "fillpattern": {
             "fillmode": "overlay",
             "size": 10,
             "solidity": 0.2
            },
            "type": "scatter"
           }
          ],
          "scatter3d": [
           {
            "line": {
             "colorbar": {
              "outlinewidth": 0,
              "ticks": ""
             }
            },
            "marker": {
             "colorbar": {
              "outlinewidth": 0,
              "ticks": ""
             }
            },
            "type": "scatter3d"
           }
          ],
          "scattercarpet": [
           {
            "marker": {
             "colorbar": {
              "outlinewidth": 0,
              "ticks": ""
             }
            },
            "type": "scattercarpet"
           }
          ],
          "scattergeo": [
           {
            "marker": {
             "colorbar": {
              "outlinewidth": 0,
              "ticks": ""
             }
            },
            "type": "scattergeo"
           }
          ],
          "scattergl": [
           {
            "marker": {
             "colorbar": {
              "outlinewidth": 0,
              "ticks": ""
             }
            },
            "type": "scattergl"
           }
          ],
          "scattermapbox": [
           {
            "marker": {
             "colorbar": {
              "outlinewidth": 0,
              "ticks": ""
             }
            },
            "type": "scattermapbox"
           }
          ],
          "scatterpolar": [
           {
            "marker": {
             "colorbar": {
              "outlinewidth": 0,
              "ticks": ""
             }
            },
            "type": "scatterpolar"
           }
          ],
          "scatterpolargl": [
           {
            "marker": {
             "colorbar": {
              "outlinewidth": 0,
              "ticks": ""
             }
            },
            "type": "scatterpolargl"
           }
          ],
          "scatterternary": [
           {
            "marker": {
             "colorbar": {
              "outlinewidth": 0,
              "ticks": ""
             }
            },
            "type": "scatterternary"
           }
          ],
          "surface": [
           {
            "colorbar": {
             "outlinewidth": 0,
             "ticks": ""
            },
            "colorscale": [
             [
              0,
              "#0d0887"
             ],
             [
              0.1111111111111111,
              "#46039f"
             ],
             [
              0.2222222222222222,
              "#7201a8"
             ],
             [
              0.3333333333333333,
              "#9c179e"
             ],
             [
              0.4444444444444444,
              "#bd3786"
             ],
             [
              0.5555555555555556,
              "#d8576b"
             ],
             [
              0.6666666666666666,
              "#ed7953"
             ],
             [
              0.7777777777777778,
              "#fb9f3a"
             ],
             [
              0.8888888888888888,
              "#fdca26"
             ],
             [
              1,
              "#f0f921"
             ]
            ],
            "type": "surface"
           }
          ],
          "table": [
           {
            "cells": {
             "fill": {
              "color": "#EBF0F8"
             },
             "line": {
              "color": "white"
             }
            },
            "header": {
             "fill": {
              "color": "#C8D4E3"
             },
             "line": {
              "color": "white"
             }
            },
            "type": "table"
           }
          ]
         },
         "layout": {
          "annotationdefaults": {
           "arrowcolor": "#2a3f5f",
           "arrowhead": 0,
           "arrowwidth": 1
          },
          "autotypenumbers": "strict",
          "coloraxis": {
           "colorbar": {
            "outlinewidth": 0,
            "ticks": ""
           }
          },
          "colorscale": {
           "diverging": [
            [
             0,
             "#8e0152"
            ],
            [
             0.1,
             "#c51b7d"
            ],
            [
             0.2,
             "#de77ae"
            ],
            [
             0.3,
             "#f1b6da"
            ],
            [
             0.4,
             "#fde0ef"
            ],
            [
             0.5,
             "#f7f7f7"
            ],
            [
             0.6,
             "#e6f5d0"
            ],
            [
             0.7,
             "#b8e186"
            ],
            [
             0.8,
             "#7fbc41"
            ],
            [
             0.9,
             "#4d9221"
            ],
            [
             1,
             "#276419"
            ]
           ],
           "sequential": [
            [
             0,
             "#0d0887"
            ],
            [
             0.1111111111111111,
             "#46039f"
            ],
            [
             0.2222222222222222,
             "#7201a8"
            ],
            [
             0.3333333333333333,
             "#9c179e"
            ],
            [
             0.4444444444444444,
             "#bd3786"
            ],
            [
             0.5555555555555556,
             "#d8576b"
            ],
            [
             0.6666666666666666,
             "#ed7953"
            ],
            [
             0.7777777777777778,
             "#fb9f3a"
            ],
            [
             0.8888888888888888,
             "#fdca26"
            ],
            [
             1,
             "#f0f921"
            ]
           ],
           "sequentialminus": [
            [
             0,
             "#0d0887"
            ],
            [
             0.1111111111111111,
             "#46039f"
            ],
            [
             0.2222222222222222,
             "#7201a8"
            ],
            [
             0.3333333333333333,
             "#9c179e"
            ],
            [
             0.4444444444444444,
             "#bd3786"
            ],
            [
             0.5555555555555556,
             "#d8576b"
            ],
            [
             0.6666666666666666,
             "#ed7953"
            ],
            [
             0.7777777777777778,
             "#fb9f3a"
            ],
            [
             0.8888888888888888,
             "#fdca26"
            ],
            [
             1,
             "#f0f921"
            ]
           ]
          },
          "colorway": [
           "#636efa",
           "#EF553B",
           "#00cc96",
           "#ab63fa",
           "#FFA15A",
           "#19d3f3",
           "#FF6692",
           "#B6E880",
           "#FF97FF",
           "#FECB52"
          ],
          "font": {
           "color": "#2a3f5f"
          },
          "geo": {
           "bgcolor": "white",
           "lakecolor": "white",
           "landcolor": "#E5ECF6",
           "showlakes": true,
           "showland": true,
           "subunitcolor": "white"
          },
          "hoverlabel": {
           "align": "left"
          },
          "hovermode": "closest",
          "mapbox": {
           "style": "light"
          },
          "paper_bgcolor": "white",
          "plot_bgcolor": "#E5ECF6",
          "polar": {
           "angularaxis": {
            "gridcolor": "white",
            "linecolor": "white",
            "ticks": ""
           },
           "bgcolor": "#E5ECF6",
           "radialaxis": {
            "gridcolor": "white",
            "linecolor": "white",
            "ticks": ""
           }
          },
          "scene": {
           "xaxis": {
            "backgroundcolor": "#E5ECF6",
            "gridcolor": "white",
            "gridwidth": 2,
            "linecolor": "white",
            "showbackground": true,
            "ticks": "",
            "zerolinecolor": "white"
           },
           "yaxis": {
            "backgroundcolor": "#E5ECF6",
            "gridcolor": "white",
            "gridwidth": 2,
            "linecolor": "white",
            "showbackground": true,
            "ticks": "",
            "zerolinecolor": "white"
           },
           "zaxis": {
            "backgroundcolor": "#E5ECF6",
            "gridcolor": "white",
            "gridwidth": 2,
            "linecolor": "white",
            "showbackground": true,
            "ticks": "",
            "zerolinecolor": "white"
           }
          },
          "shapedefaults": {
           "line": {
            "color": "#2a3f5f"
           }
          },
          "ternary": {
           "aaxis": {
            "gridcolor": "white",
            "linecolor": "white",
            "ticks": ""
           },
           "baxis": {
            "gridcolor": "white",
            "linecolor": "white",
            "ticks": ""
           },
           "bgcolor": "#E5ECF6",
           "caxis": {
            "gridcolor": "white",
            "linecolor": "white",
            "ticks": ""
           }
          },
          "title": {
           "x": 0.05
          },
          "xaxis": {
           "automargin": true,
           "gridcolor": "white",
           "linecolor": "white",
           "ticks": "",
           "title": {
            "standoff": 15
           },
           "zerolinecolor": "white",
           "zerolinewidth": 2
          },
          "yaxis": {
           "automargin": true,
           "gridcolor": "white",
           "linecolor": "white",
           "ticks": "",
           "title": {
            "standoff": 15
           },
           "zerolinecolor": "white",
           "zerolinewidth": 2
          }
         }
        },
        "title": {
         "text": "Average Loan Amounts by City"
        },
        "xaxis": {
         "anchor": "y",
         "domain": [
          0,
          1
         ],
         "showticklabels": true,
         "tickangle": -90,
         "title": {
          "text": "Loan Officer Name"
         }
        },
        "yaxis": {
         "anchor": "x",
         "domain": [
          0,
          1
         ],
         "title": {
          "text": "Average Loan Amount ($)"
         }
        }
       }
      }
     },
     "metadata": {},
     "output_type": "display_data"
    }
   ],
   "source": [
    "agg_df = df.groupby('Loan Officer Name', as_index=False)['Loan Amount'].sum()\n",
    "\n",
    "# Create a bar plot to show the average Loan Amount by City\n",
    "fig = px.bar(agg_df, x='Loan Officer Name', y='Loan Amount',\n",
    "            title='Average Loan Amounts by City',\n",
    "            labels={'Loan Amount': 'Average Loan Amount ($)', 'Loan Officer Name': 'Loan Officer Name'})\n",
    "\n",
    "# Update layout to improve readability (optional)\n",
    "fig.update_layout(\n",
    "    xaxis=dict(\n",
    "        tickangle=-90,  # Rotate x-axis labels for better visibility\n",
    "        showticklabels=True\n",
    "    ),\n",
    "    height=600,  # Set the height of the plot\n",
    "    showlegend=False\n",
    ")\n",
    "fig.show()"
   ]
  },
  {
   "cell_type": "markdown",
   "metadata": {},
   "source": [
    "### Bar plot of `Time` on the base of `Loan Amount`"
   ]
  },
  {
   "cell_type": "code",
   "execution_count": 124,
   "metadata": {},
   "outputs": [
    {
     "data": {
      "application/vnd.plotly.v1+json": {
       "config": {
        "plotlyServerURL": "https://plot.ly"
       },
       "data": [
        {
         "alignmentgroup": "True",
         "hovertemplate": "Time=%{x}<br>Average Loan Amount ($)=%{y}<extra></extra>",
         "legendgroup": "",
         "marker": {
          "color": "#636efa",
          "pattern": {
           "shape": ""
          }
         },
         "name": "",
         "offsetgroup": "",
         "orientation": "v",
         "showlegend": false,
         "textposition": "auto",
         "type": "bar",
         "x": [
          " 10:00 AM",
          " 10:00 PM",
          " 10:01 AM",
          " 10:01 PM",
          " 10:02 AM",
          " 10:02 PM",
          " 10:03 AM",
          " 10:03 PM",
          " 10:04 AM",
          " 10:04 PM",
          " 10:05 AM",
          " 10:05 PM",
          " 10:06 PM",
          " 10:07 AM",
          " 10:07 PM",
          " 10:08 AM",
          " 10:08 PM",
          " 10:09 PM",
          " 10:10 AM",
          " 10:10 PM",
          " 10:11 AM",
          " 10:11 PM",
          " 10:12 AM",
          " 10:12 PM",
          " 10:13 PM",
          " 10:14 AM",
          " 10:14 PM",
          " 10:15 PM",
          " 10:16 PM",
          " 10:17 AM",
          " 10:17 PM",
          " 10:18 AM",
          " 10:18 PM",
          " 10:19 PM",
          " 10:20 PM",
          " 10:21 AM",
          " 10:21 PM",
          " 10:22 PM",
          " 10:23 AM",
          " 10:23 PM",
          " 10:24 PM",
          " 10:25 AM",
          " 10:25 PM",
          " 10:26 AM",
          " 10:26 PM",
          " 10:27 AM",
          " 10:27 PM",
          " 10:28 PM",
          " 10:29 PM",
          " 10:30 AM",
          " 10:30 PM",
          " 10:31 PM",
          " 10:32 PM",
          " 10:34 AM",
          " 10:34 PM",
          " 10:35 AM",
          " 10:35 PM",
          " 10:36 PM",
          " 10:37 AM",
          " 10:37 PM",
          " 10:38 AM",
          " 10:38 PM",
          " 10:39 AM",
          " 10:40 PM",
          " 10:41 PM",
          " 10:42 PM",
          " 10:43 AM",
          " 10:43 PM",
          " 10:44 PM",
          " 10:45 PM",
          " 10:46 PM",
          " 10:48 PM",
          " 10:49 AM",
          " 10:49 PM",
          " 10:50 PM",
          " 10:51 AM",
          " 10:51 PM",
          " 10:52 PM",
          " 10:53 PM",
          " 10:54 AM",
          " 10:55 PM",
          " 10:56 PM",
          " 10:57 AM",
          " 10:57 PM",
          " 10:58 AM",
          " 10:58 PM",
          " 10:59 AM",
          " 10:59 PM",
          " 11:00 PM",
          " 11:01 AM",
          " 11:01 PM",
          " 11:02 AM",
          " 11:02 PM",
          " 11:03 AM",
          " 11:04 AM",
          " 11:04 PM",
          " 11:05 AM",
          " 11:06 AM",
          " 11:06 PM",
          " 11:07 PM",
          " 11:08 PM",
          " 11:12 PM",
          " 11:13 AM",
          " 11:13 PM",
          " 11:15 PM",
          " 11:16 AM",
          " 11:16 PM",
          " 11:18 AM",
          " 11:18 PM",
          " 11:19 AM",
          " 11:19 PM",
          " 11:20 AM",
          " 11:20 PM",
          " 11:21 PM",
          " 11:22 PM",
          " 11:23 AM",
          " 11:23 PM",
          " 11:24 AM",
          " 11:24 PM",
          " 11:25 PM",
          " 11:26 PM",
          " 11:28 AM",
          " 11:29 PM",
          " 11:31 AM",
          " 11:31 PM",
          " 11:32 AM",
          " 11:32 PM",
          " 11:33 PM",
          " 11:34 PM",
          " 11:35 AM",
          " 11:35 PM",
          " 11:36 AM",
          " 11:36 PM",
          " 11:37 PM",
          " 11:38 AM",
          " 11:40 PM",
          " 11:41 PM",
          " 11:44 PM",
          " 11:45 PM",
          " 11:46 AM",
          " 11:46 PM",
          " 11:47 AM",
          " 11:48 PM",
          " 11:49 PM",
          " 11:50 AM",
          " 11:50 PM",
          " 11:51 AM",
          " 11:51 PM",
          " 11:52 AM",
          " 11:53 PM",
          " 11:54 PM",
          " 11:55 AM",
          " 11:55 PM",
          " 11:56 PM",
          " 11:57 PM",
          " 11:59 AM",
          " 12:00 AM",
          " 12:00 PM",
          " 12:01 AM",
          " 12:01 PM",
          " 12:03 PM",
          " 12:04 AM",
          " 12:05 PM",
          " 12:07 AM",
          " 12:08 AM",
          " 12:08 PM",
          " 12:10 PM",
          " 12:11 PM",
          " 12:13 AM",
          " 12:13 PM",
          " 12:14 AM",
          " 12:14 PM",
          " 12:15 PM",
          " 12:16 AM",
          " 12:17 AM",
          " 12:17 PM",
          " 12:19 AM",
          " 12:20 PM",
          " 12:21 AM",
          " 12:21 PM",
          " 12:22 AM",
          " 12:23 PM",
          " 12:24 PM",
          " 12:25 PM",
          " 12:26 AM",
          " 12:26 PM",
          " 12:27 PM",
          " 12:28 PM",
          " 12:29 PM",
          " 12:30 AM",
          " 12:30 PM",
          " 12:31 AM",
          " 12:32 AM",
          " 12:32 PM",
          " 12:33 PM",
          " 12:34 PM",
          " 12:35 AM",
          " 12:35 PM",
          " 12:36 AM",
          " 12:36 PM",
          " 12:37 AM",
          " 12:37 PM",
          " 12:38 AM",
          " 12:39 PM",
          " 12:40 AM",
          " 12:40 PM",
          " 12:41 AM",
          " 12:42 AM",
          " 12:42 PM",
          " 12:43 PM",
          " 12:44 AM",
          " 12:44 PM",
          " 12:45 PM",
          " 12:46 AM",
          " 12:46 PM",
          " 12:47 PM",
          " 12:48 PM",
          " 12:49 AM",
          " 12:49 PM",
          " 12:50 AM",
          " 12:50 PM",
          " 12:51 PM",
          " 12:52 PM",
          " 12:53 AM",
          " 12:53 PM",
          " 12:54 AM",
          " 12:54 PM",
          " 12:55 PM",
          " 12:57 PM",
          " 12:58 PM",
          " 12:59 PM",
          " 1:00 PM",
          " 1:01 PM",
          " 1:03 AM",
          " 1:03 PM",
          " 1:04 PM",
          " 1:05 PM",
          " 1:06 AM",
          " 1:06 PM",
          " 1:07 PM",
          " 1:08 AM",
          " 1:08 PM",
          " 1:09 PM",
          " 1:10 AM",
          " 1:11 PM",
          " 1:13 AM",
          " 1:13 PM",
          " 1:14 PM",
          " 1:15 PM",
          " 1:16 AM",
          " 1:16 PM",
          " 1:17 AM",
          " 1:18 PM",
          " 1:19 PM",
          " 1:21 PM",
          " 1:22 AM",
          " 1:22 PM",
          " 1:23 PM",
          " 1:24 PM",
          " 1:25 AM",
          " 1:25 PM",
          " 1:26 PM",
          " 1:27 PM",
          " 1:28 AM",
          " 1:28 PM",
          " 1:29 PM",
          " 1:30 PM",
          " 1:32 PM",
          " 1:33 PM",
          " 1:34 PM",
          " 1:35 PM",
          " 1:36 PM",
          " 1:37 PM",
          " 1:38 AM",
          " 1:38 PM",
          " 1:39 AM",
          " 1:39 PM",
          " 1:40 AM",
          " 1:41 PM",
          " 1:42 PM",
          " 1:43 PM",
          " 1:44 PM",
          " 1:46 PM",
          " 1:47 PM",
          " 1:48 PM",
          " 1:50 AM",
          " 1:50 PM",
          " 1:51 PM",
          " 1:52 PM",
          " 1:53 PM",
          " 1:54 PM",
          " 1:55 PM",
          " 1:56 AM",
          " 1:56 PM",
          " 1:57 AM",
          " 1:57 PM",
          " 1:58 AM",
          " 1:58 PM",
          " 1:59 AM",
          " 1:59 PM",
          " 2:00 PM",
          " 2:01 PM",
          " 2:02 PM",
          " 2:05 AM",
          " 2:05 PM",
          " 2:06 AM",
          " 2:06 PM",
          " 2:07 PM",
          " 2:08 PM",
          " 2:09 PM",
          " 2:10 PM",
          " 2:11 PM",
          " 2:12 PM",
          " 2:13 PM",
          " 2:14 PM",
          " 2:16 PM",
          " 2:17 AM",
          " 2:18 AM",
          " 2:18 PM",
          " 2:19 AM",
          " 2:19 PM",
          " 2:22 PM",
          " 2:23 PM",
          " 2:24 AM",
          " 2:24 PM",
          " 2:25 AM",
          " 2:25 PM",
          " 2:26 AM",
          " 2:26 PM",
          " 2:27 AM",
          " 2:27 PM",
          " 2:28 AM",
          " 2:28 PM",
          " 2:29 PM",
          " 2:30 AM",
          " 2:30 PM",
          " 2:31 PM",
          " 2:32 PM",
          " 2:33 PM",
          " 2:34 AM",
          " 2:34 PM",
          " 2:35 PM",
          " 2:36 PM",
          " 2:37 AM",
          " 2:37 PM",
          " 2:38 PM",
          " 2:39 AM",
          " 2:39 PM",
          " 2:40 AM",
          " 2:40 PM",
          " 2:41 PM",
          " 2:42 PM",
          " 2:43 PM",
          " 2:44 PM",
          " 2:45 PM",
          " 2:46 AM",
          " 2:46 PM",
          " 2:47 PM",
          " 2:48 PM",
          " 2:49 PM",
          " 2:50 PM",
          " 2:51 PM",
          " 2:52 PM",
          " 2:53 AM",
          " 2:53 PM",
          " 2:54 PM",
          " 2:55 PM",
          " 2:56 PM",
          " 2:58 PM",
          " 2:59 PM",
          " 3:00 AM",
          " 3:00 PM",
          " 3:01 AM",
          " 3:01 PM",
          " 3:02 PM",
          " 3:03 AM",
          " 3:03 PM",
          " 3:04 AM",
          " 3:04 PM",
          " 3:05 AM",
          " 3:05 PM",
          " 3:06 PM",
          " 3:07 AM",
          " 3:07 PM",
          " 3:08 PM",
          " 3:09 AM",
          " 3:09 PM",
          " 3:10 AM",
          " 3:10 PM",
          " 3:11 PM",
          " 3:12 PM",
          " 3:13 PM",
          " 3:14 PM",
          " 3:15 AM",
          " 3:15 PM",
          " 3:16 PM",
          " 3:17 PM",
          " 3:18 AM",
          " 3:18 PM",
          " 3:19 AM",
          " 3:19 PM",
          " 3:20 PM",
          " 3:22 PM",
          " 3:23 PM",
          " 3:24 PM",
          " 3:25 AM",
          " 3:25 PM",
          " 3:26 PM",
          " 3:27 PM",
          " 3:28 AM",
          " 3:28 PM",
          " 3:29 PM",
          " 3:30 PM",
          " 3:31 PM",
          " 3:32 AM",
          " 3:32 PM",
          " 3:33 AM",
          " 3:33 PM",
          " 3:34 AM",
          " 3:34 PM",
          " 3:35 PM",
          " 3:36 PM",
          " 3:37 AM",
          " 3:37 PM",
          " 3:38 AM",
          " 3:38 PM",
          " 3:39 PM",
          " 3:40 PM",
          " 3:41 PM",
          " 3:42 PM",
          " 3:43 PM",
          " 3:44 AM",
          " 3:44 PM",
          " 3:45 AM",
          " 3:45 PM",
          " 3:46 PM",
          " 3:47 PM",
          " 3:48 PM",
          " 3:49 PM",
          " 3:50 PM",
          " 3:51 PM",
          " 3:52 PM",
          " 3:53 PM",
          " 3:54 PM",
          " 3:55 AM",
          " 3:55 PM",
          " 3:56 PM",
          " 3:57 PM",
          " 3:58 PM",
          " 3:59 PM",
          " 4:01 PM",
          " 4:02 PM",
          " 4:03 AM",
          " 4:03 PM",
          " 4:04 PM",
          " 4:05 PM",
          " 4:06 PM",
          " 4:07 AM",
          " 4:07 PM",
          " 4:08 PM",
          " 4:09 PM",
          " 4:10 PM",
          " 4:11 PM",
          " 4:12 PM",
          " 4:13 PM",
          " 4:14 PM",
          " 4:15 AM",
          " 4:15 PM",
          " 4:16 PM",
          " 4:17 PM",
          " 4:18 AM",
          " 4:18 PM",
          " 4:19 PM",
          " 4:20 PM",
          " 4:21 PM",
          " 4:22 PM",
          " 4:23 PM",
          " 4:24 PM",
          " 4:25 PM",
          " 4:26 AM",
          " 4:26 PM",
          " 4:27 PM",
          " 4:28 PM",
          " 4:29 PM",
          " 4:30 PM",
          " 4:31 PM",
          " 4:32 PM",
          " 4:33 PM",
          " 4:34 PM",
          " 4:35 PM",
          " 4:36 PM",
          " 4:37 PM",
          " 4:38 PM",
          " 4:39 PM",
          " 4:40 AM",
          " 4:40 PM",
          " 4:41 PM",
          " 4:42 PM",
          " 4:43 PM",
          " 4:44 AM",
          " 4:44 PM",
          " 4:45 PM",
          " 4:46 PM",
          " 4:47 PM",
          " 4:48 PM",
          " 4:49 PM",
          " 4:50 AM",
          " 4:50 PM",
          " 4:51 PM",
          " 4:52 PM",
          " 4:53 PM",
          " 4:54 PM",
          " 4:55 PM",
          " 4:56 PM",
          " 4:57 AM",
          " 4:57 PM",
          " 4:58 PM",
          " 4:59 PM",
          " 5:00 PM",
          " 5:01 PM",
          " 5:02 PM",
          " 5:03 PM",
          " 5:04 PM",
          " 5:05 PM",
          " 5:06 PM",
          " 5:07 PM",
          " 5:08 PM",
          " 5:09 PM",
          " 5:10 PM",
          " 5:11 PM",
          " 5:12 PM",
          " 5:13 PM",
          " 5:14 PM",
          " 5:15 AM",
          " 5:15 PM",
          " 5:16 PM",
          " 5:17 PM",
          " 5:18 PM",
          " 5:19 PM",
          " 5:20 PM",
          " 5:21 AM",
          " 5:21 PM",
          " 5:22 PM",
          " 5:23 PM",
          " 5:24 PM",
          " 5:25 PM",
          " 5:26 PM",
          " 5:27 PM",
          " 5:28 PM",
          " 5:29 AM",
          " 5:29 PM",
          " 5:30 PM",
          " 5:31 PM",
          " 5:32 AM",
          " 5:32 PM",
          " 5:33 PM",
          " 5:34 PM",
          " 5:36 PM",
          " 5:37 PM",
          " 5:38 PM",
          " 5:39 PM",
          " 5:40 PM",
          " 5:41 PM",
          " 5:42 PM",
          " 5:43 PM",
          " 5:44 PM",
          " 5:45 PM",
          " 5:46 PM",
          " 5:47 PM",
          " 5:48 PM",
          " 5:49 PM",
          " 5:50 PM",
          " 5:51 AM",
          " 5:51 PM",
          " 5:52 PM",
          " 5:53 PM",
          " 5:54 PM",
          " 5:55 PM",
          " 5:56 PM",
          " 5:57 PM",
          " 5:58 PM",
          " 5:59 PM",
          " 6:00 PM",
          " 6:01 PM",
          " 6:03 AM",
          " 6:03 PM",
          " 6:04 PM",
          " 6:05 AM",
          " 6:05 PM",
          " 6:06 AM",
          " 6:06 PM",
          " 6:07 PM",
          " 6:08 PM",
          " 6:09 PM",
          " 6:10 PM",
          " 6:11 PM",
          " 6:12 PM",
          " 6:13 PM",
          " 6:14 PM",
          " 6:15 AM",
          " 6:15 PM",
          " 6:16 PM",
          " 6:17 PM",
          " 6:18 PM",
          " 6:19 PM",
          " 6:20 PM",
          " 6:21 PM",
          " 6:22 PM",
          " 6:23 PM",
          " 6:24 PM",
          " 6:25 PM",
          " 6:26 PM",
          " 6:27 PM",
          " 6:28 AM",
          " 6:28 PM",
          " 6:29 PM",
          " 6:30 PM",
          " 6:31 PM",
          " 6:32 PM",
          " 6:33 PM",
          " 6:34 PM",
          " 6:36 PM",
          " 6:37 PM",
          " 6:38 PM",
          " 6:39 AM",
          " 6:39 PM",
          " 6:40 PM",
          " 6:41 PM",
          " 6:42 PM",
          " 6:43 PM",
          " 6:44 PM",
          " 6:45 PM",
          " 6:46 PM",
          " 6:47 AM",
          " 6:47 PM",
          " 6:48 PM",
          " 6:49 PM",
          " 6:50 PM",
          " 6:51 AM",
          " 6:51 PM",
          " 6:52 PM",
          " 6:53 PM",
          " 6:54 PM",
          " 6:55 PM",
          " 6:56 PM",
          " 6:57 PM",
          " 6:58 PM",
          " 6:59 AM",
          " 6:59 PM",
          " 7:00 PM",
          " 7:01 AM",
          " 7:01 PM",
          " 7:02 AM",
          " 7:03 PM",
          " 7:04 PM",
          " 7:05 AM",
          " 7:05 PM",
          " 7:06 PM",
          " 7:07 PM",
          " 7:08 PM",
          " 7:09 PM",
          " 7:10 PM",
          " 7:11 PM",
          " 7:12 PM",
          " 7:13 PM",
          " 7:14 PM",
          " 7:15 PM",
          " 7:16 AM",
          " 7:16 PM",
          " 7:17 AM",
          " 7:17 PM",
          " 7:18 AM",
          " 7:18 PM",
          " 7:19 AM",
          " 7:19 PM",
          " 7:20 AM",
          " 7:20 PM",
          " 7:21 PM",
          " 7:22 AM",
          " 7:22 PM",
          " 7:23 PM",
          " 7:24 PM",
          " 7:25 PM",
          " 7:26 AM",
          " 7:26 PM",
          " 7:27 PM",
          " 7:28 AM",
          " 7:28 PM",
          " 7:29 PM",
          " 7:30 PM",
          " 7:31 PM",
          " 7:32 PM",
          " 7:33 PM",
          " 7:34 PM",
          " 7:35 PM",
          " 7:36 PM",
          " 7:37 AM",
          " 7:37 PM",
          " 7:38 AM",
          " 7:38 PM",
          " 7:39 PM",
          " 7:40 PM",
          " 7:41 PM",
          " 7:42 PM",
          " 7:43 PM",
          " 7:44 PM",
          " 7:45 PM",
          " 7:46 PM",
          " 7:47 PM",
          " 7:48 PM",
          " 7:49 PM",
          " 7:50 PM",
          " 7:51 PM",
          " 7:52 PM",
          " 7:53 AM",
          " 7:53 PM",
          " 7:54 AM",
          " 7:54 PM",
          " 7:55 AM",
          " 7:56 PM",
          " 7:57 PM",
          " 7:58 PM",
          " 7:59 PM",
          " 8:00 PM",
          " 8:01 PM",
          " 8:02 AM",
          " 8:02 PM",
          " 8:03 AM",
          " 8:03 PM",
          " 8:04 PM",
          " 8:05 PM",
          " 8:06 PM",
          " 8:07 AM",
          " 8:07 PM",
          " 8:08 PM",
          " 8:09 PM",
          " 8:10 PM",
          " 8:11 PM",
          " 8:12 PM",
          " 8:13 PM",
          " 8:14 PM",
          " 8:15 PM",
          " 8:16 PM",
          " 8:17 PM",
          " 8:18 PM",
          " 8:19 PM",
          " 8:20 PM",
          " 8:21 PM",
          " 8:22 PM",
          " 8:23 PM",
          " 8:24 PM",
          " 8:25 PM",
          " 8:26 PM",
          " 8:27 PM",
          " 8:28 PM",
          " 8:29 PM",
          " 8:30 PM",
          " 8:31 PM",
          " 8:32 PM",
          " 8:33 PM",
          " 8:34 PM",
          " 8:35 AM",
          " 8:35 PM",
          " 8:36 AM",
          " 8:36 PM",
          " 8:37 PM",
          " 8:38 AM",
          " 8:38 PM",
          " 8:39 PM",
          " 8:40 AM",
          " 8:40 PM",
          " 8:41 PM",
          " 8:42 PM",
          " 8:43 PM",
          " 8:44 PM",
          " 8:45 PM",
          " 8:46 PM",
          " 8:47 AM",
          " 8:47 PM",
          " 8:48 PM",
          " 8:49 PM",
          " 8:50 PM",
          " 8:51 AM",
          " 8:51 PM",
          " 8:52 PM",
          " 8:53 PM",
          " 8:54 PM",
          " 8:55 PM",
          " 8:56 AM",
          " 8:56 PM",
          " 8:57 PM",
          " 8:58 PM",
          " 8:59 PM",
          " 9:00 AM",
          " 9:00 PM",
          " 9:01 PM",
          " 9:02 PM",
          " 9:03 AM",
          " 9:03 PM",
          " 9:04 PM",
          " 9:05 AM",
          " 9:05 PM",
          " 9:06 PM",
          " 9:07 PM",
          " 9:08 PM",
          " 9:09 AM",
          " 9:09 PM",
          " 9:10 PM",
          " 9:11 PM",
          " 9:12 AM",
          " 9:12 PM",
          " 9:13 AM",
          " 9:13 PM",
          " 9:14 AM",
          " 9:14 PM",
          " 9:15 PM",
          " 9:16 AM",
          " 9:16 PM",
          " 9:17 PM",
          " 9:18 PM",
          " 9:19 AM",
          " 9:19 PM",
          " 9:20 PM",
          " 9:21 PM",
          " 9:22 PM",
          " 9:23 PM",
          " 9:24 PM",
          " 9:25 PM",
          " 9:26 AM",
          " 9:26 PM",
          " 9:27 AM",
          " 9:27 PM",
          " 9:28 PM",
          " 9:29 PM",
          " 9:30 AM",
          " 9:30 PM",
          " 9:31 AM",
          " 9:31 PM",
          " 9:32 PM",
          " 9:34 PM",
          " 9:35 PM",
          " 9:36 AM",
          " 9:36 PM",
          " 9:37 PM",
          " 9:38 PM",
          " 9:39 AM",
          " 9:39 PM",
          " 9:40 AM",
          " 9:40 PM",
          " 9:41 AM",
          " 9:41 PM",
          " 9:42 AM",
          " 9:42 PM",
          " 9:43 AM",
          " 9:43 PM",
          " 9:44 PM",
          " 9:45 AM",
          " 9:45 PM",
          " 9:46 PM",
          " 9:47 AM",
          " 9:47 PM",
          " 9:48 AM",
          " 9:48 PM",
          " 9:49 AM",
          " 9:49 PM",
          " 9:50 PM",
          " 9:51 PM",
          " 9:52 PM",
          " 9:53 PM",
          " 9:54 AM",
          " 9:54 PM",
          " 9:55 AM",
          " 9:55 PM",
          " 9:56 PM",
          " 9:57 AM",
          " 9:57 PM",
          " 9:58 AM",
          " 9:58 PM",
          " 9:59 PM"
         ],
         "xaxis": "x",
         "y": [
          1168000,
          1173134,
          543000,
          1310000,
          691900,
          4047500,
          645000,
          990000,
          384000,
          1319750,
          499500,
          317000,
          2124500,
          249084,
          1784173,
          644297,
          2526681,
          1699142.6,
          325000,
          770000,
          1428000,
          135000,
          1205000,
          492000,
          984500,
          332000,
          1667250,
          3840850,
          479000,
          215000,
          2687890.65,
          378750,
          664300,
          1121402.38,
          755000,
          405000,
          2528725,
          1270500,
          787000,
          112500,
          860750,
          805325,
          430000,
          1470950,
          808912.5,
          400000,
          108750,
          637000,
          726287.5,
          410000,
          864375,
          455000,
          1325167.5,
          1250000,
          516540.75,
          400000,
          240000,
          1086000,
          412000,
          180000,
          508000,
          1049450,
          230400,
          653000,
          1483136.31,
          550000,
          405000,
          750000,
          533000,
          645000,
          917000,
          235000,
          216000,
          1268000,
          460000,
          1255800,
          3025000,
          1013000,
          1194065,
          400000,
          1032707.34,
          1447000,
          100000,
          2553500,
          499000,
          497000,
          533000,
          422211.63,
          1000000,
          790000,
          750000,
          550000,
          759000,
          400000,
          203500,
          144000,
          360000,
          467500,
          1079000,
          183750,
          316000,
          590750,
          230000,
          1187700,
          1022961.75,
          1178000,
          353479,
          300000,
          600000,
          417000,
          729000,
          200000,
          635000,
          1176200,
          191098.71,
          250000,
          2217503,
          300000,
          470000,
          530000,
          1690000,
          1852500,
          1344502.5,
          625000,
          1353500,
          1127306,
          125500,
          650000,
          977600,
          1054500,
          391200,
          760000,
          565471.88,
          1220000,
          436500,
          238500,
          843000,
          330000,
          1864367.31,
          420000,
          680000,
          340000,
          984000,
          800000,
          1394800,
          466990,
          282500,
          575000,
          2193838,
          800000,
          408000,
          475000,
          1190000,
          340000,
          2186000,
          572000,
          493500,
          1103000,
          650000,
          582607,
          270647,
          1078000,
          638000,
          344000,
          1656058.63,
          371000,
          802411,
          499000,
          850000,
          619000,
          829000,
          417000,
          330000,
          392000,
          495000,
          435000,
          380000,
          993894,
          320000,
          1204000,
          524012.5,
          624500,
          400000,
          450000,
          943250,
          1517000,
          533000,
          260700,
          1345000,
          951000,
          1271000,
          450000,
          583200,
          1306800,
          351000,
          355120,
          339500,
          306000,
          208000,
          1520775,
          856200,
          780000,
          748000,
          338000,
          528000,
          288000,
          400000,
          150000,
          315000,
          829100,
          1378000,
          600325,
          625000,
          342000,
          889000,
          525000,
          1360110,
          150000,
          1289000,
          300000,
          1041500,
          1840743.25,
          300000,
          417000,
          1364959,
          417000,
          650000,
          670000,
          182000,
          1037856,
          254578,
          879494,
          355000,
          750000,
          1396000,
          961439,
          1772479.38,
          350000,
          1388000,
          890000,
          376000,
          1011000,
          1412934,
          326200,
          852000,
          466396.56,
          707478,
          1260000,
          1357591.92,
          398351.25,
          499000,
          616198,
          150000,
          893500,
          533000,
          561600,
          660000,
          540000,
          185000,
          451000,
          356196,
          525000,
          320000,
          288000,
          861800,
          150000,
          955706,
          1178700,
          636000,
          909000,
          1193000,
          572000,
          116000,
          203700,
          506000,
          635000,
          519765.31,
          499000,
          1534981.25,
          965400,
          1197500,
          817500,
          507000,
          432400,
          1354250,
          420024,
          1020700,
          620000,
          2931500,
          270000,
          209000,
          1252500,
          417000,
          1352000,
          496000,
          1016976.94,
          446500,
          2161440,
          451800,
          1217000,
          1897500,
          840200,
          1460082,
          465000,
          943150,
          420000,
          931800,
          1695360,
          1173997,
          2337035,
          552500,
          1043384,
          1822000,
          2200000,
          1247140.63,
          642500,
          545000,
          1350000,
          4582750,
          375000,
          1923750,
          1786117,
          623000,
          280000,
          1370600,
          584250,
          1602042.5,
          584000,
          3354517,
          250000,
          1085500,
          350000,
          1161302,
          1547500,
          424000,
          1900617.88,
          1579575,
          1086388.52,
          1157400,
          520000,
          3025000,
          248000,
          653225.09,
          315000,
          1669725.5,
          1070000,
          304000,
          1640000,
          377000,
          275000,
          2080080.15,
          1723945,
          3432200,
          1043756.14,
          1298115,
          416000,
          1200000,
          1168000,
          304486.88,
          1557500,
          1042400,
          1330500,
          1447099.75,
          385000,
          654500,
          1509611,
          440000,
          1220500,
          1033000,
          2310750,
          348000,
          1029646,
          454800,
          2400437.5,
          389500,
          400000,
          1875600,
          424000,
          2014600,
          600000,
          2490600,
          1359877.75,
          810000,
          2720639.82,
          672000,
          700000,
          1008000,
          310000,
          1262000,
          1416580,
          2731000,
          1403318,
          1352000,
          960000,
          1231700,
          2173000,
          1634000,
          205000,
          2917457,
          315000,
          774200,
          3317250,
          1221936.48,
          1740776.25,
          1633000,
          343151.88,
          936577,
          1050000,
          2053250,
          557000,
          1060000,
          3253455,
          1508337.94,
          1053979.97,
          300000,
          2272927,
          118400,
          1295500,
          350000,
          1185882.74,
          1996000,
          1849000,
          417000,
          1598848.75,
          598500,
          3881250,
          1399000,
          1607500,
          500000,
          1366592.5,
          1640566.25,
          335000,
          1333248.98,
          1030000,
          4214986.11,
          1254000,
          1843700,
          5925330,
          960600,
          873500,
          2525373,
          417000,
          1477000,
          1370400,
          490000,
          1135500,
          778133.13,
          1033297,
          1402898.98,
          738050,
          2143250,
          1525000,
          470000,
          2468500,
          1925750,
          652818.13,
          1655212.25,
          663918.75,
          625500,
          2362800,
          2114777.83,
          1230500,
          811975,
          1311600,
          1770669.37,
          651200,
          1170000,
          4258010.69,
          3071263.05,
          679750,
          348000,
          1086000,
          613000,
          2275000,
          696500,
          444444,
          1148000,
          299475.69,
          4040000,
          635200,
          2651565.39,
          1117500,
          3550000,
          2954960,
          1931603.99,
          413000,
          1435000,
          3669476,
          1993650,
          676000,
          1620240.03,
          1418919,
          2868000,
          2899306.25,
          501500,
          540000,
          970337.5,
          1890143.13,
          1660690,
          468000,
          1661568.45,
          2512000,
          2068500,
          3043892.38,
          220000,
          729350,
          298966,
          992225.9199999999,
          2636044,
          1368900,
          567765,
          2224325,
          1561313.5,
          1857500,
          547593.06,
          8374138.25,
          1583648.75,
          1619700,
          756250,
          1663500,
          1366089.48,
          823247.37,
          1640480,
          1354250,
          1672291.94,
          1822800,
          1046020,
          2391500,
          1351310,
          1884700,
          2679278,
          2473937.31,
          960206,
          630000,
          1691000,
          1972000,
          3689723,
          2896120,
          2280750,
          1383575.92,
          237405,
          3055970,
          1798581.19,
          669000,
          2472000.19,
          2294295.94,
          2423000,
          2970375,
          843600,
          475000,
          2471599.98,
          3663500,
          988000,
          180000,
          3176098.65,
          1151000,
          2323350,
          1052000,
          250000,
          2432951.38,
          1545600,
          737916,
          2351687.5,
          3701550,
          1110000,
          3301737.5,
          2256835,
          655500,
          980500,
          2864494.76,
          2337650,
          973845,
          462250,
          2000000,
          886400,
          795000,
          535000,
          2272000,
          1954452.5,
          1458641.25,
          2791681.61,
          1935498,
          3843500,
          4055457.5,
          597781,
          1737937,
          672900,
          288000,
          1169349.25,
          355700,
          1359000,
          1065000,
          2414565.5,
          3631237,
          1381250,
          1964000,
          1384800,
          776750,
          1431647.5,
          1500000,
          2375586.25,
          3204800,
          1900028,
          834812.5,
          883500,
          3032816,
          1045000,
          3531543.88,
          2170212.5,
          921725,
          2464149.38,
          2262775,
          2744650,
          605250,
          390000,
          2681625,
          3994739.99,
          1040036.5,
          1125950,
          1289000,
          730642.75,
          469037,
          3445767.5,
          1487000,
          200000,
          787073.5,
          1659000,
          3286472.25,
          520100,
          1374375,
          1076557.19,
          360000,
          1327000,
          122735,
          970000,
          2556108,
          975000,
          4338296.56,
          165000,
          2285000,
          1349400,
          2044338.75,
          1680000,
          2926173.5700000003,
          2305200,
          1226534,
          3220800,
          504000,
          2341800,
          1120000,
          259462,
          2014925,
          135000,
          1823750,
          2692528.94,
          325600,
          924780,
          2422195.1,
          1178000,
          1267029.38,
          1424332.83,
          2498750,
          2636512.5,
          2730150,
          3546625,
          1160874.08,
          834300,
          287200,
          3736000,
          247000,
          2916522.31,
          506250,
          1841000,
          300000,
          4081794.4699999997,
          923511,
          2601075.38,
          684000,
          308750,
          1452099.51,
          985970,
          1644463.5,
          3299300,
          400000,
          437125,
          1178000,
          312000,
          2954187,
          2178950,
          1781272.38,
          1506475,
          808300,
          2881448,
          1751000,
          2012615,
          1128690,
          1045000,
          847087.5,
          460000,
          843309.81,
          533000,
          881000,
          2990000,
          2487306.25,
          1961197,
          1301800,
          4097475,
          515200,
          2037750,
          2905465.13,
          1003000,
          1887250,
          1443000,
          600000,
          320000,
          2183000,
          206250,
          1211100,
          647500,
          2069250,
          1186977,
          3614490,
          1056049.56,
          1069767.5,
          3068000,
          36000,
          1207000,
          36000,
          1520000,
          3627141.25,
          3071517.5,
          1775250,
          399000,
          910928,
          1666995.63,
          1600000,
          905250,
          2113700,
          740000,
          2287111.15,
          1225021,
          2313089.13,
          885000,
          434981.25,
          3424500,
          5648792,
          1605000,
          640000,
          2541543.13,
          1388000,
          5071035,
          400000,
          2274250,
          1694053,
          2287250,
          1640391.25,
          1974333.75,
          1689100,
          715000,
          2399530.75,
          2564822.5,
          414700,
          2889737.5,
          648700,
          1471350,
          1327750,
          410000,
          2707245,
          1196022.5,
          417000,
          5813500,
          1899298,
          380000,
          2846237.5,
          1925983.31,
          1545000,
          1971190.65,
          400000,
          1512487.5,
          907300,
          1511000,
          992000,
          279830,
          2065000,
          4266537.5,
          1836700,
          397800,
          1948981.88,
          325000,
          417600,
          3921350,
          1193000,
          1625355.75,
          674297,
          3264573.88,
          2200000,
          1287317.5,
          355000,
          3526418.25,
          2302200,
          625000,
          1123290.75,
          2527479.7,
          1518375,
          1828151,
          695000,
          667200,
          376062.91,
          2693685,
          396000,
          1393000,
          382500,
          2296770,
          266000,
          536629.5,
          2145641.25,
          967950,
          1212463.13,
          1040200,
          1960000,
          154000,
          542673.75,
          1712100,
          1394602.5,
          1279637.5,
          2601100,
          3015500,
          1520300,
          485000,
          2810000,
          500000,
          1017000,
          1159400,
          1536787.44,
          292000,
          522000,
          280000,
          2930076.25,
          1972403.25,
          1165750,
          2241750,
          580000,
          1666000,
          166768.25,
          1158000,
          685000,
          1577000,
          710000,
          635000,
          213500,
          2708666.88,
          289000,
          1586161,
          1178000,
          769000,
          1072000,
          625000,
          2400000,
          1002000,
          197000,
          2059500,
          135000,
          2003600,
          313296,
          2326500,
          490000,
          2482750,
          1135000,
          1165000,
          499000,
          564800,
          533000,
          675000,
          669250,
          412750,
          417000,
          270655,
          281250,
          1248474.03
         ],
         "yaxis": "y"
        }
       ],
       "layout": {
        "barmode": "relative",
        "height": 600,
        "legend": {
         "tracegroupgap": 0
        },
        "showlegend": false,
        "template": {
         "data": {
          "bar": [
           {
            "error_x": {
             "color": "#2a3f5f"
            },
            "error_y": {
             "color": "#2a3f5f"
            },
            "marker": {
             "line": {
              "color": "#E5ECF6",
              "width": 0.5
             },
             "pattern": {
              "fillmode": "overlay",
              "size": 10,
              "solidity": 0.2
             }
            },
            "type": "bar"
           }
          ],
          "barpolar": [
           {
            "marker": {
             "line": {
              "color": "#E5ECF6",
              "width": 0.5
             },
             "pattern": {
              "fillmode": "overlay",
              "size": 10,
              "solidity": 0.2
             }
            },
            "type": "barpolar"
           }
          ],
          "carpet": [
           {
            "aaxis": {
             "endlinecolor": "#2a3f5f",
             "gridcolor": "white",
             "linecolor": "white",
             "minorgridcolor": "white",
             "startlinecolor": "#2a3f5f"
            },
            "baxis": {
             "endlinecolor": "#2a3f5f",
             "gridcolor": "white",
             "linecolor": "white",
             "minorgridcolor": "white",
             "startlinecolor": "#2a3f5f"
            },
            "type": "carpet"
           }
          ],
          "choropleth": [
           {
            "colorbar": {
             "outlinewidth": 0,
             "ticks": ""
            },
            "type": "choropleth"
           }
          ],
          "contour": [
           {
            "colorbar": {
             "outlinewidth": 0,
             "ticks": ""
            },
            "colorscale": [
             [
              0,
              "#0d0887"
             ],
             [
              0.1111111111111111,
              "#46039f"
             ],
             [
              0.2222222222222222,
              "#7201a8"
             ],
             [
              0.3333333333333333,
              "#9c179e"
             ],
             [
              0.4444444444444444,
              "#bd3786"
             ],
             [
              0.5555555555555556,
              "#d8576b"
             ],
             [
              0.6666666666666666,
              "#ed7953"
             ],
             [
              0.7777777777777778,
              "#fb9f3a"
             ],
             [
              0.8888888888888888,
              "#fdca26"
             ],
             [
              1,
              "#f0f921"
             ]
            ],
            "type": "contour"
           }
          ],
          "contourcarpet": [
           {
            "colorbar": {
             "outlinewidth": 0,
             "ticks": ""
            },
            "type": "contourcarpet"
           }
          ],
          "heatmap": [
           {
            "colorbar": {
             "outlinewidth": 0,
             "ticks": ""
            },
            "colorscale": [
             [
              0,
              "#0d0887"
             ],
             [
              0.1111111111111111,
              "#46039f"
             ],
             [
              0.2222222222222222,
              "#7201a8"
             ],
             [
              0.3333333333333333,
              "#9c179e"
             ],
             [
              0.4444444444444444,
              "#bd3786"
             ],
             [
              0.5555555555555556,
              "#d8576b"
             ],
             [
              0.6666666666666666,
              "#ed7953"
             ],
             [
              0.7777777777777778,
              "#fb9f3a"
             ],
             [
              0.8888888888888888,
              "#fdca26"
             ],
             [
              1,
              "#f0f921"
             ]
            ],
            "type": "heatmap"
           }
          ],
          "heatmapgl": [
           {
            "colorbar": {
             "outlinewidth": 0,
             "ticks": ""
            },
            "colorscale": [
             [
              0,
              "#0d0887"
             ],
             [
              0.1111111111111111,
              "#46039f"
             ],
             [
              0.2222222222222222,
              "#7201a8"
             ],
             [
              0.3333333333333333,
              "#9c179e"
             ],
             [
              0.4444444444444444,
              "#bd3786"
             ],
             [
              0.5555555555555556,
              "#d8576b"
             ],
             [
              0.6666666666666666,
              "#ed7953"
             ],
             [
              0.7777777777777778,
              "#fb9f3a"
             ],
             [
              0.8888888888888888,
              "#fdca26"
             ],
             [
              1,
              "#f0f921"
             ]
            ],
            "type": "heatmapgl"
           }
          ],
          "histogram": [
           {
            "marker": {
             "pattern": {
              "fillmode": "overlay",
              "size": 10,
              "solidity": 0.2
             }
            },
            "type": "histogram"
           }
          ],
          "histogram2d": [
           {
            "colorbar": {
             "outlinewidth": 0,
             "ticks": ""
            },
            "colorscale": [
             [
              0,
              "#0d0887"
             ],
             [
              0.1111111111111111,
              "#46039f"
             ],
             [
              0.2222222222222222,
              "#7201a8"
             ],
             [
              0.3333333333333333,
              "#9c179e"
             ],
             [
              0.4444444444444444,
              "#bd3786"
             ],
             [
              0.5555555555555556,
              "#d8576b"
             ],
             [
              0.6666666666666666,
              "#ed7953"
             ],
             [
              0.7777777777777778,
              "#fb9f3a"
             ],
             [
              0.8888888888888888,
              "#fdca26"
             ],
             [
              1,
              "#f0f921"
             ]
            ],
            "type": "histogram2d"
           }
          ],
          "histogram2dcontour": [
           {
            "colorbar": {
             "outlinewidth": 0,
             "ticks": ""
            },
            "colorscale": [
             [
              0,
              "#0d0887"
             ],
             [
              0.1111111111111111,
              "#46039f"
             ],
             [
              0.2222222222222222,
              "#7201a8"
             ],
             [
              0.3333333333333333,
              "#9c179e"
             ],
             [
              0.4444444444444444,
              "#bd3786"
             ],
             [
              0.5555555555555556,
              "#d8576b"
             ],
             [
              0.6666666666666666,
              "#ed7953"
             ],
             [
              0.7777777777777778,
              "#fb9f3a"
             ],
             [
              0.8888888888888888,
              "#fdca26"
             ],
             [
              1,
              "#f0f921"
             ]
            ],
            "type": "histogram2dcontour"
           }
          ],
          "mesh3d": [
           {
            "colorbar": {
             "outlinewidth": 0,
             "ticks": ""
            },
            "type": "mesh3d"
           }
          ],
          "parcoords": [
           {
            "line": {
             "colorbar": {
              "outlinewidth": 0,
              "ticks": ""
             }
            },
            "type": "parcoords"
           }
          ],
          "pie": [
           {
            "automargin": true,
            "type": "pie"
           }
          ],
          "scatter": [
           {
            "fillpattern": {
             "fillmode": "overlay",
             "size": 10,
             "solidity": 0.2
            },
            "type": "scatter"
           }
          ],
          "scatter3d": [
           {
            "line": {
             "colorbar": {
              "outlinewidth": 0,
              "ticks": ""
             }
            },
            "marker": {
             "colorbar": {
              "outlinewidth": 0,
              "ticks": ""
             }
            },
            "type": "scatter3d"
           }
          ],
          "scattercarpet": [
           {
            "marker": {
             "colorbar": {
              "outlinewidth": 0,
              "ticks": ""
             }
            },
            "type": "scattercarpet"
           }
          ],
          "scattergeo": [
           {
            "marker": {
             "colorbar": {
              "outlinewidth": 0,
              "ticks": ""
             }
            },
            "type": "scattergeo"
           }
          ],
          "scattergl": [
           {
            "marker": {
             "colorbar": {
              "outlinewidth": 0,
              "ticks": ""
             }
            },
            "type": "scattergl"
           }
          ],
          "scattermapbox": [
           {
            "marker": {
             "colorbar": {
              "outlinewidth": 0,
              "ticks": ""
             }
            },
            "type": "scattermapbox"
           }
          ],
          "scatterpolar": [
           {
            "marker": {
             "colorbar": {
              "outlinewidth": 0,
              "ticks": ""
             }
            },
            "type": "scatterpolar"
           }
          ],
          "scatterpolargl": [
           {
            "marker": {
             "colorbar": {
              "outlinewidth": 0,
              "ticks": ""
             }
            },
            "type": "scatterpolargl"
           }
          ],
          "scatterternary": [
           {
            "marker": {
             "colorbar": {
              "outlinewidth": 0,
              "ticks": ""
             }
            },
            "type": "scatterternary"
           }
          ],
          "surface": [
           {
            "colorbar": {
             "outlinewidth": 0,
             "ticks": ""
            },
            "colorscale": [
             [
              0,
              "#0d0887"
             ],
             [
              0.1111111111111111,
              "#46039f"
             ],
             [
              0.2222222222222222,
              "#7201a8"
             ],
             [
              0.3333333333333333,
              "#9c179e"
             ],
             [
              0.4444444444444444,
              "#bd3786"
             ],
             [
              0.5555555555555556,
              "#d8576b"
             ],
             [
              0.6666666666666666,
              "#ed7953"
             ],
             [
              0.7777777777777778,
              "#fb9f3a"
             ],
             [
              0.8888888888888888,
              "#fdca26"
             ],
             [
              1,
              "#f0f921"
             ]
            ],
            "type": "surface"
           }
          ],
          "table": [
           {
            "cells": {
             "fill": {
              "color": "#EBF0F8"
             },
             "line": {
              "color": "white"
             }
            },
            "header": {
             "fill": {
              "color": "#C8D4E3"
             },
             "line": {
              "color": "white"
             }
            },
            "type": "table"
           }
          ]
         },
         "layout": {
          "annotationdefaults": {
           "arrowcolor": "#2a3f5f",
           "arrowhead": 0,
           "arrowwidth": 1
          },
          "autotypenumbers": "strict",
          "coloraxis": {
           "colorbar": {
            "outlinewidth": 0,
            "ticks": ""
           }
          },
          "colorscale": {
           "diverging": [
            [
             0,
             "#8e0152"
            ],
            [
             0.1,
             "#c51b7d"
            ],
            [
             0.2,
             "#de77ae"
            ],
            [
             0.3,
             "#f1b6da"
            ],
            [
             0.4,
             "#fde0ef"
            ],
            [
             0.5,
             "#f7f7f7"
            ],
            [
             0.6,
             "#e6f5d0"
            ],
            [
             0.7,
             "#b8e186"
            ],
            [
             0.8,
             "#7fbc41"
            ],
            [
             0.9,
             "#4d9221"
            ],
            [
             1,
             "#276419"
            ]
           ],
           "sequential": [
            [
             0,
             "#0d0887"
            ],
            [
             0.1111111111111111,
             "#46039f"
            ],
            [
             0.2222222222222222,
             "#7201a8"
            ],
            [
             0.3333333333333333,
             "#9c179e"
            ],
            [
             0.4444444444444444,
             "#bd3786"
            ],
            [
             0.5555555555555556,
             "#d8576b"
            ],
            [
             0.6666666666666666,
             "#ed7953"
            ],
            [
             0.7777777777777778,
             "#fb9f3a"
            ],
            [
             0.8888888888888888,
             "#fdca26"
            ],
            [
             1,
             "#f0f921"
            ]
           ],
           "sequentialminus": [
            [
             0,
             "#0d0887"
            ],
            [
             0.1111111111111111,
             "#46039f"
            ],
            [
             0.2222222222222222,
             "#7201a8"
            ],
            [
             0.3333333333333333,
             "#9c179e"
            ],
            [
             0.4444444444444444,
             "#bd3786"
            ],
            [
             0.5555555555555556,
             "#d8576b"
            ],
            [
             0.6666666666666666,
             "#ed7953"
            ],
            [
             0.7777777777777778,
             "#fb9f3a"
            ],
            [
             0.8888888888888888,
             "#fdca26"
            ],
            [
             1,
             "#f0f921"
            ]
           ]
          },
          "colorway": [
           "#636efa",
           "#EF553B",
           "#00cc96",
           "#ab63fa",
           "#FFA15A",
           "#19d3f3",
           "#FF6692",
           "#B6E880",
           "#FF97FF",
           "#FECB52"
          ],
          "font": {
           "color": "#2a3f5f"
          },
          "geo": {
           "bgcolor": "white",
           "lakecolor": "white",
           "landcolor": "#E5ECF6",
           "showlakes": true,
           "showland": true,
           "subunitcolor": "white"
          },
          "hoverlabel": {
           "align": "left"
          },
          "hovermode": "closest",
          "mapbox": {
           "style": "light"
          },
          "paper_bgcolor": "white",
          "plot_bgcolor": "#E5ECF6",
          "polar": {
           "angularaxis": {
            "gridcolor": "white",
            "linecolor": "white",
            "ticks": ""
           },
           "bgcolor": "#E5ECF6",
           "radialaxis": {
            "gridcolor": "white",
            "linecolor": "white",
            "ticks": ""
           }
          },
          "scene": {
           "xaxis": {
            "backgroundcolor": "#E5ECF6",
            "gridcolor": "white",
            "gridwidth": 2,
            "linecolor": "white",
            "showbackground": true,
            "ticks": "",
            "zerolinecolor": "white"
           },
           "yaxis": {
            "backgroundcolor": "#E5ECF6",
            "gridcolor": "white",
            "gridwidth": 2,
            "linecolor": "white",
            "showbackground": true,
            "ticks": "",
            "zerolinecolor": "white"
           },
           "zaxis": {
            "backgroundcolor": "#E5ECF6",
            "gridcolor": "white",
            "gridwidth": 2,
            "linecolor": "white",
            "showbackground": true,
            "ticks": "",
            "zerolinecolor": "white"
           }
          },
          "shapedefaults": {
           "line": {
            "color": "#2a3f5f"
           }
          },
          "ternary": {
           "aaxis": {
            "gridcolor": "white",
            "linecolor": "white",
            "ticks": ""
           },
           "baxis": {
            "gridcolor": "white",
            "linecolor": "white",
            "ticks": ""
           },
           "bgcolor": "#E5ECF6",
           "caxis": {
            "gridcolor": "white",
            "linecolor": "white",
            "ticks": ""
           }
          },
          "title": {
           "x": 0.05
          },
          "xaxis": {
           "automargin": true,
           "gridcolor": "white",
           "linecolor": "white",
           "ticks": "",
           "title": {
            "standoff": 15
           },
           "zerolinecolor": "white",
           "zerolinewidth": 2
          },
          "yaxis": {
           "automargin": true,
           "gridcolor": "white",
           "linecolor": "white",
           "ticks": "",
           "title": {
            "standoff": 15
           },
           "zerolinecolor": "white",
           "zerolinewidth": 2
          }
         }
        },
        "title": {
         "text": "Average Loan Amounts by City"
        },
        "xaxis": {
         "anchor": "y",
         "domain": [
          0,
          1
         ],
         "showticklabels": true,
         "tickangle": -90,
         "title": {
          "text": "Time"
         }
        },
        "yaxis": {
         "anchor": "x",
         "domain": [
          0,
          1
         ],
         "title": {
          "text": "Average Loan Amount ($)"
         }
        }
       }
      }
     },
     "metadata": {},
     "output_type": "display_data"
    }
   ],
   "source": [
    "agg_df = df.groupby('Time', as_index=False)['Loan Amount'].sum()\n",
    "\n",
    "# Create a bar plot to show the average Loan Amount by City\n",
    "fig = px.bar(agg_df, x='Time', y='Loan Amount',\n",
    "            title='Average Loan Amounts by City',\n",
    "            labels={'Loan Amount': 'Average Loan Amount ($)', 'Time': 'Time'})\n",
    "\n",
    "# Update layout to improve readability (optional)\n",
    "fig.update_layout(\n",
    "    xaxis=dict(\n",
    "        tickangle=-90,  # Rotate x-axis labels for better visibility\n",
    "        showticklabels=True\n",
    "    ),\n",
    "    height=600,  # Set the height of the plot\n",
    "    showlegend=False\n",
    ")\n",
    "fig.show()"
   ]
  },
  {
   "cell_type": "code",
   "execution_count": 109,
   "metadata": {},
   "outputs": [],
   "source": []
  },
  {
   "cell_type": "code",
   "execution_count": 123,
   "metadata": {},
   "outputs": [
    {
     "data": {
      "application/vnd.plotly.v1+json": {
       "config": {
        "plotlyServerURL": "https://plot.ly"
       },
       "data": [
        {
         "alignmentgroup": "True",
         "hovertemplate": "State=%{x}<br>Average Loan Amount ($)=%{y}<extra></extra>",
         "legendgroup": "",
         "marker": {
          "color": "#636efa",
          "pattern": {
           "shape": ""
          }
         },
         "name": "",
         "offsetgroup": "",
         "orientation": "v",
         "showlegend": false,
         "textposition": "auto",
         "type": "bar",
         "x": [
          "CT",
          "FL",
          "NC",
          "NJ",
          "NY",
          "PA"
         ],
         "xaxis": "x",
         "y": [
          300386.75,
          280957.9166666667,
          325000,
          352800.52872944693,
          481614.9462562674,
          200306.66666666666
         ],
         "yaxis": "y"
        }
       ],
       "layout": {
        "barmode": "relative",
        "legend": {
         "tracegroupgap": 0
        },
        "template": {
         "data": {
          "bar": [
           {
            "error_x": {
             "color": "#2a3f5f"
            },
            "error_y": {
             "color": "#2a3f5f"
            },
            "marker": {
             "line": {
              "color": "#E5ECF6",
              "width": 0.5
             },
             "pattern": {
              "fillmode": "overlay",
              "size": 10,
              "solidity": 0.2
             }
            },
            "type": "bar"
           }
          ],
          "barpolar": [
           {
            "marker": {
             "line": {
              "color": "#E5ECF6",
              "width": 0.5
             },
             "pattern": {
              "fillmode": "overlay",
              "size": 10,
              "solidity": 0.2
             }
            },
            "type": "barpolar"
           }
          ],
          "carpet": [
           {
            "aaxis": {
             "endlinecolor": "#2a3f5f",
             "gridcolor": "white",
             "linecolor": "white",
             "minorgridcolor": "white",
             "startlinecolor": "#2a3f5f"
            },
            "baxis": {
             "endlinecolor": "#2a3f5f",
             "gridcolor": "white",
             "linecolor": "white",
             "minorgridcolor": "white",
             "startlinecolor": "#2a3f5f"
            },
            "type": "carpet"
           }
          ],
          "choropleth": [
           {
            "colorbar": {
             "outlinewidth": 0,
             "ticks": ""
            },
            "type": "choropleth"
           }
          ],
          "contour": [
           {
            "colorbar": {
             "outlinewidth": 0,
             "ticks": ""
            },
            "colorscale": [
             [
              0,
              "#0d0887"
             ],
             [
              0.1111111111111111,
              "#46039f"
             ],
             [
              0.2222222222222222,
              "#7201a8"
             ],
             [
              0.3333333333333333,
              "#9c179e"
             ],
             [
              0.4444444444444444,
              "#bd3786"
             ],
             [
              0.5555555555555556,
              "#d8576b"
             ],
             [
              0.6666666666666666,
              "#ed7953"
             ],
             [
              0.7777777777777778,
              "#fb9f3a"
             ],
             [
              0.8888888888888888,
              "#fdca26"
             ],
             [
              1,
              "#f0f921"
             ]
            ],
            "type": "contour"
           }
          ],
          "contourcarpet": [
           {
            "colorbar": {
             "outlinewidth": 0,
             "ticks": ""
            },
            "type": "contourcarpet"
           }
          ],
          "heatmap": [
           {
            "colorbar": {
             "outlinewidth": 0,
             "ticks": ""
            },
            "colorscale": [
             [
              0,
              "#0d0887"
             ],
             [
              0.1111111111111111,
              "#46039f"
             ],
             [
              0.2222222222222222,
              "#7201a8"
             ],
             [
              0.3333333333333333,
              "#9c179e"
             ],
             [
              0.4444444444444444,
              "#bd3786"
             ],
             [
              0.5555555555555556,
              "#d8576b"
             ],
             [
              0.6666666666666666,
              "#ed7953"
             ],
             [
              0.7777777777777778,
              "#fb9f3a"
             ],
             [
              0.8888888888888888,
              "#fdca26"
             ],
             [
              1,
              "#f0f921"
             ]
            ],
            "type": "heatmap"
           }
          ],
          "heatmapgl": [
           {
            "colorbar": {
             "outlinewidth": 0,
             "ticks": ""
            },
            "colorscale": [
             [
              0,
              "#0d0887"
             ],
             [
              0.1111111111111111,
              "#46039f"
             ],
             [
              0.2222222222222222,
              "#7201a8"
             ],
             [
              0.3333333333333333,
              "#9c179e"
             ],
             [
              0.4444444444444444,
              "#bd3786"
             ],
             [
              0.5555555555555556,
              "#d8576b"
             ],
             [
              0.6666666666666666,
              "#ed7953"
             ],
             [
              0.7777777777777778,
              "#fb9f3a"
             ],
             [
              0.8888888888888888,
              "#fdca26"
             ],
             [
              1,
              "#f0f921"
             ]
            ],
            "type": "heatmapgl"
           }
          ],
          "histogram": [
           {
            "marker": {
             "pattern": {
              "fillmode": "overlay",
              "size": 10,
              "solidity": 0.2
             }
            },
            "type": "histogram"
           }
          ],
          "histogram2d": [
           {
            "colorbar": {
             "outlinewidth": 0,
             "ticks": ""
            },
            "colorscale": [
             [
              0,
              "#0d0887"
             ],
             [
              0.1111111111111111,
              "#46039f"
             ],
             [
              0.2222222222222222,
              "#7201a8"
             ],
             [
              0.3333333333333333,
              "#9c179e"
             ],
             [
              0.4444444444444444,
              "#bd3786"
             ],
             [
              0.5555555555555556,
              "#d8576b"
             ],
             [
              0.6666666666666666,
              "#ed7953"
             ],
             [
              0.7777777777777778,
              "#fb9f3a"
             ],
             [
              0.8888888888888888,
              "#fdca26"
             ],
             [
              1,
              "#f0f921"
             ]
            ],
            "type": "histogram2d"
           }
          ],
          "histogram2dcontour": [
           {
            "colorbar": {
             "outlinewidth": 0,
             "ticks": ""
            },
            "colorscale": [
             [
              0,
              "#0d0887"
             ],
             [
              0.1111111111111111,
              "#46039f"
             ],
             [
              0.2222222222222222,
              "#7201a8"
             ],
             [
              0.3333333333333333,
              "#9c179e"
             ],
             [
              0.4444444444444444,
              "#bd3786"
             ],
             [
              0.5555555555555556,
              "#d8576b"
             ],
             [
              0.6666666666666666,
              "#ed7953"
             ],
             [
              0.7777777777777778,
              "#fb9f3a"
             ],
             [
              0.8888888888888888,
              "#fdca26"
             ],
             [
              1,
              "#f0f921"
             ]
            ],
            "type": "histogram2dcontour"
           }
          ],
          "mesh3d": [
           {
            "colorbar": {
             "outlinewidth": 0,
             "ticks": ""
            },
            "type": "mesh3d"
           }
          ],
          "parcoords": [
           {
            "line": {
             "colorbar": {
              "outlinewidth": 0,
              "ticks": ""
             }
            },
            "type": "parcoords"
           }
          ],
          "pie": [
           {
            "automargin": true,
            "type": "pie"
           }
          ],
          "scatter": [
           {
            "fillpattern": {
             "fillmode": "overlay",
             "size": 10,
             "solidity": 0.2
            },
            "type": "scatter"
           }
          ],
          "scatter3d": [
           {
            "line": {
             "colorbar": {
              "outlinewidth": 0,
              "ticks": ""
             }
            },
            "marker": {
             "colorbar": {
              "outlinewidth": 0,
              "ticks": ""
             }
            },
            "type": "scatter3d"
           }
          ],
          "scattercarpet": [
           {
            "marker": {
             "colorbar": {
              "outlinewidth": 0,
              "ticks": ""
             }
            },
            "type": "scattercarpet"
           }
          ],
          "scattergeo": [
           {
            "marker": {
             "colorbar": {
              "outlinewidth": 0,
              "ticks": ""
             }
            },
            "type": "scattergeo"
           }
          ],
          "scattergl": [
           {
            "marker": {
             "colorbar": {
              "outlinewidth": 0,
              "ticks": ""
             }
            },
            "type": "scattergl"
           }
          ],
          "scattermapbox": [
           {
            "marker": {
             "colorbar": {
              "outlinewidth": 0,
              "ticks": ""
             }
            },
            "type": "scattermapbox"
           }
          ],
          "scatterpolar": [
           {
            "marker": {
             "colorbar": {
              "outlinewidth": 0,
              "ticks": ""
             }
            },
            "type": "scatterpolar"
           }
          ],
          "scatterpolargl": [
           {
            "marker": {
             "colorbar": {
              "outlinewidth": 0,
              "ticks": ""
             }
            },
            "type": "scatterpolargl"
           }
          ],
          "scatterternary": [
           {
            "marker": {
             "colorbar": {
              "outlinewidth": 0,
              "ticks": ""
             }
            },
            "type": "scatterternary"
           }
          ],
          "surface": [
           {
            "colorbar": {
             "outlinewidth": 0,
             "ticks": ""
            },
            "colorscale": [
             [
              0,
              "#0d0887"
             ],
             [
              0.1111111111111111,
              "#46039f"
             ],
             [
              0.2222222222222222,
              "#7201a8"
             ],
             [
              0.3333333333333333,
              "#9c179e"
             ],
             [
              0.4444444444444444,
              "#bd3786"
             ],
             [
              0.5555555555555556,
              "#d8576b"
             ],
             [
              0.6666666666666666,
              "#ed7953"
             ],
             [
              0.7777777777777778,
              "#fb9f3a"
             ],
             [
              0.8888888888888888,
              "#fdca26"
             ],
             [
              1,
              "#f0f921"
             ]
            ],
            "type": "surface"
           }
          ],
          "table": [
           {
            "cells": {
             "fill": {
              "color": "#EBF0F8"
             },
             "line": {
              "color": "white"
             }
            },
            "header": {
             "fill": {
              "color": "#C8D4E3"
             },
             "line": {
              "color": "white"
             }
            },
            "type": "table"
           }
          ]
         },
         "layout": {
          "annotationdefaults": {
           "arrowcolor": "#2a3f5f",
           "arrowhead": 0,
           "arrowwidth": 1
          },
          "autotypenumbers": "strict",
          "coloraxis": {
           "colorbar": {
            "outlinewidth": 0,
            "ticks": ""
           }
          },
          "colorscale": {
           "diverging": [
            [
             0,
             "#8e0152"
            ],
            [
             0.1,
             "#c51b7d"
            ],
            [
             0.2,
             "#de77ae"
            ],
            [
             0.3,
             "#f1b6da"
            ],
            [
             0.4,
             "#fde0ef"
            ],
            [
             0.5,
             "#f7f7f7"
            ],
            [
             0.6,
             "#e6f5d0"
            ],
            [
             0.7,
             "#b8e186"
            ],
            [
             0.8,
             "#7fbc41"
            ],
            [
             0.9,
             "#4d9221"
            ],
            [
             1,
             "#276419"
            ]
           ],
           "sequential": [
            [
             0,
             "#0d0887"
            ],
            [
             0.1111111111111111,
             "#46039f"
            ],
            [
             0.2222222222222222,
             "#7201a8"
            ],
            [
             0.3333333333333333,
             "#9c179e"
            ],
            [
             0.4444444444444444,
             "#bd3786"
            ],
            [
             0.5555555555555556,
             "#d8576b"
            ],
            [
             0.6666666666666666,
             "#ed7953"
            ],
            [
             0.7777777777777778,
             "#fb9f3a"
            ],
            [
             0.8888888888888888,
             "#fdca26"
            ],
            [
             1,
             "#f0f921"
            ]
           ],
           "sequentialminus": [
            [
             0,
             "#0d0887"
            ],
            [
             0.1111111111111111,
             "#46039f"
            ],
            [
             0.2222222222222222,
             "#7201a8"
            ],
            [
             0.3333333333333333,
             "#9c179e"
            ],
            [
             0.4444444444444444,
             "#bd3786"
            ],
            [
             0.5555555555555556,
             "#d8576b"
            ],
            [
             0.6666666666666666,
             "#ed7953"
            ],
            [
             0.7777777777777778,
             "#fb9f3a"
            ],
            [
             0.8888888888888888,
             "#fdca26"
            ],
            [
             1,
             "#f0f921"
            ]
           ]
          },
          "colorway": [
           "#636efa",
           "#EF553B",
           "#00cc96",
           "#ab63fa",
           "#FFA15A",
           "#19d3f3",
           "#FF6692",
           "#B6E880",
           "#FF97FF",
           "#FECB52"
          ],
          "font": {
           "color": "#2a3f5f"
          },
          "geo": {
           "bgcolor": "white",
           "lakecolor": "white",
           "landcolor": "#E5ECF6",
           "showlakes": true,
           "showland": true,
           "subunitcolor": "white"
          },
          "hoverlabel": {
           "align": "left"
          },
          "hovermode": "closest",
          "mapbox": {
           "style": "light"
          },
          "paper_bgcolor": "white",
          "plot_bgcolor": "#E5ECF6",
          "polar": {
           "angularaxis": {
            "gridcolor": "white",
            "linecolor": "white",
            "ticks": ""
           },
           "bgcolor": "#E5ECF6",
           "radialaxis": {
            "gridcolor": "white",
            "linecolor": "white",
            "ticks": ""
           }
          },
          "scene": {
           "xaxis": {
            "backgroundcolor": "#E5ECF6",
            "gridcolor": "white",
            "gridwidth": 2,
            "linecolor": "white",
            "showbackground": true,
            "ticks": "",
            "zerolinecolor": "white"
           },
           "yaxis": {
            "backgroundcolor": "#E5ECF6",
            "gridcolor": "white",
            "gridwidth": 2,
            "linecolor": "white",
            "showbackground": true,
            "ticks": "",
            "zerolinecolor": "white"
           },
           "zaxis": {
            "backgroundcolor": "#E5ECF6",
            "gridcolor": "white",
            "gridwidth": 2,
            "linecolor": "white",
            "showbackground": true,
            "ticks": "",
            "zerolinecolor": "white"
           }
          },
          "shapedefaults": {
           "line": {
            "color": "#2a3f5f"
           }
          },
          "ternary": {
           "aaxis": {
            "gridcolor": "white",
            "linecolor": "white",
            "ticks": ""
           },
           "baxis": {
            "gridcolor": "white",
            "linecolor": "white",
            "ticks": ""
           },
           "bgcolor": "#E5ECF6",
           "caxis": {
            "gridcolor": "white",
            "linecolor": "white",
            "ticks": ""
           }
          },
          "title": {
           "x": 0.05
          },
          "xaxis": {
           "automargin": true,
           "gridcolor": "white",
           "linecolor": "white",
           "ticks": "",
           "title": {
            "standoff": 15
           },
           "zerolinecolor": "white",
           "zerolinewidth": 2
          },
          "yaxis": {
           "automargin": true,
           "gridcolor": "white",
           "linecolor": "white",
           "ticks": "",
           "title": {
            "standoff": 15
           },
           "zerolinecolor": "white",
           "zerolinewidth": 2
          }
         }
        },
        "title": {
         "text": "Average Loan Amounts by State"
        },
        "xaxis": {
         "anchor": "y",
         "domain": [
          0,
          1
         ],
         "title": {
          "text": "State"
         }
        },
        "yaxis": {
         "anchor": "x",
         "domain": [
          0,
          1
         ],
         "title": {
          "text": "Average Loan Amount ($)"
         }
        }
       }
      }
     },
     "metadata": {},
     "output_type": "display_data"
    },
    {
     "data": {
      "application/vnd.plotly.v1+json": {
       "config": {
        "plotlyServerURL": "https://plot.ly"
       },
       "data": [
        {
         "alignmentgroup": "True",
         "hovertemplate": "Loan Purpose=%{x}<br>Average Loan Amount ($)=%{y}<extra></extra>",
         "legendgroup": "",
         "marker": {
          "color": "#636efa",
          "pattern": {
           "shape": ""
          }
         },
         "name": "",
         "offsetgroup": "",
         "orientation": "v",
         "showlegend": false,
         "textposition": "auto",
         "type": "bar",
         "x": [
          "Cash-Out Refi",
          "Contruction- Perm",
          "No Cash Out Refi",
          "Other",
          "Purchase",
          "Reverse",
          "cash-Out Refi"
         ],
         "xaxis": "x",
         "y": [
          494993.8796842105,
          360000,
          419672.5320322581,
          338061.42,
          435146.6087338045,
          397759.2,
          1300000
         ],
         "yaxis": "y"
        }
       ],
       "layout": {
        "barmode": "relative",
        "legend": {
         "tracegroupgap": 0
        },
        "template": {
         "data": {
          "bar": [
           {
            "error_x": {
             "color": "#2a3f5f"
            },
            "error_y": {
             "color": "#2a3f5f"
            },
            "marker": {
             "line": {
              "color": "#E5ECF6",
              "width": 0.5
             },
             "pattern": {
              "fillmode": "overlay",
              "size": 10,
              "solidity": 0.2
             }
            },
            "type": "bar"
           }
          ],
          "barpolar": [
           {
            "marker": {
             "line": {
              "color": "#E5ECF6",
              "width": 0.5
             },
             "pattern": {
              "fillmode": "overlay",
              "size": 10,
              "solidity": 0.2
             }
            },
            "type": "barpolar"
           }
          ],
          "carpet": [
           {
            "aaxis": {
             "endlinecolor": "#2a3f5f",
             "gridcolor": "white",
             "linecolor": "white",
             "minorgridcolor": "white",
             "startlinecolor": "#2a3f5f"
            },
            "baxis": {
             "endlinecolor": "#2a3f5f",
             "gridcolor": "white",
             "linecolor": "white",
             "minorgridcolor": "white",
             "startlinecolor": "#2a3f5f"
            },
            "type": "carpet"
           }
          ],
          "choropleth": [
           {
            "colorbar": {
             "outlinewidth": 0,
             "ticks": ""
            },
            "type": "choropleth"
           }
          ],
          "contour": [
           {
            "colorbar": {
             "outlinewidth": 0,
             "ticks": ""
            },
            "colorscale": [
             [
              0,
              "#0d0887"
             ],
             [
              0.1111111111111111,
              "#46039f"
             ],
             [
              0.2222222222222222,
              "#7201a8"
             ],
             [
              0.3333333333333333,
              "#9c179e"
             ],
             [
              0.4444444444444444,
              "#bd3786"
             ],
             [
              0.5555555555555556,
              "#d8576b"
             ],
             [
              0.6666666666666666,
              "#ed7953"
             ],
             [
              0.7777777777777778,
              "#fb9f3a"
             ],
             [
              0.8888888888888888,
              "#fdca26"
             ],
             [
              1,
              "#f0f921"
             ]
            ],
            "type": "contour"
           }
          ],
          "contourcarpet": [
           {
            "colorbar": {
             "outlinewidth": 0,
             "ticks": ""
            },
            "type": "contourcarpet"
           }
          ],
          "heatmap": [
           {
            "colorbar": {
             "outlinewidth": 0,
             "ticks": ""
            },
            "colorscale": [
             [
              0,
              "#0d0887"
             ],
             [
              0.1111111111111111,
              "#46039f"
             ],
             [
              0.2222222222222222,
              "#7201a8"
             ],
             [
              0.3333333333333333,
              "#9c179e"
             ],
             [
              0.4444444444444444,
              "#bd3786"
             ],
             [
              0.5555555555555556,
              "#d8576b"
             ],
             [
              0.6666666666666666,
              "#ed7953"
             ],
             [
              0.7777777777777778,
              "#fb9f3a"
             ],
             [
              0.8888888888888888,
              "#fdca26"
             ],
             [
              1,
              "#f0f921"
             ]
            ],
            "type": "heatmap"
           }
          ],
          "heatmapgl": [
           {
            "colorbar": {
             "outlinewidth": 0,
             "ticks": ""
            },
            "colorscale": [
             [
              0,
              "#0d0887"
             ],
             [
              0.1111111111111111,
              "#46039f"
             ],
             [
              0.2222222222222222,
              "#7201a8"
             ],
             [
              0.3333333333333333,
              "#9c179e"
             ],
             [
              0.4444444444444444,
              "#bd3786"
             ],
             [
              0.5555555555555556,
              "#d8576b"
             ],
             [
              0.6666666666666666,
              "#ed7953"
             ],
             [
              0.7777777777777778,
              "#fb9f3a"
             ],
             [
              0.8888888888888888,
              "#fdca26"
             ],
             [
              1,
              "#f0f921"
             ]
            ],
            "type": "heatmapgl"
           }
          ],
          "histogram": [
           {
            "marker": {
             "pattern": {
              "fillmode": "overlay",
              "size": 10,
              "solidity": 0.2
             }
            },
            "type": "histogram"
           }
          ],
          "histogram2d": [
           {
            "colorbar": {
             "outlinewidth": 0,
             "ticks": ""
            },
            "colorscale": [
             [
              0,
              "#0d0887"
             ],
             [
              0.1111111111111111,
              "#46039f"
             ],
             [
              0.2222222222222222,
              "#7201a8"
             ],
             [
              0.3333333333333333,
              "#9c179e"
             ],
             [
              0.4444444444444444,
              "#bd3786"
             ],
             [
              0.5555555555555556,
              "#d8576b"
             ],
             [
              0.6666666666666666,
              "#ed7953"
             ],
             [
              0.7777777777777778,
              "#fb9f3a"
             ],
             [
              0.8888888888888888,
              "#fdca26"
             ],
             [
              1,
              "#f0f921"
             ]
            ],
            "type": "histogram2d"
           }
          ],
          "histogram2dcontour": [
           {
            "colorbar": {
             "outlinewidth": 0,
             "ticks": ""
            },
            "colorscale": [
             [
              0,
              "#0d0887"
             ],
             [
              0.1111111111111111,
              "#46039f"
             ],
             [
              0.2222222222222222,
              "#7201a8"
             ],
             [
              0.3333333333333333,
              "#9c179e"
             ],
             [
              0.4444444444444444,
              "#bd3786"
             ],
             [
              0.5555555555555556,
              "#d8576b"
             ],
             [
              0.6666666666666666,
              "#ed7953"
             ],
             [
              0.7777777777777778,
              "#fb9f3a"
             ],
             [
              0.8888888888888888,
              "#fdca26"
             ],
             [
              1,
              "#f0f921"
             ]
            ],
            "type": "histogram2dcontour"
           }
          ],
          "mesh3d": [
           {
            "colorbar": {
             "outlinewidth": 0,
             "ticks": ""
            },
            "type": "mesh3d"
           }
          ],
          "parcoords": [
           {
            "line": {
             "colorbar": {
              "outlinewidth": 0,
              "ticks": ""
             }
            },
            "type": "parcoords"
           }
          ],
          "pie": [
           {
            "automargin": true,
            "type": "pie"
           }
          ],
          "scatter": [
           {
            "fillpattern": {
             "fillmode": "overlay",
             "size": 10,
             "solidity": 0.2
            },
            "type": "scatter"
           }
          ],
          "scatter3d": [
           {
            "line": {
             "colorbar": {
              "outlinewidth": 0,
              "ticks": ""
             }
            },
            "marker": {
             "colorbar": {
              "outlinewidth": 0,
              "ticks": ""
             }
            },
            "type": "scatter3d"
           }
          ],
          "scattercarpet": [
           {
            "marker": {
             "colorbar": {
              "outlinewidth": 0,
              "ticks": ""
             }
            },
            "type": "scattercarpet"
           }
          ],
          "scattergeo": [
           {
            "marker": {
             "colorbar": {
              "outlinewidth": 0,
              "ticks": ""
             }
            },
            "type": "scattergeo"
           }
          ],
          "scattergl": [
           {
            "marker": {
             "colorbar": {
              "outlinewidth": 0,
              "ticks": ""
             }
            },
            "type": "scattergl"
           }
          ],
          "scattermapbox": [
           {
            "marker": {
             "colorbar": {
              "outlinewidth": 0,
              "ticks": ""
             }
            },
            "type": "scattermapbox"
           }
          ],
          "scatterpolar": [
           {
            "marker": {
             "colorbar": {
              "outlinewidth": 0,
              "ticks": ""
             }
            },
            "type": "scatterpolar"
           }
          ],
          "scatterpolargl": [
           {
            "marker": {
             "colorbar": {
              "outlinewidth": 0,
              "ticks": ""
             }
            },
            "type": "scatterpolargl"
           }
          ],
          "scatterternary": [
           {
            "marker": {
             "colorbar": {
              "outlinewidth": 0,
              "ticks": ""
             }
            },
            "type": "scatterternary"
           }
          ],
          "surface": [
           {
            "colorbar": {
             "outlinewidth": 0,
             "ticks": ""
            },
            "colorscale": [
             [
              0,
              "#0d0887"
             ],
             [
              0.1111111111111111,
              "#46039f"
             ],
             [
              0.2222222222222222,
              "#7201a8"
             ],
             [
              0.3333333333333333,
              "#9c179e"
             ],
             [
              0.4444444444444444,
              "#bd3786"
             ],
             [
              0.5555555555555556,
              "#d8576b"
             ],
             [
              0.6666666666666666,
              "#ed7953"
             ],
             [
              0.7777777777777778,
              "#fb9f3a"
             ],
             [
              0.8888888888888888,
              "#fdca26"
             ],
             [
              1,
              "#f0f921"
             ]
            ],
            "type": "surface"
           }
          ],
          "table": [
           {
            "cells": {
             "fill": {
              "color": "#EBF0F8"
             },
             "line": {
              "color": "white"
             }
            },
            "header": {
             "fill": {
              "color": "#C8D4E3"
             },
             "line": {
              "color": "white"
             }
            },
            "type": "table"
           }
          ]
         },
         "layout": {
          "annotationdefaults": {
           "arrowcolor": "#2a3f5f",
           "arrowhead": 0,
           "arrowwidth": 1
          },
          "autotypenumbers": "strict",
          "coloraxis": {
           "colorbar": {
            "outlinewidth": 0,
            "ticks": ""
           }
          },
          "colorscale": {
           "diverging": [
            [
             0,
             "#8e0152"
            ],
            [
             0.1,
             "#c51b7d"
            ],
            [
             0.2,
             "#de77ae"
            ],
            [
             0.3,
             "#f1b6da"
            ],
            [
             0.4,
             "#fde0ef"
            ],
            [
             0.5,
             "#f7f7f7"
            ],
            [
             0.6,
             "#e6f5d0"
            ],
            [
             0.7,
             "#b8e186"
            ],
            [
             0.8,
             "#7fbc41"
            ],
            [
             0.9,
             "#4d9221"
            ],
            [
             1,
             "#276419"
            ]
           ],
           "sequential": [
            [
             0,
             "#0d0887"
            ],
            [
             0.1111111111111111,
             "#46039f"
            ],
            [
             0.2222222222222222,
             "#7201a8"
            ],
            [
             0.3333333333333333,
             "#9c179e"
            ],
            [
             0.4444444444444444,
             "#bd3786"
            ],
            [
             0.5555555555555556,
             "#d8576b"
            ],
            [
             0.6666666666666666,
             "#ed7953"
            ],
            [
             0.7777777777777778,
             "#fb9f3a"
            ],
            [
             0.8888888888888888,
             "#fdca26"
            ],
            [
             1,
             "#f0f921"
            ]
           ],
           "sequentialminus": [
            [
             0,
             "#0d0887"
            ],
            [
             0.1111111111111111,
             "#46039f"
            ],
            [
             0.2222222222222222,
             "#7201a8"
            ],
            [
             0.3333333333333333,
             "#9c179e"
            ],
            [
             0.4444444444444444,
             "#bd3786"
            ],
            [
             0.5555555555555556,
             "#d8576b"
            ],
            [
             0.6666666666666666,
             "#ed7953"
            ],
            [
             0.7777777777777778,
             "#fb9f3a"
            ],
            [
             0.8888888888888888,
             "#fdca26"
            ],
            [
             1,
             "#f0f921"
            ]
           ]
          },
          "colorway": [
           "#636efa",
           "#EF553B",
           "#00cc96",
           "#ab63fa",
           "#FFA15A",
           "#19d3f3",
           "#FF6692",
           "#B6E880",
           "#FF97FF",
           "#FECB52"
          ],
          "font": {
           "color": "#2a3f5f"
          },
          "geo": {
           "bgcolor": "white",
           "lakecolor": "white",
           "landcolor": "#E5ECF6",
           "showlakes": true,
           "showland": true,
           "subunitcolor": "white"
          },
          "hoverlabel": {
           "align": "left"
          },
          "hovermode": "closest",
          "mapbox": {
           "style": "light"
          },
          "paper_bgcolor": "white",
          "plot_bgcolor": "#E5ECF6",
          "polar": {
           "angularaxis": {
            "gridcolor": "white",
            "linecolor": "white",
            "ticks": ""
           },
           "bgcolor": "#E5ECF6",
           "radialaxis": {
            "gridcolor": "white",
            "linecolor": "white",
            "ticks": ""
           }
          },
          "scene": {
           "xaxis": {
            "backgroundcolor": "#E5ECF6",
            "gridcolor": "white",
            "gridwidth": 2,
            "linecolor": "white",
            "showbackground": true,
            "ticks": "",
            "zerolinecolor": "white"
           },
           "yaxis": {
            "backgroundcolor": "#E5ECF6",
            "gridcolor": "white",
            "gridwidth": 2,
            "linecolor": "white",
            "showbackground": true,
            "ticks": "",
            "zerolinecolor": "white"
           },
           "zaxis": {
            "backgroundcolor": "#E5ECF6",
            "gridcolor": "white",
            "gridwidth": 2,
            "linecolor": "white",
            "showbackground": true,
            "ticks": "",
            "zerolinecolor": "white"
           }
          },
          "shapedefaults": {
           "line": {
            "color": "#2a3f5f"
           }
          },
          "ternary": {
           "aaxis": {
            "gridcolor": "white",
            "linecolor": "white",
            "ticks": ""
           },
           "baxis": {
            "gridcolor": "white",
            "linecolor": "white",
            "ticks": ""
           },
           "bgcolor": "#E5ECF6",
           "caxis": {
            "gridcolor": "white",
            "linecolor": "white",
            "ticks": ""
           }
          },
          "title": {
           "x": 0.05
          },
          "xaxis": {
           "automargin": true,
           "gridcolor": "white",
           "linecolor": "white",
           "ticks": "",
           "title": {
            "standoff": 15
           },
           "zerolinecolor": "white",
           "zerolinewidth": 2
          },
          "yaxis": {
           "automargin": true,
           "gridcolor": "white",
           "linecolor": "white",
           "ticks": "",
           "title": {
            "standoff": 15
           },
           "zerolinecolor": "white",
           "zerolinewidth": 2
          }
         }
        },
        "title": {
         "text": "Average Loan Amounts by Loan Purpose"
        },
        "xaxis": {
         "anchor": "y",
         "domain": [
          0,
          1
         ],
         "title": {
          "text": "Loan Purpose"
         }
        },
        "yaxis": {
         "anchor": "x",
         "domain": [
          0,
          1
         ],
         "title": {
          "text": "Average Loan Amount ($)"
         }
        }
       }
      }
     },
     "metadata": {},
     "output_type": "display_data"
    },
    {
     "data": {
      "application/vnd.plotly.v1+json": {
       "config": {
        "plotlyServerURL": "https://plot.ly"
       },
       "data": [
        {
         "alignmentgroup": "True",
         "hovertemplate": "Is Primary Wage Earner=%{x}<br>Average Loan Amount ($)=%{y}<extra></extra>",
         "legendgroup": "",
         "marker": {
          "color": "#636efa",
          "pattern": {
           "shape": ""
          }
         },
         "name": "",
         "offsetgroup": "",
         "orientation": "v",
         "showlegend": false,
         "textposition": "auto",
         "type": "bar",
         "x": [
          false,
          true
         ],
         "xaxis": "x",
         "y": [
          459245.34118480724,
          409774.2532967033
         ],
         "yaxis": "y"
        }
       ],
       "layout": {
        "barmode": "relative",
        "legend": {
         "tracegroupgap": 0
        },
        "template": {
         "data": {
          "bar": [
           {
            "error_x": {
             "color": "#2a3f5f"
            },
            "error_y": {
             "color": "#2a3f5f"
            },
            "marker": {
             "line": {
              "color": "#E5ECF6",
              "width": 0.5
             },
             "pattern": {
              "fillmode": "overlay",
              "size": 10,
              "solidity": 0.2
             }
            },
            "type": "bar"
           }
          ],
          "barpolar": [
           {
            "marker": {
             "line": {
              "color": "#E5ECF6",
              "width": 0.5
             },
             "pattern": {
              "fillmode": "overlay",
              "size": 10,
              "solidity": 0.2
             }
            },
            "type": "barpolar"
           }
          ],
          "carpet": [
           {
            "aaxis": {
             "endlinecolor": "#2a3f5f",
             "gridcolor": "white",
             "linecolor": "white",
             "minorgridcolor": "white",
             "startlinecolor": "#2a3f5f"
            },
            "baxis": {
             "endlinecolor": "#2a3f5f",
             "gridcolor": "white",
             "linecolor": "white",
             "minorgridcolor": "white",
             "startlinecolor": "#2a3f5f"
            },
            "type": "carpet"
           }
          ],
          "choropleth": [
           {
            "colorbar": {
             "outlinewidth": 0,
             "ticks": ""
            },
            "type": "choropleth"
           }
          ],
          "contour": [
           {
            "colorbar": {
             "outlinewidth": 0,
             "ticks": ""
            },
            "colorscale": [
             [
              0,
              "#0d0887"
             ],
             [
              0.1111111111111111,
              "#46039f"
             ],
             [
              0.2222222222222222,
              "#7201a8"
             ],
             [
              0.3333333333333333,
              "#9c179e"
             ],
             [
              0.4444444444444444,
              "#bd3786"
             ],
             [
              0.5555555555555556,
              "#d8576b"
             ],
             [
              0.6666666666666666,
              "#ed7953"
             ],
             [
              0.7777777777777778,
              "#fb9f3a"
             ],
             [
              0.8888888888888888,
              "#fdca26"
             ],
             [
              1,
              "#f0f921"
             ]
            ],
            "type": "contour"
           }
          ],
          "contourcarpet": [
           {
            "colorbar": {
             "outlinewidth": 0,
             "ticks": ""
            },
            "type": "contourcarpet"
           }
          ],
          "heatmap": [
           {
            "colorbar": {
             "outlinewidth": 0,
             "ticks": ""
            },
            "colorscale": [
             [
              0,
              "#0d0887"
             ],
             [
              0.1111111111111111,
              "#46039f"
             ],
             [
              0.2222222222222222,
              "#7201a8"
             ],
             [
              0.3333333333333333,
              "#9c179e"
             ],
             [
              0.4444444444444444,
              "#bd3786"
             ],
             [
              0.5555555555555556,
              "#d8576b"
             ],
             [
              0.6666666666666666,
              "#ed7953"
             ],
             [
              0.7777777777777778,
              "#fb9f3a"
             ],
             [
              0.8888888888888888,
              "#fdca26"
             ],
             [
              1,
              "#f0f921"
             ]
            ],
            "type": "heatmap"
           }
          ],
          "heatmapgl": [
           {
            "colorbar": {
             "outlinewidth": 0,
             "ticks": ""
            },
            "colorscale": [
             [
              0,
              "#0d0887"
             ],
             [
              0.1111111111111111,
              "#46039f"
             ],
             [
              0.2222222222222222,
              "#7201a8"
             ],
             [
              0.3333333333333333,
              "#9c179e"
             ],
             [
              0.4444444444444444,
              "#bd3786"
             ],
             [
              0.5555555555555556,
              "#d8576b"
             ],
             [
              0.6666666666666666,
              "#ed7953"
             ],
             [
              0.7777777777777778,
              "#fb9f3a"
             ],
             [
              0.8888888888888888,
              "#fdca26"
             ],
             [
              1,
              "#f0f921"
             ]
            ],
            "type": "heatmapgl"
           }
          ],
          "histogram": [
           {
            "marker": {
             "pattern": {
              "fillmode": "overlay",
              "size": 10,
              "solidity": 0.2
             }
            },
            "type": "histogram"
           }
          ],
          "histogram2d": [
           {
            "colorbar": {
             "outlinewidth": 0,
             "ticks": ""
            },
            "colorscale": [
             [
              0,
              "#0d0887"
             ],
             [
              0.1111111111111111,
              "#46039f"
             ],
             [
              0.2222222222222222,
              "#7201a8"
             ],
             [
              0.3333333333333333,
              "#9c179e"
             ],
             [
              0.4444444444444444,
              "#bd3786"
             ],
             [
              0.5555555555555556,
              "#d8576b"
             ],
             [
              0.6666666666666666,
              "#ed7953"
             ],
             [
              0.7777777777777778,
              "#fb9f3a"
             ],
             [
              0.8888888888888888,
              "#fdca26"
             ],
             [
              1,
              "#f0f921"
             ]
            ],
            "type": "histogram2d"
           }
          ],
          "histogram2dcontour": [
           {
            "colorbar": {
             "outlinewidth": 0,
             "ticks": ""
            },
            "colorscale": [
             [
              0,
              "#0d0887"
             ],
             [
              0.1111111111111111,
              "#46039f"
             ],
             [
              0.2222222222222222,
              "#7201a8"
             ],
             [
              0.3333333333333333,
              "#9c179e"
             ],
             [
              0.4444444444444444,
              "#bd3786"
             ],
             [
              0.5555555555555556,
              "#d8576b"
             ],
             [
              0.6666666666666666,
              "#ed7953"
             ],
             [
              0.7777777777777778,
              "#fb9f3a"
             ],
             [
              0.8888888888888888,
              "#fdca26"
             ],
             [
              1,
              "#f0f921"
             ]
            ],
            "type": "histogram2dcontour"
           }
          ],
          "mesh3d": [
           {
            "colorbar": {
             "outlinewidth": 0,
             "ticks": ""
            },
            "type": "mesh3d"
           }
          ],
          "parcoords": [
           {
            "line": {
             "colorbar": {
              "outlinewidth": 0,
              "ticks": ""
             }
            },
            "type": "parcoords"
           }
          ],
          "pie": [
           {
            "automargin": true,
            "type": "pie"
           }
          ],
          "scatter": [
           {
            "fillpattern": {
             "fillmode": "overlay",
             "size": 10,
             "solidity": 0.2
            },
            "type": "scatter"
           }
          ],
          "scatter3d": [
           {
            "line": {
             "colorbar": {
              "outlinewidth": 0,
              "ticks": ""
             }
            },
            "marker": {
             "colorbar": {
              "outlinewidth": 0,
              "ticks": ""
             }
            },
            "type": "scatter3d"
           }
          ],
          "scattercarpet": [
           {
            "marker": {
             "colorbar": {
              "outlinewidth": 0,
              "ticks": ""
             }
            },
            "type": "scattercarpet"
           }
          ],
          "scattergeo": [
           {
            "marker": {
             "colorbar": {
              "outlinewidth": 0,
              "ticks": ""
             }
            },
            "type": "scattergeo"
           }
          ],
          "scattergl": [
           {
            "marker": {
             "colorbar": {
              "outlinewidth": 0,
              "ticks": ""
             }
            },
            "type": "scattergl"
           }
          ],
          "scattermapbox": [
           {
            "marker": {
             "colorbar": {
              "outlinewidth": 0,
              "ticks": ""
             }
            },
            "type": "scattermapbox"
           }
          ],
          "scatterpolar": [
           {
            "marker": {
             "colorbar": {
              "outlinewidth": 0,
              "ticks": ""
             }
            },
            "type": "scatterpolar"
           }
          ],
          "scatterpolargl": [
           {
            "marker": {
             "colorbar": {
              "outlinewidth": 0,
              "ticks": ""
             }
            },
            "type": "scatterpolargl"
           }
          ],
          "scatterternary": [
           {
            "marker": {
             "colorbar": {
              "outlinewidth": 0,
              "ticks": ""
             }
            },
            "type": "scatterternary"
           }
          ],
          "surface": [
           {
            "colorbar": {
             "outlinewidth": 0,
             "ticks": ""
            },
            "colorscale": [
             [
              0,
              "#0d0887"
             ],
             [
              0.1111111111111111,
              "#46039f"
             ],
             [
              0.2222222222222222,
              "#7201a8"
             ],
             [
              0.3333333333333333,
              "#9c179e"
             ],
             [
              0.4444444444444444,
              "#bd3786"
             ],
             [
              0.5555555555555556,
              "#d8576b"
             ],
             [
              0.6666666666666666,
              "#ed7953"
             ],
             [
              0.7777777777777778,
              "#fb9f3a"
             ],
             [
              0.8888888888888888,
              "#fdca26"
             ],
             [
              1,
              "#f0f921"
             ]
            ],
            "type": "surface"
           }
          ],
          "table": [
           {
            "cells": {
             "fill": {
              "color": "#EBF0F8"
             },
             "line": {
              "color": "white"
             }
            },
            "header": {
             "fill": {
              "color": "#C8D4E3"
             },
             "line": {
              "color": "white"
             }
            },
            "type": "table"
           }
          ]
         },
         "layout": {
          "annotationdefaults": {
           "arrowcolor": "#2a3f5f",
           "arrowhead": 0,
           "arrowwidth": 1
          },
          "autotypenumbers": "strict",
          "coloraxis": {
           "colorbar": {
            "outlinewidth": 0,
            "ticks": ""
           }
          },
          "colorscale": {
           "diverging": [
            [
             0,
             "#8e0152"
            ],
            [
             0.1,
             "#c51b7d"
            ],
            [
             0.2,
             "#de77ae"
            ],
            [
             0.3,
             "#f1b6da"
            ],
            [
             0.4,
             "#fde0ef"
            ],
            [
             0.5,
             "#f7f7f7"
            ],
            [
             0.6,
             "#e6f5d0"
            ],
            [
             0.7,
             "#b8e186"
            ],
            [
             0.8,
             "#7fbc41"
            ],
            [
             0.9,
             "#4d9221"
            ],
            [
             1,
             "#276419"
            ]
           ],
           "sequential": [
            [
             0,
             "#0d0887"
            ],
            [
             0.1111111111111111,
             "#46039f"
            ],
            [
             0.2222222222222222,
             "#7201a8"
            ],
            [
             0.3333333333333333,
             "#9c179e"
            ],
            [
             0.4444444444444444,
             "#bd3786"
            ],
            [
             0.5555555555555556,
             "#d8576b"
            ],
            [
             0.6666666666666666,
             "#ed7953"
            ],
            [
             0.7777777777777778,
             "#fb9f3a"
            ],
            [
             0.8888888888888888,
             "#fdca26"
            ],
            [
             1,
             "#f0f921"
            ]
           ],
           "sequentialminus": [
            [
             0,
             "#0d0887"
            ],
            [
             0.1111111111111111,
             "#46039f"
            ],
            [
             0.2222222222222222,
             "#7201a8"
            ],
            [
             0.3333333333333333,
             "#9c179e"
            ],
            [
             0.4444444444444444,
             "#bd3786"
            ],
            [
             0.5555555555555556,
             "#d8576b"
            ],
            [
             0.6666666666666666,
             "#ed7953"
            ],
            [
             0.7777777777777778,
             "#fb9f3a"
            ],
            [
             0.8888888888888888,
             "#fdca26"
            ],
            [
             1,
             "#f0f921"
            ]
           ]
          },
          "colorway": [
           "#636efa",
           "#EF553B",
           "#00cc96",
           "#ab63fa",
           "#FFA15A",
           "#19d3f3",
           "#FF6692",
           "#B6E880",
           "#FF97FF",
           "#FECB52"
          ],
          "font": {
           "color": "#2a3f5f"
          },
          "geo": {
           "bgcolor": "white",
           "lakecolor": "white",
           "landcolor": "#E5ECF6",
           "showlakes": true,
           "showland": true,
           "subunitcolor": "white"
          },
          "hoverlabel": {
           "align": "left"
          },
          "hovermode": "closest",
          "mapbox": {
           "style": "light"
          },
          "paper_bgcolor": "white",
          "plot_bgcolor": "#E5ECF6",
          "polar": {
           "angularaxis": {
            "gridcolor": "white",
            "linecolor": "white",
            "ticks": ""
           },
           "bgcolor": "#E5ECF6",
           "radialaxis": {
            "gridcolor": "white",
            "linecolor": "white",
            "ticks": ""
           }
          },
          "scene": {
           "xaxis": {
            "backgroundcolor": "#E5ECF6",
            "gridcolor": "white",
            "gridwidth": 2,
            "linecolor": "white",
            "showbackground": true,
            "ticks": "",
            "zerolinecolor": "white"
           },
           "yaxis": {
            "backgroundcolor": "#E5ECF6",
            "gridcolor": "white",
            "gridwidth": 2,
            "linecolor": "white",
            "showbackground": true,
            "ticks": "",
            "zerolinecolor": "white"
           },
           "zaxis": {
            "backgroundcolor": "#E5ECF6",
            "gridcolor": "white",
            "gridwidth": 2,
            "linecolor": "white",
            "showbackground": true,
            "ticks": "",
            "zerolinecolor": "white"
           }
          },
          "shapedefaults": {
           "line": {
            "color": "#2a3f5f"
           }
          },
          "ternary": {
           "aaxis": {
            "gridcolor": "white",
            "linecolor": "white",
            "ticks": ""
           },
           "baxis": {
            "gridcolor": "white",
            "linecolor": "white",
            "ticks": ""
           },
           "bgcolor": "#E5ECF6",
           "caxis": {
            "gridcolor": "white",
            "linecolor": "white",
            "ticks": ""
           }
          },
          "title": {
           "x": 0.05
          },
          "xaxis": {
           "automargin": true,
           "gridcolor": "white",
           "linecolor": "white",
           "ticks": "",
           "title": {
            "standoff": 15
           },
           "zerolinecolor": "white",
           "zerolinewidth": 2
          },
          "yaxis": {
           "automargin": true,
           "gridcolor": "white",
           "linecolor": "white",
           "ticks": "",
           "title": {
            "standoff": 15
           },
           "zerolinecolor": "white",
           "zerolinewidth": 2
          }
         }
        },
        "title": {
         "text": "Average Loan Amounts by Is Primary Wage Earner"
        },
        "xaxis": {
         "anchor": "y",
         "domain": [
          0,
          1
         ],
         "title": {
          "text": "Is Primary Wage Earner"
         }
        },
        "yaxis": {
         "anchor": "x",
         "domain": [
          0,
          1
         ],
         "title": {
          "text": "Average Loan Amount ($)"
         }
        }
       }
      }
     },
     "metadata": {},
     "output_type": "display_data"
    },
    {
     "data": {
      "application/vnd.plotly.v1+json": {
       "config": {
        "plotlyServerURL": "https://plot.ly"
       },
       "data": [
        {
         "alignmentgroup": "True",
         "hovertemplate": "Income Type=%{x}<br>Average Loan Amount ($)=%{y}<extra></extra>",
         "legendgroup": "",
         "marker": {
          "color": "#636efa",
          "pattern": {
           "shape": ""
          }
         },
         "name": "",
         "offsetgroup": "",
         "orientation": "v",
         "showlegend": false,
         "textposition": "auto",
         "type": "bar",
         "x": [
          "Full",
          "NoEmployment",
          "NoRatio",
          "Stated"
         ],
         "xaxis": "x",
         "y": [
          437225.1255960549,
          420069.44444444444,
          429087.8223255814,
          616518.925925926
         ],
         "yaxis": "y"
        }
       ],
       "layout": {
        "barmode": "relative",
        "legend": {
         "tracegroupgap": 0
        },
        "template": {
         "data": {
          "bar": [
           {
            "error_x": {
             "color": "#2a3f5f"
            },
            "error_y": {
             "color": "#2a3f5f"
            },
            "marker": {
             "line": {
              "color": "#E5ECF6",
              "width": 0.5
             },
             "pattern": {
              "fillmode": "overlay",
              "size": 10,
              "solidity": 0.2
             }
            },
            "type": "bar"
           }
          ],
          "barpolar": [
           {
            "marker": {
             "line": {
              "color": "#E5ECF6",
              "width": 0.5
             },
             "pattern": {
              "fillmode": "overlay",
              "size": 10,
              "solidity": 0.2
             }
            },
            "type": "barpolar"
           }
          ],
          "carpet": [
           {
            "aaxis": {
             "endlinecolor": "#2a3f5f",
             "gridcolor": "white",
             "linecolor": "white",
             "minorgridcolor": "white",
             "startlinecolor": "#2a3f5f"
            },
            "baxis": {
             "endlinecolor": "#2a3f5f",
             "gridcolor": "white",
             "linecolor": "white",
             "minorgridcolor": "white",
             "startlinecolor": "#2a3f5f"
            },
            "type": "carpet"
           }
          ],
          "choropleth": [
           {
            "colorbar": {
             "outlinewidth": 0,
             "ticks": ""
            },
            "type": "choropleth"
           }
          ],
          "contour": [
           {
            "colorbar": {
             "outlinewidth": 0,
             "ticks": ""
            },
            "colorscale": [
             [
              0,
              "#0d0887"
             ],
             [
              0.1111111111111111,
              "#46039f"
             ],
             [
              0.2222222222222222,
              "#7201a8"
             ],
             [
              0.3333333333333333,
              "#9c179e"
             ],
             [
              0.4444444444444444,
              "#bd3786"
             ],
             [
              0.5555555555555556,
              "#d8576b"
             ],
             [
              0.6666666666666666,
              "#ed7953"
             ],
             [
              0.7777777777777778,
              "#fb9f3a"
             ],
             [
              0.8888888888888888,
              "#fdca26"
             ],
             [
              1,
              "#f0f921"
             ]
            ],
            "type": "contour"
           }
          ],
          "contourcarpet": [
           {
            "colorbar": {
             "outlinewidth": 0,
             "ticks": ""
            },
            "type": "contourcarpet"
           }
          ],
          "heatmap": [
           {
            "colorbar": {
             "outlinewidth": 0,
             "ticks": ""
            },
            "colorscale": [
             [
              0,
              "#0d0887"
             ],
             [
              0.1111111111111111,
              "#46039f"
             ],
             [
              0.2222222222222222,
              "#7201a8"
             ],
             [
              0.3333333333333333,
              "#9c179e"
             ],
             [
              0.4444444444444444,
              "#bd3786"
             ],
             [
              0.5555555555555556,
              "#d8576b"
             ],
             [
              0.6666666666666666,
              "#ed7953"
             ],
             [
              0.7777777777777778,
              "#fb9f3a"
             ],
             [
              0.8888888888888888,
              "#fdca26"
             ],
             [
              1,
              "#f0f921"
             ]
            ],
            "type": "heatmap"
           }
          ],
          "heatmapgl": [
           {
            "colorbar": {
             "outlinewidth": 0,
             "ticks": ""
            },
            "colorscale": [
             [
              0,
              "#0d0887"
             ],
             [
              0.1111111111111111,
              "#46039f"
             ],
             [
              0.2222222222222222,
              "#7201a8"
             ],
             [
              0.3333333333333333,
              "#9c179e"
             ],
             [
              0.4444444444444444,
              "#bd3786"
             ],
             [
              0.5555555555555556,
              "#d8576b"
             ],
             [
              0.6666666666666666,
              "#ed7953"
             ],
             [
              0.7777777777777778,
              "#fb9f3a"
             ],
             [
              0.8888888888888888,
              "#fdca26"
             ],
             [
              1,
              "#f0f921"
             ]
            ],
            "type": "heatmapgl"
           }
          ],
          "histogram": [
           {
            "marker": {
             "pattern": {
              "fillmode": "overlay",
              "size": 10,
              "solidity": 0.2
             }
            },
            "type": "histogram"
           }
          ],
          "histogram2d": [
           {
            "colorbar": {
             "outlinewidth": 0,
             "ticks": ""
            },
            "colorscale": [
             [
              0,
              "#0d0887"
             ],
             [
              0.1111111111111111,
              "#46039f"
             ],
             [
              0.2222222222222222,
              "#7201a8"
             ],
             [
              0.3333333333333333,
              "#9c179e"
             ],
             [
              0.4444444444444444,
              "#bd3786"
             ],
             [
              0.5555555555555556,
              "#d8576b"
             ],
             [
              0.6666666666666666,
              "#ed7953"
             ],
             [
              0.7777777777777778,
              "#fb9f3a"
             ],
             [
              0.8888888888888888,
              "#fdca26"
             ],
             [
              1,
              "#f0f921"
             ]
            ],
            "type": "histogram2d"
           }
          ],
          "histogram2dcontour": [
           {
            "colorbar": {
             "outlinewidth": 0,
             "ticks": ""
            },
            "colorscale": [
             [
              0,
              "#0d0887"
             ],
             [
              0.1111111111111111,
              "#46039f"
             ],
             [
              0.2222222222222222,
              "#7201a8"
             ],
             [
              0.3333333333333333,
              "#9c179e"
             ],
             [
              0.4444444444444444,
              "#bd3786"
             ],
             [
              0.5555555555555556,
              "#d8576b"
             ],
             [
              0.6666666666666666,
              "#ed7953"
             ],
             [
              0.7777777777777778,
              "#fb9f3a"
             ],
             [
              0.8888888888888888,
              "#fdca26"
             ],
             [
              1,
              "#f0f921"
             ]
            ],
            "type": "histogram2dcontour"
           }
          ],
          "mesh3d": [
           {
            "colorbar": {
             "outlinewidth": 0,
             "ticks": ""
            },
            "type": "mesh3d"
           }
          ],
          "parcoords": [
           {
            "line": {
             "colorbar": {
              "outlinewidth": 0,
              "ticks": ""
             }
            },
            "type": "parcoords"
           }
          ],
          "pie": [
           {
            "automargin": true,
            "type": "pie"
           }
          ],
          "scatter": [
           {
            "fillpattern": {
             "fillmode": "overlay",
             "size": 10,
             "solidity": 0.2
            },
            "type": "scatter"
           }
          ],
          "scatter3d": [
           {
            "line": {
             "colorbar": {
              "outlinewidth": 0,
              "ticks": ""
             }
            },
            "marker": {
             "colorbar": {
              "outlinewidth": 0,
              "ticks": ""
             }
            },
            "type": "scatter3d"
           }
          ],
          "scattercarpet": [
           {
            "marker": {
             "colorbar": {
              "outlinewidth": 0,
              "ticks": ""
             }
            },
            "type": "scattercarpet"
           }
          ],
          "scattergeo": [
           {
            "marker": {
             "colorbar": {
              "outlinewidth": 0,
              "ticks": ""
             }
            },
            "type": "scattergeo"
           }
          ],
          "scattergl": [
           {
            "marker": {
             "colorbar": {
              "outlinewidth": 0,
              "ticks": ""
             }
            },
            "type": "scattergl"
           }
          ],
          "scattermapbox": [
           {
            "marker": {
             "colorbar": {
              "outlinewidth": 0,
              "ticks": ""
             }
            },
            "type": "scattermapbox"
           }
          ],
          "scatterpolar": [
           {
            "marker": {
             "colorbar": {
              "outlinewidth": 0,
              "ticks": ""
             }
            },
            "type": "scatterpolar"
           }
          ],
          "scatterpolargl": [
           {
            "marker": {
             "colorbar": {
              "outlinewidth": 0,
              "ticks": ""
             }
            },
            "type": "scatterpolargl"
           }
          ],
          "scatterternary": [
           {
            "marker": {
             "colorbar": {
              "outlinewidth": 0,
              "ticks": ""
             }
            },
            "type": "scatterternary"
           }
          ],
          "surface": [
           {
            "colorbar": {
             "outlinewidth": 0,
             "ticks": ""
            },
            "colorscale": [
             [
              0,
              "#0d0887"
             ],
             [
              0.1111111111111111,
              "#46039f"
             ],
             [
              0.2222222222222222,
              "#7201a8"
             ],
             [
              0.3333333333333333,
              "#9c179e"
             ],
             [
              0.4444444444444444,
              "#bd3786"
             ],
             [
              0.5555555555555556,
              "#d8576b"
             ],
             [
              0.6666666666666666,
              "#ed7953"
             ],
             [
              0.7777777777777778,
              "#fb9f3a"
             ],
             [
              0.8888888888888888,
              "#fdca26"
             ],
             [
              1,
              "#f0f921"
             ]
            ],
            "type": "surface"
           }
          ],
          "table": [
           {
            "cells": {
             "fill": {
              "color": "#EBF0F8"
             },
             "line": {
              "color": "white"
             }
            },
            "header": {
             "fill": {
              "color": "#C8D4E3"
             },
             "line": {
              "color": "white"
             }
            },
            "type": "table"
           }
          ]
         },
         "layout": {
          "annotationdefaults": {
           "arrowcolor": "#2a3f5f",
           "arrowhead": 0,
           "arrowwidth": 1
          },
          "autotypenumbers": "strict",
          "coloraxis": {
           "colorbar": {
            "outlinewidth": 0,
            "ticks": ""
           }
          },
          "colorscale": {
           "diverging": [
            [
             0,
             "#8e0152"
            ],
            [
             0.1,
             "#c51b7d"
            ],
            [
             0.2,
             "#de77ae"
            ],
            [
             0.3,
             "#f1b6da"
            ],
            [
             0.4,
             "#fde0ef"
            ],
            [
             0.5,
             "#f7f7f7"
            ],
            [
             0.6,
             "#e6f5d0"
            ],
            [
             0.7,
             "#b8e186"
            ],
            [
             0.8,
             "#7fbc41"
            ],
            [
             0.9,
             "#4d9221"
            ],
            [
             1,
             "#276419"
            ]
           ],
           "sequential": [
            [
             0,
             "#0d0887"
            ],
            [
             0.1111111111111111,
             "#46039f"
            ],
            [
             0.2222222222222222,
             "#7201a8"
            ],
            [
             0.3333333333333333,
             "#9c179e"
            ],
            [
             0.4444444444444444,
             "#bd3786"
            ],
            [
             0.5555555555555556,
             "#d8576b"
            ],
            [
             0.6666666666666666,
             "#ed7953"
            ],
            [
             0.7777777777777778,
             "#fb9f3a"
            ],
            [
             0.8888888888888888,
             "#fdca26"
            ],
            [
             1,
             "#f0f921"
            ]
           ],
           "sequentialminus": [
            [
             0,
             "#0d0887"
            ],
            [
             0.1111111111111111,
             "#46039f"
            ],
            [
             0.2222222222222222,
             "#7201a8"
            ],
            [
             0.3333333333333333,
             "#9c179e"
            ],
            [
             0.4444444444444444,
             "#bd3786"
            ],
            [
             0.5555555555555556,
             "#d8576b"
            ],
            [
             0.6666666666666666,
             "#ed7953"
            ],
            [
             0.7777777777777778,
             "#fb9f3a"
            ],
            [
             0.8888888888888888,
             "#fdca26"
            ],
            [
             1,
             "#f0f921"
            ]
           ]
          },
          "colorway": [
           "#636efa",
           "#EF553B",
           "#00cc96",
           "#ab63fa",
           "#FFA15A",
           "#19d3f3",
           "#FF6692",
           "#B6E880",
           "#FF97FF",
           "#FECB52"
          ],
          "font": {
           "color": "#2a3f5f"
          },
          "geo": {
           "bgcolor": "white",
           "lakecolor": "white",
           "landcolor": "#E5ECF6",
           "showlakes": true,
           "showland": true,
           "subunitcolor": "white"
          },
          "hoverlabel": {
           "align": "left"
          },
          "hovermode": "closest",
          "mapbox": {
           "style": "light"
          },
          "paper_bgcolor": "white",
          "plot_bgcolor": "#E5ECF6",
          "polar": {
           "angularaxis": {
            "gridcolor": "white",
            "linecolor": "white",
            "ticks": ""
           },
           "bgcolor": "#E5ECF6",
           "radialaxis": {
            "gridcolor": "white",
            "linecolor": "white",
            "ticks": ""
           }
          },
          "scene": {
           "xaxis": {
            "backgroundcolor": "#E5ECF6",
            "gridcolor": "white",
            "gridwidth": 2,
            "linecolor": "white",
            "showbackground": true,
            "ticks": "",
            "zerolinecolor": "white"
           },
           "yaxis": {
            "backgroundcolor": "#E5ECF6",
            "gridcolor": "white",
            "gridwidth": 2,
            "linecolor": "white",
            "showbackground": true,
            "ticks": "",
            "zerolinecolor": "white"
           },
           "zaxis": {
            "backgroundcolor": "#E5ECF6",
            "gridcolor": "white",
            "gridwidth": 2,
            "linecolor": "white",
            "showbackground": true,
            "ticks": "",
            "zerolinecolor": "white"
           }
          },
          "shapedefaults": {
           "line": {
            "color": "#2a3f5f"
           }
          },
          "ternary": {
           "aaxis": {
            "gridcolor": "white",
            "linecolor": "white",
            "ticks": ""
           },
           "baxis": {
            "gridcolor": "white",
            "linecolor": "white",
            "ticks": ""
           },
           "bgcolor": "#E5ECF6",
           "caxis": {
            "gridcolor": "white",
            "linecolor": "white",
            "ticks": ""
           }
          },
          "title": {
           "x": 0.05
          },
          "xaxis": {
           "automargin": true,
           "gridcolor": "white",
           "linecolor": "white",
           "ticks": "",
           "title": {
            "standoff": 15
           },
           "zerolinecolor": "white",
           "zerolinewidth": 2
          },
          "yaxis": {
           "automargin": true,
           "gridcolor": "white",
           "linecolor": "white",
           "ticks": "",
           "title": {
            "standoff": 15
           },
           "zerolinecolor": "white",
           "zerolinewidth": 2
          }
         }
        },
        "title": {
         "text": "Average Loan Amounts by Income Type"
        },
        "xaxis": {
         "anchor": "y",
         "domain": [
          0,
          1
         ],
         "title": {
          "text": "Income Type"
         }
        },
        "yaxis": {
         "anchor": "x",
         "domain": [
          0,
          1
         ],
         "title": {
          "text": "Average Loan Amount ($)"
         }
        }
       }
      }
     },
     "metadata": {},
     "output_type": "display_data"
    },
    {
     "data": {
      "application/vnd.plotly.v1+json": {
       "config": {
        "plotlyServerURL": "https://plot.ly"
       },
       "data": [
        {
         "alignmentgroup": "True",
         "hovertemplate": "Asset Docs=%{x}<br>Average Loan Amount ($)=%{y}<extra></extra>",
         "legendgroup": "",
         "marker": {
          "color": "#636efa",
          "pattern": {
           "shape": ""
          }
         },
         "name": "",
         "offsetgroup": "",
         "orientation": "v",
         "showlegend": false,
         "textposition": "auto",
         "type": "bar",
         "x": [
          "Full",
          "NoAsset",
          "Stated"
         ],
         "xaxis": "x",
         "y": [
          438364.4221875,
          439031.25,
          638518.125
         ],
         "yaxis": "y"
        }
       ],
       "layout": {
        "barmode": "relative",
        "legend": {
         "tracegroupgap": 0
        },
        "template": {
         "data": {
          "bar": [
           {
            "error_x": {
             "color": "#2a3f5f"
            },
            "error_y": {
             "color": "#2a3f5f"
            },
            "marker": {
             "line": {
              "color": "#E5ECF6",
              "width": 0.5
             },
             "pattern": {
              "fillmode": "overlay",
              "size": 10,
              "solidity": 0.2
             }
            },
            "type": "bar"
           }
          ],
          "barpolar": [
           {
            "marker": {
             "line": {
              "color": "#E5ECF6",
              "width": 0.5
             },
             "pattern": {
              "fillmode": "overlay",
              "size": 10,
              "solidity": 0.2
             }
            },
            "type": "barpolar"
           }
          ],
          "carpet": [
           {
            "aaxis": {
             "endlinecolor": "#2a3f5f",
             "gridcolor": "white",
             "linecolor": "white",
             "minorgridcolor": "white",
             "startlinecolor": "#2a3f5f"
            },
            "baxis": {
             "endlinecolor": "#2a3f5f",
             "gridcolor": "white",
             "linecolor": "white",
             "minorgridcolor": "white",
             "startlinecolor": "#2a3f5f"
            },
            "type": "carpet"
           }
          ],
          "choropleth": [
           {
            "colorbar": {
             "outlinewidth": 0,
             "ticks": ""
            },
            "type": "choropleth"
           }
          ],
          "contour": [
           {
            "colorbar": {
             "outlinewidth": 0,
             "ticks": ""
            },
            "colorscale": [
             [
              0,
              "#0d0887"
             ],
             [
              0.1111111111111111,
              "#46039f"
             ],
             [
              0.2222222222222222,
              "#7201a8"
             ],
             [
              0.3333333333333333,
              "#9c179e"
             ],
             [
              0.4444444444444444,
              "#bd3786"
             ],
             [
              0.5555555555555556,
              "#d8576b"
             ],
             [
              0.6666666666666666,
              "#ed7953"
             ],
             [
              0.7777777777777778,
              "#fb9f3a"
             ],
             [
              0.8888888888888888,
              "#fdca26"
             ],
             [
              1,
              "#f0f921"
             ]
            ],
            "type": "contour"
           }
          ],
          "contourcarpet": [
           {
            "colorbar": {
             "outlinewidth": 0,
             "ticks": ""
            },
            "type": "contourcarpet"
           }
          ],
          "heatmap": [
           {
            "colorbar": {
             "outlinewidth": 0,
             "ticks": ""
            },
            "colorscale": [
             [
              0,
              "#0d0887"
             ],
             [
              0.1111111111111111,
              "#46039f"
             ],
             [
              0.2222222222222222,
              "#7201a8"
             ],
             [
              0.3333333333333333,
              "#9c179e"
             ],
             [
              0.4444444444444444,
              "#bd3786"
             ],
             [
              0.5555555555555556,
              "#d8576b"
             ],
             [
              0.6666666666666666,
              "#ed7953"
             ],
             [
              0.7777777777777778,
              "#fb9f3a"
             ],
             [
              0.8888888888888888,
              "#fdca26"
             ],
             [
              1,
              "#f0f921"
             ]
            ],
            "type": "heatmap"
           }
          ],
          "heatmapgl": [
           {
            "colorbar": {
             "outlinewidth": 0,
             "ticks": ""
            },
            "colorscale": [
             [
              0,
              "#0d0887"
             ],
             [
              0.1111111111111111,
              "#46039f"
             ],
             [
              0.2222222222222222,
              "#7201a8"
             ],
             [
              0.3333333333333333,
              "#9c179e"
             ],
             [
              0.4444444444444444,
              "#bd3786"
             ],
             [
              0.5555555555555556,
              "#d8576b"
             ],
             [
              0.6666666666666666,
              "#ed7953"
             ],
             [
              0.7777777777777778,
              "#fb9f3a"
             ],
             [
              0.8888888888888888,
              "#fdca26"
             ],
             [
              1,
              "#f0f921"
             ]
            ],
            "type": "heatmapgl"
           }
          ],
          "histogram": [
           {
            "marker": {
             "pattern": {
              "fillmode": "overlay",
              "size": 10,
              "solidity": 0.2
             }
            },
            "type": "histogram"
           }
          ],
          "histogram2d": [
           {
            "colorbar": {
             "outlinewidth": 0,
             "ticks": ""
            },
            "colorscale": [
             [
              0,
              "#0d0887"
             ],
             [
              0.1111111111111111,
              "#46039f"
             ],
             [
              0.2222222222222222,
              "#7201a8"
             ],
             [
              0.3333333333333333,
              "#9c179e"
             ],
             [
              0.4444444444444444,
              "#bd3786"
             ],
             [
              0.5555555555555556,
              "#d8576b"
             ],
             [
              0.6666666666666666,
              "#ed7953"
             ],
             [
              0.7777777777777778,
              "#fb9f3a"
             ],
             [
              0.8888888888888888,
              "#fdca26"
             ],
             [
              1,
              "#f0f921"
             ]
            ],
            "type": "histogram2d"
           }
          ],
          "histogram2dcontour": [
           {
            "colorbar": {
             "outlinewidth": 0,
             "ticks": ""
            },
            "colorscale": [
             [
              0,
              "#0d0887"
             ],
             [
              0.1111111111111111,
              "#46039f"
             ],
             [
              0.2222222222222222,
              "#7201a8"
             ],
             [
              0.3333333333333333,
              "#9c179e"
             ],
             [
              0.4444444444444444,
              "#bd3786"
             ],
             [
              0.5555555555555556,
              "#d8576b"
             ],
             [
              0.6666666666666666,
              "#ed7953"
             ],
             [
              0.7777777777777778,
              "#fb9f3a"
             ],
             [
              0.8888888888888888,
              "#fdca26"
             ],
             [
              1,
              "#f0f921"
             ]
            ],
            "type": "histogram2dcontour"
           }
          ],
          "mesh3d": [
           {
            "colorbar": {
             "outlinewidth": 0,
             "ticks": ""
            },
            "type": "mesh3d"
           }
          ],
          "parcoords": [
           {
            "line": {
             "colorbar": {
              "outlinewidth": 0,
              "ticks": ""
             }
            },
            "type": "parcoords"
           }
          ],
          "pie": [
           {
            "automargin": true,
            "type": "pie"
           }
          ],
          "scatter": [
           {
            "fillpattern": {
             "fillmode": "overlay",
             "size": 10,
             "solidity": 0.2
            },
            "type": "scatter"
           }
          ],
          "scatter3d": [
           {
            "line": {
             "colorbar": {
              "outlinewidth": 0,
              "ticks": ""
             }
            },
            "marker": {
             "colorbar": {
              "outlinewidth": 0,
              "ticks": ""
             }
            },
            "type": "scatter3d"
           }
          ],
          "scattercarpet": [
           {
            "marker": {
             "colorbar": {
              "outlinewidth": 0,
              "ticks": ""
             }
            },
            "type": "scattercarpet"
           }
          ],
          "scattergeo": [
           {
            "marker": {
             "colorbar": {
              "outlinewidth": 0,
              "ticks": ""
             }
            },
            "type": "scattergeo"
           }
          ],
          "scattergl": [
           {
            "marker": {
             "colorbar": {
              "outlinewidth": 0,
              "ticks": ""
             }
            },
            "type": "scattergl"
           }
          ],
          "scattermapbox": [
           {
            "marker": {
             "colorbar": {
              "outlinewidth": 0,
              "ticks": ""
             }
            },
            "type": "scattermapbox"
           }
          ],
          "scatterpolar": [
           {
            "marker": {
             "colorbar": {
              "outlinewidth": 0,
              "ticks": ""
             }
            },
            "type": "scatterpolar"
           }
          ],
          "scatterpolargl": [
           {
            "marker": {
             "colorbar": {
              "outlinewidth": 0,
              "ticks": ""
             }
            },
            "type": "scatterpolargl"
           }
          ],
          "scatterternary": [
           {
            "marker": {
             "colorbar": {
              "outlinewidth": 0,
              "ticks": ""
             }
            },
            "type": "scatterternary"
           }
          ],
          "surface": [
           {
            "colorbar": {
             "outlinewidth": 0,
             "ticks": ""
            },
            "colorscale": [
             [
              0,
              "#0d0887"
             ],
             [
              0.1111111111111111,
              "#46039f"
             ],
             [
              0.2222222222222222,
              "#7201a8"
             ],
             [
              0.3333333333333333,
              "#9c179e"
             ],
             [
              0.4444444444444444,
              "#bd3786"
             ],
             [
              0.5555555555555556,
              "#d8576b"
             ],
             [
              0.6666666666666666,
              "#ed7953"
             ],
             [
              0.7777777777777778,
              "#fb9f3a"
             ],
             [
              0.8888888888888888,
              "#fdca26"
             ],
             [
              1,
              "#f0f921"
             ]
            ],
            "type": "surface"
           }
          ],
          "table": [
           {
            "cells": {
             "fill": {
              "color": "#EBF0F8"
             },
             "line": {
              "color": "white"
             }
            },
            "header": {
             "fill": {
              "color": "#C8D4E3"
             },
             "line": {
              "color": "white"
             }
            },
            "type": "table"
           }
          ]
         },
         "layout": {
          "annotationdefaults": {
           "arrowcolor": "#2a3f5f",
           "arrowhead": 0,
           "arrowwidth": 1
          },
          "autotypenumbers": "strict",
          "coloraxis": {
           "colorbar": {
            "outlinewidth": 0,
            "ticks": ""
           }
          },
          "colorscale": {
           "diverging": [
            [
             0,
             "#8e0152"
            ],
            [
             0.1,
             "#c51b7d"
            ],
            [
             0.2,
             "#de77ae"
            ],
            [
             0.3,
             "#f1b6da"
            ],
            [
             0.4,
             "#fde0ef"
            ],
            [
             0.5,
             "#f7f7f7"
            ],
            [
             0.6,
             "#e6f5d0"
            ],
            [
             0.7,
             "#b8e186"
            ],
            [
             0.8,
             "#7fbc41"
            ],
            [
             0.9,
             "#4d9221"
            ],
            [
             1,
             "#276419"
            ]
           ],
           "sequential": [
            [
             0,
             "#0d0887"
            ],
            [
             0.1111111111111111,
             "#46039f"
            ],
            [
             0.2222222222222222,
             "#7201a8"
            ],
            [
             0.3333333333333333,
             "#9c179e"
            ],
            [
             0.4444444444444444,
             "#bd3786"
            ],
            [
             0.5555555555555556,
             "#d8576b"
            ],
            [
             0.6666666666666666,
             "#ed7953"
            ],
            [
             0.7777777777777778,
             "#fb9f3a"
            ],
            [
             0.8888888888888888,
             "#fdca26"
            ],
            [
             1,
             "#f0f921"
            ]
           ],
           "sequentialminus": [
            [
             0,
             "#0d0887"
            ],
            [
             0.1111111111111111,
             "#46039f"
            ],
            [
             0.2222222222222222,
             "#7201a8"
            ],
            [
             0.3333333333333333,
             "#9c179e"
            ],
            [
             0.4444444444444444,
             "#bd3786"
            ],
            [
             0.5555555555555556,
             "#d8576b"
            ],
            [
             0.6666666666666666,
             "#ed7953"
            ],
            [
             0.7777777777777778,
             "#fb9f3a"
            ],
            [
             0.8888888888888888,
             "#fdca26"
            ],
            [
             1,
             "#f0f921"
            ]
           ]
          },
          "colorway": [
           "#636efa",
           "#EF553B",
           "#00cc96",
           "#ab63fa",
           "#FFA15A",
           "#19d3f3",
           "#FF6692",
           "#B6E880",
           "#FF97FF",
           "#FECB52"
          ],
          "font": {
           "color": "#2a3f5f"
          },
          "geo": {
           "bgcolor": "white",
           "lakecolor": "white",
           "landcolor": "#E5ECF6",
           "showlakes": true,
           "showland": true,
           "subunitcolor": "white"
          },
          "hoverlabel": {
           "align": "left"
          },
          "hovermode": "closest",
          "mapbox": {
           "style": "light"
          },
          "paper_bgcolor": "white",
          "plot_bgcolor": "#E5ECF6",
          "polar": {
           "angularaxis": {
            "gridcolor": "white",
            "linecolor": "white",
            "ticks": ""
           },
           "bgcolor": "#E5ECF6",
           "radialaxis": {
            "gridcolor": "white",
            "linecolor": "white",
            "ticks": ""
           }
          },
          "scene": {
           "xaxis": {
            "backgroundcolor": "#E5ECF6",
            "gridcolor": "white",
            "gridwidth": 2,
            "linecolor": "white",
            "showbackground": true,
            "ticks": "",
            "zerolinecolor": "white"
           },
           "yaxis": {
            "backgroundcolor": "#E5ECF6",
            "gridcolor": "white",
            "gridwidth": 2,
            "linecolor": "white",
            "showbackground": true,
            "ticks": "",
            "zerolinecolor": "white"
           },
           "zaxis": {
            "backgroundcolor": "#E5ECF6",
            "gridcolor": "white",
            "gridwidth": 2,
            "linecolor": "white",
            "showbackground": true,
            "ticks": "",
            "zerolinecolor": "white"
           }
          },
          "shapedefaults": {
           "line": {
            "color": "#2a3f5f"
           }
          },
          "ternary": {
           "aaxis": {
            "gridcolor": "white",
            "linecolor": "white",
            "ticks": ""
           },
           "baxis": {
            "gridcolor": "white",
            "linecolor": "white",
            "ticks": ""
           },
           "bgcolor": "#E5ECF6",
           "caxis": {
            "gridcolor": "white",
            "linecolor": "white",
            "ticks": ""
           }
          },
          "title": {
           "x": 0.05
          },
          "xaxis": {
           "automargin": true,
           "gridcolor": "white",
           "linecolor": "white",
           "ticks": "",
           "title": {
            "standoff": 15
           },
           "zerolinecolor": "white",
           "zerolinewidth": 2
          },
          "yaxis": {
           "automargin": true,
           "gridcolor": "white",
           "linecolor": "white",
           "ticks": "",
           "title": {
            "standoff": 15
           },
           "zerolinecolor": "white",
           "zerolinewidth": 2
          }
         }
        },
        "title": {
         "text": "Average Loan Amounts by Asset Docs"
        },
        "xaxis": {
         "anchor": "y",
         "domain": [
          0,
          1
         ],
         "title": {
          "text": "Asset Docs"
         }
        },
        "yaxis": {
         "anchor": "x",
         "domain": [
          0,
          1
         ],
         "title": {
          "text": "Average Loan Amount ($)"
         }
        }
       }
      }
     },
     "metadata": {},
     "output_type": "display_data"
    },
    {
     "data": {
      "application/vnd.plotly.v1+json": {
       "config": {
        "plotlyServerURL": "https://plot.ly"
       },
       "data": [
        {
         "alignmentgroup": "True",
         "hovertemplate": "Occupancy=%{x}<br>Average Loan Amount ($)=%{y}<extra></extra>",
         "legendgroup": "",
         "marker": {
          "color": "#636efa",
          "pattern": {
           "shape": ""
          }
         },
         "name": "",
         "offsetgroup": "",
         "orientation": "v",
         "showlegend": false,
         "textposition": "auto",
         "type": "bar",
         "x": [
          "Investor",
          "Owner Occupied",
          "Second Home"
         ],
         "xaxis": "x",
         "y": [
          539155.9354564756,
          423309.77704795205,
          369253.63157894736
         ],
         "yaxis": "y"
        }
       ],
       "layout": {
        "barmode": "relative",
        "legend": {
         "tracegroupgap": 0
        },
        "template": {
         "data": {
          "bar": [
           {
            "error_x": {
             "color": "#2a3f5f"
            },
            "error_y": {
             "color": "#2a3f5f"
            },
            "marker": {
             "line": {
              "color": "#E5ECF6",
              "width": 0.5
             },
             "pattern": {
              "fillmode": "overlay",
              "size": 10,
              "solidity": 0.2
             }
            },
            "type": "bar"
           }
          ],
          "barpolar": [
           {
            "marker": {
             "line": {
              "color": "#E5ECF6",
              "width": 0.5
             },
             "pattern": {
              "fillmode": "overlay",
              "size": 10,
              "solidity": 0.2
             }
            },
            "type": "barpolar"
           }
          ],
          "carpet": [
           {
            "aaxis": {
             "endlinecolor": "#2a3f5f",
             "gridcolor": "white",
             "linecolor": "white",
             "minorgridcolor": "white",
             "startlinecolor": "#2a3f5f"
            },
            "baxis": {
             "endlinecolor": "#2a3f5f",
             "gridcolor": "white",
             "linecolor": "white",
             "minorgridcolor": "white",
             "startlinecolor": "#2a3f5f"
            },
            "type": "carpet"
           }
          ],
          "choropleth": [
           {
            "colorbar": {
             "outlinewidth": 0,
             "ticks": ""
            },
            "type": "choropleth"
           }
          ],
          "contour": [
           {
            "colorbar": {
             "outlinewidth": 0,
             "ticks": ""
            },
            "colorscale": [
             [
              0,
              "#0d0887"
             ],
             [
              0.1111111111111111,
              "#46039f"
             ],
             [
              0.2222222222222222,
              "#7201a8"
             ],
             [
              0.3333333333333333,
              "#9c179e"
             ],
             [
              0.4444444444444444,
              "#bd3786"
             ],
             [
              0.5555555555555556,
              "#d8576b"
             ],
             [
              0.6666666666666666,
              "#ed7953"
             ],
             [
              0.7777777777777778,
              "#fb9f3a"
             ],
             [
              0.8888888888888888,
              "#fdca26"
             ],
             [
              1,
              "#f0f921"
             ]
            ],
            "type": "contour"
           }
          ],
          "contourcarpet": [
           {
            "colorbar": {
             "outlinewidth": 0,
             "ticks": ""
            },
            "type": "contourcarpet"
           }
          ],
          "heatmap": [
           {
            "colorbar": {
             "outlinewidth": 0,
             "ticks": ""
            },
            "colorscale": [
             [
              0,
              "#0d0887"
             ],
             [
              0.1111111111111111,
              "#46039f"
             ],
             [
              0.2222222222222222,
              "#7201a8"
             ],
             [
              0.3333333333333333,
              "#9c179e"
             ],
             [
              0.4444444444444444,
              "#bd3786"
             ],
             [
              0.5555555555555556,
              "#d8576b"
             ],
             [
              0.6666666666666666,
              "#ed7953"
             ],
             [
              0.7777777777777778,
              "#fb9f3a"
             ],
             [
              0.8888888888888888,
              "#fdca26"
             ],
             [
              1,
              "#f0f921"
             ]
            ],
            "type": "heatmap"
           }
          ],
          "heatmapgl": [
           {
            "colorbar": {
             "outlinewidth": 0,
             "ticks": ""
            },
            "colorscale": [
             [
              0,
              "#0d0887"
             ],
             [
              0.1111111111111111,
              "#46039f"
             ],
             [
              0.2222222222222222,
              "#7201a8"
             ],
             [
              0.3333333333333333,
              "#9c179e"
             ],
             [
              0.4444444444444444,
              "#bd3786"
             ],
             [
              0.5555555555555556,
              "#d8576b"
             ],
             [
              0.6666666666666666,
              "#ed7953"
             ],
             [
              0.7777777777777778,
              "#fb9f3a"
             ],
             [
              0.8888888888888888,
              "#fdca26"
             ],
             [
              1,
              "#f0f921"
             ]
            ],
            "type": "heatmapgl"
           }
          ],
          "histogram": [
           {
            "marker": {
             "pattern": {
              "fillmode": "overlay",
              "size": 10,
              "solidity": 0.2
             }
            },
            "type": "histogram"
           }
          ],
          "histogram2d": [
           {
            "colorbar": {
             "outlinewidth": 0,
             "ticks": ""
            },
            "colorscale": [
             [
              0,
              "#0d0887"
             ],
             [
              0.1111111111111111,
              "#46039f"
             ],
             [
              0.2222222222222222,
              "#7201a8"
             ],
             [
              0.3333333333333333,
              "#9c179e"
             ],
             [
              0.4444444444444444,
              "#bd3786"
             ],
             [
              0.5555555555555556,
              "#d8576b"
             ],
             [
              0.6666666666666666,
              "#ed7953"
             ],
             [
              0.7777777777777778,
              "#fb9f3a"
             ],
             [
              0.8888888888888888,
              "#fdca26"
             ],
             [
              1,
              "#f0f921"
             ]
            ],
            "type": "histogram2d"
           }
          ],
          "histogram2dcontour": [
           {
            "colorbar": {
             "outlinewidth": 0,
             "ticks": ""
            },
            "colorscale": [
             [
              0,
              "#0d0887"
             ],
             [
              0.1111111111111111,
              "#46039f"
             ],
             [
              0.2222222222222222,
              "#7201a8"
             ],
             [
              0.3333333333333333,
              "#9c179e"
             ],
             [
              0.4444444444444444,
              "#bd3786"
             ],
             [
              0.5555555555555556,
              "#d8576b"
             ],
             [
              0.6666666666666666,
              "#ed7953"
             ],
             [
              0.7777777777777778,
              "#fb9f3a"
             ],
             [
              0.8888888888888888,
              "#fdca26"
             ],
             [
              1,
              "#f0f921"
             ]
            ],
            "type": "histogram2dcontour"
           }
          ],
          "mesh3d": [
           {
            "colorbar": {
             "outlinewidth": 0,
             "ticks": ""
            },
            "type": "mesh3d"
           }
          ],
          "parcoords": [
           {
            "line": {
             "colorbar": {
              "outlinewidth": 0,
              "ticks": ""
             }
            },
            "type": "parcoords"
           }
          ],
          "pie": [
           {
            "automargin": true,
            "type": "pie"
           }
          ],
          "scatter": [
           {
            "fillpattern": {
             "fillmode": "overlay",
             "size": 10,
             "solidity": 0.2
            },
            "type": "scatter"
           }
          ],
          "scatter3d": [
           {
            "line": {
             "colorbar": {
              "outlinewidth": 0,
              "ticks": ""
             }
            },
            "marker": {
             "colorbar": {
              "outlinewidth": 0,
              "ticks": ""
             }
            },
            "type": "scatter3d"
           }
          ],
          "scattercarpet": [
           {
            "marker": {
             "colorbar": {
              "outlinewidth": 0,
              "ticks": ""
             }
            },
            "type": "scattercarpet"
           }
          ],
          "scattergeo": [
           {
            "marker": {
             "colorbar": {
              "outlinewidth": 0,
              "ticks": ""
             }
            },
            "type": "scattergeo"
           }
          ],
          "scattergl": [
           {
            "marker": {
             "colorbar": {
              "outlinewidth": 0,
              "ticks": ""
             }
            },
            "type": "scattergl"
           }
          ],
          "scattermapbox": [
           {
            "marker": {
             "colorbar": {
              "outlinewidth": 0,
              "ticks": ""
             }
            },
            "type": "scattermapbox"
           }
          ],
          "scatterpolar": [
           {
            "marker": {
             "colorbar": {
              "outlinewidth": 0,
              "ticks": ""
             }
            },
            "type": "scatterpolar"
           }
          ],
          "scatterpolargl": [
           {
            "marker": {
             "colorbar": {
              "outlinewidth": 0,
              "ticks": ""
             }
            },
            "type": "scatterpolargl"
           }
          ],
          "scatterternary": [
           {
            "marker": {
             "colorbar": {
              "outlinewidth": 0,
              "ticks": ""
             }
            },
            "type": "scatterternary"
           }
          ],
          "surface": [
           {
            "colorbar": {
             "outlinewidth": 0,
             "ticks": ""
            },
            "colorscale": [
             [
              0,
              "#0d0887"
             ],
             [
              0.1111111111111111,
              "#46039f"
             ],
             [
              0.2222222222222222,
              "#7201a8"
             ],
             [
              0.3333333333333333,
              "#9c179e"
             ],
             [
              0.4444444444444444,
              "#bd3786"
             ],
             [
              0.5555555555555556,
              "#d8576b"
             ],
             [
              0.6666666666666666,
              "#ed7953"
             ],
             [
              0.7777777777777778,
              "#fb9f3a"
             ],
             [
              0.8888888888888888,
              "#fdca26"
             ],
             [
              1,
              "#f0f921"
             ]
            ],
            "type": "surface"
           }
          ],
          "table": [
           {
            "cells": {
             "fill": {
              "color": "#EBF0F8"
             },
             "line": {
              "color": "white"
             }
            },
            "header": {
             "fill": {
              "color": "#C8D4E3"
             },
             "line": {
              "color": "white"
             }
            },
            "type": "table"
           }
          ]
         },
         "layout": {
          "annotationdefaults": {
           "arrowcolor": "#2a3f5f",
           "arrowhead": 0,
           "arrowwidth": 1
          },
          "autotypenumbers": "strict",
          "coloraxis": {
           "colorbar": {
            "outlinewidth": 0,
            "ticks": ""
           }
          },
          "colorscale": {
           "diverging": [
            [
             0,
             "#8e0152"
            ],
            [
             0.1,
             "#c51b7d"
            ],
            [
             0.2,
             "#de77ae"
            ],
            [
             0.3,
             "#f1b6da"
            ],
            [
             0.4,
             "#fde0ef"
            ],
            [
             0.5,
             "#f7f7f7"
            ],
            [
             0.6,
             "#e6f5d0"
            ],
            [
             0.7,
             "#b8e186"
            ],
            [
             0.8,
             "#7fbc41"
            ],
            [
             0.9,
             "#4d9221"
            ],
            [
             1,
             "#276419"
            ]
           ],
           "sequential": [
            [
             0,
             "#0d0887"
            ],
            [
             0.1111111111111111,
             "#46039f"
            ],
            [
             0.2222222222222222,
             "#7201a8"
            ],
            [
             0.3333333333333333,
             "#9c179e"
            ],
            [
             0.4444444444444444,
             "#bd3786"
            ],
            [
             0.5555555555555556,
             "#d8576b"
            ],
            [
             0.6666666666666666,
             "#ed7953"
            ],
            [
             0.7777777777777778,
             "#fb9f3a"
            ],
            [
             0.8888888888888888,
             "#fdca26"
            ],
            [
             1,
             "#f0f921"
            ]
           ],
           "sequentialminus": [
            [
             0,
             "#0d0887"
            ],
            [
             0.1111111111111111,
             "#46039f"
            ],
            [
             0.2222222222222222,
             "#7201a8"
            ],
            [
             0.3333333333333333,
             "#9c179e"
            ],
            [
             0.4444444444444444,
             "#bd3786"
            ],
            [
             0.5555555555555556,
             "#d8576b"
            ],
            [
             0.6666666666666666,
             "#ed7953"
            ],
            [
             0.7777777777777778,
             "#fb9f3a"
            ],
            [
             0.8888888888888888,
             "#fdca26"
            ],
            [
             1,
             "#f0f921"
            ]
           ]
          },
          "colorway": [
           "#636efa",
           "#EF553B",
           "#00cc96",
           "#ab63fa",
           "#FFA15A",
           "#19d3f3",
           "#FF6692",
           "#B6E880",
           "#FF97FF",
           "#FECB52"
          ],
          "font": {
           "color": "#2a3f5f"
          },
          "geo": {
           "bgcolor": "white",
           "lakecolor": "white",
           "landcolor": "#E5ECF6",
           "showlakes": true,
           "showland": true,
           "subunitcolor": "white"
          },
          "hoverlabel": {
           "align": "left"
          },
          "hovermode": "closest",
          "mapbox": {
           "style": "light"
          },
          "paper_bgcolor": "white",
          "plot_bgcolor": "#E5ECF6",
          "polar": {
           "angularaxis": {
            "gridcolor": "white",
            "linecolor": "white",
            "ticks": ""
           },
           "bgcolor": "#E5ECF6",
           "radialaxis": {
            "gridcolor": "white",
            "linecolor": "white",
            "ticks": ""
           }
          },
          "scene": {
           "xaxis": {
            "backgroundcolor": "#E5ECF6",
            "gridcolor": "white",
            "gridwidth": 2,
            "linecolor": "white",
            "showbackground": true,
            "ticks": "",
            "zerolinecolor": "white"
           },
           "yaxis": {
            "backgroundcolor": "#E5ECF6",
            "gridcolor": "white",
            "gridwidth": 2,
            "linecolor": "white",
            "showbackground": true,
            "ticks": "",
            "zerolinecolor": "white"
           },
           "zaxis": {
            "backgroundcolor": "#E5ECF6",
            "gridcolor": "white",
            "gridwidth": 2,
            "linecolor": "white",
            "showbackground": true,
            "ticks": "",
            "zerolinecolor": "white"
           }
          },
          "shapedefaults": {
           "line": {
            "color": "#2a3f5f"
           }
          },
          "ternary": {
           "aaxis": {
            "gridcolor": "white",
            "linecolor": "white",
            "ticks": ""
           },
           "baxis": {
            "gridcolor": "white",
            "linecolor": "white",
            "ticks": ""
           },
           "bgcolor": "#E5ECF6",
           "caxis": {
            "gridcolor": "white",
            "linecolor": "white",
            "ticks": ""
           }
          },
          "title": {
           "x": 0.05
          },
          "xaxis": {
           "automargin": true,
           "gridcolor": "white",
           "linecolor": "white",
           "ticks": "",
           "title": {
            "standoff": 15
           },
           "zerolinecolor": "white",
           "zerolinewidth": 2
          },
          "yaxis": {
           "automargin": true,
           "gridcolor": "white",
           "linecolor": "white",
           "ticks": "",
           "title": {
            "standoff": 15
           },
           "zerolinecolor": "white",
           "zerolinewidth": 2
          }
         }
        },
        "title": {
         "text": "Average Loan Amounts by Occupancy"
        },
        "xaxis": {
         "anchor": "y",
         "domain": [
          0,
          1
         ],
         "title": {
          "text": "Occupancy"
         }
        },
        "yaxis": {
         "anchor": "x",
         "domain": [
          0,
          1
         ],
         "title": {
          "text": "Average Loan Amount ($)"
         }
        }
       }
      }
     },
     "metadata": {},
     "output_type": "display_data"
    },
    {
     "data": {
      "application/vnd.plotly.v1+json": {
       "config": {
        "plotlyServerURL": "https://plot.ly"
       },
       "data": [
        {
         "alignmentgroup": "True",
         "hovertemplate": "Unit Type=%{x}<br>Average Loan Amount ($)=%{y}<extra></extra>",
         "legendgroup": "",
         "marker": {
          "color": "#636efa",
          "pattern": {
           "shape": ""
          }
         },
         "name": "",
         "offsetgroup": "",
         "orientation": "v",
         "showlegend": false,
         "textposition": "auto",
         "type": "bar",
         "x": [
          "Condo",
          "Coop",
          "FourFamily",
          "Industrial",
          "Land",
          "MixedUse",
          "MultiFamily",
          "OneFamily",
          "PUD",
          "ThreeFamily",
          "TwoFamily",
          "Warehouse"
         ],
         "xaxis": "x",
         "y": [
          340563.3675813954,
          210734.86842105264,
          705775.7697142857,
          496000,
          650000,
          803576.9,
          1023662.5,
          397056.10382677166,
          332516.6666666667,
          537353.0006976745,
          520625.70939093485,
          1205000
         ],
         "yaxis": "y"
        }
       ],
       "layout": {
        "barmode": "relative",
        "legend": {
         "tracegroupgap": 0
        },
        "template": {
         "data": {
          "bar": [
           {
            "error_x": {
             "color": "#2a3f5f"
            },
            "error_y": {
             "color": "#2a3f5f"
            },
            "marker": {
             "line": {
              "color": "#E5ECF6",
              "width": 0.5
             },
             "pattern": {
              "fillmode": "overlay",
              "size": 10,
              "solidity": 0.2
             }
            },
            "type": "bar"
           }
          ],
          "barpolar": [
           {
            "marker": {
             "line": {
              "color": "#E5ECF6",
              "width": 0.5
             },
             "pattern": {
              "fillmode": "overlay",
              "size": 10,
              "solidity": 0.2
             }
            },
            "type": "barpolar"
           }
          ],
          "carpet": [
           {
            "aaxis": {
             "endlinecolor": "#2a3f5f",
             "gridcolor": "white",
             "linecolor": "white",
             "minorgridcolor": "white",
             "startlinecolor": "#2a3f5f"
            },
            "baxis": {
             "endlinecolor": "#2a3f5f",
             "gridcolor": "white",
             "linecolor": "white",
             "minorgridcolor": "white",
             "startlinecolor": "#2a3f5f"
            },
            "type": "carpet"
           }
          ],
          "choropleth": [
           {
            "colorbar": {
             "outlinewidth": 0,
             "ticks": ""
            },
            "type": "choropleth"
           }
          ],
          "contour": [
           {
            "colorbar": {
             "outlinewidth": 0,
             "ticks": ""
            },
            "colorscale": [
             [
              0,
              "#0d0887"
             ],
             [
              0.1111111111111111,
              "#46039f"
             ],
             [
              0.2222222222222222,
              "#7201a8"
             ],
             [
              0.3333333333333333,
              "#9c179e"
             ],
             [
              0.4444444444444444,
              "#bd3786"
             ],
             [
              0.5555555555555556,
              "#d8576b"
             ],
             [
              0.6666666666666666,
              "#ed7953"
             ],
             [
              0.7777777777777778,
              "#fb9f3a"
             ],
             [
              0.8888888888888888,
              "#fdca26"
             ],
             [
              1,
              "#f0f921"
             ]
            ],
            "type": "contour"
           }
          ],
          "contourcarpet": [
           {
            "colorbar": {
             "outlinewidth": 0,
             "ticks": ""
            },
            "type": "contourcarpet"
           }
          ],
          "heatmap": [
           {
            "colorbar": {
             "outlinewidth": 0,
             "ticks": ""
            },
            "colorscale": [
             [
              0,
              "#0d0887"
             ],
             [
              0.1111111111111111,
              "#46039f"
             ],
             [
              0.2222222222222222,
              "#7201a8"
             ],
             [
              0.3333333333333333,
              "#9c179e"
             ],
             [
              0.4444444444444444,
              "#bd3786"
             ],
             [
              0.5555555555555556,
              "#d8576b"
             ],
             [
              0.6666666666666666,
              "#ed7953"
             ],
             [
              0.7777777777777778,
              "#fb9f3a"
             ],
             [
              0.8888888888888888,
              "#fdca26"
             ],
             [
              1,
              "#f0f921"
             ]
            ],
            "type": "heatmap"
           }
          ],
          "heatmapgl": [
           {
            "colorbar": {
             "outlinewidth": 0,
             "ticks": ""
            },
            "colorscale": [
             [
              0,
              "#0d0887"
             ],
             [
              0.1111111111111111,
              "#46039f"
             ],
             [
              0.2222222222222222,
              "#7201a8"
             ],
             [
              0.3333333333333333,
              "#9c179e"
             ],
             [
              0.4444444444444444,
              "#bd3786"
             ],
             [
              0.5555555555555556,
              "#d8576b"
             ],
             [
              0.6666666666666666,
              "#ed7953"
             ],
             [
              0.7777777777777778,
              "#fb9f3a"
             ],
             [
              0.8888888888888888,
              "#fdca26"
             ],
             [
              1,
              "#f0f921"
             ]
            ],
            "type": "heatmapgl"
           }
          ],
          "histogram": [
           {
            "marker": {
             "pattern": {
              "fillmode": "overlay",
              "size": 10,
              "solidity": 0.2
             }
            },
            "type": "histogram"
           }
          ],
          "histogram2d": [
           {
            "colorbar": {
             "outlinewidth": 0,
             "ticks": ""
            },
            "colorscale": [
             [
              0,
              "#0d0887"
             ],
             [
              0.1111111111111111,
              "#46039f"
             ],
             [
              0.2222222222222222,
              "#7201a8"
             ],
             [
              0.3333333333333333,
              "#9c179e"
             ],
             [
              0.4444444444444444,
              "#bd3786"
             ],
             [
              0.5555555555555556,
              "#d8576b"
             ],
             [
              0.6666666666666666,
              "#ed7953"
             ],
             [
              0.7777777777777778,
              "#fb9f3a"
             ],
             [
              0.8888888888888888,
              "#fdca26"
             ],
             [
              1,
              "#f0f921"
             ]
            ],
            "type": "histogram2d"
           }
          ],
          "histogram2dcontour": [
           {
            "colorbar": {
             "outlinewidth": 0,
             "ticks": ""
            },
            "colorscale": [
             [
              0,
              "#0d0887"
             ],
             [
              0.1111111111111111,
              "#46039f"
             ],
             [
              0.2222222222222222,
              "#7201a8"
             ],
             [
              0.3333333333333333,
              "#9c179e"
             ],
             [
              0.4444444444444444,
              "#bd3786"
             ],
             [
              0.5555555555555556,
              "#d8576b"
             ],
             [
              0.6666666666666666,
              "#ed7953"
             ],
             [
              0.7777777777777778,
              "#fb9f3a"
             ],
             [
              0.8888888888888888,
              "#fdca26"
             ],
             [
              1,
              "#f0f921"
             ]
            ],
            "type": "histogram2dcontour"
           }
          ],
          "mesh3d": [
           {
            "colorbar": {
             "outlinewidth": 0,
             "ticks": ""
            },
            "type": "mesh3d"
           }
          ],
          "parcoords": [
           {
            "line": {
             "colorbar": {
              "outlinewidth": 0,
              "ticks": ""
             }
            },
            "type": "parcoords"
           }
          ],
          "pie": [
           {
            "automargin": true,
            "type": "pie"
           }
          ],
          "scatter": [
           {
            "fillpattern": {
             "fillmode": "overlay",
             "size": 10,
             "solidity": 0.2
            },
            "type": "scatter"
           }
          ],
          "scatter3d": [
           {
            "line": {
             "colorbar": {
              "outlinewidth": 0,
              "ticks": ""
             }
            },
            "marker": {
             "colorbar": {
              "outlinewidth": 0,
              "ticks": ""
             }
            },
            "type": "scatter3d"
           }
          ],
          "scattercarpet": [
           {
            "marker": {
             "colorbar": {
              "outlinewidth": 0,
              "ticks": ""
             }
            },
            "type": "scattercarpet"
           }
          ],
          "scattergeo": [
           {
            "marker": {
             "colorbar": {
              "outlinewidth": 0,
              "ticks": ""
             }
            },
            "type": "scattergeo"
           }
          ],
          "scattergl": [
           {
            "marker": {
             "colorbar": {
              "outlinewidth": 0,
              "ticks": ""
             }
            },
            "type": "scattergl"
           }
          ],
          "scattermapbox": [
           {
            "marker": {
             "colorbar": {
              "outlinewidth": 0,
              "ticks": ""
             }
            },
            "type": "scattermapbox"
           }
          ],
          "scatterpolar": [
           {
            "marker": {
             "colorbar": {
              "outlinewidth": 0,
              "ticks": ""
             }
            },
            "type": "scatterpolar"
           }
          ],
          "scatterpolargl": [
           {
            "marker": {
             "colorbar": {
              "outlinewidth": 0,
              "ticks": ""
             }
            },
            "type": "scatterpolargl"
           }
          ],
          "scatterternary": [
           {
            "marker": {
             "colorbar": {
              "outlinewidth": 0,
              "ticks": ""
             }
            },
            "type": "scatterternary"
           }
          ],
          "surface": [
           {
            "colorbar": {
             "outlinewidth": 0,
             "ticks": ""
            },
            "colorscale": [
             [
              0,
              "#0d0887"
             ],
             [
              0.1111111111111111,
              "#46039f"
             ],
             [
              0.2222222222222222,
              "#7201a8"
             ],
             [
              0.3333333333333333,
              "#9c179e"
             ],
             [
              0.4444444444444444,
              "#bd3786"
             ],
             [
              0.5555555555555556,
              "#d8576b"
             ],
             [
              0.6666666666666666,
              "#ed7953"
             ],
             [
              0.7777777777777778,
              "#fb9f3a"
             ],
             [
              0.8888888888888888,
              "#fdca26"
             ],
             [
              1,
              "#f0f921"
             ]
            ],
            "type": "surface"
           }
          ],
          "table": [
           {
            "cells": {
             "fill": {
              "color": "#EBF0F8"
             },
             "line": {
              "color": "white"
             }
            },
            "header": {
             "fill": {
              "color": "#C8D4E3"
             },
             "line": {
              "color": "white"
             }
            },
            "type": "table"
           }
          ]
         },
         "layout": {
          "annotationdefaults": {
           "arrowcolor": "#2a3f5f",
           "arrowhead": 0,
           "arrowwidth": 1
          },
          "autotypenumbers": "strict",
          "coloraxis": {
           "colorbar": {
            "outlinewidth": 0,
            "ticks": ""
           }
          },
          "colorscale": {
           "diverging": [
            [
             0,
             "#8e0152"
            ],
            [
             0.1,
             "#c51b7d"
            ],
            [
             0.2,
             "#de77ae"
            ],
            [
             0.3,
             "#f1b6da"
            ],
            [
             0.4,
             "#fde0ef"
            ],
            [
             0.5,
             "#f7f7f7"
            ],
            [
             0.6,
             "#e6f5d0"
            ],
            [
             0.7,
             "#b8e186"
            ],
            [
             0.8,
             "#7fbc41"
            ],
            [
             0.9,
             "#4d9221"
            ],
            [
             1,
             "#276419"
            ]
           ],
           "sequential": [
            [
             0,
             "#0d0887"
            ],
            [
             0.1111111111111111,
             "#46039f"
            ],
            [
             0.2222222222222222,
             "#7201a8"
            ],
            [
             0.3333333333333333,
             "#9c179e"
            ],
            [
             0.4444444444444444,
             "#bd3786"
            ],
            [
             0.5555555555555556,
             "#d8576b"
            ],
            [
             0.6666666666666666,
             "#ed7953"
            ],
            [
             0.7777777777777778,
             "#fb9f3a"
            ],
            [
             0.8888888888888888,
             "#fdca26"
            ],
            [
             1,
             "#f0f921"
            ]
           ],
           "sequentialminus": [
            [
             0,
             "#0d0887"
            ],
            [
             0.1111111111111111,
             "#46039f"
            ],
            [
             0.2222222222222222,
             "#7201a8"
            ],
            [
             0.3333333333333333,
             "#9c179e"
            ],
            [
             0.4444444444444444,
             "#bd3786"
            ],
            [
             0.5555555555555556,
             "#d8576b"
            ],
            [
             0.6666666666666666,
             "#ed7953"
            ],
            [
             0.7777777777777778,
             "#fb9f3a"
            ],
            [
             0.8888888888888888,
             "#fdca26"
            ],
            [
             1,
             "#f0f921"
            ]
           ]
          },
          "colorway": [
           "#636efa",
           "#EF553B",
           "#00cc96",
           "#ab63fa",
           "#FFA15A",
           "#19d3f3",
           "#FF6692",
           "#B6E880",
           "#FF97FF",
           "#FECB52"
          ],
          "font": {
           "color": "#2a3f5f"
          },
          "geo": {
           "bgcolor": "white",
           "lakecolor": "white",
           "landcolor": "#E5ECF6",
           "showlakes": true,
           "showland": true,
           "subunitcolor": "white"
          },
          "hoverlabel": {
           "align": "left"
          },
          "hovermode": "closest",
          "mapbox": {
           "style": "light"
          },
          "paper_bgcolor": "white",
          "plot_bgcolor": "#E5ECF6",
          "polar": {
           "angularaxis": {
            "gridcolor": "white",
            "linecolor": "white",
            "ticks": ""
           },
           "bgcolor": "#E5ECF6",
           "radialaxis": {
            "gridcolor": "white",
            "linecolor": "white",
            "ticks": ""
           }
          },
          "scene": {
           "xaxis": {
            "backgroundcolor": "#E5ECF6",
            "gridcolor": "white",
            "gridwidth": 2,
            "linecolor": "white",
            "showbackground": true,
            "ticks": "",
            "zerolinecolor": "white"
           },
           "yaxis": {
            "backgroundcolor": "#E5ECF6",
            "gridcolor": "white",
            "gridwidth": 2,
            "linecolor": "white",
            "showbackground": true,
            "ticks": "",
            "zerolinecolor": "white"
           },
           "zaxis": {
            "backgroundcolor": "#E5ECF6",
            "gridcolor": "white",
            "gridwidth": 2,
            "linecolor": "white",
            "showbackground": true,
            "ticks": "",
            "zerolinecolor": "white"
           }
          },
          "shapedefaults": {
           "line": {
            "color": "#2a3f5f"
           }
          },
          "ternary": {
           "aaxis": {
            "gridcolor": "white",
            "linecolor": "white",
            "ticks": ""
           },
           "baxis": {
            "gridcolor": "white",
            "linecolor": "white",
            "ticks": ""
           },
           "bgcolor": "#E5ECF6",
           "caxis": {
            "gridcolor": "white",
            "linecolor": "white",
            "ticks": ""
           }
          },
          "title": {
           "x": 0.05
          },
          "xaxis": {
           "automargin": true,
           "gridcolor": "white",
           "linecolor": "white",
           "ticks": "",
           "title": {
            "standoff": 15
           },
           "zerolinecolor": "white",
           "zerolinewidth": 2
          },
          "yaxis": {
           "automargin": true,
           "gridcolor": "white",
           "linecolor": "white",
           "ticks": "",
           "title": {
            "standoff": 15
           },
           "zerolinecolor": "white",
           "zerolinewidth": 2
          }
         }
        },
        "title": {
         "text": "Average Loan Amounts by Unit Type"
        },
        "xaxis": {
         "anchor": "y",
         "domain": [
          0,
          1
         ],
         "title": {
          "text": "Unit Type"
         }
        },
        "yaxis": {
         "anchor": "x",
         "domain": [
          0,
          1
         ],
         "title": {
          "text": "Average Loan Amount ($)"
         }
        }
       }
      }
     },
     "metadata": {},
     "output_type": "display_data"
    },
    {
     "data": {
      "application/vnd.plotly.v1+json": {
       "config": {
        "plotlyServerURL": "https://plot.ly"
       },
       "data": [
        {
         "alignmentgroup": "True",
         "hovertemplate": "Loan Type=%{x}<br>Average Loan Amount ($)=%{y}<extra></extra>",
         "legendgroup": "",
         "marker": {
          "color": "#636efa",
          "pattern": {
           "shape": ""
          }
         },
         "name": "",
         "offsetgroup": "",
         "orientation": "v",
         "showlegend": false,
         "textposition": "auto",
         "type": "bar",
         "x": [
          "Commercial",
          "Conventional",
          "FHA",
          "Other",
          "Residential",
          "VA"
         ],
         "xaxis": "x",
         "y": [
          788347.3531000001,
          436199.7242114385,
          420307.69403381646,
          487399.1935483871,
          396131.25581395347,
          243000
         ],
         "yaxis": "y"
        }
       ],
       "layout": {
        "barmode": "relative",
        "legend": {
         "tracegroupgap": 0
        },
        "template": {
         "data": {
          "bar": [
           {
            "error_x": {
             "color": "#2a3f5f"
            },
            "error_y": {
             "color": "#2a3f5f"
            },
            "marker": {
             "line": {
              "color": "#E5ECF6",
              "width": 0.5
             },
             "pattern": {
              "fillmode": "overlay",
              "size": 10,
              "solidity": 0.2
             }
            },
            "type": "bar"
           }
          ],
          "barpolar": [
           {
            "marker": {
             "line": {
              "color": "#E5ECF6",
              "width": 0.5
             },
             "pattern": {
              "fillmode": "overlay",
              "size": 10,
              "solidity": 0.2
             }
            },
            "type": "barpolar"
           }
          ],
          "carpet": [
           {
            "aaxis": {
             "endlinecolor": "#2a3f5f",
             "gridcolor": "white",
             "linecolor": "white",
             "minorgridcolor": "white",
             "startlinecolor": "#2a3f5f"
            },
            "baxis": {
             "endlinecolor": "#2a3f5f",
             "gridcolor": "white",
             "linecolor": "white",
             "minorgridcolor": "white",
             "startlinecolor": "#2a3f5f"
            },
            "type": "carpet"
           }
          ],
          "choropleth": [
           {
            "colorbar": {
             "outlinewidth": 0,
             "ticks": ""
            },
            "type": "choropleth"
           }
          ],
          "contour": [
           {
            "colorbar": {
             "outlinewidth": 0,
             "ticks": ""
            },
            "colorscale": [
             [
              0,
              "#0d0887"
             ],
             [
              0.1111111111111111,
              "#46039f"
             ],
             [
              0.2222222222222222,
              "#7201a8"
             ],
             [
              0.3333333333333333,
              "#9c179e"
             ],
             [
              0.4444444444444444,
              "#bd3786"
             ],
             [
              0.5555555555555556,
              "#d8576b"
             ],
             [
              0.6666666666666666,
              "#ed7953"
             ],
             [
              0.7777777777777778,
              "#fb9f3a"
             ],
             [
              0.8888888888888888,
              "#fdca26"
             ],
             [
              1,
              "#f0f921"
             ]
            ],
            "type": "contour"
           }
          ],
          "contourcarpet": [
           {
            "colorbar": {
             "outlinewidth": 0,
             "ticks": ""
            },
            "type": "contourcarpet"
           }
          ],
          "heatmap": [
           {
            "colorbar": {
             "outlinewidth": 0,
             "ticks": ""
            },
            "colorscale": [
             [
              0,
              "#0d0887"
             ],
             [
              0.1111111111111111,
              "#46039f"
             ],
             [
              0.2222222222222222,
              "#7201a8"
             ],
             [
              0.3333333333333333,
              "#9c179e"
             ],
             [
              0.4444444444444444,
              "#bd3786"
             ],
             [
              0.5555555555555556,
              "#d8576b"
             ],
             [
              0.6666666666666666,
              "#ed7953"
             ],
             [
              0.7777777777777778,
              "#fb9f3a"
             ],
             [
              0.8888888888888888,
              "#fdca26"
             ],
             [
              1,
              "#f0f921"
             ]
            ],
            "type": "heatmap"
           }
          ],
          "heatmapgl": [
           {
            "colorbar": {
             "outlinewidth": 0,
             "ticks": ""
            },
            "colorscale": [
             [
              0,
              "#0d0887"
             ],
             [
              0.1111111111111111,
              "#46039f"
             ],
             [
              0.2222222222222222,
              "#7201a8"
             ],
             [
              0.3333333333333333,
              "#9c179e"
             ],
             [
              0.4444444444444444,
              "#bd3786"
             ],
             [
              0.5555555555555556,
              "#d8576b"
             ],
             [
              0.6666666666666666,
              "#ed7953"
             ],
             [
              0.7777777777777778,
              "#fb9f3a"
             ],
             [
              0.8888888888888888,
              "#fdca26"
             ],
             [
              1,
              "#f0f921"
             ]
            ],
            "type": "heatmapgl"
           }
          ],
          "histogram": [
           {
            "marker": {
             "pattern": {
              "fillmode": "overlay",
              "size": 10,
              "solidity": 0.2
             }
            },
            "type": "histogram"
           }
          ],
          "histogram2d": [
           {
            "colorbar": {
             "outlinewidth": 0,
             "ticks": ""
            },
            "colorscale": [
             [
              0,
              "#0d0887"
             ],
             [
              0.1111111111111111,
              "#46039f"
             ],
             [
              0.2222222222222222,
              "#7201a8"
             ],
             [
              0.3333333333333333,
              "#9c179e"
             ],
             [
              0.4444444444444444,
              "#bd3786"
             ],
             [
              0.5555555555555556,
              "#d8576b"
             ],
             [
              0.6666666666666666,
              "#ed7953"
             ],
             [
              0.7777777777777778,
              "#fb9f3a"
             ],
             [
              0.8888888888888888,
              "#fdca26"
             ],
             [
              1,
              "#f0f921"
             ]
            ],
            "type": "histogram2d"
           }
          ],
          "histogram2dcontour": [
           {
            "colorbar": {
             "outlinewidth": 0,
             "ticks": ""
            },
            "colorscale": [
             [
              0,
              "#0d0887"
             ],
             [
              0.1111111111111111,
              "#46039f"
             ],
             [
              0.2222222222222222,
              "#7201a8"
             ],
             [
              0.3333333333333333,
              "#9c179e"
             ],
             [
              0.4444444444444444,
              "#bd3786"
             ],
             [
              0.5555555555555556,
              "#d8576b"
             ],
             [
              0.6666666666666666,
              "#ed7953"
             ],
             [
              0.7777777777777778,
              "#fb9f3a"
             ],
             [
              0.8888888888888888,
              "#fdca26"
             ],
             [
              1,
              "#f0f921"
             ]
            ],
            "type": "histogram2dcontour"
           }
          ],
          "mesh3d": [
           {
            "colorbar": {
             "outlinewidth": 0,
             "ticks": ""
            },
            "type": "mesh3d"
           }
          ],
          "parcoords": [
           {
            "line": {
             "colorbar": {
              "outlinewidth": 0,
              "ticks": ""
             }
            },
            "type": "parcoords"
           }
          ],
          "pie": [
           {
            "automargin": true,
            "type": "pie"
           }
          ],
          "scatter": [
           {
            "fillpattern": {
             "fillmode": "overlay",
             "size": 10,
             "solidity": 0.2
            },
            "type": "scatter"
           }
          ],
          "scatter3d": [
           {
            "line": {
             "colorbar": {
              "outlinewidth": 0,
              "ticks": ""
             }
            },
            "marker": {
             "colorbar": {
              "outlinewidth": 0,
              "ticks": ""
             }
            },
            "type": "scatter3d"
           }
          ],
          "scattercarpet": [
           {
            "marker": {
             "colorbar": {
              "outlinewidth": 0,
              "ticks": ""
             }
            },
            "type": "scattercarpet"
           }
          ],
          "scattergeo": [
           {
            "marker": {
             "colorbar": {
              "outlinewidth": 0,
              "ticks": ""
             }
            },
            "type": "scattergeo"
           }
          ],
          "scattergl": [
           {
            "marker": {
             "colorbar": {
              "outlinewidth": 0,
              "ticks": ""
             }
            },
            "type": "scattergl"
           }
          ],
          "scattermapbox": [
           {
            "marker": {
             "colorbar": {
              "outlinewidth": 0,
              "ticks": ""
             }
            },
            "type": "scattermapbox"
           }
          ],
          "scatterpolar": [
           {
            "marker": {
             "colorbar": {
              "outlinewidth": 0,
              "ticks": ""
             }
            },
            "type": "scatterpolar"
           }
          ],
          "scatterpolargl": [
           {
            "marker": {
             "colorbar": {
              "outlinewidth": 0,
              "ticks": ""
             }
            },
            "type": "scatterpolargl"
           }
          ],
          "scatterternary": [
           {
            "marker": {
             "colorbar": {
              "outlinewidth": 0,
              "ticks": ""
             }
            },
            "type": "scatterternary"
           }
          ],
          "surface": [
           {
            "colorbar": {
             "outlinewidth": 0,
             "ticks": ""
            },
            "colorscale": [
             [
              0,
              "#0d0887"
             ],
             [
              0.1111111111111111,
              "#46039f"
             ],
             [
              0.2222222222222222,
              "#7201a8"
             ],
             [
              0.3333333333333333,
              "#9c179e"
             ],
             [
              0.4444444444444444,
              "#bd3786"
             ],
             [
              0.5555555555555556,
              "#d8576b"
             ],
             [
              0.6666666666666666,
              "#ed7953"
             ],
             [
              0.7777777777777778,
              "#fb9f3a"
             ],
             [
              0.8888888888888888,
              "#fdca26"
             ],
             [
              1,
              "#f0f921"
             ]
            ],
            "type": "surface"
           }
          ],
          "table": [
           {
            "cells": {
             "fill": {
              "color": "#EBF0F8"
             },
             "line": {
              "color": "white"
             }
            },
            "header": {
             "fill": {
              "color": "#C8D4E3"
             },
             "line": {
              "color": "white"
             }
            },
            "type": "table"
           }
          ]
         },
         "layout": {
          "annotationdefaults": {
           "arrowcolor": "#2a3f5f",
           "arrowhead": 0,
           "arrowwidth": 1
          },
          "autotypenumbers": "strict",
          "coloraxis": {
           "colorbar": {
            "outlinewidth": 0,
            "ticks": ""
           }
          },
          "colorscale": {
           "diverging": [
            [
             0,
             "#8e0152"
            ],
            [
             0.1,
             "#c51b7d"
            ],
            [
             0.2,
             "#de77ae"
            ],
            [
             0.3,
             "#f1b6da"
            ],
            [
             0.4,
             "#fde0ef"
            ],
            [
             0.5,
             "#f7f7f7"
            ],
            [
             0.6,
             "#e6f5d0"
            ],
            [
             0.7,
             "#b8e186"
            ],
            [
             0.8,
             "#7fbc41"
            ],
            [
             0.9,
             "#4d9221"
            ],
            [
             1,
             "#276419"
            ]
           ],
           "sequential": [
            [
             0,
             "#0d0887"
            ],
            [
             0.1111111111111111,
             "#46039f"
            ],
            [
             0.2222222222222222,
             "#7201a8"
            ],
            [
             0.3333333333333333,
             "#9c179e"
            ],
            [
             0.4444444444444444,
             "#bd3786"
            ],
            [
             0.5555555555555556,
             "#d8576b"
            ],
            [
             0.6666666666666666,
             "#ed7953"
            ],
            [
             0.7777777777777778,
             "#fb9f3a"
            ],
            [
             0.8888888888888888,
             "#fdca26"
            ],
            [
             1,
             "#f0f921"
            ]
           ],
           "sequentialminus": [
            [
             0,
             "#0d0887"
            ],
            [
             0.1111111111111111,
             "#46039f"
            ],
            [
             0.2222222222222222,
             "#7201a8"
            ],
            [
             0.3333333333333333,
             "#9c179e"
            ],
            [
             0.4444444444444444,
             "#bd3786"
            ],
            [
             0.5555555555555556,
             "#d8576b"
            ],
            [
             0.6666666666666666,
             "#ed7953"
            ],
            [
             0.7777777777777778,
             "#fb9f3a"
            ],
            [
             0.8888888888888888,
             "#fdca26"
            ],
            [
             1,
             "#f0f921"
            ]
           ]
          },
          "colorway": [
           "#636efa",
           "#EF553B",
           "#00cc96",
           "#ab63fa",
           "#FFA15A",
           "#19d3f3",
           "#FF6692",
           "#B6E880",
           "#FF97FF",
           "#FECB52"
          ],
          "font": {
           "color": "#2a3f5f"
          },
          "geo": {
           "bgcolor": "white",
           "lakecolor": "white",
           "landcolor": "#E5ECF6",
           "showlakes": true,
           "showland": true,
           "subunitcolor": "white"
          },
          "hoverlabel": {
           "align": "left"
          },
          "hovermode": "closest",
          "mapbox": {
           "style": "light"
          },
          "paper_bgcolor": "white",
          "plot_bgcolor": "#E5ECF6",
          "polar": {
           "angularaxis": {
            "gridcolor": "white",
            "linecolor": "white",
            "ticks": ""
           },
           "bgcolor": "#E5ECF6",
           "radialaxis": {
            "gridcolor": "white",
            "linecolor": "white",
            "ticks": ""
           }
          },
          "scene": {
           "xaxis": {
            "backgroundcolor": "#E5ECF6",
            "gridcolor": "white",
            "gridwidth": 2,
            "linecolor": "white",
            "showbackground": true,
            "ticks": "",
            "zerolinecolor": "white"
           },
           "yaxis": {
            "backgroundcolor": "#E5ECF6",
            "gridcolor": "white",
            "gridwidth": 2,
            "linecolor": "white",
            "showbackground": true,
            "ticks": "",
            "zerolinecolor": "white"
           },
           "zaxis": {
            "backgroundcolor": "#E5ECF6",
            "gridcolor": "white",
            "gridwidth": 2,
            "linecolor": "white",
            "showbackground": true,
            "ticks": "",
            "zerolinecolor": "white"
           }
          },
          "shapedefaults": {
           "line": {
            "color": "#2a3f5f"
           }
          },
          "ternary": {
           "aaxis": {
            "gridcolor": "white",
            "linecolor": "white",
            "ticks": ""
           },
           "baxis": {
            "gridcolor": "white",
            "linecolor": "white",
            "ticks": ""
           },
           "bgcolor": "#E5ECF6",
           "caxis": {
            "gridcolor": "white",
            "linecolor": "white",
            "ticks": ""
           }
          },
          "title": {
           "x": 0.05
          },
          "xaxis": {
           "automargin": true,
           "gridcolor": "white",
           "linecolor": "white",
           "ticks": "",
           "title": {
            "standoff": 15
           },
           "zerolinecolor": "white",
           "zerolinewidth": 2
          },
          "yaxis": {
           "automargin": true,
           "gridcolor": "white",
           "linecolor": "white",
           "ticks": "",
           "title": {
            "standoff": 15
           },
           "zerolinecolor": "white",
           "zerolinewidth": 2
          }
         }
        },
        "title": {
         "text": "Average Loan Amounts by Loan Type"
        },
        "xaxis": {
         "anchor": "y",
         "domain": [
          0,
          1
         ],
         "title": {
          "text": "Loan Type"
         }
        },
        "yaxis": {
         "anchor": "x",
         "domain": [
          0,
          1
         ],
         "title": {
          "text": "Average Loan Amount ($)"
         }
        }
       }
      }
     },
     "metadata": {},
     "output_type": "display_data"
    },
    {
     "data": {
      "application/vnd.plotly.v1+json": {
       "config": {
        "plotlyServerURL": "https://plot.ly"
       },
       "data": [
        {
         "alignmentgroup": "True",
         "hovertemplate": "Lender Name=%{x}<br>Average Loan Amount ($)=%{y}<extra></extra>",
         "legendgroup": "",
         "marker": {
          "color": "#636efa",
          "pattern": {
           "shape": ""
          }
         },
         "name": "",
         "offsetgroup": "",
         "orientation": "v",
         "showlegend": false,
         "textposition": "auto",
         "type": "bar",
         "x": [
          "CB",
          "FSB",
          "FSTR",
          "HB",
          "HCS",
          "HVER",
          "JCB",
          "MFSB",
          "MTB",
          "MWBI",
          "NP",
          "PDL",
          "WFB"
         ],
         "xaxis": "x",
         "y": [
          400139.04731958767,
          715000,
          456271.5884375,
          430022.385,
          384250,
          625127.875,
          376482.00999999995,
          667250,
          272853.3893333333,
          443067.97768012265,
          1062200,
          513000,
          481856.85411764705
         ],
         "yaxis": "y"
        }
       ],
       "layout": {
        "barmode": "relative",
        "legend": {
         "tracegroupgap": 0
        },
        "template": {
         "data": {
          "bar": [
           {
            "error_x": {
             "color": "#2a3f5f"
            },
            "error_y": {
             "color": "#2a3f5f"
            },
            "marker": {
             "line": {
              "color": "#E5ECF6",
              "width": 0.5
             },
             "pattern": {
              "fillmode": "overlay",
              "size": 10,
              "solidity": 0.2
             }
            },
            "type": "bar"
           }
          ],
          "barpolar": [
           {
            "marker": {
             "line": {
              "color": "#E5ECF6",
              "width": 0.5
             },
             "pattern": {
              "fillmode": "overlay",
              "size": 10,
              "solidity": 0.2
             }
            },
            "type": "barpolar"
           }
          ],
          "carpet": [
           {
            "aaxis": {
             "endlinecolor": "#2a3f5f",
             "gridcolor": "white",
             "linecolor": "white",
             "minorgridcolor": "white",
             "startlinecolor": "#2a3f5f"
            },
            "baxis": {
             "endlinecolor": "#2a3f5f",
             "gridcolor": "white",
             "linecolor": "white",
             "minorgridcolor": "white",
             "startlinecolor": "#2a3f5f"
            },
            "type": "carpet"
           }
          ],
          "choropleth": [
           {
            "colorbar": {
             "outlinewidth": 0,
             "ticks": ""
            },
            "type": "choropleth"
           }
          ],
          "contour": [
           {
            "colorbar": {
             "outlinewidth": 0,
             "ticks": ""
            },
            "colorscale": [
             [
              0,
              "#0d0887"
             ],
             [
              0.1111111111111111,
              "#46039f"
             ],
             [
              0.2222222222222222,
              "#7201a8"
             ],
             [
              0.3333333333333333,
              "#9c179e"
             ],
             [
              0.4444444444444444,
              "#bd3786"
             ],
             [
              0.5555555555555556,
              "#d8576b"
             ],
             [
              0.6666666666666666,
              "#ed7953"
             ],
             [
              0.7777777777777778,
              "#fb9f3a"
             ],
             [
              0.8888888888888888,
              "#fdca26"
             ],
             [
              1,
              "#f0f921"
             ]
            ],
            "type": "contour"
           }
          ],
          "contourcarpet": [
           {
            "colorbar": {
             "outlinewidth": 0,
             "ticks": ""
            },
            "type": "contourcarpet"
           }
          ],
          "heatmap": [
           {
            "colorbar": {
             "outlinewidth": 0,
             "ticks": ""
            },
            "colorscale": [
             [
              0,
              "#0d0887"
             ],
             [
              0.1111111111111111,
              "#46039f"
             ],
             [
              0.2222222222222222,
              "#7201a8"
             ],
             [
              0.3333333333333333,
              "#9c179e"
             ],
             [
              0.4444444444444444,
              "#bd3786"
             ],
             [
              0.5555555555555556,
              "#d8576b"
             ],
             [
              0.6666666666666666,
              "#ed7953"
             ],
             [
              0.7777777777777778,
              "#fb9f3a"
             ],
             [
              0.8888888888888888,
              "#fdca26"
             ],
             [
              1,
              "#f0f921"
             ]
            ],
            "type": "heatmap"
           }
          ],
          "heatmapgl": [
           {
            "colorbar": {
             "outlinewidth": 0,
             "ticks": ""
            },
            "colorscale": [
             [
              0,
              "#0d0887"
             ],
             [
              0.1111111111111111,
              "#46039f"
             ],
             [
              0.2222222222222222,
              "#7201a8"
             ],
             [
              0.3333333333333333,
              "#9c179e"
             ],
             [
              0.4444444444444444,
              "#bd3786"
             ],
             [
              0.5555555555555556,
              "#d8576b"
             ],
             [
              0.6666666666666666,
              "#ed7953"
             ],
             [
              0.7777777777777778,
              "#fb9f3a"
             ],
             [
              0.8888888888888888,
              "#fdca26"
             ],
             [
              1,
              "#f0f921"
             ]
            ],
            "type": "heatmapgl"
           }
          ],
          "histogram": [
           {
            "marker": {
             "pattern": {
              "fillmode": "overlay",
              "size": 10,
              "solidity": 0.2
             }
            },
            "type": "histogram"
           }
          ],
          "histogram2d": [
           {
            "colorbar": {
             "outlinewidth": 0,
             "ticks": ""
            },
            "colorscale": [
             [
              0,
              "#0d0887"
             ],
             [
              0.1111111111111111,
              "#46039f"
             ],
             [
              0.2222222222222222,
              "#7201a8"
             ],
             [
              0.3333333333333333,
              "#9c179e"
             ],
             [
              0.4444444444444444,
              "#bd3786"
             ],
             [
              0.5555555555555556,
              "#d8576b"
             ],
             [
              0.6666666666666666,
              "#ed7953"
             ],
             [
              0.7777777777777778,
              "#fb9f3a"
             ],
             [
              0.8888888888888888,
              "#fdca26"
             ],
             [
              1,
              "#f0f921"
             ]
            ],
            "type": "histogram2d"
           }
          ],
          "histogram2dcontour": [
           {
            "colorbar": {
             "outlinewidth": 0,
             "ticks": ""
            },
            "colorscale": [
             [
              0,
              "#0d0887"
             ],
             [
              0.1111111111111111,
              "#46039f"
             ],
             [
              0.2222222222222222,
              "#7201a8"
             ],
             [
              0.3333333333333333,
              "#9c179e"
             ],
             [
              0.4444444444444444,
              "#bd3786"
             ],
             [
              0.5555555555555556,
              "#d8576b"
             ],
             [
              0.6666666666666666,
              "#ed7953"
             ],
             [
              0.7777777777777778,
              "#fb9f3a"
             ],
             [
              0.8888888888888888,
              "#fdca26"
             ],
             [
              1,
              "#f0f921"
             ]
            ],
            "type": "histogram2dcontour"
           }
          ],
          "mesh3d": [
           {
            "colorbar": {
             "outlinewidth": 0,
             "ticks": ""
            },
            "type": "mesh3d"
           }
          ],
          "parcoords": [
           {
            "line": {
             "colorbar": {
              "outlinewidth": 0,
              "ticks": ""
             }
            },
            "type": "parcoords"
           }
          ],
          "pie": [
           {
            "automargin": true,
            "type": "pie"
           }
          ],
          "scatter": [
           {
            "fillpattern": {
             "fillmode": "overlay",
             "size": 10,
             "solidity": 0.2
            },
            "type": "scatter"
           }
          ],
          "scatter3d": [
           {
            "line": {
             "colorbar": {
              "outlinewidth": 0,
              "ticks": ""
             }
            },
            "marker": {
             "colorbar": {
              "outlinewidth": 0,
              "ticks": ""
             }
            },
            "type": "scatter3d"
           }
          ],
          "scattercarpet": [
           {
            "marker": {
             "colorbar": {
              "outlinewidth": 0,
              "ticks": ""
             }
            },
            "type": "scattercarpet"
           }
          ],
          "scattergeo": [
           {
            "marker": {
             "colorbar": {
              "outlinewidth": 0,
              "ticks": ""
             }
            },
            "type": "scattergeo"
           }
          ],
          "scattergl": [
           {
            "marker": {
             "colorbar": {
              "outlinewidth": 0,
              "ticks": ""
             }
            },
            "type": "scattergl"
           }
          ],
          "scattermapbox": [
           {
            "marker": {
             "colorbar": {
              "outlinewidth": 0,
              "ticks": ""
             }
            },
            "type": "scattermapbox"
           }
          ],
          "scatterpolar": [
           {
            "marker": {
             "colorbar": {
              "outlinewidth": 0,
              "ticks": ""
             }
            },
            "type": "scatterpolar"
           }
          ],
          "scatterpolargl": [
           {
            "marker": {
             "colorbar": {
              "outlinewidth": 0,
              "ticks": ""
             }
            },
            "type": "scatterpolargl"
           }
          ],
          "scatterternary": [
           {
            "marker": {
             "colorbar": {
              "outlinewidth": 0,
              "ticks": ""
             }
            },
            "type": "scatterternary"
           }
          ],
          "surface": [
           {
            "colorbar": {
             "outlinewidth": 0,
             "ticks": ""
            },
            "colorscale": [
             [
              0,
              "#0d0887"
             ],
             [
              0.1111111111111111,
              "#46039f"
             ],
             [
              0.2222222222222222,
              "#7201a8"
             ],
             [
              0.3333333333333333,
              "#9c179e"
             ],
             [
              0.4444444444444444,
              "#bd3786"
             ],
             [
              0.5555555555555556,
              "#d8576b"
             ],
             [
              0.6666666666666666,
              "#ed7953"
             ],
             [
              0.7777777777777778,
              "#fb9f3a"
             ],
             [
              0.8888888888888888,
              "#fdca26"
             ],
             [
              1,
              "#f0f921"
             ]
            ],
            "type": "surface"
           }
          ],
          "table": [
           {
            "cells": {
             "fill": {
              "color": "#EBF0F8"
             },
             "line": {
              "color": "white"
             }
            },
            "header": {
             "fill": {
              "color": "#C8D4E3"
             },
             "line": {
              "color": "white"
             }
            },
            "type": "table"
           }
          ]
         },
         "layout": {
          "annotationdefaults": {
           "arrowcolor": "#2a3f5f",
           "arrowhead": 0,
           "arrowwidth": 1
          },
          "autotypenumbers": "strict",
          "coloraxis": {
           "colorbar": {
            "outlinewidth": 0,
            "ticks": ""
           }
          },
          "colorscale": {
           "diverging": [
            [
             0,
             "#8e0152"
            ],
            [
             0.1,
             "#c51b7d"
            ],
            [
             0.2,
             "#de77ae"
            ],
            [
             0.3,
             "#f1b6da"
            ],
            [
             0.4,
             "#fde0ef"
            ],
            [
             0.5,
             "#f7f7f7"
            ],
            [
             0.6,
             "#e6f5d0"
            ],
            [
             0.7,
             "#b8e186"
            ],
            [
             0.8,
             "#7fbc41"
            ],
            [
             0.9,
             "#4d9221"
            ],
            [
             1,
             "#276419"
            ]
           ],
           "sequential": [
            [
             0,
             "#0d0887"
            ],
            [
             0.1111111111111111,
             "#46039f"
            ],
            [
             0.2222222222222222,
             "#7201a8"
            ],
            [
             0.3333333333333333,
             "#9c179e"
            ],
            [
             0.4444444444444444,
             "#bd3786"
            ],
            [
             0.5555555555555556,
             "#d8576b"
            ],
            [
             0.6666666666666666,
             "#ed7953"
            ],
            [
             0.7777777777777778,
             "#fb9f3a"
            ],
            [
             0.8888888888888888,
             "#fdca26"
            ],
            [
             1,
             "#f0f921"
            ]
           ],
           "sequentialminus": [
            [
             0,
             "#0d0887"
            ],
            [
             0.1111111111111111,
             "#46039f"
            ],
            [
             0.2222222222222222,
             "#7201a8"
            ],
            [
             0.3333333333333333,
             "#9c179e"
            ],
            [
             0.4444444444444444,
             "#bd3786"
            ],
            [
             0.5555555555555556,
             "#d8576b"
            ],
            [
             0.6666666666666666,
             "#ed7953"
            ],
            [
             0.7777777777777778,
             "#fb9f3a"
            ],
            [
             0.8888888888888888,
             "#fdca26"
            ],
            [
             1,
             "#f0f921"
            ]
           ]
          },
          "colorway": [
           "#636efa",
           "#EF553B",
           "#00cc96",
           "#ab63fa",
           "#FFA15A",
           "#19d3f3",
           "#FF6692",
           "#B6E880",
           "#FF97FF",
           "#FECB52"
          ],
          "font": {
           "color": "#2a3f5f"
          },
          "geo": {
           "bgcolor": "white",
           "lakecolor": "white",
           "landcolor": "#E5ECF6",
           "showlakes": true,
           "showland": true,
           "subunitcolor": "white"
          },
          "hoverlabel": {
           "align": "left"
          },
          "hovermode": "closest",
          "mapbox": {
           "style": "light"
          },
          "paper_bgcolor": "white",
          "plot_bgcolor": "#E5ECF6",
          "polar": {
           "angularaxis": {
            "gridcolor": "white",
            "linecolor": "white",
            "ticks": ""
           },
           "bgcolor": "#E5ECF6",
           "radialaxis": {
            "gridcolor": "white",
            "linecolor": "white",
            "ticks": ""
           }
          },
          "scene": {
           "xaxis": {
            "backgroundcolor": "#E5ECF6",
            "gridcolor": "white",
            "gridwidth": 2,
            "linecolor": "white",
            "showbackground": true,
            "ticks": "",
            "zerolinecolor": "white"
           },
           "yaxis": {
            "backgroundcolor": "#E5ECF6",
            "gridcolor": "white",
            "gridwidth": 2,
            "linecolor": "white",
            "showbackground": true,
            "ticks": "",
            "zerolinecolor": "white"
           },
           "zaxis": {
            "backgroundcolor": "#E5ECF6",
            "gridcolor": "white",
            "gridwidth": 2,
            "linecolor": "white",
            "showbackground": true,
            "ticks": "",
            "zerolinecolor": "white"
           }
          },
          "shapedefaults": {
           "line": {
            "color": "#2a3f5f"
           }
          },
          "ternary": {
           "aaxis": {
            "gridcolor": "white",
            "linecolor": "white",
            "ticks": ""
           },
           "baxis": {
            "gridcolor": "white",
            "linecolor": "white",
            "ticks": ""
           },
           "bgcolor": "#E5ECF6",
           "caxis": {
            "gridcolor": "white",
            "linecolor": "white",
            "ticks": ""
           }
          },
          "title": {
           "x": 0.05
          },
          "xaxis": {
           "automargin": true,
           "gridcolor": "white",
           "linecolor": "white",
           "ticks": "",
           "title": {
            "standoff": 15
           },
           "zerolinecolor": "white",
           "zerolinewidth": 2
          },
          "yaxis": {
           "automargin": true,
           "gridcolor": "white",
           "linecolor": "white",
           "ticks": "",
           "title": {
            "standoff": 15
           },
           "zerolinecolor": "white",
           "zerolinewidth": 2
          }
         }
        },
        "title": {
         "text": "Average Loan Amounts by Lender Name"
        },
        "xaxis": {
         "anchor": "y",
         "domain": [
          0,
          1
         ],
         "title": {
          "text": "Lender Name"
         }
        },
        "yaxis": {
         "anchor": "x",
         "domain": [
          0,
          1
         ],
         "title": {
          "text": "Average Loan Amount ($)"
         }
        }
       }
      }
     },
     "metadata": {},
     "output_type": "display_data"
    },
    {
     "data": {
      "application/vnd.plotly.v1+json": {
       "config": {
        "plotlyServerURL": "https://plot.ly"
       },
       "data": [
        {
         "alignmentgroup": "True",
         "hovertemplate": "Fix=%{x}<br>Average Loan Amount ($)=%{y}<extra></extra>",
         "legendgroup": "",
         "marker": {
          "color": "#636efa",
          "pattern": {
           "shape": ""
          }
         },
         "name": "",
         "offsetgroup": "",
         "orientation": "v",
         "showlegend": false,
         "textposition": "auto",
         "type": "bar",
         "x": [
          false,
          true
         ],
         "xaxis": "x",
         "y": [
          558901.5831782946,
          431614.96409579227
         ],
         "yaxis": "y"
        }
       ],
       "layout": {
        "barmode": "relative",
        "legend": {
         "tracegroupgap": 0
        },
        "template": {
         "data": {
          "bar": [
           {
            "error_x": {
             "color": "#2a3f5f"
            },
            "error_y": {
             "color": "#2a3f5f"
            },
            "marker": {
             "line": {
              "color": "#E5ECF6",
              "width": 0.5
             },
             "pattern": {
              "fillmode": "overlay",
              "size": 10,
              "solidity": 0.2
             }
            },
            "type": "bar"
           }
          ],
          "barpolar": [
           {
            "marker": {
             "line": {
              "color": "#E5ECF6",
              "width": 0.5
             },
             "pattern": {
              "fillmode": "overlay",
              "size": 10,
              "solidity": 0.2
             }
            },
            "type": "barpolar"
           }
          ],
          "carpet": [
           {
            "aaxis": {
             "endlinecolor": "#2a3f5f",
             "gridcolor": "white",
             "linecolor": "white",
             "minorgridcolor": "white",
             "startlinecolor": "#2a3f5f"
            },
            "baxis": {
             "endlinecolor": "#2a3f5f",
             "gridcolor": "white",
             "linecolor": "white",
             "minorgridcolor": "white",
             "startlinecolor": "#2a3f5f"
            },
            "type": "carpet"
           }
          ],
          "choropleth": [
           {
            "colorbar": {
             "outlinewidth": 0,
             "ticks": ""
            },
            "type": "choropleth"
           }
          ],
          "contour": [
           {
            "colorbar": {
             "outlinewidth": 0,
             "ticks": ""
            },
            "colorscale": [
             [
              0,
              "#0d0887"
             ],
             [
              0.1111111111111111,
              "#46039f"
             ],
             [
              0.2222222222222222,
              "#7201a8"
             ],
             [
              0.3333333333333333,
              "#9c179e"
             ],
             [
              0.4444444444444444,
              "#bd3786"
             ],
             [
              0.5555555555555556,
              "#d8576b"
             ],
             [
              0.6666666666666666,
              "#ed7953"
             ],
             [
              0.7777777777777778,
              "#fb9f3a"
             ],
             [
              0.8888888888888888,
              "#fdca26"
             ],
             [
              1,
              "#f0f921"
             ]
            ],
            "type": "contour"
           }
          ],
          "contourcarpet": [
           {
            "colorbar": {
             "outlinewidth": 0,
             "ticks": ""
            },
            "type": "contourcarpet"
           }
          ],
          "heatmap": [
           {
            "colorbar": {
             "outlinewidth": 0,
             "ticks": ""
            },
            "colorscale": [
             [
              0,
              "#0d0887"
             ],
             [
              0.1111111111111111,
              "#46039f"
             ],
             [
              0.2222222222222222,
              "#7201a8"
             ],
             [
              0.3333333333333333,
              "#9c179e"
             ],
             [
              0.4444444444444444,
              "#bd3786"
             ],
             [
              0.5555555555555556,
              "#d8576b"
             ],
             [
              0.6666666666666666,
              "#ed7953"
             ],
             [
              0.7777777777777778,
              "#fb9f3a"
             ],
             [
              0.8888888888888888,
              "#fdca26"
             ],
             [
              1,
              "#f0f921"
             ]
            ],
            "type": "heatmap"
           }
          ],
          "heatmapgl": [
           {
            "colorbar": {
             "outlinewidth": 0,
             "ticks": ""
            },
            "colorscale": [
             [
              0,
              "#0d0887"
             ],
             [
              0.1111111111111111,
              "#46039f"
             ],
             [
              0.2222222222222222,
              "#7201a8"
             ],
             [
              0.3333333333333333,
              "#9c179e"
             ],
             [
              0.4444444444444444,
              "#bd3786"
             ],
             [
              0.5555555555555556,
              "#d8576b"
             ],
             [
              0.6666666666666666,
              "#ed7953"
             ],
             [
              0.7777777777777778,
              "#fb9f3a"
             ],
             [
              0.8888888888888888,
              "#fdca26"
             ],
             [
              1,
              "#f0f921"
             ]
            ],
            "type": "heatmapgl"
           }
          ],
          "histogram": [
           {
            "marker": {
             "pattern": {
              "fillmode": "overlay",
              "size": 10,
              "solidity": 0.2
             }
            },
            "type": "histogram"
           }
          ],
          "histogram2d": [
           {
            "colorbar": {
             "outlinewidth": 0,
             "ticks": ""
            },
            "colorscale": [
             [
              0,
              "#0d0887"
             ],
             [
              0.1111111111111111,
              "#46039f"
             ],
             [
              0.2222222222222222,
              "#7201a8"
             ],
             [
              0.3333333333333333,
              "#9c179e"
             ],
             [
              0.4444444444444444,
              "#bd3786"
             ],
             [
              0.5555555555555556,
              "#d8576b"
             ],
             [
              0.6666666666666666,
              "#ed7953"
             ],
             [
              0.7777777777777778,
              "#fb9f3a"
             ],
             [
              0.8888888888888888,
              "#fdca26"
             ],
             [
              1,
              "#f0f921"
             ]
            ],
            "type": "histogram2d"
           }
          ],
          "histogram2dcontour": [
           {
            "colorbar": {
             "outlinewidth": 0,
             "ticks": ""
            },
            "colorscale": [
             [
              0,
              "#0d0887"
             ],
             [
              0.1111111111111111,
              "#46039f"
             ],
             [
              0.2222222222222222,
              "#7201a8"
             ],
             [
              0.3333333333333333,
              "#9c179e"
             ],
             [
              0.4444444444444444,
              "#bd3786"
             ],
             [
              0.5555555555555556,
              "#d8576b"
             ],
             [
              0.6666666666666666,
              "#ed7953"
             ],
             [
              0.7777777777777778,
              "#fb9f3a"
             ],
             [
              0.8888888888888888,
              "#fdca26"
             ],
             [
              1,
              "#f0f921"
             ]
            ],
            "type": "histogram2dcontour"
           }
          ],
          "mesh3d": [
           {
            "colorbar": {
             "outlinewidth": 0,
             "ticks": ""
            },
            "type": "mesh3d"
           }
          ],
          "parcoords": [
           {
            "line": {
             "colorbar": {
              "outlinewidth": 0,
              "ticks": ""
             }
            },
            "type": "parcoords"
           }
          ],
          "pie": [
           {
            "automargin": true,
            "type": "pie"
           }
          ],
          "scatter": [
           {
            "fillpattern": {
             "fillmode": "overlay",
             "size": 10,
             "solidity": 0.2
            },
            "type": "scatter"
           }
          ],
          "scatter3d": [
           {
            "line": {
             "colorbar": {
              "outlinewidth": 0,
              "ticks": ""
             }
            },
            "marker": {
             "colorbar": {
              "outlinewidth": 0,
              "ticks": ""
             }
            },
            "type": "scatter3d"
           }
          ],
          "scattercarpet": [
           {
            "marker": {
             "colorbar": {
              "outlinewidth": 0,
              "ticks": ""
             }
            },
            "type": "scattercarpet"
           }
          ],
          "scattergeo": [
           {
            "marker": {
             "colorbar": {
              "outlinewidth": 0,
              "ticks": ""
             }
            },
            "type": "scattergeo"
           }
          ],
          "scattergl": [
           {
            "marker": {
             "colorbar": {
              "outlinewidth": 0,
              "ticks": ""
             }
            },
            "type": "scattergl"
           }
          ],
          "scattermapbox": [
           {
            "marker": {
             "colorbar": {
              "outlinewidth": 0,
              "ticks": ""
             }
            },
            "type": "scattermapbox"
           }
          ],
          "scatterpolar": [
           {
            "marker": {
             "colorbar": {
              "outlinewidth": 0,
              "ticks": ""
             }
            },
            "type": "scatterpolar"
           }
          ],
          "scatterpolargl": [
           {
            "marker": {
             "colorbar": {
              "outlinewidth": 0,
              "ticks": ""
             }
            },
            "type": "scatterpolargl"
           }
          ],
          "scatterternary": [
           {
            "marker": {
             "colorbar": {
              "outlinewidth": 0,
              "ticks": ""
             }
            },
            "type": "scatterternary"
           }
          ],
          "surface": [
           {
            "colorbar": {
             "outlinewidth": 0,
             "ticks": ""
            },
            "colorscale": [
             [
              0,
              "#0d0887"
             ],
             [
              0.1111111111111111,
              "#46039f"
             ],
             [
              0.2222222222222222,
              "#7201a8"
             ],
             [
              0.3333333333333333,
              "#9c179e"
             ],
             [
              0.4444444444444444,
              "#bd3786"
             ],
             [
              0.5555555555555556,
              "#d8576b"
             ],
             [
              0.6666666666666666,
              "#ed7953"
             ],
             [
              0.7777777777777778,
              "#fb9f3a"
             ],
             [
              0.8888888888888888,
              "#fdca26"
             ],
             [
              1,
              "#f0f921"
             ]
            ],
            "type": "surface"
           }
          ],
          "table": [
           {
            "cells": {
             "fill": {
              "color": "#EBF0F8"
             },
             "line": {
              "color": "white"
             }
            },
            "header": {
             "fill": {
              "color": "#C8D4E3"
             },
             "line": {
              "color": "white"
             }
            },
            "type": "table"
           }
          ]
         },
         "layout": {
          "annotationdefaults": {
           "arrowcolor": "#2a3f5f",
           "arrowhead": 0,
           "arrowwidth": 1
          },
          "autotypenumbers": "strict",
          "coloraxis": {
           "colorbar": {
            "outlinewidth": 0,
            "ticks": ""
           }
          },
          "colorscale": {
           "diverging": [
            [
             0,
             "#8e0152"
            ],
            [
             0.1,
             "#c51b7d"
            ],
            [
             0.2,
             "#de77ae"
            ],
            [
             0.3,
             "#f1b6da"
            ],
            [
             0.4,
             "#fde0ef"
            ],
            [
             0.5,
             "#f7f7f7"
            ],
            [
             0.6,
             "#e6f5d0"
            ],
            [
             0.7,
             "#b8e186"
            ],
            [
             0.8,
             "#7fbc41"
            ],
            [
             0.9,
             "#4d9221"
            ],
            [
             1,
             "#276419"
            ]
           ],
           "sequential": [
            [
             0,
             "#0d0887"
            ],
            [
             0.1111111111111111,
             "#46039f"
            ],
            [
             0.2222222222222222,
             "#7201a8"
            ],
            [
             0.3333333333333333,
             "#9c179e"
            ],
            [
             0.4444444444444444,
             "#bd3786"
            ],
            [
             0.5555555555555556,
             "#d8576b"
            ],
            [
             0.6666666666666666,
             "#ed7953"
            ],
            [
             0.7777777777777778,
             "#fb9f3a"
            ],
            [
             0.8888888888888888,
             "#fdca26"
            ],
            [
             1,
             "#f0f921"
            ]
           ],
           "sequentialminus": [
            [
             0,
             "#0d0887"
            ],
            [
             0.1111111111111111,
             "#46039f"
            ],
            [
             0.2222222222222222,
             "#7201a8"
            ],
            [
             0.3333333333333333,
             "#9c179e"
            ],
            [
             0.4444444444444444,
             "#bd3786"
            ],
            [
             0.5555555555555556,
             "#d8576b"
            ],
            [
             0.6666666666666666,
             "#ed7953"
            ],
            [
             0.7777777777777778,
             "#fb9f3a"
            ],
            [
             0.8888888888888888,
             "#fdca26"
            ],
            [
             1,
             "#f0f921"
            ]
           ]
          },
          "colorway": [
           "#636efa",
           "#EF553B",
           "#00cc96",
           "#ab63fa",
           "#FFA15A",
           "#19d3f3",
           "#FF6692",
           "#B6E880",
           "#FF97FF",
           "#FECB52"
          ],
          "font": {
           "color": "#2a3f5f"
          },
          "geo": {
           "bgcolor": "white",
           "lakecolor": "white",
           "landcolor": "#E5ECF6",
           "showlakes": true,
           "showland": true,
           "subunitcolor": "white"
          },
          "hoverlabel": {
           "align": "left"
          },
          "hovermode": "closest",
          "mapbox": {
           "style": "light"
          },
          "paper_bgcolor": "white",
          "plot_bgcolor": "#E5ECF6",
          "polar": {
           "angularaxis": {
            "gridcolor": "white",
            "linecolor": "white",
            "ticks": ""
           },
           "bgcolor": "#E5ECF6",
           "radialaxis": {
            "gridcolor": "white",
            "linecolor": "white",
            "ticks": ""
           }
          },
          "scene": {
           "xaxis": {
            "backgroundcolor": "#E5ECF6",
            "gridcolor": "white",
            "gridwidth": 2,
            "linecolor": "white",
            "showbackground": true,
            "ticks": "",
            "zerolinecolor": "white"
           },
           "yaxis": {
            "backgroundcolor": "#E5ECF6",
            "gridcolor": "white",
            "gridwidth": 2,
            "linecolor": "white",
            "showbackground": true,
            "ticks": "",
            "zerolinecolor": "white"
           },
           "zaxis": {
            "backgroundcolor": "#E5ECF6",
            "gridcolor": "white",
            "gridwidth": 2,
            "linecolor": "white",
            "showbackground": true,
            "ticks": "",
            "zerolinecolor": "white"
           }
          },
          "shapedefaults": {
           "line": {
            "color": "#2a3f5f"
           }
          },
          "ternary": {
           "aaxis": {
            "gridcolor": "white",
            "linecolor": "white",
            "ticks": ""
           },
           "baxis": {
            "gridcolor": "white",
            "linecolor": "white",
            "ticks": ""
           },
           "bgcolor": "#E5ECF6",
           "caxis": {
            "gridcolor": "white",
            "linecolor": "white",
            "ticks": ""
           }
          },
          "title": {
           "x": 0.05
          },
          "xaxis": {
           "automargin": true,
           "gridcolor": "white",
           "linecolor": "white",
           "ticks": "",
           "title": {
            "standoff": 15
           },
           "zerolinecolor": "white",
           "zerolinewidth": 2
          },
          "yaxis": {
           "automargin": true,
           "gridcolor": "white",
           "linecolor": "white",
           "ticks": "",
           "title": {
            "standoff": 15
           },
           "zerolinecolor": "white",
           "zerolinewidth": 2
          }
         }
        },
        "title": {
         "text": "Average Loan Amounts by Fix"
        },
        "xaxis": {
         "anchor": "y",
         "domain": [
          0,
          1
         ],
         "title": {
          "text": "Fix"
         }
        },
        "yaxis": {
         "anchor": "x",
         "domain": [
          0,
          1
         ],
         "title": {
          "text": "Average Loan Amount ($)"
         }
        }
       }
      }
     },
     "metadata": {},
     "output_type": "display_data"
    },
    {
     "data": {
      "application/vnd.plotly.v1+json": {
       "config": {
        "plotlyServerURL": "https://plot.ly"
       },
       "data": [
        {
         "alignmentgroup": "True",
         "hovertemplate": "ARM=%{x}<br>Average Loan Amount ($)=%{y}<extra></extra>",
         "legendgroup": "",
         "marker": {
          "color": "#636efa",
          "pattern": {
           "shape": ""
          }
         },
         "name": "",
         "offsetgroup": "",
         "orientation": "v",
         "showlegend": false,
         "textposition": "auto",
         "type": "bar",
         "x": [
          false,
          true
         ],
         "xaxis": "x",
         "y": [
          431614.96409579227,
          558901.5831782946
         ],
         "yaxis": "y"
        }
       ],
       "layout": {
        "barmode": "relative",
        "legend": {
         "tracegroupgap": 0
        },
        "template": {
         "data": {
          "bar": [
           {
            "error_x": {
             "color": "#2a3f5f"
            },
            "error_y": {
             "color": "#2a3f5f"
            },
            "marker": {
             "line": {
              "color": "#E5ECF6",
              "width": 0.5
             },
             "pattern": {
              "fillmode": "overlay",
              "size": 10,
              "solidity": 0.2
             }
            },
            "type": "bar"
           }
          ],
          "barpolar": [
           {
            "marker": {
             "line": {
              "color": "#E5ECF6",
              "width": 0.5
             },
             "pattern": {
              "fillmode": "overlay",
              "size": 10,
              "solidity": 0.2
             }
            },
            "type": "barpolar"
           }
          ],
          "carpet": [
           {
            "aaxis": {
             "endlinecolor": "#2a3f5f",
             "gridcolor": "white",
             "linecolor": "white",
             "minorgridcolor": "white",
             "startlinecolor": "#2a3f5f"
            },
            "baxis": {
             "endlinecolor": "#2a3f5f",
             "gridcolor": "white",
             "linecolor": "white",
             "minorgridcolor": "white",
             "startlinecolor": "#2a3f5f"
            },
            "type": "carpet"
           }
          ],
          "choropleth": [
           {
            "colorbar": {
             "outlinewidth": 0,
             "ticks": ""
            },
            "type": "choropleth"
           }
          ],
          "contour": [
           {
            "colorbar": {
             "outlinewidth": 0,
             "ticks": ""
            },
            "colorscale": [
             [
              0,
              "#0d0887"
             ],
             [
              0.1111111111111111,
              "#46039f"
             ],
             [
              0.2222222222222222,
              "#7201a8"
             ],
             [
              0.3333333333333333,
              "#9c179e"
             ],
             [
              0.4444444444444444,
              "#bd3786"
             ],
             [
              0.5555555555555556,
              "#d8576b"
             ],
             [
              0.6666666666666666,
              "#ed7953"
             ],
             [
              0.7777777777777778,
              "#fb9f3a"
             ],
             [
              0.8888888888888888,
              "#fdca26"
             ],
             [
              1,
              "#f0f921"
             ]
            ],
            "type": "contour"
           }
          ],
          "contourcarpet": [
           {
            "colorbar": {
             "outlinewidth": 0,
             "ticks": ""
            },
            "type": "contourcarpet"
           }
          ],
          "heatmap": [
           {
            "colorbar": {
             "outlinewidth": 0,
             "ticks": ""
            },
            "colorscale": [
             [
              0,
              "#0d0887"
             ],
             [
              0.1111111111111111,
              "#46039f"
             ],
             [
              0.2222222222222222,
              "#7201a8"
             ],
             [
              0.3333333333333333,
              "#9c179e"
             ],
             [
              0.4444444444444444,
              "#bd3786"
             ],
             [
              0.5555555555555556,
              "#d8576b"
             ],
             [
              0.6666666666666666,
              "#ed7953"
             ],
             [
              0.7777777777777778,
              "#fb9f3a"
             ],
             [
              0.8888888888888888,
              "#fdca26"
             ],
             [
              1,
              "#f0f921"
             ]
            ],
            "type": "heatmap"
           }
          ],
          "heatmapgl": [
           {
            "colorbar": {
             "outlinewidth": 0,
             "ticks": ""
            },
            "colorscale": [
             [
              0,
              "#0d0887"
             ],
             [
              0.1111111111111111,
              "#46039f"
             ],
             [
              0.2222222222222222,
              "#7201a8"
             ],
             [
              0.3333333333333333,
              "#9c179e"
             ],
             [
              0.4444444444444444,
              "#bd3786"
             ],
             [
              0.5555555555555556,
              "#d8576b"
             ],
             [
              0.6666666666666666,
              "#ed7953"
             ],
             [
              0.7777777777777778,
              "#fb9f3a"
             ],
             [
              0.8888888888888888,
              "#fdca26"
             ],
             [
              1,
              "#f0f921"
             ]
            ],
            "type": "heatmapgl"
           }
          ],
          "histogram": [
           {
            "marker": {
             "pattern": {
              "fillmode": "overlay",
              "size": 10,
              "solidity": 0.2
             }
            },
            "type": "histogram"
           }
          ],
          "histogram2d": [
           {
            "colorbar": {
             "outlinewidth": 0,
             "ticks": ""
            },
            "colorscale": [
             [
              0,
              "#0d0887"
             ],
             [
              0.1111111111111111,
              "#46039f"
             ],
             [
              0.2222222222222222,
              "#7201a8"
             ],
             [
              0.3333333333333333,
              "#9c179e"
             ],
             [
              0.4444444444444444,
              "#bd3786"
             ],
             [
              0.5555555555555556,
              "#d8576b"
             ],
             [
              0.6666666666666666,
              "#ed7953"
             ],
             [
              0.7777777777777778,
              "#fb9f3a"
             ],
             [
              0.8888888888888888,
              "#fdca26"
             ],
             [
              1,
              "#f0f921"
             ]
            ],
            "type": "histogram2d"
           }
          ],
          "histogram2dcontour": [
           {
            "colorbar": {
             "outlinewidth": 0,
             "ticks": ""
            },
            "colorscale": [
             [
              0,
              "#0d0887"
             ],
             [
              0.1111111111111111,
              "#46039f"
             ],
             [
              0.2222222222222222,
              "#7201a8"
             ],
             [
              0.3333333333333333,
              "#9c179e"
             ],
             [
              0.4444444444444444,
              "#bd3786"
             ],
             [
              0.5555555555555556,
              "#d8576b"
             ],
             [
              0.6666666666666666,
              "#ed7953"
             ],
             [
              0.7777777777777778,
              "#fb9f3a"
             ],
             [
              0.8888888888888888,
              "#fdca26"
             ],
             [
              1,
              "#f0f921"
             ]
            ],
            "type": "histogram2dcontour"
           }
          ],
          "mesh3d": [
           {
            "colorbar": {
             "outlinewidth": 0,
             "ticks": ""
            },
            "type": "mesh3d"
           }
          ],
          "parcoords": [
           {
            "line": {
             "colorbar": {
              "outlinewidth": 0,
              "ticks": ""
             }
            },
            "type": "parcoords"
           }
          ],
          "pie": [
           {
            "automargin": true,
            "type": "pie"
           }
          ],
          "scatter": [
           {
            "fillpattern": {
             "fillmode": "overlay",
             "size": 10,
             "solidity": 0.2
            },
            "type": "scatter"
           }
          ],
          "scatter3d": [
           {
            "line": {
             "colorbar": {
              "outlinewidth": 0,
              "ticks": ""
             }
            },
            "marker": {
             "colorbar": {
              "outlinewidth": 0,
              "ticks": ""
             }
            },
            "type": "scatter3d"
           }
          ],
          "scattercarpet": [
           {
            "marker": {
             "colorbar": {
              "outlinewidth": 0,
              "ticks": ""
             }
            },
            "type": "scattercarpet"
           }
          ],
          "scattergeo": [
           {
            "marker": {
             "colorbar": {
              "outlinewidth": 0,
              "ticks": ""
             }
            },
            "type": "scattergeo"
           }
          ],
          "scattergl": [
           {
            "marker": {
             "colorbar": {
              "outlinewidth": 0,
              "ticks": ""
             }
            },
            "type": "scattergl"
           }
          ],
          "scattermapbox": [
           {
            "marker": {
             "colorbar": {
              "outlinewidth": 0,
              "ticks": ""
             }
            },
            "type": "scattermapbox"
           }
          ],
          "scatterpolar": [
           {
            "marker": {
             "colorbar": {
              "outlinewidth": 0,
              "ticks": ""
             }
            },
            "type": "scatterpolar"
           }
          ],
          "scatterpolargl": [
           {
            "marker": {
             "colorbar": {
              "outlinewidth": 0,
              "ticks": ""
             }
            },
            "type": "scatterpolargl"
           }
          ],
          "scatterternary": [
           {
            "marker": {
             "colorbar": {
              "outlinewidth": 0,
              "ticks": ""
             }
            },
            "type": "scatterternary"
           }
          ],
          "surface": [
           {
            "colorbar": {
             "outlinewidth": 0,
             "ticks": ""
            },
            "colorscale": [
             [
              0,
              "#0d0887"
             ],
             [
              0.1111111111111111,
              "#46039f"
             ],
             [
              0.2222222222222222,
              "#7201a8"
             ],
             [
              0.3333333333333333,
              "#9c179e"
             ],
             [
              0.4444444444444444,
              "#bd3786"
             ],
             [
              0.5555555555555556,
              "#d8576b"
             ],
             [
              0.6666666666666666,
              "#ed7953"
             ],
             [
              0.7777777777777778,
              "#fb9f3a"
             ],
             [
              0.8888888888888888,
              "#fdca26"
             ],
             [
              1,
              "#f0f921"
             ]
            ],
            "type": "surface"
           }
          ],
          "table": [
           {
            "cells": {
             "fill": {
              "color": "#EBF0F8"
             },
             "line": {
              "color": "white"
             }
            },
            "header": {
             "fill": {
              "color": "#C8D4E3"
             },
             "line": {
              "color": "white"
             }
            },
            "type": "table"
           }
          ]
         },
         "layout": {
          "annotationdefaults": {
           "arrowcolor": "#2a3f5f",
           "arrowhead": 0,
           "arrowwidth": 1
          },
          "autotypenumbers": "strict",
          "coloraxis": {
           "colorbar": {
            "outlinewidth": 0,
            "ticks": ""
           }
          },
          "colorscale": {
           "diverging": [
            [
             0,
             "#8e0152"
            ],
            [
             0.1,
             "#c51b7d"
            ],
            [
             0.2,
             "#de77ae"
            ],
            [
             0.3,
             "#f1b6da"
            ],
            [
             0.4,
             "#fde0ef"
            ],
            [
             0.5,
             "#f7f7f7"
            ],
            [
             0.6,
             "#e6f5d0"
            ],
            [
             0.7,
             "#b8e186"
            ],
            [
             0.8,
             "#7fbc41"
            ],
            [
             0.9,
             "#4d9221"
            ],
            [
             1,
             "#276419"
            ]
           ],
           "sequential": [
            [
             0,
             "#0d0887"
            ],
            [
             0.1111111111111111,
             "#46039f"
            ],
            [
             0.2222222222222222,
             "#7201a8"
            ],
            [
             0.3333333333333333,
             "#9c179e"
            ],
            [
             0.4444444444444444,
             "#bd3786"
            ],
            [
             0.5555555555555556,
             "#d8576b"
            ],
            [
             0.6666666666666666,
             "#ed7953"
            ],
            [
             0.7777777777777778,
             "#fb9f3a"
            ],
            [
             0.8888888888888888,
             "#fdca26"
            ],
            [
             1,
             "#f0f921"
            ]
           ],
           "sequentialminus": [
            [
             0,
             "#0d0887"
            ],
            [
             0.1111111111111111,
             "#46039f"
            ],
            [
             0.2222222222222222,
             "#7201a8"
            ],
            [
             0.3333333333333333,
             "#9c179e"
            ],
            [
             0.4444444444444444,
             "#bd3786"
            ],
            [
             0.5555555555555556,
             "#d8576b"
            ],
            [
             0.6666666666666666,
             "#ed7953"
            ],
            [
             0.7777777777777778,
             "#fb9f3a"
            ],
            [
             0.8888888888888888,
             "#fdca26"
            ],
            [
             1,
             "#f0f921"
            ]
           ]
          },
          "colorway": [
           "#636efa",
           "#EF553B",
           "#00cc96",
           "#ab63fa",
           "#FFA15A",
           "#19d3f3",
           "#FF6692",
           "#B6E880",
           "#FF97FF",
           "#FECB52"
          ],
          "font": {
           "color": "#2a3f5f"
          },
          "geo": {
           "bgcolor": "white",
           "lakecolor": "white",
           "landcolor": "#E5ECF6",
           "showlakes": true,
           "showland": true,
           "subunitcolor": "white"
          },
          "hoverlabel": {
           "align": "left"
          },
          "hovermode": "closest",
          "mapbox": {
           "style": "light"
          },
          "paper_bgcolor": "white",
          "plot_bgcolor": "#E5ECF6",
          "polar": {
           "angularaxis": {
            "gridcolor": "white",
            "linecolor": "white",
            "ticks": ""
           },
           "bgcolor": "#E5ECF6",
           "radialaxis": {
            "gridcolor": "white",
            "linecolor": "white",
            "ticks": ""
           }
          },
          "scene": {
           "xaxis": {
            "backgroundcolor": "#E5ECF6",
            "gridcolor": "white",
            "gridwidth": 2,
            "linecolor": "white",
            "showbackground": true,
            "ticks": "",
            "zerolinecolor": "white"
           },
           "yaxis": {
            "backgroundcolor": "#E5ECF6",
            "gridcolor": "white",
            "gridwidth": 2,
            "linecolor": "white",
            "showbackground": true,
            "ticks": "",
            "zerolinecolor": "white"
           },
           "zaxis": {
            "backgroundcolor": "#E5ECF6",
            "gridcolor": "white",
            "gridwidth": 2,
            "linecolor": "white",
            "showbackground": true,
            "ticks": "",
            "zerolinecolor": "white"
           }
          },
          "shapedefaults": {
           "line": {
            "color": "#2a3f5f"
           }
          },
          "ternary": {
           "aaxis": {
            "gridcolor": "white",
            "linecolor": "white",
            "ticks": ""
           },
           "baxis": {
            "gridcolor": "white",
            "linecolor": "white",
            "ticks": ""
           },
           "bgcolor": "#E5ECF6",
           "caxis": {
            "gridcolor": "white",
            "linecolor": "white",
            "ticks": ""
           }
          },
          "title": {
           "x": 0.05
          },
          "xaxis": {
           "automargin": true,
           "gridcolor": "white",
           "linecolor": "white",
           "ticks": "",
           "title": {
            "standoff": 15
           },
           "zerolinecolor": "white",
           "zerolinewidth": 2
          },
          "yaxis": {
           "automargin": true,
           "gridcolor": "white",
           "linecolor": "white",
           "ticks": "",
           "title": {
            "standoff": 15
           },
           "zerolinecolor": "white",
           "zerolinewidth": 2
          }
         }
        },
        "title": {
         "text": "Average Loan Amounts by ARM"
        },
        "xaxis": {
         "anchor": "y",
         "domain": [
          0,
          1
         ],
         "title": {
          "text": "ARM"
         }
        },
        "yaxis": {
         "anchor": "x",
         "domain": [
          0,
          1
         ],
         "title": {
          "text": "Average Loan Amount ($)"
         }
        }
       }
      }
     },
     "metadata": {},
     "output_type": "display_data"
    }
   ],
   "source": [
    "# List of categorical columns\n",
    "cat_col = ['State', 'Loan Purpose', 'Is Primary Wage Earner', 'Income Type', 'Asset Docs', \n",
    "        'Occupancy', 'Unit Type', 'Loan Type', 'Lender Name', 'Fix', 'ARM']\n",
    "\n",
    "# Generate and display bar plots for each categorical column\n",
    "for col in cat_col:\n",
    "    # Aggregate data: compute the average loan amount per category\n",
    "    agg_df = df.groupby(col, as_index=False)['Loan Amount'].mean()\n",
    "    \n",
    "    # Create a bar plot to show the average Loan Amount by category\n",
    "    fig = px.bar(agg_df, x=col, y='Loan Amount',\n",
    "                title=f'Average Loan Amounts by {col}',\n",
    "                labels={'Loan Amount': 'Average Loan Amount ($)', col: col})\n",
    "    \n",
    "    # Show the plot\n",
    "    fig.show()"
   ]
  },
  {
   "cell_type": "code",
   "execution_count": 120,
   "metadata": {},
   "outputs": [
    {
     "name": "stdout",
     "output_type": "stream",
     "text": [
      "<class 'pandas.core.frame.DataFrame'>\n",
      "Index: 2492 entries, 0 to 2500\n",
      "Data columns (total 24 columns):\n",
      " #   Column                  Non-Null Count  Dtype  \n",
      "---  ------                  --------------  -----  \n",
      " 0   First Name              2492 non-null   object \n",
      " 1   Last Name               2492 non-null   object \n",
      " 2   City                    2492 non-null   object \n",
      " 3   State                   2492 non-null   object \n",
      " 4   Zip                     2492 non-null   int64  \n",
      " 5   Loan Amount             2492 non-null   float64\n",
      " 6   Estimated Value         2492 non-null   int64  \n",
      " 7   Loan Purpose            2492 non-null   object \n",
      " 8   Qualification FICO      2492 non-null   int64  \n",
      " 9   Is Primary Wage Earner  2492 non-null   bool   \n",
      " 10  Income Type             2492 non-null   object \n",
      " 11  Asset Docs              2492 non-null   object \n",
      " 12  Occupancy               2492 non-null   object \n",
      " 13  Unit Type               2492 non-null   object \n",
      " 14  Loan Type               2492 non-null   object \n",
      " 15  Lender Name             2492 non-null   object \n",
      " 16  Created Date            2492 non-null   object \n",
      " 17  Time                    2492 non-null   object \n",
      " 18  Fix                     2492 non-null   bool   \n",
      " 19  ARM                     2492 non-null   bool   \n",
      " 20  CLTV                    2492 non-null   float64\n",
      " 21  Loan Number             2492 non-null   object \n",
      " 22  Loan Officer Name       2492 non-null   object \n",
      " 23  LoanInMonth             2492 non-null   int64  \n",
      "dtypes: bool(3), float64(2), int64(4), object(15)\n",
      "memory usage: 435.6+ KB\n"
     ]
    }
   ],
   "source": [
    "df.info()"
   ]
  },
  {
   "cell_type": "code",
   "execution_count": 121,
   "metadata": {},
   "outputs": [],
   "source": [
    "num_col = ['Zip','Estimated Value','Qualification FICO','CLTV','Loan Number','LoanInMonth']"
   ]
  }
 ],
 "metadata": {
  "kernelspec": {
   "display_name": "python_eda",
   "language": "python",
   "name": "python3"
  },
  "language_info": {
   "codemirror_mode": {
    "name": "ipython",
    "version": 3
   },
   "file_extension": ".py",
   "mimetype": "text/x-python",
   "name": "python",
   "nbconvert_exporter": "python",
   "pygments_lexer": "ipython3",
   "version": "3.11.0"
  }
 },
 "nbformat": 4,
 "nbformat_minor": 2
}
