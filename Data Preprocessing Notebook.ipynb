{
 "cells": [
  {
   "cell_type": "markdown",
   "id": "e3399f3f",
   "metadata": {},
   "source": [
    "# Data Preprocessing Steps"
   ]
  },
  {
   "cell_type": "markdown",
   "id": "43934a07",
   "metadata": {},
   "source": [
    "1. Reading Data\n",
    "2. Exploring Data / Data Insight\n",
    "3. Cleansing Data\n",
    "4. Outlier Detection and Removing\n",
    "5. Data Transformation (Normalize Data / Rescale Data)\n",
    "6. Categorical into Numerical \n",
    "7. Dimensionality Reduction(PCA)\n",
    "8. Handling Imbalanced Data\n",
    "9. Feature Selection\n",
    "10. Data Splitting"
   ]
  },
  {
   "cell_type": "code",
   "execution_count": 1,
   "id": "24818953",
   "metadata": {},
   "outputs": [],
   "source": [
    "%matplotlib inline\n",
    "import matplotlib.pyplot as plt #for data visualizing\n",
    "import seaborn as sns \n",
    "color = sns.color_palette()\n",
    "\n",
    "import numpy as np # linear algebra\n",
    "import pandas as pd # data processing, CSV file I/O (e.g. pd.read_csv)"
   ]
  },
  {
   "cell_type": "markdown",
   "id": "95a7a593",
   "metadata": {},
   "source": [
    "# 1: Reading Data"
   ]
  },
  {
   "cell_type": "code",
   "execution_count": 2,
   "id": "418350a2",
   "metadata": {},
   "outputs": [
    {
     "data": {
      "text/html": [
       "<div>\n",
       "<style scoped>\n",
       "    .dataframe tbody tr th:only-of-type {\n",
       "        vertical-align: middle;\n",
       "    }\n",
       "\n",
       "    .dataframe tbody tr th {\n",
       "        vertical-align: top;\n",
       "    }\n",
       "\n",
       "    .dataframe thead th {\n",
       "        text-align: right;\n",
       "    }\n",
       "</style>\n",
       "<table border=\"1\" class=\"dataframe\">\n",
       "  <thead>\n",
       "    <tr style=\"text-align: right;\">\n",
       "      <th></th>\n",
       "      <th>survival</th>\n",
       "      <th>alive</th>\n",
       "      <th>age</th>\n",
       "      <th>pericardialeffusion</th>\n",
       "      <th>fractionalshortening</th>\n",
       "      <th>epss</th>\n",
       "      <th>lvdd</th>\n",
       "      <th>wallmotion-score</th>\n",
       "      <th>wallmotion-index</th>\n",
       "      <th>mult</th>\n",
       "      <th>name</th>\n",
       "      <th>group</th>\n",
       "      <th>aliveat1</th>\n",
       "    </tr>\n",
       "  </thead>\n",
       "  <tbody>\n",
       "    <tr>\n",
       "      <th>0</th>\n",
       "      <td>11.0</td>\n",
       "      <td>0.0</td>\n",
       "      <td>71.0</td>\n",
       "      <td>0.0</td>\n",
       "      <td>0.260</td>\n",
       "      <td>9.000</td>\n",
       "      <td>4.600</td>\n",
       "      <td>14.0</td>\n",
       "      <td>1.00</td>\n",
       "      <td>1.000</td>\n",
       "      <td>name</td>\n",
       "      <td>1</td>\n",
       "      <td>0.0</td>\n",
       "    </tr>\n",
       "    <tr>\n",
       "      <th>1</th>\n",
       "      <td>19.0</td>\n",
       "      <td>0.0</td>\n",
       "      <td>72.0</td>\n",
       "      <td>0.0</td>\n",
       "      <td>0.380</td>\n",
       "      <td>6.000</td>\n",
       "      <td>4.100</td>\n",
       "      <td>14.0</td>\n",
       "      <td>1.70</td>\n",
       "      <td>0.588</td>\n",
       "      <td>name</td>\n",
       "      <td>1</td>\n",
       "      <td>0.0</td>\n",
       "    </tr>\n",
       "    <tr>\n",
       "      <th>2</th>\n",
       "      <td>16.0</td>\n",
       "      <td>0.0</td>\n",
       "      <td>55.0</td>\n",
       "      <td>0.0</td>\n",
       "      <td>0.260</td>\n",
       "      <td>4.000</td>\n",
       "      <td>3.420</td>\n",
       "      <td>14.0</td>\n",
       "      <td>1.00</td>\n",
       "      <td>1.000</td>\n",
       "      <td>name</td>\n",
       "      <td>1</td>\n",
       "      <td>0.0</td>\n",
       "    </tr>\n",
       "    <tr>\n",
       "      <th>3</th>\n",
       "      <td>57.0</td>\n",
       "      <td>0.0</td>\n",
       "      <td>60.0</td>\n",
       "      <td>0.0</td>\n",
       "      <td>0.253</td>\n",
       "      <td>12.062</td>\n",
       "      <td>4.603</td>\n",
       "      <td>16.0</td>\n",
       "      <td>1.45</td>\n",
       "      <td>0.788</td>\n",
       "      <td>name</td>\n",
       "      <td>1</td>\n",
       "      <td>0.0</td>\n",
       "    </tr>\n",
       "    <tr>\n",
       "      <th>4</th>\n",
       "      <td>19.0</td>\n",
       "      <td>1.0</td>\n",
       "      <td>57.0</td>\n",
       "      <td>0.0</td>\n",
       "      <td>0.160</td>\n",
       "      <td>22.000</td>\n",
       "      <td>5.750</td>\n",
       "      <td>18.0</td>\n",
       "      <td>2.25</td>\n",
       "      <td>0.571</td>\n",
       "      <td>name</td>\n",
       "      <td>1</td>\n",
       "      <td>0.0</td>\n",
       "    </tr>\n",
       "  </tbody>\n",
       "</table>\n",
       "</div>"
      ],
      "text/plain": [
       "   survival  alive   age  pericardialeffusion  fractionalshortening    epss  \\\n",
       "0      11.0    0.0  71.0                  0.0                 0.260   9.000   \n",
       "1      19.0    0.0  72.0                  0.0                 0.380   6.000   \n",
       "2      16.0    0.0  55.0                  0.0                 0.260   4.000   \n",
       "3      57.0    0.0  60.0                  0.0                 0.253  12.062   \n",
       "4      19.0    1.0  57.0                  0.0                 0.160  22.000   \n",
       "\n",
       "    lvdd  wallmotion-score  wallmotion-index   mult  name group  aliveat1  \n",
       "0  4.600              14.0              1.00  1.000  name     1       0.0  \n",
       "1  4.100              14.0              1.70  0.588  name     1       0.0  \n",
       "2  3.420              14.0              1.00  1.000  name     1       0.0  \n",
       "3  4.603              16.0              1.45  0.788  name     1       0.0  \n",
       "4  5.750              18.0              2.25  0.571  name     1       0.0  "
      ]
     },
     "execution_count": 2,
     "metadata": {},
     "output_type": "execute_result"
    }
   ],
   "source": [
    "data = pd.read_csv('echocardiogram.csv')\n",
    "data.head()"
   ]
  },
  {
   "cell_type": "code",
   "execution_count": 4,
   "id": "b2a206df",
   "metadata": {},
   "outputs": [
    {
     "name": "stdout",
     "output_type": "stream",
     "text": [
      "<class 'pandas.core.frame.DataFrame'>\n",
      "RangeIndex: 133 entries, 0 to 132\n",
      "Data columns (total 13 columns):\n",
      " #   Column                Non-Null Count  Dtype  \n",
      "---  ------                --------------  -----  \n",
      " 0   survival              130 non-null    float64\n",
      " 1   alive                 131 non-null    float64\n",
      " 2   age                   126 non-null    float64\n",
      " 3   pericardialeffusion   132 non-null    float64\n",
      " 4   fractionalshortening  124 non-null    float64\n",
      " 5   epss                  117 non-null    float64\n",
      " 6   lvdd                  121 non-null    float64\n",
      " 7   wallmotion-score      128 non-null    float64\n",
      " 8   wallmotion-index      130 non-null    float64\n",
      " 9   mult                  129 non-null    float64\n",
      " 10  name                  131 non-null    object \n",
      " 11  group                 110 non-null    object \n",
      " 12  aliveat1              75 non-null     float64\n",
      "dtypes: float64(11), object(2)\n",
      "memory usage: 13.6+ KB\n"
     ]
    }
   ],
   "source": [
    "data.info()"
   ]
  },
  {
   "cell_type": "markdown",
   "id": "29f7c818",
   "metadata": {},
   "source": [
    "# 2: Data Cleaning"
   ]
  },
  {
   "cell_type": "markdown",
   "id": "8aaad97b",
   "metadata": {},
   "source": [
    "Handling Missing Values\n",
    "-\n",
    "- Imputation: Filling missing values with mean."
   ]
  },
  {
   "cell_type": "code",
   "execution_count": 11,
   "id": "9185afae",
   "metadata": {},
   "outputs": [
    {
     "data": {
      "text/plain": [
       "survival                 0\n",
       "alive                    0\n",
       "age                      0\n",
       "pericardialeffusion      0\n",
       "fractionalshortening     0\n",
       "epss                     0\n",
       "lvdd                     0\n",
       "wallmotion-score         0\n",
       "wallmotion-index         0\n",
       "mult                     0\n",
       "aliveat1                 0\n",
       "name                     2\n",
       "group                   23\n",
       "dtype: int64"
      ]
     },
     "execution_count": 11,
     "metadata": {},
     "output_type": "execute_result"
    }
   ],
   "source": [
    "data.isnull().sum()"
   ]
  },
  {
   "cell_type": "code",
   "execution_count": 13,
   "id": "826743d8",
   "metadata": {},
   "outputs": [
    {
     "name": "stdout",
     "output_type": "stream",
     "text": [
      "survival                 0\n",
      "alive                    0\n",
      "age                      0\n",
      "pericardialeffusion      0\n",
      "fractionalshortening     0\n",
      "epss                     0\n",
      "lvdd                     0\n",
      "wallmotion-score         0\n",
      "wallmotion-index         0\n",
      "mult                     0\n",
      "aliveat1                 0\n",
      "name                     2\n",
      "group                   23\n",
      "dtype: int64\n"
     ]
    }
   ],
   "source": [
    "import pandas as pd\n",
    "import numpy as np\n",
    "\n",
    "# Separate numeric and non-numeric columns\n",
    "numeric_cols = data.select_dtypes(include=[np.number])\n",
    "non_numeric_cols = data.select_dtypes(exclude=[np.number])\n",
    "\n",
    "# Fill missing values in numeric columns with the mean\n",
    "numeric_cols.fillna(numeric_cols.mean(), inplace=True)   # Numerical features\n",
    "#non_numeric_cols.fillna(non_numeric_cols.mode(), inplace=True) # Categorical features\n",
    "\n",
    "\n",
    "# Combine back with non-numeric columns\n",
    "data = pd.concat([numeric_cols, non_numeric_cols], axis=1)\n",
    "\n",
    "# Check for any remaining missing values\n",
    "missing_values = data.isnull().sum()\n",
    "print(missing_values)\n"
   ]
  },
  {
   "cell_type": "code",
   "execution_count": 14,
   "id": "06e3f3f5",
   "metadata": {},
   "outputs": [
    {
     "data": {
      "text/plain": [
       "(133, 13)"
      ]
     },
     "execution_count": 14,
     "metadata": {},
     "output_type": "execute_result"
    }
   ],
   "source": [
    "data.shape"
   ]
  },
  {
   "cell_type": "markdown",
   "id": "07b95415",
   "metadata": {},
   "source": [
    "Removal: Deleting rows with missing values.\n",
    "-"
   ]
  },
  {
   "cell_type": "code",
   "execution_count": 14,
   "id": "e62e6125",
   "metadata": {},
   "outputs": [
    {
     "data": {
      "text/plain": [
       "survival                 3\n",
       "alive                    2\n",
       "age                      7\n",
       "pericardialeffusion      1\n",
       "fractionalshortening     9\n",
       "epss                    16\n",
       "lvdd                    12\n",
       "wallmotion-score         5\n",
       "wallmotion-index         3\n",
       "mult                     4\n",
       "name                     2\n",
       "group                   23\n",
       "aliveat1                58\n",
       "dtype: int64"
      ]
     },
     "execution_count": 14,
     "metadata": {},
     "output_type": "execute_result"
    }
   ],
   "source": [
    "data = pd.read_csv('echocardiogram.csv')\n",
    "data.isnull().sum()"
   ]
  },
  {
   "cell_type": "code",
   "execution_count": 15,
   "id": "28b9c914",
   "metadata": {},
   "outputs": [
    {
     "data": {
      "text/plain": [
       "(133, 13)"
      ]
     },
     "execution_count": 15,
     "metadata": {},
     "output_type": "execute_result"
    }
   ],
   "source": [
    "data.shape"
   ]
  },
  {
   "cell_type": "code",
   "execution_count": 17,
   "id": "9a6569c7",
   "metadata": {},
   "outputs": [
    {
     "name": "stdout",
     "output_type": "stream",
     "text": [
      "survival                0\n",
      "alive                   0\n",
      "age                     0\n",
      "pericardialeffusion     0\n",
      "fractionalshortening    0\n",
      "epss                    0\n",
      "lvdd                    0\n",
      "wallmotion-score        0\n",
      "wallmotion-index        0\n",
      "mult                    0\n",
      "name                    0\n",
      "group                   0\n",
      "aliveat1                0\n",
      "dtype: int64\n"
     ]
    }
   ],
   "source": [
    "# Drop rows with any missing values\n",
    "data.dropna(inplace=True)\n",
    "\n",
    "# Check for any remaining missing values\n",
    "missing_values = data.isnull().sum()\n",
    "print(missing_values)\n"
   ]
  },
  {
   "cell_type": "code",
   "execution_count": 18,
   "id": "f9007c7e",
   "metadata": {},
   "outputs": [
    {
     "data": {
      "text/plain": [
       "(61, 13)"
      ]
     },
     "execution_count": 18,
     "metadata": {},
     "output_type": "execute_result"
    }
   ],
   "source": [
    "data.shape"
   ]
  },
  {
   "cell_type": "code",
   "execution_count": null,
   "id": "f1361d72",
   "metadata": {},
   "outputs": [],
   "source": []
  },
  {
   "cell_type": "markdown",
   "id": "43d2d12a",
   "metadata": {},
   "source": [
    "Removing Duplicates\n",
    "-"
   ]
  },
  {
   "cell_type": "code",
   "execution_count": 20,
   "id": "139c2e38",
   "metadata": {},
   "outputs": [
    {
     "data": {
      "text/plain": [
       "(133, 13)"
      ]
     },
     "execution_count": 20,
     "metadata": {},
     "output_type": "execute_result"
    }
   ],
   "source": [
    "data = pd.read_csv('echocardiogram.csv')\n",
    "data.shape\n"
   ]
  },
  {
   "cell_type": "code",
   "execution_count": 21,
   "id": "4270a2df",
   "metadata": {},
   "outputs": [
    {
     "data": {
      "text/plain": [
       "(133, 13)"
      ]
     },
     "execution_count": 21,
     "metadata": {},
     "output_type": "execute_result"
    }
   ],
   "source": [
    "data.drop_duplicates(inplace=True)\n",
    "data.shape"
   ]
  },
  {
   "cell_type": "markdown",
   "id": "ea5c13bf",
   "metadata": {},
   "source": [
    "# 3: Outlier Detection and Removal"
   ]
  },
  {
   "cell_type": "code",
   "execution_count": 17,
   "id": "6756bc33",
   "metadata": {},
   "outputs": [
    {
     "data": {
      "text/html": [
       "<div>\n",
       "<style scoped>\n",
       "    .dataframe tbody tr th:only-of-type {\n",
       "        vertical-align: middle;\n",
       "    }\n",
       "\n",
       "    .dataframe tbody tr th {\n",
       "        vertical-align: top;\n",
       "    }\n",
       "\n",
       "    .dataframe thead th {\n",
       "        text-align: right;\n",
       "    }\n",
       "</style>\n",
       "<table border=\"1\" class=\"dataframe\">\n",
       "  <thead>\n",
       "    <tr style=\"text-align: right;\">\n",
       "      <th></th>\n",
       "      <th>survival</th>\n",
       "      <th>alive</th>\n",
       "      <th>age</th>\n",
       "      <th>pericardialeffusion</th>\n",
       "      <th>fractionalshortening</th>\n",
       "      <th>epss</th>\n",
       "      <th>lvdd</th>\n",
       "      <th>wallmotion-score</th>\n",
       "      <th>wallmotion-index</th>\n",
       "      <th>mult</th>\n",
       "      <th>aliveat1</th>\n",
       "    </tr>\n",
       "  </thead>\n",
       "  <tbody>\n",
       "    <tr>\n",
       "      <th>count</th>\n",
       "      <td>130.000000</td>\n",
       "      <td>131.000000</td>\n",
       "      <td>126.000000</td>\n",
       "      <td>132.000000</td>\n",
       "      <td>124.000000</td>\n",
       "      <td>117.000000</td>\n",
       "      <td>121.000000</td>\n",
       "      <td>128.000000</td>\n",
       "      <td>130.00000</td>\n",
       "      <td>129.000000</td>\n",
       "      <td>75.000000</td>\n",
       "    </tr>\n",
       "    <tr>\n",
       "      <th>mean</th>\n",
       "      <td>22.182923</td>\n",
       "      <td>0.328244</td>\n",
       "      <td>62.813722</td>\n",
       "      <td>0.765152</td>\n",
       "      <td>0.216734</td>\n",
       "      <td>12.164769</td>\n",
       "      <td>4.763157</td>\n",
       "      <td>14.438125</td>\n",
       "      <td>1.37800</td>\n",
       "      <td>0.786202</td>\n",
       "      <td>0.346667</td>\n",
       "    </tr>\n",
       "    <tr>\n",
       "      <th>std</th>\n",
       "      <td>15.858267</td>\n",
       "      <td>0.471377</td>\n",
       "      <td>8.342110</td>\n",
       "      <td>6.697225</td>\n",
       "      <td>0.107513</td>\n",
       "      <td>7.370159</td>\n",
       "      <td>0.810013</td>\n",
       "      <td>5.018566</td>\n",
       "      <td>0.45185</td>\n",
       "      <td>0.225661</td>\n",
       "      <td>0.506534</td>\n",
       "    </tr>\n",
       "    <tr>\n",
       "      <th>min</th>\n",
       "      <td>0.030000</td>\n",
       "      <td>0.000000</td>\n",
       "      <td>35.000000</td>\n",
       "      <td>0.000000</td>\n",
       "      <td>0.010000</td>\n",
       "      <td>0.000000</td>\n",
       "      <td>2.320000</td>\n",
       "      <td>2.000000</td>\n",
       "      <td>1.00000</td>\n",
       "      <td>0.140000</td>\n",
       "      <td>0.000000</td>\n",
       "    </tr>\n",
       "    <tr>\n",
       "      <th>25%</th>\n",
       "      <td>7.875000</td>\n",
       "      <td>0.000000</td>\n",
       "      <td>57.000000</td>\n",
       "      <td>0.000000</td>\n",
       "      <td>0.150000</td>\n",
       "      <td>7.000000</td>\n",
       "      <td>4.230000</td>\n",
       "      <td>11.000000</td>\n",
       "      <td>1.00000</td>\n",
       "      <td>0.714000</td>\n",
       "      <td>0.000000</td>\n",
       "    </tr>\n",
       "    <tr>\n",
       "      <th>50%</th>\n",
       "      <td>23.500000</td>\n",
       "      <td>0.000000</td>\n",
       "      <td>62.000000</td>\n",
       "      <td>0.000000</td>\n",
       "      <td>0.205000</td>\n",
       "      <td>11.000000</td>\n",
       "      <td>4.650000</td>\n",
       "      <td>14.000000</td>\n",
       "      <td>1.21600</td>\n",
       "      <td>0.786000</td>\n",
       "      <td>0.000000</td>\n",
       "    </tr>\n",
       "    <tr>\n",
       "      <th>75%</th>\n",
       "      <td>33.000000</td>\n",
       "      <td>1.000000</td>\n",
       "      <td>67.750000</td>\n",
       "      <td>0.000000</td>\n",
       "      <td>0.270000</td>\n",
       "      <td>16.100000</td>\n",
       "      <td>5.300000</td>\n",
       "      <td>16.500000</td>\n",
       "      <td>1.50750</td>\n",
       "      <td>0.857000</td>\n",
       "      <td>1.000000</td>\n",
       "    </tr>\n",
       "    <tr>\n",
       "      <th>max</th>\n",
       "      <td>57.000000</td>\n",
       "      <td>1.000000</td>\n",
       "      <td>86.000000</td>\n",
       "      <td>77.000000</td>\n",
       "      <td>0.610000</td>\n",
       "      <td>40.000000</td>\n",
       "      <td>6.780000</td>\n",
       "      <td>39.000000</td>\n",
       "      <td>3.00000</td>\n",
       "      <td>2.000000</td>\n",
       "      <td>2.000000</td>\n",
       "    </tr>\n",
       "  </tbody>\n",
       "</table>\n",
       "</div>"
      ],
      "text/plain": [
       "         survival       alive         age  pericardialeffusion  \\\n",
       "count  130.000000  131.000000  126.000000           132.000000   \n",
       "mean    22.182923    0.328244   62.813722             0.765152   \n",
       "std     15.858267    0.471377    8.342110             6.697225   \n",
       "min      0.030000    0.000000   35.000000             0.000000   \n",
       "25%      7.875000    0.000000   57.000000             0.000000   \n",
       "50%     23.500000    0.000000   62.000000             0.000000   \n",
       "75%     33.000000    1.000000   67.750000             0.000000   \n",
       "max     57.000000    1.000000   86.000000            77.000000   \n",
       "\n",
       "       fractionalshortening        epss        lvdd  wallmotion-score  \\\n",
       "count            124.000000  117.000000  121.000000        128.000000   \n",
       "mean               0.216734   12.164769    4.763157         14.438125   \n",
       "std                0.107513    7.370159    0.810013          5.018566   \n",
       "min                0.010000    0.000000    2.320000          2.000000   \n",
       "25%                0.150000    7.000000    4.230000         11.000000   \n",
       "50%                0.205000   11.000000    4.650000         14.000000   \n",
       "75%                0.270000   16.100000    5.300000         16.500000   \n",
       "max                0.610000   40.000000    6.780000         39.000000   \n",
       "\n",
       "       wallmotion-index        mult   aliveat1  \n",
       "count         130.00000  129.000000  75.000000  \n",
       "mean            1.37800    0.786202   0.346667  \n",
       "std             0.45185    0.225661   0.506534  \n",
       "min             1.00000    0.140000   0.000000  \n",
       "25%             1.00000    0.714000   0.000000  \n",
       "50%             1.21600    0.786000   0.000000  \n",
       "75%             1.50750    0.857000   1.000000  \n",
       "max             3.00000    2.000000   2.000000  "
      ]
     },
     "execution_count": 17,
     "metadata": {},
     "output_type": "execute_result"
    }
   ],
   "source": [
    "import pandas as pd\n",
    "import numpy as np\n",
    "import matplotlib.pyplot as plt\n",
    "\n",
    "data = pd.read_csv('echocardiogram.csv')\n",
    "\n",
    "# Checking the structure of the dataset\n",
    "#print(data.info())\n",
    "data.describe()"
   ]
  },
  {
   "cell_type": "code",
   "execution_count": 18,
   "id": "8c853c1d",
   "metadata": {},
   "outputs": [
    {
     "data": {
      "text/plain": [
       "-0.5"
      ]
     },
     "execution_count": 18,
     "metadata": {},
     "output_type": "execute_result"
    }
   ],
   "source": [
    "0.25-1.5*0.5"
   ]
  },
  {
   "cell_type": "code",
   "execution_count": 19,
   "id": "e7af1fff",
   "metadata": {},
   "outputs": [
    {
     "data": {
      "text/plain": [
       "1.5"
      ]
     },
     "execution_count": 19,
     "metadata": {},
     "output_type": "execute_result"
    }
   ],
   "source": [
    "0.75 + 1.5 * 0.5"
   ]
  },
  {
   "cell_type": "code",
   "execution_count": 34,
   "id": "8d209c3c",
   "metadata": {},
   "outputs": [
    {
     "data": {
      "image/png": "[encoded data removed]",
      "text/plain": [
       "<Figure size 2000x600 with 1 Axes>"
      ]
     },
     "metadata": {},
     "output_type": "display_data"
    }
   ],
   "source": [
    "# Identify numeric columns\n",
    "numeric_cols = data.select_dtypes(include=[np.number])\n",
    "\n",
    "# Calculate IQR\n",
    "Q1 = numeric_cols.quantile(0.25)\n",
    "Q3 = numeric_cols.quantile(0.75)\n",
    "IQR = Q3 - Q1\n",
    "\n",
    "# Filter out outliers        # 0.25-1.5*0.5 = -0.5                      #  0.75 + 1.5 * 0.5 = 1.5\n",
    "\n",
    "data_cleaned = data[((numeric_cols < (Q1 - 1.5 * IQR)) | (numeric_cols > (Q3 + 1.5 * IQR))).any(axis=1)]\n",
    "\n",
    "# Visualizing the data before and after outlier removal\n",
    "plt.figure(figsize=(20, 6))\n",
    "\n",
    "# Box plot before removing outliers\n",
    "plt.subplot(1, 2, 1)\n",
    "numeric_cols.boxplot()\n",
    "plt.title(\"Before Outlier Removal\")\n",
    "\n",
    "# # Box plot after removing outliers\n",
    "# plt.subplot(1, 2, 2)\n",
    "# data_cleaned.select_dtypes(include=[np.number]).boxplot()\n",
    "# plt.title(\"After Outlier Removal\")\n",
    "\n",
    "plt.tight_layout()\n",
    "plt.show()\n"
   ]
  },
  {
   "cell_type": "code",
   "execution_count": 35,
   "id": "5265f4e7",
   "metadata": {},
   "outputs": [
    {
     "data": {
      "image/png": "[encoded data removed]",
      "text/plain": [
       "<Figure size 2000x600 with 1 Axes>"
      ]
     },
     "metadata": {},
     "output_type": "display_data"
    }
   ],
   "source": [
    "plt.figure(figsize=(20, 6))\n",
    "\n",
    "# Box plot after removing outliers\n",
    "plt.subplot(1, 2, 2)\n",
    "data_cleaned.select_dtypes(include=[np.number]).boxplot()\n",
    "plt.title(\"After Outlier Removal\")\n",
    "\n",
    "plt.tight_layout()\n",
    "plt.show()\n"
   ]
  },
  {
   "cell_type": "code",
   "execution_count": 36,
   "id": "62f7ef88",
   "metadata": {},
   "outputs": [
    {
     "data": {
      "text/plain": [
       "(88, 13)"
      ]
     },
     "execution_count": 36,
     "metadata": {},
     "output_type": "execute_result"
    }
   ],
   "source": [
    "data_cleaned.shape"
   ]
  },
  {
   "cell_type": "code",
   "execution_count": 37,
   "id": "f55b2be7",
   "metadata": {},
   "outputs": [
    {
     "data": {
      "text/html": [
       "<div>\n",
       "<style scoped>\n",
       "    .dataframe tbody tr th:only-of-type {\n",
       "        vertical-align: middle;\n",
       "    }\n",
       "\n",
       "    .dataframe tbody tr th {\n",
       "        vertical-align: top;\n",
       "    }\n",
       "\n",
       "    .dataframe thead th {\n",
       "        text-align: right;\n",
       "    }\n",
       "</style>\n",
       "<table border=\"1\" class=\"dataframe\">\n",
       "  <thead>\n",
       "    <tr style=\"text-align: right;\">\n",
       "      <th></th>\n",
       "      <th>survival</th>\n",
       "      <th>alive</th>\n",
       "      <th>age</th>\n",
       "      <th>pericardialeffusion</th>\n",
       "      <th>fractionalshortening</th>\n",
       "      <th>epss</th>\n",
       "      <th>lvdd</th>\n",
       "      <th>wallmotion-score</th>\n",
       "      <th>wallmotion-index</th>\n",
       "      <th>mult</th>\n",
       "      <th>name</th>\n",
       "      <th>group</th>\n",
       "      <th>aliveat1</th>\n",
       "    </tr>\n",
       "  </thead>\n",
       "  <tbody>\n",
       "    <tr>\n",
       "      <th>0</th>\n",
       "      <td>11.0</td>\n",
       "      <td>0.0</td>\n",
       "      <td>71.0</td>\n",
       "      <td>0.0</td>\n",
       "      <td>0.260</td>\n",
       "      <td>9.000</td>\n",
       "      <td>4.600</td>\n",
       "      <td>14.0</td>\n",
       "      <td>1.00</td>\n",
       "      <td>1.000</td>\n",
       "      <td>name</td>\n",
       "      <td>1</td>\n",
       "      <td>0.0</td>\n",
       "    </tr>\n",
       "    <tr>\n",
       "      <th>1</th>\n",
       "      <td>19.0</td>\n",
       "      <td>0.0</td>\n",
       "      <td>72.0</td>\n",
       "      <td>0.0</td>\n",
       "      <td>0.380</td>\n",
       "      <td>6.000</td>\n",
       "      <td>4.100</td>\n",
       "      <td>14.0</td>\n",
       "      <td>1.70</td>\n",
       "      <td>0.588</td>\n",
       "      <td>name</td>\n",
       "      <td>1</td>\n",
       "      <td>0.0</td>\n",
       "    </tr>\n",
       "    <tr>\n",
       "      <th>2</th>\n",
       "      <td>16.0</td>\n",
       "      <td>0.0</td>\n",
       "      <td>55.0</td>\n",
       "      <td>0.0</td>\n",
       "      <td>0.260</td>\n",
       "      <td>4.000</td>\n",
       "      <td>3.420</td>\n",
       "      <td>14.0</td>\n",
       "      <td>1.00</td>\n",
       "      <td>1.000</td>\n",
       "      <td>name</td>\n",
       "      <td>1</td>\n",
       "      <td>0.0</td>\n",
       "    </tr>\n",
       "    <tr>\n",
       "      <th>3</th>\n",
       "      <td>57.0</td>\n",
       "      <td>0.0</td>\n",
       "      <td>60.0</td>\n",
       "      <td>0.0</td>\n",
       "      <td>0.253</td>\n",
       "      <td>12.062</td>\n",
       "      <td>4.603</td>\n",
       "      <td>16.0</td>\n",
       "      <td>1.45</td>\n",
       "      <td>0.788</td>\n",
       "      <td>name</td>\n",
       "      <td>1</td>\n",
       "      <td>0.0</td>\n",
       "    </tr>\n",
       "    <tr>\n",
       "      <th>4</th>\n",
       "      <td>19.0</td>\n",
       "      <td>1.0</td>\n",
       "      <td>57.0</td>\n",
       "      <td>0.0</td>\n",
       "      <td>0.160</td>\n",
       "      <td>22.000</td>\n",
       "      <td>5.750</td>\n",
       "      <td>18.0</td>\n",
       "      <td>2.25</td>\n",
       "      <td>0.571</td>\n",
       "      <td>name</td>\n",
       "      <td>1</td>\n",
       "      <td>0.0</td>\n",
       "    </tr>\n",
       "  </tbody>\n",
       "</table>\n",
       "</div>"
      ],
      "text/plain": [
       "   survival  alive   age  pericardialeffusion  fractionalshortening    epss  \\\n",
       "0      11.0    0.0  71.0                  0.0                 0.260   9.000   \n",
       "1      19.0    0.0  72.0                  0.0                 0.380   6.000   \n",
       "2      16.0    0.0  55.0                  0.0                 0.260   4.000   \n",
       "3      57.0    0.0  60.0                  0.0                 0.253  12.062   \n",
       "4      19.0    1.0  57.0                  0.0                 0.160  22.000   \n",
       "\n",
       "    lvdd  wallmotion-score  wallmotion-index   mult  name group  aliveat1  \n",
       "0  4.600              14.0              1.00  1.000  name     1       0.0  \n",
       "1  4.100              14.0              1.70  0.588  name     1       0.0  \n",
       "2  3.420              14.0              1.00  1.000  name     1       0.0  \n",
       "3  4.603              16.0              1.45  0.788  name     1       0.0  \n",
       "4  5.750              18.0              2.25  0.571  name     1       0.0  "
      ]
     },
     "execution_count": 37,
     "metadata": {},
     "output_type": "execute_result"
    }
   ],
   "source": [
    "data_cleaned.head()"
   ]
  },
  {
   "cell_type": "code",
   "execution_count": null,
   "id": "01058b2b",
   "metadata": {},
   "outputs": [],
   "source": []
  },
  {
   "cell_type": "markdown",
   "id": "706661d4",
   "metadata": {},
   "source": [
    "# 4. Data Transformation\n"
   ]
  },
  {
   "cell_type": "markdown",
   "id": "65eb086b",
   "metadata": {},
   "source": [
    "Key Differences\n",
    "-\n",
    "Range of Values:\n",
    "\n",
    "Normalization: Values are scaled to a fixed range, typically [0, 1].\n",
    "Standardization: Values are rescaled to have a mean of 0 and a standard deviation of 1.\n",
    "Effect on Distribution:\n",
    "\n",
    "Normalization: Compresses or stretches the data to fit within the specified range, potentially altering the original distribution.\n",
    "Standardization: Preserves the shape of the original distribution but changes the scale.\n",
    "Use Cases:\n",
    "\n",
    "Normalization: Suitable for distance-based algorithms, like k-nearest neighbors and neural networks.\n",
    "Standardization: Suitable for algorithms that assume a normal distribution, like linear regression and logistic regression.\n"
   ]
  },
  {
   "cell_type": "markdown",
   "id": "22893688",
   "metadata": {},
   "source": [
    "Normalization/Standardization\n",
    "-\n",
    "- Normalization\n",
    "Definition:\n",
    "Normalization rescales the data to a fixed range, typically [0, 1] or [-1, 1]."
   ]
  },
  {
   "cell_type": "code",
   "execution_count": 41,
   "id": "4d368765",
   "metadata": {},
   "outputs": [
    {
     "name": "stdout",
     "output_type": "stream",
     "text": [
      "(133, 13)\n",
      "\n",
      "************************************************************\n"
     ]
    },
    {
     "data": {
      "text/html": [
       "<div>\n",
       "<style scoped>\n",
       "    .dataframe tbody tr th:only-of-type {\n",
       "        vertical-align: middle;\n",
       "    }\n",
       "\n",
       "    .dataframe tbody tr th {\n",
       "        vertical-align: top;\n",
       "    }\n",
       "\n",
       "    .dataframe thead th {\n",
       "        text-align: right;\n",
       "    }\n",
       "</style>\n",
       "<table border=\"1\" class=\"dataframe\">\n",
       "  <thead>\n",
       "    <tr style=\"text-align: right;\">\n",
       "      <th></th>\n",
       "      <th>survival</th>\n",
       "      <th>alive</th>\n",
       "      <th>age</th>\n",
       "      <th>pericardialeffusion</th>\n",
       "      <th>fractionalshortening</th>\n",
       "      <th>epss</th>\n",
       "      <th>lvdd</th>\n",
       "      <th>wallmotion-score</th>\n",
       "      <th>wallmotion-index</th>\n",
       "      <th>mult</th>\n",
       "      <th>aliveat1</th>\n",
       "      <th>name</th>\n",
       "      <th>group</th>\n",
       "    </tr>\n",
       "  </thead>\n",
       "  <tbody>\n",
       "    <tr>\n",
       "      <th>0</th>\n",
       "      <td>0.192557</td>\n",
       "      <td>0.0</td>\n",
       "      <td>0.705882</td>\n",
       "      <td>0.0</td>\n",
       "      <td>0.416667</td>\n",
       "      <td>0.22500</td>\n",
       "      <td>0.511211</td>\n",
       "      <td>0.324324</td>\n",
       "      <td>0.000</td>\n",
       "      <td>0.462366</td>\n",
       "      <td>0.0</td>\n",
       "      <td>name</td>\n",
       "      <td>1</td>\n",
       "    </tr>\n",
       "    <tr>\n",
       "      <th>1</th>\n",
       "      <td>0.332982</td>\n",
       "      <td>0.0</td>\n",
       "      <td>0.725490</td>\n",
       "      <td>0.0</td>\n",
       "      <td>0.616667</td>\n",
       "      <td>0.15000</td>\n",
       "      <td>0.399103</td>\n",
       "      <td>0.324324</td>\n",
       "      <td>0.350</td>\n",
       "      <td>0.240860</td>\n",
       "      <td>0.0</td>\n",
       "      <td>name</td>\n",
       "      <td>1</td>\n",
       "    </tr>\n",
       "    <tr>\n",
       "      <th>2</th>\n",
       "      <td>0.280323</td>\n",
       "      <td>0.0</td>\n",
       "      <td>0.392157</td>\n",
       "      <td>0.0</td>\n",
       "      <td>0.416667</td>\n",
       "      <td>0.10000</td>\n",
       "      <td>0.246637</td>\n",
       "      <td>0.324324</td>\n",
       "      <td>0.000</td>\n",
       "      <td>0.462366</td>\n",
       "      <td>0.0</td>\n",
       "      <td>name</td>\n",
       "      <td>1</td>\n",
       "    </tr>\n",
       "    <tr>\n",
       "      <th>3</th>\n",
       "      <td>1.000000</td>\n",
       "      <td>0.0</td>\n",
       "      <td>0.490196</td>\n",
       "      <td>0.0</td>\n",
       "      <td>0.405000</td>\n",
       "      <td>0.30155</td>\n",
       "      <td>0.511883</td>\n",
       "      <td>0.378378</td>\n",
       "      <td>0.225</td>\n",
       "      <td>0.348387</td>\n",
       "      <td>0.0</td>\n",
       "      <td>name</td>\n",
       "      <td>1</td>\n",
       "    </tr>\n",
       "    <tr>\n",
       "      <th>4</th>\n",
       "      <td>0.332982</td>\n",
       "      <td>1.0</td>\n",
       "      <td>0.431373</td>\n",
       "      <td>0.0</td>\n",
       "      <td>0.250000</td>\n",
       "      <td>0.55000</td>\n",
       "      <td>0.769058</td>\n",
       "      <td>0.432432</td>\n",
       "      <td>0.625</td>\n",
       "      <td>0.231720</td>\n",
       "      <td>0.0</td>\n",
       "      <td>name</td>\n",
       "      <td>1</td>\n",
       "    </tr>\n",
       "  </tbody>\n",
       "</table>\n",
       "</div>"
      ],
      "text/plain": [
       "   survival  alive       age  pericardialeffusion  fractionalshortening  \\\n",
       "0  0.192557    0.0  0.705882                  0.0              0.416667   \n",
       "1  0.332982    0.0  0.725490                  0.0              0.616667   \n",
       "2  0.280323    0.0  0.392157                  0.0              0.416667   \n",
       "3  1.000000    0.0  0.490196                  0.0              0.405000   \n",
       "4  0.332982    1.0  0.431373                  0.0              0.250000   \n",
       "\n",
       "      epss      lvdd  wallmotion-score  wallmotion-index      mult  aliveat1  \\\n",
       "0  0.22500  0.511211          0.324324             0.000  0.462366       0.0   \n",
       "1  0.15000  0.399103          0.324324             0.350  0.240860       0.0   \n",
       "2  0.10000  0.246637          0.324324             0.000  0.462366       0.0   \n",
       "3  0.30155  0.511883          0.378378             0.225  0.348387       0.0   \n",
       "4  0.55000  0.769058          0.432432             0.625  0.231720       0.0   \n",
       "\n",
       "   name group  \n",
       "0  name     1  \n",
       "1  name     1  \n",
       "2  name     1  \n",
       "3  name     1  \n",
       "4  name     1  "
      ]
     },
     "execution_count": 41,
     "metadata": {},
     "output_type": "execute_result"
    }
   ],
   "source": [
    "import pandas as pd\n",
    "import numpy as np\n",
    "from sklearn.preprocessing import MinMaxScaler\n",
    "\n",
    "# Load the dataset\n",
    "data = pd.read_csv('echocardiogram.csv')\n",
    "\n",
    "# Separate numeric and non-numeric columns\n",
    "numeric_cols = data.select_dtypes(include=[np.number])\n",
    "non_numeric_cols = data.select_dtypes(exclude=[np.number])\n",
    "\n",
    "# Apply MinMaxScaler to the numeric columns\n",
    "scaler = MinMaxScaler()\n",
    "scaled_numeric_data = scaler.fit_transform(numeric_cols)\n",
    "\n",
    "# Convert the scaled numeric data back to a DataFrame\n",
    "scaled_numeric_df = pd.DataFrame(scaled_numeric_data, columns=numeric_cols.columns)\n",
    "\n",
    "# Combine the scaled numeric columns with the non-numeric columns\n",
    "scaled_data = pd.concat([scaled_numeric_df, non_numeric_cols.reset_index(drop=True)], axis=1)\n",
    "\n",
    "# Check the shape of the scaled data\n",
    "print(scaled_data.shape)\n",
    "print()\n",
    "print('*' * 60)\n",
    "scaled_data.head()\n"
   ]
  },
  {
   "cell_type": "code",
   "execution_count": null,
   "id": "3c27dfc8",
   "metadata": {},
   "outputs": [],
   "source": []
  },
  {
   "cell_type": "markdown",
   "id": "d774560a",
   "metadata": {},
   "source": [
    "Standardization\n",
    "-\n",
    "Definition:\n",
    "Standardization rescales the data so that it has a mean of 0 and a standard deviation of 1."
   ]
  },
  {
   "cell_type": "code",
   "execution_count": 43,
   "id": "d7f7746f",
   "metadata": {},
   "outputs": [
    {
     "name": "stdout",
     "output_type": "stream",
     "text": [
      "(133, 13)\n",
      "\n",
      "************************************************************\n"
     ]
    },
    {
     "data": {
      "text/html": [
       "<div>\n",
       "<style scoped>\n",
       "    .dataframe tbody tr th:only-of-type {\n",
       "        vertical-align: middle;\n",
       "    }\n",
       "\n",
       "    .dataframe tbody tr th {\n",
       "        vertical-align: top;\n",
       "    }\n",
       "\n",
       "    .dataframe thead th {\n",
       "        text-align: right;\n",
       "    }\n",
       "</style>\n",
       "<table border=\"1\" class=\"dataframe\">\n",
       "  <thead>\n",
       "    <tr style=\"text-align: right;\">\n",
       "      <th></th>\n",
       "      <th>survival</th>\n",
       "      <th>alive</th>\n",
       "      <th>age</th>\n",
       "      <th>pericardialeffusion</th>\n",
       "      <th>fractionalshortening</th>\n",
       "      <th>epss</th>\n",
       "      <th>lvdd</th>\n",
       "      <th>wallmotion-score</th>\n",
       "      <th>wallmotion-index</th>\n",
       "      <th>mult</th>\n",
       "      <th>aliveat1</th>\n",
       "      <th>name</th>\n",
       "      <th>group</th>\n",
       "    </tr>\n",
       "  </thead>\n",
       "  <tbody>\n",
       "    <tr>\n",
       "      <th>0</th>\n",
       "      <td>-0.707907</td>\n",
       "      <td>-0.699025</td>\n",
       "      <td>0.985237</td>\n",
       "      <td>-0.114684</td>\n",
       "      <td>0.404060</td>\n",
       "      <td>-0.431250</td>\n",
       "      <td>-0.202263</td>\n",
       "      <td>-0.087644</td>\n",
       "      <td>-0.839797</td>\n",
       "      <td>0.951128</td>\n",
       "      <td>-0.688999</td>\n",
       "      <td>name</td>\n",
       "      <td>1</td>\n",
       "    </tr>\n",
       "    <tr>\n",
       "      <th>1</th>\n",
       "      <td>-0.201487</td>\n",
       "      <td>-0.699025</td>\n",
       "      <td>1.105590</td>\n",
       "      <td>-0.114684</td>\n",
       "      <td>1.524734</td>\n",
       "      <td>-0.840048</td>\n",
       "      <td>-0.822103</td>\n",
       "      <td>-0.087644</td>\n",
       "      <td>0.715383</td>\n",
       "      <td>-0.881742</td>\n",
       "      <td>-0.688999</td>\n",
       "      <td>name</td>\n",
       "      <td>1</td>\n",
       "    </tr>\n",
       "    <tr>\n",
       "      <th>2</th>\n",
       "      <td>-0.391395</td>\n",
       "      <td>-0.699025</td>\n",
       "      <td>-0.940399</td>\n",
       "      <td>-0.114684</td>\n",
       "      <td>0.404060</td>\n",
       "      <td>-1.112579</td>\n",
       "      <td>-1.665087</td>\n",
       "      <td>-0.087644</td>\n",
       "      <td>-0.839797</td>\n",
       "      <td>0.951128</td>\n",
       "      <td>-0.688999</td>\n",
       "      <td>name</td>\n",
       "      <td>1</td>\n",
       "    </tr>\n",
       "    <tr>\n",
       "      <th>3</th>\n",
       "      <td>2.204009</td>\n",
       "      <td>-0.699025</td>\n",
       "      <td>-0.338638</td>\n",
       "      <td>-0.114684</td>\n",
       "      <td>0.338688</td>\n",
       "      <td>-0.014004</td>\n",
       "      <td>-0.198544</td>\n",
       "      <td>0.312442</td>\n",
       "      <td>0.159961</td>\n",
       "      <td>0.008001</td>\n",
       "      <td>-0.688999</td>\n",
       "      <td>name</td>\n",
       "      <td>1</td>\n",
       "    </tr>\n",
       "    <tr>\n",
       "      <th>4</th>\n",
       "      <td>-0.201487</td>\n",
       "      <td>1.430563</td>\n",
       "      <td>-0.699695</td>\n",
       "      <td>-0.114684</td>\n",
       "      <td>-0.529835</td>\n",
       "      <td>1.340206</td>\n",
       "      <td>1.223371</td>\n",
       "      <td>0.712528</td>\n",
       "      <td>1.937310</td>\n",
       "      <td>-0.957370</td>\n",
       "      <td>-0.688999</td>\n",
       "      <td>name</td>\n",
       "      <td>1</td>\n",
       "    </tr>\n",
       "  </tbody>\n",
       "</table>\n",
       "</div>"
      ],
      "text/plain": [
       "   survival     alive       age  pericardialeffusion  fractionalshortening  \\\n",
       "0 -0.707907 -0.699025  0.985237            -0.114684              0.404060   \n",
       "1 -0.201487 -0.699025  1.105590            -0.114684              1.524734   \n",
       "2 -0.391395 -0.699025 -0.940399            -0.114684              0.404060   \n",
       "3  2.204009 -0.699025 -0.338638            -0.114684              0.338688   \n",
       "4 -0.201487  1.430563 -0.699695            -0.114684             -0.529835   \n",
       "\n",
       "       epss      lvdd  wallmotion-score  wallmotion-index      mult  aliveat1  \\\n",
       "0 -0.431250 -0.202263         -0.087644         -0.839797  0.951128 -0.688999   \n",
       "1 -0.840048 -0.822103         -0.087644          0.715383 -0.881742 -0.688999   \n",
       "2 -1.112579 -1.665087         -0.087644         -0.839797  0.951128 -0.688999   \n",
       "3 -0.014004 -0.198544          0.312442          0.159961  0.008001 -0.688999   \n",
       "4  1.340206  1.223371          0.712528          1.937310 -0.957370 -0.688999   \n",
       "\n",
       "   name group  \n",
       "0  name     1  \n",
       "1  name     1  \n",
       "2  name     1  \n",
       "3  name     1  \n",
       "4  name     1  "
      ]
     },
     "execution_count": 43,
     "metadata": {},
     "output_type": "execute_result"
    }
   ],
   "source": [
    "import pandas as pd\n",
    "import numpy as np\n",
    "from sklearn.preprocessing import StandardScaler\n",
    "\n",
    "# Load the dataset\n",
    "data = pd.read_csv('echocardiogram.csv')\n",
    "\n",
    "# Separate numeric and non-numeric columns\n",
    "numeric_cols = data.select_dtypes(include=[np.number])\n",
    "non_numeric_cols = data.select_dtypes(exclude=[np.number])\n",
    "\n",
    "# Apply StandardScaler to the numeric columns\n",
    "scaler = StandardScaler()\n",
    "scaled_numeric_data = scaler.fit_transform(numeric_cols)\n",
    "\n",
    "# Convert the scaled numeric data back to a DataFrame\n",
    "scaled_numeric_df = pd.DataFrame(scaled_numeric_data, columns=numeric_cols.columns)\n",
    "\n",
    "# Combine the scaled numeric columns with the non-numeric columns\n",
    "scaled_data = pd.concat([scaled_numeric_df, non_numeric_cols.reset_index(drop=True)], axis=1)\n",
    "\n",
    "# Check the shape of the scaled data\n",
    "print(scaled_data.shape)\n",
    "print()\n",
    "print('*' * 60)\n",
    "scaled_data.head()\n"
   ]
  },
  {
   "cell_type": "code",
   "execution_count": null,
   "id": "c17839d8",
   "metadata": {},
   "outputs": [],
   "source": []
  },
  {
   "cell_type": "markdown",
   "id": "ac2cdfaf",
   "metadata": {},
   "source": [
    "# 5: One-Hot Encoding\n"
   ]
  },
  {
   "cell_type": "code",
   "execution_count": 54,
   "id": "18aa37c5",
   "metadata": {},
   "outputs": [
    {
     "name": "stdout",
     "output_type": "stream",
     "text": [
      "(133, 28)\n",
      "\n",
      "**********************************************************************\n"
     ]
    },
    {
     "data": {
      "text/html": [
       "<div>\n",
       "<style scoped>\n",
       "    .dataframe tbody tr th:only-of-type {\n",
       "        vertical-align: middle;\n",
       "    }\n",
       "\n",
       "    .dataframe tbody tr th {\n",
       "        vertical-align: top;\n",
       "    }\n",
       "\n",
       "    .dataframe thead th {\n",
       "        text-align: right;\n",
       "    }\n",
       "</style>\n",
       "<table border=\"1\" class=\"dataframe\">\n",
       "  <thead>\n",
       "    <tr style=\"text-align: right;\">\n",
       "      <th></th>\n",
       "      <th>survival</th>\n",
       "      <th>alive</th>\n",
       "      <th>age</th>\n",
       "      <th>pericardialeffusion</th>\n",
       "      <th>fractionalshortening</th>\n",
       "      <th>epss</th>\n",
       "      <th>lvdd</th>\n",
       "      <th>wallmotion-score</th>\n",
       "      <th>wallmotion-index</th>\n",
       "      <th>mult</th>\n",
       "      <th>...</th>\n",
       "      <th>epss</th>\n",
       "      <th>lvdd</th>\n",
       "      <th>wallmotion-score</th>\n",
       "      <th>wallmotion-index</th>\n",
       "      <th>mult</th>\n",
       "      <th>aliveat1</th>\n",
       "      <th>name_name</th>\n",
       "      <th>group_1</th>\n",
       "      <th>group_2</th>\n",
       "      <th>group_name</th>\n",
       "    </tr>\n",
       "  </thead>\n",
       "  <tbody>\n",
       "    <tr>\n",
       "      <th>0</th>\n",
       "      <td>11.0</td>\n",
       "      <td>0.0</td>\n",
       "      <td>71.0</td>\n",
       "      <td>0.0</td>\n",
       "      <td>0.260</td>\n",
       "      <td>9.000</td>\n",
       "      <td>4.600</td>\n",
       "      <td>14.0</td>\n",
       "      <td>1.00</td>\n",
       "      <td>1.000</td>\n",
       "      <td>...</td>\n",
       "      <td>9.000</td>\n",
       "      <td>4.600</td>\n",
       "      <td>14.0</td>\n",
       "      <td>1.00</td>\n",
       "      <td>1.000</td>\n",
       "      <td>0.0</td>\n",
       "      <td>True</td>\n",
       "      <td>True</td>\n",
       "      <td>False</td>\n",
       "      <td>False</td>\n",
       "    </tr>\n",
       "    <tr>\n",
       "      <th>1</th>\n",
       "      <td>19.0</td>\n",
       "      <td>0.0</td>\n",
       "      <td>72.0</td>\n",
       "      <td>0.0</td>\n",
       "      <td>0.380</td>\n",
       "      <td>6.000</td>\n",
       "      <td>4.100</td>\n",
       "      <td>14.0</td>\n",
       "      <td>1.70</td>\n",
       "      <td>0.588</td>\n",
       "      <td>...</td>\n",
       "      <td>6.000</td>\n",
       "      <td>4.100</td>\n",
       "      <td>14.0</td>\n",
       "      <td>1.70</td>\n",
       "      <td>0.588</td>\n",
       "      <td>0.0</td>\n",
       "      <td>True</td>\n",
       "      <td>True</td>\n",
       "      <td>False</td>\n",
       "      <td>False</td>\n",
       "    </tr>\n",
       "    <tr>\n",
       "      <th>2</th>\n",
       "      <td>16.0</td>\n",
       "      <td>0.0</td>\n",
       "      <td>55.0</td>\n",
       "      <td>0.0</td>\n",
       "      <td>0.260</td>\n",
       "      <td>4.000</td>\n",
       "      <td>3.420</td>\n",
       "      <td>14.0</td>\n",
       "      <td>1.00</td>\n",
       "      <td>1.000</td>\n",
       "      <td>...</td>\n",
       "      <td>4.000</td>\n",
       "      <td>3.420</td>\n",
       "      <td>14.0</td>\n",
       "      <td>1.00</td>\n",
       "      <td>1.000</td>\n",
       "      <td>0.0</td>\n",
       "      <td>True</td>\n",
       "      <td>True</td>\n",
       "      <td>False</td>\n",
       "      <td>False</td>\n",
       "    </tr>\n",
       "    <tr>\n",
       "      <th>3</th>\n",
       "      <td>57.0</td>\n",
       "      <td>0.0</td>\n",
       "      <td>60.0</td>\n",
       "      <td>0.0</td>\n",
       "      <td>0.253</td>\n",
       "      <td>12.062</td>\n",
       "      <td>4.603</td>\n",
       "      <td>16.0</td>\n",
       "      <td>1.45</td>\n",
       "      <td>0.788</td>\n",
       "      <td>...</td>\n",
       "      <td>12.062</td>\n",
       "      <td>4.603</td>\n",
       "      <td>16.0</td>\n",
       "      <td>1.45</td>\n",
       "      <td>0.788</td>\n",
       "      <td>0.0</td>\n",
       "      <td>True</td>\n",
       "      <td>True</td>\n",
       "      <td>False</td>\n",
       "      <td>False</td>\n",
       "    </tr>\n",
       "    <tr>\n",
       "      <th>4</th>\n",
       "      <td>19.0</td>\n",
       "      <td>1.0</td>\n",
       "      <td>57.0</td>\n",
       "      <td>0.0</td>\n",
       "      <td>0.160</td>\n",
       "      <td>22.000</td>\n",
       "      <td>5.750</td>\n",
       "      <td>18.0</td>\n",
       "      <td>2.25</td>\n",
       "      <td>0.571</td>\n",
       "      <td>...</td>\n",
       "      <td>22.000</td>\n",
       "      <td>5.750</td>\n",
       "      <td>18.0</td>\n",
       "      <td>2.25</td>\n",
       "      <td>0.571</td>\n",
       "      <td>0.0</td>\n",
       "      <td>True</td>\n",
       "      <td>True</td>\n",
       "      <td>False</td>\n",
       "      <td>False</td>\n",
       "    </tr>\n",
       "  </tbody>\n",
       "</table>\n",
       "<p>5 rows × 28 columns</p>\n",
       "</div>"
      ],
      "text/plain": [
       "   survival  alive   age  pericardialeffusion  fractionalshortening    epss  \\\n",
       "0      11.0    0.0  71.0                  0.0                 0.260   9.000   \n",
       "1      19.0    0.0  72.0                  0.0                 0.380   6.000   \n",
       "2      16.0    0.0  55.0                  0.0                 0.260   4.000   \n",
       "3      57.0    0.0  60.0                  0.0                 0.253  12.062   \n",
       "4      19.0    1.0  57.0                  0.0                 0.160  22.000   \n",
       "\n",
       "    lvdd  wallmotion-score  wallmotion-index   mult  ...    epss   lvdd  \\\n",
       "0  4.600              14.0              1.00  1.000  ...   9.000  4.600   \n",
       "1  4.100              14.0              1.70  0.588  ...   6.000  4.100   \n",
       "2  3.420              14.0              1.00  1.000  ...   4.000  3.420   \n",
       "3  4.603              16.0              1.45  0.788  ...  12.062  4.603   \n",
       "4  5.750              18.0              2.25  0.571  ...  22.000  5.750   \n",
       "\n",
       "   wallmotion-score  wallmotion-index   mult  aliveat1  name_name  group_1  \\\n",
       "0              14.0              1.00  1.000       0.0       True     True   \n",
       "1              14.0              1.70  0.588       0.0       True     True   \n",
       "2              14.0              1.00  1.000       0.0       True     True   \n",
       "3              16.0              1.45  0.788       0.0       True     True   \n",
       "4              18.0              2.25  0.571       0.0       True     True   \n",
       "\n",
       "   group_2  group_name  \n",
       "0    False       False  \n",
       "1    False       False  \n",
       "2    False       False  \n",
       "3    False       False  \n",
       "4    False       False  \n",
       "\n",
       "[5 rows x 28 columns]"
      ]
     },
     "execution_count": 54,
     "metadata": {},
     "output_type": "execute_result"
    }
   ],
   "source": [
    "import pandas as pd\n",
    "import numpy as np\n",
    "from sklearn.preprocessing import StandardScaler\n",
    "\n",
    "# Load the dataset\n",
    "data = pd.read_csv('echocardiogram.csv')\n",
    "\n",
    "# Separate numeric and non-numeric columns\n",
    "cat_features = [feature for feature in data.columns if data[feature].dtype == 'O']\n",
    "\n",
    "# Convert categorical columns using pd.get_dummies\n",
    "data1 = pd.get_dummies(data, columns=cat_features)\n",
    "\n",
    "# Combine the scaled numeric columns with the non-numeric columns (if any)\n",
    "scaled_data = pd.concat([data, data1], axis=1)\n",
    "\n",
    "# Check the shape of the scaled data\n",
    "print(scaled_data.shape)\n",
    "print()\n",
    "print('*' * 70)\n",
    "\n",
    "scaled_data.head()\n"
   ]
  },
  {
   "cell_type": "code",
   "execution_count": 55,
   "id": "caaa0577",
   "metadata": {},
   "outputs": [
    {
     "data": {
      "text/html": [
       "<div>\n",
       "<style scoped>\n",
       "    .dataframe tbody tr th:only-of-type {\n",
       "        vertical-align: middle;\n",
       "    }\n",
       "\n",
       "    .dataframe tbody tr th {\n",
       "        vertical-align: top;\n",
       "    }\n",
       "\n",
       "    .dataframe thead th {\n",
       "        text-align: right;\n",
       "    }\n",
       "</style>\n",
       "<table border=\"1\" class=\"dataframe\">\n",
       "  <thead>\n",
       "    <tr style=\"text-align: right;\">\n",
       "      <th></th>\n",
       "      <th>survival</th>\n",
       "      <th>alive</th>\n",
       "      <th>age</th>\n",
       "      <th>pericardialeffusion</th>\n",
       "      <th>fractionalshortening</th>\n",
       "      <th>epss</th>\n",
       "      <th>lvdd</th>\n",
       "      <th>wallmotion-score</th>\n",
       "      <th>wallmotion-index</th>\n",
       "      <th>mult</th>\n",
       "      <th>aliveat1</th>\n",
       "      <th>name_name</th>\n",
       "      <th>group_1</th>\n",
       "      <th>group_2</th>\n",
       "      <th>group_name</th>\n",
       "    </tr>\n",
       "  </thead>\n",
       "  <tbody>\n",
       "    <tr>\n",
       "      <th>0</th>\n",
       "      <td>11.0</td>\n",
       "      <td>0.0</td>\n",
       "      <td>71.0</td>\n",
       "      <td>0.0</td>\n",
       "      <td>0.260</td>\n",
       "      <td>9.000</td>\n",
       "      <td>4.600</td>\n",
       "      <td>14.0</td>\n",
       "      <td>1.00</td>\n",
       "      <td>1.000</td>\n",
       "      <td>0.0</td>\n",
       "      <td>True</td>\n",
       "      <td>True</td>\n",
       "      <td>False</td>\n",
       "      <td>False</td>\n",
       "    </tr>\n",
       "    <tr>\n",
       "      <th>1</th>\n",
       "      <td>19.0</td>\n",
       "      <td>0.0</td>\n",
       "      <td>72.0</td>\n",
       "      <td>0.0</td>\n",
       "      <td>0.380</td>\n",
       "      <td>6.000</td>\n",
       "      <td>4.100</td>\n",
       "      <td>14.0</td>\n",
       "      <td>1.70</td>\n",
       "      <td>0.588</td>\n",
       "      <td>0.0</td>\n",
       "      <td>True</td>\n",
       "      <td>True</td>\n",
       "      <td>False</td>\n",
       "      <td>False</td>\n",
       "    </tr>\n",
       "    <tr>\n",
       "      <th>2</th>\n",
       "      <td>16.0</td>\n",
       "      <td>0.0</td>\n",
       "      <td>55.0</td>\n",
       "      <td>0.0</td>\n",
       "      <td>0.260</td>\n",
       "      <td>4.000</td>\n",
       "      <td>3.420</td>\n",
       "      <td>14.0</td>\n",
       "      <td>1.00</td>\n",
       "      <td>1.000</td>\n",
       "      <td>0.0</td>\n",
       "      <td>True</td>\n",
       "      <td>True</td>\n",
       "      <td>False</td>\n",
       "      <td>False</td>\n",
       "    </tr>\n",
       "    <tr>\n",
       "      <th>3</th>\n",
       "      <td>57.0</td>\n",
       "      <td>0.0</td>\n",
       "      <td>60.0</td>\n",
       "      <td>0.0</td>\n",
       "      <td>0.253</td>\n",
       "      <td>12.062</td>\n",
       "      <td>4.603</td>\n",
       "      <td>16.0</td>\n",
       "      <td>1.45</td>\n",
       "      <td>0.788</td>\n",
       "      <td>0.0</td>\n",
       "      <td>True</td>\n",
       "      <td>True</td>\n",
       "      <td>False</td>\n",
       "      <td>False</td>\n",
       "    </tr>\n",
       "    <tr>\n",
       "      <th>4</th>\n",
       "      <td>19.0</td>\n",
       "      <td>1.0</td>\n",
       "      <td>57.0</td>\n",
       "      <td>0.0</td>\n",
       "      <td>0.160</td>\n",
       "      <td>22.000</td>\n",
       "      <td>5.750</td>\n",
       "      <td>18.0</td>\n",
       "      <td>2.25</td>\n",
       "      <td>0.571</td>\n",
       "      <td>0.0</td>\n",
       "      <td>True</td>\n",
       "      <td>True</td>\n",
       "      <td>False</td>\n",
       "      <td>False</td>\n",
       "    </tr>\n",
       "  </tbody>\n",
       "</table>\n",
       "</div>"
      ],
      "text/plain": [
       "   survival  alive   age  pericardialeffusion  fractionalshortening    epss  \\\n",
       "0      11.0    0.0  71.0                  0.0                 0.260   9.000   \n",
       "1      19.0    0.0  72.0                  0.0                 0.380   6.000   \n",
       "2      16.0    0.0  55.0                  0.0                 0.260   4.000   \n",
       "3      57.0    0.0  60.0                  0.0                 0.253  12.062   \n",
       "4      19.0    1.0  57.0                  0.0                 0.160  22.000   \n",
       "\n",
       "    lvdd  wallmotion-score  wallmotion-index   mult  aliveat1  name_name  \\\n",
       "0  4.600              14.0              1.00  1.000       0.0       True   \n",
       "1  4.100              14.0              1.70  0.588       0.0       True   \n",
       "2  3.420              14.0              1.00  1.000       0.0       True   \n",
       "3  4.603              16.0              1.45  0.788       0.0       True   \n",
       "4  5.750              18.0              2.25  0.571       0.0       True   \n",
       "\n",
       "   group_1  group_2  group_name  \n",
       "0     True    False       False  \n",
       "1     True    False       False  \n",
       "2     True    False       False  \n",
       "3     True    False       False  \n",
       "4     True    False       False  "
      ]
     },
     "execution_count": 55,
     "metadata": {},
     "output_type": "execute_result"
    }
   ],
   "source": [
    "data1.head()"
   ]
  },
  {
   "cell_type": "code",
   "execution_count": null,
   "id": "9adce898",
   "metadata": {},
   "outputs": [],
   "source": []
  },
  {
   "cell_type": "markdown",
   "id": "0459c8b6",
   "metadata": {},
   "source": [
    "# 6: Data Reduction"
   ]
  },
  {
   "cell_type": "markdown",
   "id": "2033aecc",
   "metadata": {},
   "source": [
    "Dimensionality Reduction\n",
    "-\n",
    "PCA (Principal Component Analysis)"
   ]
  },
  {
   "cell_type": "code",
   "execution_count": 57,
   "id": "28939288",
   "metadata": {},
   "outputs": [
    {
     "data": {
      "text/plain": [
       "(133, 28)"
      ]
     },
     "execution_count": 57,
     "metadata": {},
     "output_type": "execute_result"
    }
   ],
   "source": [
    "scaled_data.shape"
   ]
  },
  {
   "cell_type": "code",
   "execution_count": 71,
   "id": "f410c3ef",
   "metadata": {},
   "outputs": [
    {
     "name": "stdout",
     "output_type": "stream",
     "text": [
      "(133, 15)\n",
      "[[-9.12639249e-01  4.53452214e-01 -4.99537314e-01 -4.58114570e-01\n",
      "   9.71722605e-01 -8.27163767e-01  8.81996037e-01 -2.31820822e-01\n",
      "  -3.00356981e-01 -1.39510711e+00  4.29882224e-02  1.03670257e-01\n",
      "   2.35381648e-01 -3.31039477e-03  2.02449715e-03]\n",
      " [-1.03662582e+00 -5.62586520e-01 -1.27827101e+00  1.17450274e+00\n",
      "   1.53572069e+00  6.39273052e-01 -2.57830556e-01 -8.27548735e-02\n",
      "  -3.12122184e-01 -1.28312678e+00  2.64361832e-01  1.63730156e-01\n",
      "   2.22679910e-01 -3.07114396e-03  2.73632479e-03]\n",
      " [-2.02287758e+00  1.00940228e+00 -3.67733924e-01  1.01399397e+00\n",
      "  -7.12558853e-01 -9.18890580e-01  5.64684568e-01 -1.44174992e-02\n",
      "  -4.29154476e-03 -1.30781002e+00  2.81481979e-01 -4.85547348e-02\n",
      "   2.75963102e-01 -5.97546534e-03  2.34734605e-03]\n",
      " [-1.57407281e+00 -3.97734228e-01  1.26860264e+00  5.47277231e-01\n",
      "   8.62909820e-01  7.98856499e-02 -5.70569856e-01 -1.70336031e-01\n",
      "   1.19921910e+00 -7.36253687e-02  8.05796906e-01  1.53297942e-02\n",
      "   2.70503868e-01 -7.02866547e-03  2.24821135e-03]\n",
      " [ 2.22638931e+00 -1.57513655e+00  1.31068611e+00  5.60360536e-01\n",
      "  -1.79947380e-01  6.99216669e-01 -1.20357272e-01  2.40157723e-02\n",
      "   1.60075507e-01 -7.16132577e-01  1.82392428e+00  7.39800115e-03\n",
      "   1.72088656e-02  1.04759414e-02  4.64192503e-03]]\n"
     ]
    },
    {
     "data": {
      "image/png": "[encoded data removed]",
      "text/plain": [
       "<Figure size 1400x600 with 2 Axes>"
      ]
     },
     "metadata": {},
     "output_type": "display_data"
    }
   ],
   "source": [
    "import pandas as pd\n",
    "import numpy as np\n",
    "from sklearn.preprocessing import StandardScaler\n",
    "from sklearn.decomposition import PCA\n",
    "\n",
    "# Load the dataset\n",
    "data = pd.read_csv('echocardiogram.csv')\n",
    "\n",
    "# Handle missing values (if any)\n",
    "data.fillna(data.mean(numeric_only=True), inplace=True)\n",
    "\n",
    "# Separate categorical and numeric columns\n",
    "cat_features = [feature for feature in data.columns if data[feature].dtype == 'O']\n",
    "numeric_features = [feature for feature in data.columns if data[feature].dtype != 'O']\n",
    "\n",
    "# Convert categorical columns using pd.get_dummies\n",
    "data = pd.get_dummies(data, columns=cat_features)\n",
    "\n",
    "# Standardize the numeric columns\n",
    "scaler = StandardScaler()\n",
    "data[numeric_features] = scaler.fit_transform(data[numeric_features].values)\n",
    "\n",
    "# Apply PCA\n",
    "pca = PCA(n_components=15)\n",
    "data_pca = pca.fit_transform(data)\n",
    "\n",
    "# Check the shape of the PCA data\n",
    "print(data_pca.shape)\n",
    "print(data_pca[:5])  # Print the first 5 rows of the PCA-transformed data\n",
    "\n",
    "###########################\n",
    "\n",
    "\n",
    "# Plot the original data (first two numeric features)\n",
    "plt.figure(figsize=(14, 6))\n",
    "\n",
    "plt.subplot(1, 2, 1)\n",
    "plt.scatter(data[numeric_features[0]], data[numeric_features[1]], alpha=0.5)\n",
    "plt.title('Original Data')\n",
    "plt.xlabel(numeric_features[0])\n",
    "plt.ylabel(numeric_features[1])\n",
    "\n",
    "# Apply PCA\n",
    "pca = PCA(n_components=15)  # Reducing to 2 components for visualization\n",
    "data_pca = pca.fit_transform(data)\n",
    "\n",
    "# Plot the PCA transformed data\n",
    "plt.subplot(1, 2, 2)\n",
    "plt.scatter(data_pca[:, 0], data_pca[:, 1], alpha=0.5)\n",
    "plt.title('PCA Transformed Data')\n",
    "plt.xlabel('Principal Component 1')\n",
    "plt.ylabel('Principal Component 2')\n",
    "\n",
    "plt.tight_layout()\n",
    "plt.show()\n"
   ]
  },
  {
   "cell_type": "code",
   "execution_count": 64,
   "id": "1a950e25",
   "metadata": {},
   "outputs": [
    {
     "data": {
      "text/plain": [
       "numpy.ndarray"
      ]
     },
     "execution_count": 64,
     "metadata": {},
     "output_type": "execute_result"
    }
   ],
   "source": [
    "type(data_pca)"
   ]
  },
  {
   "cell_type": "code",
   "execution_count": 65,
   "id": "d29ec719",
   "metadata": {},
   "outputs": [
    {
     "data": {
      "text/plain": [
       "2"
      ]
     },
     "execution_count": 65,
     "metadata": {},
     "output_type": "execute_result"
    }
   ],
   "source": [
    "data_pca.ndim"
   ]
  },
  {
   "cell_type": "code",
   "execution_count": 66,
   "id": "2c39127d",
   "metadata": {},
   "outputs": [
    {
     "data": {
      "text/plain": [
       "(133, 15)"
      ]
     },
     "execution_count": 66,
     "metadata": {},
     "output_type": "execute_result"
    }
   ],
   "source": [
    "data_pca.shape"
   ]
  },
  {
   "cell_type": "code",
   "execution_count": null,
   "id": "cd8399d8",
   "metadata": {},
   "outputs": [],
   "source": []
  },
  {
   "cell_type": "markdown",
   "id": "15ae00ff",
   "metadata": {},
   "source": [
    "# 7: Handling Imbalanced Data\n",
    "    \n",
    "- Resampling Techniques\n",
    "- Oversampling"
   ]
  },
  {
   "cell_type": "code",
   "execution_count": 82,
   "id": "c7e719c5",
   "metadata": {},
   "outputs": [
    {
     "data": {
      "text/plain": [
       "alive\n",
       "0.0    0.671756\n",
       "1.0    0.328244\n",
       "Name: proportion, dtype: float64"
      ]
     },
     "execution_count": 82,
     "metadata": {},
     "output_type": "execute_result"
    }
   ],
   "source": [
    "data = pd.read_csv('echocardiogram.csv')\n",
    "\n",
    "data.alive.value_counts(True)"
   ]
  },
  {
   "cell_type": "code",
   "execution_count": 96,
   "id": "bd20746c",
   "metadata": {},
   "outputs": [
    {
     "data": {
      "text/plain": [
       "(133, 15)"
      ]
     },
     "execution_count": 96,
     "metadata": {},
     "output_type": "execute_result"
    }
   ],
   "source": [
    "data.shape"
   ]
  },
  {
   "cell_type": "code",
   "execution_count": 100,
   "id": "8f91daa6",
   "metadata": {},
   "outputs": [
    {
     "name": "stdout",
     "output_type": "stream",
     "text": [
      "(133, 14) (133,)\n"
     ]
    },
    {
     "data": {
      "text/html": [
       "<div>\n",
       "<style scoped>\n",
       "    .dataframe tbody tr th:only-of-type {\n",
       "        vertical-align: middle;\n",
       "    }\n",
       "\n",
       "    .dataframe tbody tr th {\n",
       "        vertical-align: top;\n",
       "    }\n",
       "\n",
       "    .dataframe thead th {\n",
       "        text-align: right;\n",
       "    }\n",
       "</style>\n",
       "<table border=\"1\" class=\"dataframe\">\n",
       "  <thead>\n",
       "    <tr style=\"text-align: right;\">\n",
       "      <th></th>\n",
       "      <th>survival</th>\n",
       "      <th>age</th>\n",
       "      <th>pericardialeffusion</th>\n",
       "      <th>fractionalshortening</th>\n",
       "      <th>epss</th>\n",
       "      <th>lvdd</th>\n",
       "      <th>wallmotion-score</th>\n",
       "      <th>wallmotion-index</th>\n",
       "      <th>mult</th>\n",
       "      <th>aliveat1</th>\n",
       "      <th>name_name</th>\n",
       "      <th>group_1</th>\n",
       "      <th>group_2</th>\n",
       "      <th>group_name</th>\n",
       "      <th>alive</th>\n",
       "    </tr>\n",
       "  </thead>\n",
       "  <tbody>\n",
       "    <tr>\n",
       "      <th>0</th>\n",
       "      <td>-0.716029</td>\n",
       "      <td>1.012235</td>\n",
       "      <td>-0.115118</td>\n",
       "      <td>0.418467</td>\n",
       "      <td>-0.459793</td>\n",
       "      <td>-0.212055</td>\n",
       "      <td>-0.089339</td>\n",
       "      <td>-0.849432</td>\n",
       "      <td>0.965761</td>\n",
       "      <td>-0.917516</td>\n",
       "      <td>True</td>\n",
       "      <td>True</td>\n",
       "      <td>False</td>\n",
       "      <td>False</td>\n",
       "      <td>0</td>\n",
       "    </tr>\n",
       "    <tr>\n",
       "      <th>1</th>\n",
       "      <td>-0.203799</td>\n",
       "      <td>1.135885</td>\n",
       "      <td>-0.115118</td>\n",
       "      <td>1.579098</td>\n",
       "      <td>-0.895647</td>\n",
       "      <td>-0.861905</td>\n",
       "      <td>-0.089339</td>\n",
       "      <td>0.723590</td>\n",
       "      <td>-0.895308</td>\n",
       "      <td>-0.917516</td>\n",
       "      <td>True</td>\n",
       "      <td>True</td>\n",
       "      <td>False</td>\n",
       "      <td>False</td>\n",
       "      <td>0</td>\n",
       "    </tr>\n",
       "    <tr>\n",
       "      <th>2</th>\n",
       "      <td>-0.395885</td>\n",
       "      <td>-0.966169</td>\n",
       "      <td>-0.115118</td>\n",
       "      <td>0.418467</td>\n",
       "      <td>-1.186216</td>\n",
       "      <td>-1.745702</td>\n",
       "      <td>-0.089339</td>\n",
       "      <td>-0.849432</td>\n",
       "      <td>0.965761</td>\n",
       "      <td>-0.917516</td>\n",
       "      <td>True</td>\n",
       "      <td>True</td>\n",
       "      <td>False</td>\n",
       "      <td>False</td>\n",
       "      <td>0</td>\n",
       "    </tr>\n",
       "    <tr>\n",
       "      <th>3</th>\n",
       "      <td>2.229295</td>\n",
       "      <td>-0.347917</td>\n",
       "      <td>-0.115118</td>\n",
       "      <td>0.350763</td>\n",
       "      <td>-0.014931</td>\n",
       "      <td>-0.208156</td>\n",
       "      <td>0.318486</td>\n",
       "      <td>0.161797</td>\n",
       "      <td>0.008124</td>\n",
       "      <td>-0.917516</td>\n",
       "      <td>True</td>\n",
       "      <td>True</td>\n",
       "      <td>False</td>\n",
       "      <td>False</td>\n",
       "      <td>0</td>\n",
       "    </tr>\n",
       "    <tr>\n",
       "      <th>4</th>\n",
       "      <td>-0.203799</td>\n",
       "      <td>-0.718868</td>\n",
       "      <td>-0.115118</td>\n",
       "      <td>-0.548726</td>\n",
       "      <td>1.428909</td>\n",
       "      <td>1.282600</td>\n",
       "      <td>0.726312</td>\n",
       "      <td>1.959536</td>\n",
       "      <td>-0.972099</td>\n",
       "      <td>-0.917516</td>\n",
       "      <td>True</td>\n",
       "      <td>True</td>\n",
       "      <td>False</td>\n",
       "      <td>False</td>\n",
       "      <td>1</td>\n",
       "    </tr>\n",
       "  </tbody>\n",
       "</table>\n",
       "</div>"
      ],
      "text/plain": [
       "   survival       age  pericardialeffusion  fractionalshortening      epss  \\\n",
       "0 -0.716029  1.012235            -0.115118              0.418467 -0.459793   \n",
       "1 -0.203799  1.135885            -0.115118              1.579098 -0.895647   \n",
       "2 -0.395885 -0.966169            -0.115118              0.418467 -1.186216   \n",
       "3  2.229295 -0.347917            -0.115118              0.350763 -0.014931   \n",
       "4 -0.203799 -0.718868            -0.115118             -0.548726  1.428909   \n",
       "\n",
       "       lvdd  wallmotion-score  wallmotion-index      mult  aliveat1  \\\n",
       "0 -0.212055         -0.089339         -0.849432  0.965761 -0.917516   \n",
       "1 -0.861905         -0.089339          0.723590 -0.895308 -0.917516   \n",
       "2 -1.745702         -0.089339         -0.849432  0.965761 -0.917516   \n",
       "3 -0.208156          0.318486          0.161797  0.008124 -0.917516   \n",
       "4  1.282600          0.726312          1.959536 -0.972099 -0.917516   \n",
       "\n",
       "   name_name  group_1  group_2  group_name  alive  \n",
       "0       True     True    False       False      0  \n",
       "1       True     True    False       False      0  \n",
       "2       True     True    False       False      0  \n",
       "3       True     True    False       False      0  \n",
       "4       True     True    False       False      1  "
      ]
     },
     "execution_count": 100,
     "metadata": {},
     "output_type": "execute_result"
    }
   ],
   "source": [
    "import pandas as pd\n",
    "import numpy as np\n",
    "from sklearn.preprocessing import StandardScaler, LabelEncoder\n",
    "from sklearn.decomposition import PCA\n",
    "from imblearn.over_sampling import SMOTE\n",
    "import matplotlib.pyplot as plt\n",
    "\n",
    "# Load the dataset\n",
    "data = pd.read_csv('echocardiogram.csv')\n",
    "\n",
    "# Handle missing values (if any)\n",
    "data.fillna(data.mean(numeric_only=True), inplace=True)\n",
    "\n",
    "# Separate categorical and numeric columns\n",
    "cat_features = [feature for feature in data.columns if data[feature].dtype == 'O']\n",
    "numeric_features = [feature for feature in data.columns if data[feature].dtype != 'O']\n",
    "\n",
    "# Convert categorical columns using pd.get_dummies\n",
    "data = pd.get_dummies(data, columns=cat_features)\n",
    "\n",
    "# Standardize the numeric columns\n",
    "scaler = StandardScaler()\n",
    "data[numeric_features] = scaler.fit_transform(data[numeric_features].values)\n",
    "\n",
    "# Convert the target variable to categorical if necessary\n",
    "# Assuming 'alive' is the target column, you may need to binarize or discretize it\n",
    "if data['alive'].dtype != 'int64' and data['alive'].dtype != 'bool':\n",
    "    # Example: Binarize 'alive' if it's not already binary\n",
    "    # Replace this logic with appropriate binning or thresholding based on your dataset\n",
    "    data['alive'] = (data['alive'] > 0.5).astype(int)\n",
    "\n",
    "# Separate features and target\n",
    "X = data.drop(columns=['alive'])  # Replace 'alive' with your target column\n",
    "y = data['alive']  # Replace 'alive' with your target column\n",
    "\n",
    "# Encode the target variable if it's not already encoded\n",
    "if y.dtype == 'O':\n",
    "    le = LabelEncoder()\n",
    "    y = le.fit_transform(y)\n",
    "\n",
    "print(X.shape, y.shape)\n",
    "\n",
    "# Apply SMOTE\n",
    "smote = SMOTE(random_state=42)\n",
    "X_resampled, y_resampled = smote.fit_resample(X, y)\n",
    "\n",
    "# Combine resampled data\n",
    "data_resampled = pd.concat([pd.DataFrame(X_resampled, columns=X.columns), pd.DataFrame(y_resampled, columns=['alive'])], axis=1)\n",
    "data_resampled.head()"
   ]
  },
  {
   "cell_type": "code",
   "execution_count": 92,
   "id": "fd826710",
   "metadata": {},
   "outputs": [
    {
     "data": {
      "text/plain": [
       "alive\n",
       "0    0.5\n",
       "1    0.5\n",
       "Name: proportion, dtype: float64"
      ]
     },
     "execution_count": 92,
     "metadata": {},
     "output_type": "execute_result"
    }
   ],
   "source": [
    "data_resampled.alive.value_counts(True)"
   ]
  },
  {
   "cell_type": "code",
   "execution_count": 93,
   "id": "278ea245",
   "metadata": {},
   "outputs": [
    {
     "data": {
      "text/plain": [
       "(180, 15)"
      ]
     },
     "execution_count": 93,
     "metadata": {},
     "output_type": "execute_result"
    }
   ],
   "source": [
    "data_resampled.shape"
   ]
  },
  {
   "cell_type": "markdown",
   "id": "cde927f5",
   "metadata": {},
   "source": [
    "Undersampling\n",
    "-"
   ]
  },
  {
   "cell_type": "code",
   "execution_count": null,
   "id": "cb14f175",
   "metadata": {},
   "outputs": [],
   "source": []
  },
  {
   "cell_type": "code",
   "execution_count": 83,
   "id": "4da2ed87",
   "metadata": {},
   "outputs": [
    {
     "name": "stdout",
     "output_type": "stream",
     "text": [
      "(133, 14) (133,)\n"
     ]
    },
    {
     "data": {
      "text/html": [
       "<div>\n",
       "<style scoped>\n",
       "    .dataframe tbody tr th:only-of-type {\n",
       "        vertical-align: middle;\n",
       "    }\n",
       "\n",
       "    .dataframe tbody tr th {\n",
       "        vertical-align: top;\n",
       "    }\n",
       "\n",
       "    .dataframe thead th {\n",
       "        text-align: right;\n",
       "    }\n",
       "</style>\n",
       "<table border=\"1\" class=\"dataframe\">\n",
       "  <thead>\n",
       "    <tr style=\"text-align: right;\">\n",
       "      <th></th>\n",
       "      <th>survival</th>\n",
       "      <th>age</th>\n",
       "      <th>pericardialeffusion</th>\n",
       "      <th>fractionalshortening</th>\n",
       "      <th>epss</th>\n",
       "      <th>lvdd</th>\n",
       "      <th>wallmotion-score</th>\n",
       "      <th>wallmotion-index</th>\n",
       "      <th>mult</th>\n",
       "      <th>aliveat1</th>\n",
       "      <th>name_name</th>\n",
       "      <th>group_1</th>\n",
       "      <th>group_2</th>\n",
       "      <th>group_name</th>\n",
       "      <th>alive</th>\n",
       "    </tr>\n",
       "  </thead>\n",
       "  <tbody>\n",
       "    <tr>\n",
       "      <th>120</th>\n",
       "      <td>0.372460</td>\n",
       "      <td>8.785877e-16</td>\n",
       "      <td>-0.115118</td>\n",
       "      <td>0.128309</td>\n",
       "      <td>1.007583</td>\n",
       "      <td>0.944678</td>\n",
       "      <td>-0.497165</td>\n",
       "      <td>-0.399997</td>\n",
       "      <td>-0.344214</td>\n",
       "      <td>0.000000</td>\n",
       "      <td>True</td>\n",
       "      <td>False</td>\n",
       "      <td>False</td>\n",
       "      <td>False</td>\n",
       "      <td>0</td>\n",
       "    </tr>\n",
       "    <tr>\n",
       "      <th>80</th>\n",
       "      <td>0.628575</td>\n",
       "      <td>2.303329e-02</td>\n",
       "      <td>-0.115118</td>\n",
       "      <td>-0.161849</td>\n",
       "      <td>-1.040931</td>\n",
       "      <td>0.567765</td>\n",
       "      <td>-1.312815</td>\n",
       "      <td>-0.849432</td>\n",
       "      <td>-0.976616</td>\n",
       "      <td>0.000000</td>\n",
       "      <td>True</td>\n",
       "      <td>False</td>\n",
       "      <td>True</td>\n",
       "      <td>False</td>\n",
       "      <td>0</td>\n",
       "    </tr>\n",
       "    <tr>\n",
       "      <th>92</th>\n",
       "      <td>0.820662</td>\n",
       "      <td>1.466835e-01</td>\n",
       "      <td>-0.115118</td>\n",
       "      <td>0.805344</td>\n",
       "      <td>-0.808476</td>\n",
       "      <td>-0.523983</td>\n",
       "      <td>-0.089339</td>\n",
       "      <td>-0.242695</td>\n",
       "      <td>-0.000910</td>\n",
       "      <td>0.000000</td>\n",
       "      <td>True</td>\n",
       "      <td>False</td>\n",
       "      <td>True</td>\n",
       "      <td>False</td>\n",
       "      <td>0</td>\n",
       "    </tr>\n",
       "    <tr>\n",
       "      <th>116</th>\n",
       "      <td>0.756633</td>\n",
       "      <td>-1.006169e-01</td>\n",
       "      <td>0.035333</td>\n",
       "      <td>-0.258568</td>\n",
       "      <td>2.431373</td>\n",
       "      <td>2.426336</td>\n",
       "      <td>1.032181</td>\n",
       "      <td>1.285383</td>\n",
       "      <td>-0.326146</td>\n",
       "      <td>0.000000</td>\n",
       "      <td>True</td>\n",
       "      <td>False</td>\n",
       "      <td>False</td>\n",
       "      <td>False</td>\n",
       "      <td>0</td>\n",
       "    </tr>\n",
       "    <tr>\n",
       "      <th>2</th>\n",
       "      <td>-0.395885</td>\n",
       "      <td>-9.661685e-01</td>\n",
       "      <td>-0.115118</td>\n",
       "      <td>0.418467</td>\n",
       "      <td>-1.186216</td>\n",
       "      <td>-1.745702</td>\n",
       "      <td>-0.089339</td>\n",
       "      <td>-0.849432</td>\n",
       "      <td>0.965761</td>\n",
       "      <td>-0.917516</td>\n",
       "      <td>True</td>\n",
       "      <td>True</td>\n",
       "      <td>False</td>\n",
       "      <td>False</td>\n",
       "      <td>0</td>\n",
       "    </tr>\n",
       "  </tbody>\n",
       "</table>\n",
       "</div>"
      ],
      "text/plain": [
       "     survival           age  pericardialeffusion  fractionalshortening  \\\n",
       "120  0.372460  8.785877e-16            -0.115118              0.128309   \n",
       "80   0.628575  2.303329e-02            -0.115118             -0.161849   \n",
       "92   0.820662  1.466835e-01            -0.115118              0.805344   \n",
       "116  0.756633 -1.006169e-01             0.035333             -0.258568   \n",
       "2   -0.395885 -9.661685e-01            -0.115118              0.418467   \n",
       "\n",
       "         epss      lvdd  wallmotion-score  wallmotion-index      mult  \\\n",
       "120  1.007583  0.944678         -0.497165         -0.399997 -0.344214   \n",
       "80  -1.040931  0.567765         -1.312815         -0.849432 -0.976616   \n",
       "92  -0.808476 -0.523983         -0.089339         -0.242695 -0.000910   \n",
       "116  2.431373  2.426336          1.032181          1.285383 -0.326146   \n",
       "2   -1.186216 -1.745702         -0.089339         -0.849432  0.965761   \n",
       "\n",
       "     aliveat1  name_name  group_1  group_2  group_name  alive  \n",
       "120  0.000000       True    False    False       False      0  \n",
       "80   0.000000       True    False     True       False      0  \n",
       "92   0.000000       True    False     True       False      0  \n",
       "116  0.000000       True    False    False       False      0  \n",
       "2   -0.917516       True     True    False       False      0  "
      ]
     },
     "execution_count": 83,
     "metadata": {},
     "output_type": "execute_result"
    }
   ],
   "source": [
    "import pandas as pd\n",
    "import numpy as np\n",
    "from sklearn.preprocessing import StandardScaler, LabelEncoder\n",
    "from sklearn.decomposition import PCA\n",
    "from imblearn.over_sampling import SMOTE\n",
    "import matplotlib.pyplot as plt\n",
    "\n",
    "# Load the dataset\n",
    "data = pd.read_csv('echocardiogram.csv')\n",
    "\n",
    "# Handle missing values (if any)\n",
    "data.fillna(data.mean(numeric_only=True), inplace=True)\n",
    "\n",
    "# Separate categorical and numeric columns\n",
    "cat_features = [feature for feature in data.columns if data[feature].dtype == 'O']\n",
    "numeric_features = [feature for feature in data.columns if data[feature].dtype != 'O']\n",
    "\n",
    "# Convert categorical columns using pd.get_dummies\n",
    "data = pd.get_dummies(data, columns=cat_features)\n",
    "\n",
    "# Standardize the numeric columns\n",
    "scaler = StandardScaler()\n",
    "data[numeric_features] = scaler.fit_transform(data[numeric_features].values)\n",
    "\n",
    "# Convert the target variable to categorical if necessary\n",
    "# Assuming 'alive' is the target column, you may need to binarize or discretize it\n",
    "if data['alive'].dtype != 'int64' and data['alive'].dtype != 'bool':\n",
    "    # Example: Binarize 'alive' if it's not already binary\n",
    "    # Replace this logic with appropriate binning or thresholding based on your dataset\n",
    "    data['alive'] = (data['alive'] > 0.5).astype(int)\n",
    "\n",
    "# Separate features and target\n",
    "X = data.drop(columns=['alive'])  # Replace 'alive' with your target column\n",
    "y = data['alive']  # Replace 'alive' with your target column\n",
    "\n",
    "# Encode the target variable if it's not already encoded\n",
    "if y.dtype == 'O':\n",
    "    le = LabelEncoder()\n",
    "    y = le.fit_transform(y)\n",
    "\n",
    "print(X.shape, y.shape)\n",
    "\n",
    "# Apply SMOTE Undersampling\n",
    "from imblearn.under_sampling import RandomUnderSampler\n",
    "\n",
    "rus = RandomUnderSampler()\n",
    "X_resampled, y_resampled = rus.fit_resample(X, y)\n",
    "\n",
    "# Combine resampled data\n",
    "data_resampled = pd.concat([pd.DataFrame(X_resampled, columns=X.columns), pd.DataFrame(y_resampled, columns=['alive'])], axis=1)\n",
    "data_resampled.head()\n"
   ]
  },
  {
   "cell_type": "code",
   "execution_count": 85,
   "id": "3ab196c3",
   "metadata": {},
   "outputs": [
    {
     "data": {
      "text/plain": [
       "alive\n",
       "0    43\n",
       "1    43\n",
       "Name: count, dtype: int64"
      ]
     },
     "execution_count": 85,
     "metadata": {},
     "output_type": "execute_result"
    }
   ],
   "source": [
    "data_resampled.alive.value_counts()"
   ]
  },
  {
   "cell_type": "code",
   "execution_count": 86,
   "id": "0005e548",
   "metadata": {},
   "outputs": [
    {
     "data": {
      "text/plain": [
       "(86, 15)"
      ]
     },
     "execution_count": 86,
     "metadata": {},
     "output_type": "execute_result"
    }
   ],
   "source": [
    "data_resampled.shape"
   ]
  },
  {
   "cell_type": "markdown",
   "id": "e2a52746",
   "metadata": {},
   "source": [
    "# 8: Splitting Data"
   ]
  },
  {
   "cell_type": "code",
   "execution_count": 101,
   "id": "9f7fabea",
   "metadata": {},
   "outputs": [],
   "source": [
    "from sklearn.model_selection import train_test_split\n",
    "data = pd.read_csv('echocardiogram.csv')\n",
    "\n",
    "X = data.drop('alive', axis=1)\n",
    "y = data['alive']\n",
    "\n",
    "X_train, X_test, y_train, y_test = train_test_split(X, y, test_size=0.2, random_state=42)\n"
   ]
  },
  {
   "cell_type": "code",
   "execution_count": 102,
   "id": "aaf79742",
   "metadata": {},
   "outputs": [
    {
     "data": {
      "text/plain": [
       "((106, 12), (27, 12), (106,), (27,))"
      ]
     },
     "execution_count": 102,
     "metadata": {},
     "output_type": "execute_result"
    }
   ],
   "source": [
    "X_train.shape, X_test.shape, y_train.shape, y_test.shape"
   ]
  },
  {
   "cell_type": "code",
   "execution_count": null,
   "id": "2f76a1fc",
   "metadata": {},
   "outputs": [],
   "source": []
  }
 ],
 "metadata": {
  "kernelspec": {
   "display_name": "Python 3 (ipykernel)",
   "language": "python",
   "name": "python3"
  },
  "language_info": {
   "codemirror_mode": {
    "name": "ipython",
    "version": 3
   },
   "file_extension": ".py",
   "mimetype": "text/x-python",
   "name": "python",
   "nbconvert_exporter": "python",
   "pygments_lexer": "ipython3",
   "version": "3.11.5"
  }
 },
 "nbformat": 4,
 "nbformat_minor": 5
}
